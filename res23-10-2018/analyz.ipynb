{
 "cells": [
  {
   "cell_type": "markdown",
   "metadata": {},
   "source": [
    "# Анализ соцветий"
   ]
  },
  {
   "cell_type": "code",
   "execution_count": 58,
   "metadata": {},
   "outputs": [],
   "source": [
    "import pandas as pd\n",
    "import scipy.stats as st"
   ]
  },
  {
   "cell_type": "markdown",
   "metadata": {},
   "source": [
    "## Загрузка данных"
   ]
  },
  {
   "cell_type": "code",
   "execution_count": 47,
   "metadata": {},
   "outputs": [],
   "source": [
    "data1 = pd.read_csv('./one.csv', header=None)\n",
    "data2 = pd.read_csv('./two.csv', header=None)"
   ]
  },
  {
   "cell_type": "code",
   "execution_count": 48,
   "metadata": {},
   "outputs": [],
   "source": [
    "def to_float(x):\n",
    "    try:\n",
    "        if isinstance(x, str):\n",
    "            res = float(x.replace(',','.'))\n",
    "        else:\n",
    "            res = float(x)\n",
    "    except:\n",
    "        res = pd.np.nan\n",
    "    return res"
   ]
  },
  {
   "cell_type": "code",
   "execution_count": 76,
   "metadata": {},
   "outputs": [],
   "source": [
    "def test_hypothesis(x, y, alpha=0.05):\n",
    "    '''Student t-test (modified version)'''\n",
    "    if st.shapiro(x)[-1] < alpha or st.shapiro(y)[-1] < alpha:\n",
    "        result = st.mannwhitneyu(x, y)\n",
    "    else:\n",
    "        if st.bartlett(x, y)[0] < alpha:\n",
    "            result = st.mannwhitneyu(x, y)\n",
    "        else:\n",
    "            result = st.ttest_ind(x, y)\n",
    "    if result[-1] > alpha:\n",
    "        print(\"Средние значимо не отличаются! alpha = \", alpha)\n",
    "    else:\n",
    "        print(\"Отличие средних значимо при уровне alpha = \", alpha)\n",
    "    return result"
   ]
  },
  {
   "cell_type": "code",
   "execution_count": 77,
   "metadata": {},
   "outputs": [
    {
     "data": {
      "text/html": [
       "<div>\n",
       "<style scoped>\n",
       "    .dataframe tbody tr th:only-of-type {\n",
       "        vertical-align: middle;\n",
       "    }\n",
       "\n",
       "    .dataframe tbody tr th {\n",
       "        vertical-align: top;\n",
       "    }\n",
       "\n",
       "    .dataframe thead th {\n",
       "        text-align: right;\n",
       "    }\n",
       "</style>\n",
       "<table border=\"1\" class=\"dataframe\">\n",
       "  <thead>\n",
       "    <tr style=\"text-align: right;\">\n",
       "      <th></th>\n",
       "      <th>0</th>\n",
       "      <th>1</th>\n",
       "      <th>2</th>\n",
       "      <th>3</th>\n",
       "      <th>4</th>\n",
       "      <th>5</th>\n",
       "      <th>6</th>\n",
       "      <th>7</th>\n",
       "      <th>8</th>\n",
       "      <th>9</th>\n",
       "      <th>10</th>\n",
       "      <th>11</th>\n",
       "      <th>12</th>\n",
       "      <th>13</th>\n",
       "      <th>14</th>\n",
       "      <th>15</th>\n",
       "      <th>16</th>\n",
       "      <th>17</th>\n",
       "      <th>18</th>\n",
       "      <th>19</th>\n",
       "    </tr>\n",
       "  </thead>\n",
       "  <tbody>\n",
       "    <tr>\n",
       "      <th>0</th>\n",
       "      <td>632.0</td>\n",
       "      <td>NaN</td>\n",
       "      <td>442.0</td>\n",
       "      <td>NaN</td>\n",
       "      <td>1030.0</td>\n",
       "      <td>NaN</td>\n",
       "      <td>1239.0</td>\n",
       "      <td>NaN</td>\n",
       "      <td>687.0</td>\n",
       "      <td>NaN</td>\n",
       "      <td>783.0</td>\n",
       "      <td>NaN</td>\n",
       "      <td>426.0</td>\n",
       "      <td>NaN</td>\n",
       "      <td>787.0</td>\n",
       "      <td>NaN</td>\n",
       "      <td>795.0</td>\n",
       "      <td>NaN</td>\n",
       "      <td>1395.0</td>\n",
       "      <td>NaN</td>\n",
       "    </tr>\n",
       "    <tr>\n",
       "      <th>1</th>\n",
       "      <td>164.0</td>\n",
       "      <td>248.0</td>\n",
       "      <td>93.0</td>\n",
       "      <td>164.0</td>\n",
       "      <td>218.0</td>\n",
       "      <td>382.0</td>\n",
       "      <td>238.0</td>\n",
       "      <td>441.0</td>\n",
       "      <td>99.0</td>\n",
       "      <td>199.0</td>\n",
       "      <td>190.0</td>\n",
       "      <td>296.0</td>\n",
       "      <td>102.0</td>\n",
       "      <td>162.0</td>\n",
       "      <td>211.0</td>\n",
       "      <td>340.0</td>\n",
       "      <td>177.0</td>\n",
       "      <td>296.0</td>\n",
       "      <td>389.0</td>\n",
       "      <td>577.0</td>\n",
       "    </tr>\n",
       "    <tr>\n",
       "      <th>2</th>\n",
       "      <td>135.0</td>\n",
       "      <td>124.0</td>\n",
       "      <td>69.0</td>\n",
       "      <td>82.0</td>\n",
       "      <td>211.0</td>\n",
       "      <td>191.0</td>\n",
       "      <td>232.0</td>\n",
       "      <td>220.5</td>\n",
       "      <td>92.0</td>\n",
       "      <td>99.5</td>\n",
       "      <td>190.0</td>\n",
       "      <td>148.0</td>\n",
       "      <td>86.0</td>\n",
       "      <td>81.0</td>\n",
       "      <td>154.0</td>\n",
       "      <td>170.0</td>\n",
       "      <td>171.0</td>\n",
       "      <td>148.0</td>\n",
       "      <td>338.0</td>\n",
       "      <td>288.5</td>\n",
       "    </tr>\n",
       "    <tr>\n",
       "      <th>3</th>\n",
       "      <td>117.0</td>\n",
       "      <td>252.0</td>\n",
       "      <td>77.0</td>\n",
       "      <td>146.0</td>\n",
       "      <td>182.0</td>\n",
       "      <td>393.0</td>\n",
       "      <td>221.0</td>\n",
       "      <td>453.0</td>\n",
       "      <td>150.0</td>\n",
       "      <td>242.0</td>\n",
       "      <td>111.0</td>\n",
       "      <td>301.0</td>\n",
       "      <td>67.0</td>\n",
       "      <td>153.0</td>\n",
       "      <td>130.0</td>\n",
       "      <td>284.0</td>\n",
       "      <td>144.0</td>\n",
       "      <td>315.0</td>\n",
       "      <td>199.0</td>\n",
       "      <td>537.0</td>\n",
       "    </tr>\n",
       "    <tr>\n",
       "      <th>4</th>\n",
       "      <td>84.0</td>\n",
       "      <td>126.0</td>\n",
       "      <td>71.0</td>\n",
       "      <td>73.0</td>\n",
       "      <td>164.0</td>\n",
       "      <td>196.5</td>\n",
       "      <td>203.0</td>\n",
       "      <td>226.5</td>\n",
       "      <td>100.0</td>\n",
       "      <td>121.0</td>\n",
       "      <td>106.0</td>\n",
       "      <td>150.5</td>\n",
       "      <td>60.0</td>\n",
       "      <td>76.5</td>\n",
       "      <td>129.0</td>\n",
       "      <td>142.0</td>\n",
       "      <td>119.0</td>\n",
       "      <td>157.5</td>\n",
       "      <td>188.0</td>\n",
       "      <td>268.5</td>\n",
       "    </tr>\n",
       "    <tr>\n",
       "      <th>5</th>\n",
       "      <td>132.0</td>\n",
       "      <td>NaN</td>\n",
       "      <td>132.0</td>\n",
       "      <td>NaN</td>\n",
       "      <td>255.0</td>\n",
       "      <td>NaN</td>\n",
       "      <td>345.0</td>\n",
       "      <td>NaN</td>\n",
       "      <td>246.0</td>\n",
       "      <td>NaN</td>\n",
       "      <td>186.0</td>\n",
       "      <td>NaN</td>\n",
       "      <td>111.0</td>\n",
       "      <td>NaN</td>\n",
       "      <td>163.0</td>\n",
       "      <td>NaN</td>\n",
       "      <td>184.0</td>\n",
       "      <td>NaN</td>\n",
       "      <td>281.0</td>\n",
       "      <td>NaN</td>\n",
       "    </tr>\n",
       "  </tbody>\n",
       "</table>\n",
       "</div>"
      ],
      "text/plain": [
       "      0      1      2      3       4      5       6      7      8      9   \\\n",
       "0  632.0    NaN  442.0    NaN  1030.0    NaN  1239.0    NaN  687.0    NaN   \n",
       "1  164.0  248.0   93.0  164.0   218.0  382.0   238.0  441.0   99.0  199.0   \n",
       "2  135.0  124.0   69.0   82.0   211.0  191.0   232.0  220.5   92.0   99.5   \n",
       "3  117.0  252.0   77.0  146.0   182.0  393.0   221.0  453.0  150.0  242.0   \n",
       "4   84.0  126.0   71.0   73.0   164.0  196.5   203.0  226.5  100.0  121.0   \n",
       "5  132.0    NaN  132.0    NaN   255.0    NaN   345.0    NaN  246.0    NaN   \n",
       "\n",
       "      10     11     12     13     14     15     16     17      18     19  \n",
       "0  783.0    NaN  426.0    NaN  787.0    NaN  795.0    NaN  1395.0    NaN  \n",
       "1  190.0  296.0  102.0  162.0  211.0  340.0  177.0  296.0   389.0  577.0  \n",
       "2  190.0  148.0   86.0   81.0  154.0  170.0  171.0  148.0   338.0  288.5  \n",
       "3  111.0  301.0   67.0  153.0  130.0  284.0  144.0  315.0   199.0  537.0  \n",
       "4  106.0  150.5   60.0   76.5  129.0  142.0  119.0  157.5   188.0  268.5  \n",
       "5  186.0    NaN  111.0    NaN  163.0    NaN  184.0    NaN   281.0    NaN  "
      ]
     },
     "execution_count": 77,
     "metadata": {},
     "output_type": "execute_result"
    }
   ],
   "source": [
    "data1"
   ]
  },
  {
   "cell_type": "markdown",
   "metadata": {},
   "source": [
    "### Не все значения прочитались как числа, поэтому конвертируем все в числа, прежде чем продолжить анализ."
   ]
  },
  {
   "cell_type": "code",
   "execution_count": 78,
   "metadata": {},
   "outputs": [],
   "source": [
    "data1 = data1.applymap(to_float)\n",
    "data2 = data2.applymap(to_float)"
   ]
  },
  {
   "cell_type": "code",
   "execution_count": 79,
   "metadata": {},
   "outputs": [],
   "source": [
    "even_i = [2*j for j in range(0, 10)]\n",
    "odd_i = [2*j+1 for j in range(0, 10)]"
   ]
  },
  {
   "cell_type": "markdown",
   "metadata": {},
   "source": [
    "#### Гипотеза о том, что среднее значение 124 == 132 (data1)"
   ]
  },
  {
   "cell_type": "code",
   "execution_count": 80,
   "metadata": {},
   "outputs": [
    {
     "name": "stdout",
     "output_type": "stream",
     "text": [
      "Средние значимо не отличаются! alpha =  0.05\n"
     ]
    },
    {
     "data": {
      "text/plain": [
       "Ttest_indResult(statistic=1.5243462414717335, pvalue=0.14479947698619186)"
      ]
     },
     "execution_count": 80,
     "metadata": {},
     "output_type": "execute_result"
    }
   ],
   "source": [
    "test_hypothesis(data1.iloc[-1, even_i].values, data1.iloc[2,odd_i].values)"
   ]
  },
  {
   "cell_type": "markdown",
   "metadata": {},
   "source": [
    "#### Гипотеза о том, что среднее значение 126 == 132 (data1)"
   ]
  },
  {
   "cell_type": "code",
   "execution_count": 81,
   "metadata": {},
   "outputs": [
    {
     "name": "stdout",
     "output_type": "stream",
     "text": [
      "Средние значимо не отличаются! alpha =  0.05\n"
     ]
    },
    {
     "data": {
      "text/plain": [
       "Ttest_indResult(statistic=1.6042871498373863, pvalue=0.1260524232334817)"
      ]
     },
     "execution_count": 81,
     "metadata": {},
     "output_type": "execute_result"
    }
   ],
   "source": [
    "test_hypothesis(data1.iloc[-1, even_i].values, data1.iloc[4,odd_i].values)"
   ]
  },
  {
   "cell_type": "code",
   "execution_count": 82,
   "metadata": {},
   "outputs": [
    {
     "name": "stdout",
     "output_type": "stream",
     "text": [
      "Сравнение для j-й строки. j =  1\n",
      "Средние значимо не отличаются! alpha =  0.05\n",
      "Ttest_indResult(statistic=0.4200565899475645, pvalue=0.6794156433203022)\n",
      "--------------------\n",
      "Сравнение для j-й строки. j =  2\n",
      "Средние значимо не отличаются! alpha =  0.05\n",
      "MannwhitneyuResult(statistic=37.0, pvalue=0.1722613895490645)\n",
      "--------------------\n",
      "Сравнение для j-й строки. j =  3\n",
      "Отличие средних значимо при уровне alpha =  0.05\n",
      "Ttest_indResult(statistic=2.2172402512617535, pvalue=0.0397183557716408)\n",
      "--------------------\n",
      "Сравнение для j-й строки. j =  4\n",
      "Отличие средних значимо при уровне alpha =  0.05\n",
      "Ttest_indResult(statistic=2.8483740314305934, pvalue=0.010669002128096208)\n",
      "--------------------\n"
     ]
    }
   ],
   "source": [
    "for j in range(1, 5):\n",
    "    print(\"Сравнение для j-й строки. j = \", j)\n",
    "    res = test_hypothesis(data1.iloc[-1, even_i].values, data1.iloc[j,even_i].values)\n",
    "    print(res)\n",
    "    print(\"-\"*20)"
   ]
  },
  {
   "cell_type": "markdown",
   "metadata": {},
   "source": [
    "# Второй набор данных"
   ]
  },
  {
   "cell_type": "code",
   "execution_count": 83,
   "metadata": {},
   "outputs": [
    {
     "name": "stdout",
     "output_type": "stream",
     "text": [
      "Средние значимо не отличаются! alpha =  0.05\n"
     ]
    },
    {
     "data": {
      "text/plain": [
       "Ttest_indResult(statistic=0.3576875485748325, pvalue=0.7247369822310405)"
      ]
     },
     "execution_count": 83,
     "metadata": {},
     "output_type": "execute_result"
    }
   ],
   "source": [
    "test_hypothesis(data2.iloc[-1, even_i].values, data2.iloc[2,odd_i].values)"
   ]
  },
  {
   "cell_type": "code",
   "execution_count": 90,
   "metadata": {},
   "outputs": [
    {
     "name": "stdout",
     "output_type": "stream",
     "text": [
      "Средние значимо не отличаются! alpha =  0.05\n"
     ]
    },
    {
     "data": {
      "text/plain": [
       "Ttest_indResult(statistic=0.5433729843419707, pvalue=0.5935392635832748)"
      ]
     },
     "execution_count": 90,
     "metadata": {},
     "output_type": "execute_result"
    }
   ],
   "source": [
    "test_hypothesis(data2.iloc[-1, even_i].values, data2.iloc[4,odd_i].values)"
   ]
  },
  {
   "cell_type": "code",
   "execution_count": 85,
   "metadata": {},
   "outputs": [
    {
     "name": "stdout",
     "output_type": "stream",
     "text": [
      "Сравнение для j-й строки. j =  1\n",
      "Средние значимо не отличаются! alpha =  0.05\n",
      "Ttest_indResult(statistic=-1.9925682040933617, pvalue=0.061696180777061356)\n",
      "--------------------\n",
      "Сравнение для j-й строки. j =  2\n",
      "Средние значимо не отличаются! alpha =  0.05\n",
      "MannwhitneyuResult(statistic=50.0, pvalue=0.4849249884965778)\n",
      "--------------------\n",
      "Сравнение для j-й строки. j =  3\n",
      "Средние значимо не отличаются! alpha =  0.05\n",
      "MannwhitneyuResult(statistic=33.5, pvalue=0.11315071588499165)\n",
      "--------------------\n",
      "Сравнение для j-й строки. j =  4\n",
      "Отличие средних значимо при уровне alpha =  0.05\n",
      "MannwhitneyuResult(statistic=15.0, pvalue=0.004554248199015482)\n",
      "--------------------\n"
     ]
    }
   ],
   "source": [
    "for j in range(1, 5):\n",
    "    print(\"Сравнение для j-й строки. j = \", j)\n",
    "    res = test_hypothesis(data2.iloc[-1, even_i].values, data2.iloc[j,even_i].values)\n",
    "    print(res)\n",
    "    print(\"-\"*20)"
   ]
  },
  {
   "cell_type": "markdown",
   "metadata": {},
   "source": [
    "# объединенный массив данных (т.е. data1 + data2)"
   ]
  },
  {
   "cell_type": "code",
   "execution_count": 109,
   "metadata": {},
   "outputs": [
    {
     "name": "stdout",
     "output_type": "stream",
     "text": [
      "Средние значимо не отличаются! alpha =  0.05\n"
     ]
    },
    {
     "data": {
      "text/plain": [
       "MannwhitneyuResult(statistic=159.0, pvalue=0.13660880755305216)"
      ]
     },
     "execution_count": 109,
     "metadata": {},
     "output_type": "execute_result"
    }
   ],
   "source": [
    "test_hypothesis(data1.iloc[-1, even_i].append(data2.iloc[-1, even_i]).values, data1.iloc[2, odd_i].append(data2.iloc[2, odd_i]).values)"
   ]
  },
  {
   "cell_type": "code",
   "execution_count": 110,
   "metadata": {},
   "outputs": [
    {
     "name": "stdout",
     "output_type": "stream",
     "text": [
      "Средние значимо не отличаются! alpha =  0.05\n"
     ]
    },
    {
     "data": {
      "text/plain": [
       "MannwhitneyuResult(statistic=153.0, pvalue=0.10419476232940067)"
      ]
     },
     "execution_count": 110,
     "metadata": {},
     "output_type": "execute_result"
    }
   ],
   "source": [
    "test_hypothesis(data1.iloc[-1, even_i].append(data2.iloc[-1, even_i]).values, data1.iloc[4, odd_i].append(data2.iloc[4, odd_i]).values)"
   ]
  },
  {
   "cell_type": "code",
   "execution_count": 111,
   "metadata": {},
   "outputs": [
    {
     "name": "stdout",
     "output_type": "stream",
     "text": [
      "Сравнение для j-й строки. j =  1\n",
      "Средние значимо не отличаются! alpha =  0.05\n",
      "MannwhitneyuResult(statistic=172.5, pvalue=0.23255599509936775)\n",
      "--------------------\n",
      "Сравнение для j-й строки. j =  2\n",
      "Средние значимо не отличаются! alpha =  0.05\n",
      "MannwhitneyuResult(statistic=173.0, pvalue=0.23671956289590473)\n",
      "--------------------\n",
      "Сравнение для j-й строки. j =  3\n",
      "Отличие средних значимо при уровне alpha =  0.05\n",
      "MannwhitneyuResult(statistic=116.5, pvalue=0.012351993533043745)\n",
      "--------------------\n",
      "Сравнение для j-й строки. j =  4\n",
      "Отличие средних значимо при уровне alpha =  0.05\n",
      "MannwhitneyuResult(statistic=74.0, pvalue=0.0003422142538031072)\n",
      "--------------------\n"
     ]
    }
   ],
   "source": [
    "for j in range(1, 5):\n",
    "    print(\"Сравнение для j-й строки. j = \", j)\n",
    "    res = test_hypothesis(data1.iloc[-1, even_i].append(data2.iloc[-1, even_i]).values, data1.iloc[j, even_i].append(data2.iloc[j, even_i]).values)\n",
    "    print(res)\n",
    "    print(\"-\"*20)"
   ]
  }
 ],
 "metadata": {
  "kernelspec": {
   "display_name": "Python 3",
   "language": "python",
   "name": "python3"
  },
  "language_info": {
   "codemirror_mode": {
    "name": "ipython",
    "version": 3
   },
   "file_extension": ".py",
   "mimetype": "text/x-python",
   "name": "python",
   "nbconvert_exporter": "python",
   "pygments_lexer": "ipython3",
   "version": "3.5.4"
  }
 },
 "nbformat": 4,
 "nbformat_minor": 2
}
