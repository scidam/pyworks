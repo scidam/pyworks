{
 "cells": [
  {
   "cell_type": "code",
   "execution_count": 236,
   "id": "e9da414f",
   "metadata": {},
   "outputs": [],
   "source": [
    "import pandas as pd\n",
    "import numpy as np\n",
    "from scipy import stats\n",
    "from sklearn.discriminant_analysis import LinearDiscriminantAnalysis\n",
    "from sklearn.decomposition import PCA\n",
    "from matplotlib import pyplot as plt\n",
    "\n",
    "from sklearn.ensemble import RandomForestClassifier\n",
    "from sklearn.feature_selection import RFECV\n",
    "from sklearn.linear_model import LogisticRegression\n",
    "from itertools import combinations\n",
    "\n",
    "from sklearn.inspection import permutation_importance\n"
   ]
  },
  {
   "cell_type": "code",
   "execution_count": 237,
   "id": "2eed0c76",
   "metadata": {},
   "outputs": [],
   "source": [
    "data_khanka=pd.read_csv('Steppe_Khanka_and rasters_add.csv', sep=',')"
   ]
  },
  {
   "cell_type": "code",
   "execution_count": 238,
   "id": "d09b1285",
   "metadata": {},
   "outputs": [
    {
     "data": {
      "text/html": [
       "<div>\n",
       "<style scoped>\n",
       "    .dataframe tbody tr th:only-of-type {\n",
       "        vertical-align: middle;\n",
       "    }\n",
       "\n",
       "    .dataframe tbody tr th {\n",
       "        vertical-align: top;\n",
       "    }\n",
       "\n",
       "    .dataframe thead th {\n",
       "        text-align: right;\n",
       "    }\n",
       "</style>\n",
       "<table border=\"1\" class=\"dataframe\">\n",
       "  <thead>\n",
       "    <tr style=\"text-align: right;\">\n",
       "      <th></th>\n",
       "      <th>gbifID</th>\n",
       "      <th>datasetKey</th>\n",
       "      <th>occurrenceID</th>\n",
       "      <th>family</th>\n",
       "      <th>species</th>\n",
       "      <th>infraspecificEpithet</th>\n",
       "      <th>taxonRank</th>\n",
       "      <th>scientificName</th>\n",
       "      <th>countryCode</th>\n",
       "      <th>decimalLatitude</th>\n",
       "      <th>...</th>\n",
       "      <th>current_30arcsec_monthCountByTemp10</th>\n",
       "      <th>current_30arcsec_minTempWarmest</th>\n",
       "      <th>current_30arcsec_maxTempColdest</th>\n",
       "      <th>current_30arcsec_growingDegDays5</th>\n",
       "      <th>current_30arcsec_growingDegDays0</th>\n",
       "      <th>current_30arcsec_embergerQ</th>\n",
       "      <th>current_30arcsec_continentality</th>\n",
       "      <th>current_30arcsec_climaticMoistureIndex</th>\n",
       "      <th>current_30arcsec_aridityIndexThornthwaite</th>\n",
       "      <th>current_30arcsec_annualPET</th>\n",
       "    </tr>\n",
       "  </thead>\n",
       "  <tbody>\n",
       "    <tr>\n",
       "      <th>0</th>\n",
       "      <td>2.311266e+09</td>\n",
       "      <td>e7a2f416-fea5-41bb-8f17-5217fcaa74d7</td>\n",
       "      <td>NSK0000027</td>\n",
       "      <td>Amaryllidaceae</td>\n",
       "      <td>Allium anisopodium Ledeb.</td>\n",
       "      <td>argunense</td>\n",
       "      <td>SUBSPECIES</td>\n",
       "      <td>Allium anisopodium subsp. argunense Peschkova</td>\n",
       "      <td>RUS</td>\n",
       "      <td>51.467000</td>\n",
       "      <td>...</td>\n",
       "      <td>3.0</td>\n",
       "      <td>89.0</td>\n",
       "      <td>-225.0</td>\n",
       "      <td>8257.5</td>\n",
       "      <td>8257.5</td>\n",
       "      <td>29.78</td>\n",
       "      <td>45.30</td>\n",
       "      <td>-0.28</td>\n",
       "      <td>38.32</td>\n",
       "      <td>648.15997</td>\n",
       "    </tr>\n",
       "    <tr>\n",
       "      <th>1</th>\n",
       "      <td>2.417592e+09</td>\n",
       "      <td>3942a8dc-9f01-420d-a829-01675dc01c73</td>\n",
       "      <td>5464942</td>\n",
       "      <td>Amaryllidaceae</td>\n",
       "      <td>Allium anisopodium Ledeb.</td>\n",
       "      <td>zimmermannianum</td>\n",
       "      <td>VARIETY</td>\n",
       "      <td>Allium anisopodium var. zimmermannianum (Gilg)...</td>\n",
       "      <td>CHN</td>\n",
       "      <td>39.710000</td>\n",
       "      <td>...</td>\n",
       "      <td>7.0</td>\n",
       "      <td>197.0</td>\n",
       "      <td>-6.0</td>\n",
       "      <td>27310.5</td>\n",
       "      <td>36760.5</td>\n",
       "      <td>52.20</td>\n",
       "      <td>30.90</td>\n",
       "      <td>-0.41</td>\n",
       "      <td>70.70</td>\n",
       "      <td>1033.93994</td>\n",
       "    </tr>\n",
       "    <tr>\n",
       "      <th>2</th>\n",
       "      <td>2.417447e+09</td>\n",
       "      <td>3942a8dc-9f01-420d-a829-01675dc01c73</td>\n",
       "      <td>6562119</td>\n",
       "      <td>Amaryllidaceae</td>\n",
       "      <td>Allium anisopodium Ledeb.</td>\n",
       "      <td>zimmermannianum</td>\n",
       "      <td>VARIETY</td>\n",
       "      <td>Allium anisopodium var. zimmermannianum (Gilg)...</td>\n",
       "      <td>CHN</td>\n",
       "      <td>34.560000</td>\n",
       "      <td>...</td>\n",
       "      <td>7.0</td>\n",
       "      <td>177.0</td>\n",
       "      <td>34.0</td>\n",
       "      <td>36868.5</td>\n",
       "      <td>41340.0</td>\n",
       "      <td>55.33</td>\n",
       "      <td>24.70</td>\n",
       "      <td>-0.47</td>\n",
       "      <td>52.28</td>\n",
       "      <td>1049.94995</td>\n",
       "    </tr>\n",
       "    <tr>\n",
       "      <th>3</th>\n",
       "      <td>2.417662e+09</td>\n",
       "      <td>3942a8dc-9f01-420d-a829-01675dc01c73</td>\n",
       "      <td>6562129</td>\n",
       "      <td>Amaryllidaceae</td>\n",
       "      <td>Allium anisopodium Ledeb.</td>\n",
       "      <td>zimmermannianum</td>\n",
       "      <td>VARIETY</td>\n",
       "      <td>Allium anisopodium var. zimmermannianum (Gilg)...</td>\n",
       "      <td>CHN</td>\n",
       "      <td>38.280000</td>\n",
       "      <td>...</td>\n",
       "      <td>6.0</td>\n",
       "      <td>169.0</td>\n",
       "      <td>-15.0</td>\n",
       "      <td>24759.0</td>\n",
       "      <td>32778.0</td>\n",
       "      <td>32.04</td>\n",
       "      <td>32.05</td>\n",
       "      <td>-0.62</td>\n",
       "      <td>61.60</td>\n",
       "      <td>1067.57996</td>\n",
       "    </tr>\n",
       "    <tr>\n",
       "      <th>4</th>\n",
       "      <td>1.303784e+09</td>\n",
       "      <td>f9336171-e9a9-4147-b9f6-2d6c133afffd</td>\n",
       "      <td>6562138</td>\n",
       "      <td>Amaryllidaceae</td>\n",
       "      <td>Allium anisopodium Ledeb.</td>\n",
       "      <td>zimmermannianum</td>\n",
       "      <td>VARIETY</td>\n",
       "      <td>Allium anisopodium var. zimmermannianum (Gilg)...</td>\n",
       "      <td>CHN</td>\n",
       "      <td>36.107933</td>\n",
       "      <td>...</td>\n",
       "      <td>7.0</td>\n",
       "      <td>227.0</td>\n",
       "      <td>22.0</td>\n",
       "      <td>34668.0</td>\n",
       "      <td>49846.5</td>\n",
       "      <td>77.90</td>\n",
       "      <td>26.90</td>\n",
       "      <td>-0.13</td>\n",
       "      <td>37.53</td>\n",
       "      <td>852.62000</td>\n",
       "    </tr>\n",
       "  </tbody>\n",
       "</table>\n",
       "<p>5 rows × 73 columns</p>\n",
       "</div>"
      ],
      "text/plain": [
       "         gbifID                            datasetKey occurrenceID  \\\n",
       "0  2.311266e+09  e7a2f416-fea5-41bb-8f17-5217fcaa74d7   NSK0000027   \n",
       "1  2.417592e+09  3942a8dc-9f01-420d-a829-01675dc01c73      5464942   \n",
       "2  2.417447e+09  3942a8dc-9f01-420d-a829-01675dc01c73      6562119   \n",
       "3  2.417662e+09  3942a8dc-9f01-420d-a829-01675dc01c73      6562129   \n",
       "4  1.303784e+09  f9336171-e9a9-4147-b9f6-2d6c133afffd      6562138   \n",
       "\n",
       "           family                    species infraspecificEpithet   taxonRank  \\\n",
       "0  Amaryllidaceae  Allium anisopodium Ledeb.            argunense  SUBSPECIES   \n",
       "1  Amaryllidaceae  Allium anisopodium Ledeb.      zimmermannianum     VARIETY   \n",
       "2  Amaryllidaceae  Allium anisopodium Ledeb.      zimmermannianum     VARIETY   \n",
       "3  Amaryllidaceae  Allium anisopodium Ledeb.      zimmermannianum     VARIETY   \n",
       "4  Amaryllidaceae  Allium anisopodium Ledeb.      zimmermannianum     VARIETY   \n",
       "\n",
       "                                      scientificName countryCode  \\\n",
       "0      Allium anisopodium subsp. argunense Peschkova         RUS   \n",
       "1  Allium anisopodium var. zimmermannianum (Gilg)...         CHN   \n",
       "2  Allium anisopodium var. zimmermannianum (Gilg)...         CHN   \n",
       "3  Allium anisopodium var. zimmermannianum (Gilg)...         CHN   \n",
       "4  Allium anisopodium var. zimmermannianum (Gilg)...         CHN   \n",
       "\n",
       "   decimalLatitude  ...  current_30arcsec_monthCountByTemp10  \\\n",
       "0        51.467000  ...                                  3.0   \n",
       "1        39.710000  ...                                  7.0   \n",
       "2        34.560000  ...                                  7.0   \n",
       "3        38.280000  ...                                  6.0   \n",
       "4        36.107933  ...                                  7.0   \n",
       "\n",
       "  current_30arcsec_minTempWarmest current_30arcsec_maxTempColdest  \\\n",
       "0                            89.0                          -225.0   \n",
       "1                           197.0                            -6.0   \n",
       "2                           177.0                            34.0   \n",
       "3                           169.0                           -15.0   \n",
       "4                           227.0                            22.0   \n",
       "\n",
       "  current_30arcsec_growingDegDays5 current_30arcsec_growingDegDays0  \\\n",
       "0                           8257.5                           8257.5   \n",
       "1                          27310.5                          36760.5   \n",
       "2                          36868.5                          41340.0   \n",
       "3                          24759.0                          32778.0   \n",
       "4                          34668.0                          49846.5   \n",
       "\n",
       "  current_30arcsec_embergerQ current_30arcsec_continentality  \\\n",
       "0                      29.78                           45.30   \n",
       "1                      52.20                           30.90   \n",
       "2                      55.33                           24.70   \n",
       "3                      32.04                           32.05   \n",
       "4                      77.90                           26.90   \n",
       "\n",
       "   current_30arcsec_climaticMoistureIndex  \\\n",
       "0                                   -0.28   \n",
       "1                                   -0.41   \n",
       "2                                   -0.47   \n",
       "3                                   -0.62   \n",
       "4                                   -0.13   \n",
       "\n",
       "   current_30arcsec_aridityIndexThornthwaite  current_30arcsec_annualPET  \n",
       "0                                      38.32                   648.15997  \n",
       "1                                      70.70                  1033.93994  \n",
       "2                                      52.28                  1049.94995  \n",
       "3                                      61.60                  1067.57996  \n",
       "4                                      37.53                   852.62000  \n",
       "\n",
       "[5 rows x 73 columns]"
      ]
     },
     "execution_count": 238,
     "metadata": {},
     "output_type": "execute_result"
    }
   ],
   "source": [
    "data_khanka.head()"
   ]
  },
  {
   "cell_type": "code",
   "execution_count": 239,
   "id": "bcd0cb2e",
   "metadata": {},
   "outputs": [
    {
     "data": {
      "text/plain": [
       "(28658, 73)"
      ]
     },
     "execution_count": 239,
     "metadata": {},
     "output_type": "execute_result"
    }
   ],
   "source": [
    "data_khanka.shape"
   ]
  },
  {
   "cell_type": "code",
   "execution_count": 240,
   "id": "e910580f",
   "metadata": {},
   "outputs": [],
   "source": [
    "hanka_only = data_khanka[(data_khanka.decimalLatitude < 45.236845) & (data_khanka.decimalLatitude > 43.797226) & (data_khanka.decimalLongitude> 131.257678) & (data_khanka.decimalLongitude< 131.981854)&(data_khanka.countryCode=='RUS')].copy()"
   ]
  },
  {
   "cell_type": "code",
   "execution_count": 241,
   "id": "f898fcf1",
   "metadata": {},
   "outputs": [],
   "source": [
    "#hanka_only = pd.read_csv('Steppe_Khanka_only_points.csv', sep=',')"
   ]
  },
  {
   "cell_type": "code",
   "execution_count": 242,
   "id": "f6e4ec4a",
   "metadata": {},
   "outputs": [
    {
     "data": {
      "text/plain": [
       "(650, 73)"
      ]
     },
     "execution_count": 242,
     "metadata": {},
     "output_type": "execute_result"
    }
   ],
   "source": [
    "hanka_only.shape"
   ]
  },
  {
   "cell_type": "code",
   "execution_count": 243,
   "id": "a9cc0da9",
   "metadata": {},
   "outputs": [],
   "source": [
    "data_prim=pd.read_csv('Steppe_Prim_and rasters_add.csv', sep=',') "
   ]
  },
  {
   "cell_type": "code",
   "execution_count": 244,
   "id": "15ed3884",
   "metadata": {},
   "outputs": [
    {
     "data": {
      "text/plain": [
       "(12721, 75)"
      ]
     },
     "execution_count": 244,
     "metadata": {},
     "output_type": "execute_result"
    }
   ],
   "source": [
    "data_prim.shape"
   ]
  },
  {
   "cell_type": "code",
   "execution_count": 245,
   "id": "5ad7e7bb",
   "metadata": {},
   "outputs": [
    {
     "name": "stderr",
     "output_type": "stream",
     "text": [
      "C:\\Users\\ASUS\\AppData\\Local\\Temp\\ipykernel_12232\\2179704881.py:1: DtypeWarning: Columns (5,13,14) have mixed types. Specify dtype option on import or set low_memory=False.\n",
      "  data_mes=pd.read_csv('Steppe_mes_and rasters_add.csv', sep=',')\n"
     ]
    }
   ],
   "source": [
    "data_mes=pd.read_csv('Steppe_mes_and rasters_add.csv', sep=',') "
   ]
  },
  {
   "cell_type": "code",
   "execution_count": 246,
   "id": "a8e05644",
   "metadata": {},
   "outputs": [
    {
     "data": {
      "text/plain": [
       "(51823, 75)"
      ]
     },
     "execution_count": 246,
     "metadata": {},
     "output_type": "execute_result"
    }
   ],
   "source": [
    "data_mes.shape"
   ]
  },
  {
   "cell_type": "code",
   "execution_count": 247,
   "id": "4ef94d08",
   "metadata": {},
   "outputs": [
    {
     "name": "stderr",
     "output_type": "stream",
     "text": [
      "C:\\Users\\ASUS\\AppData\\Local\\Temp\\ipykernel_12232\\391047677.py:1: DtypeWarning: Columns (9,10,14,19,20,22,23,25,26) have mixed types. Specify dtype option on import or set low_memory=False.\n",
      "  data_steppe=pd.read_csv('Steppe_steppe_and rasters_add.csv')\n"
     ]
    }
   ],
   "source": [
    "data_steppe=pd.read_csv('Steppe_steppe_and rasters_add.csv') "
   ]
  },
  {
   "cell_type": "code",
   "execution_count": 248,
   "id": "e5080612",
   "metadata": {},
   "outputs": [
    {
     "data": {
      "text/plain": [
       "(34725, 77)"
      ]
     },
     "execution_count": 248,
     "metadata": {},
     "output_type": "execute_result"
    }
   ],
   "source": [
    "data_steppe.shape"
   ]
  },
  {
   "cell_type": "code",
   "execution_count": 249,
   "id": "c128043b",
   "metadata": {},
   "outputs": [
    {
     "name": "stderr",
     "output_type": "stream",
     "text": [
      "C:\\Users\\ASUS\\AppData\\Local\\Temp\\ipykernel_12232\\348706428.py:1: DtypeWarning: Columns (19,20,21) have mixed types. Specify dtype option on import or set low_memory=False.\n",
      "  data_steppe_checks=pd.read_csv('Steppe_check_rasters.csv')\n"
     ]
    }
   ],
   "source": [
    "data_steppe_checks=pd.read_csv('Steppe_check_rasters.csv') "
   ]
  },
  {
   "cell_type": "code",
   "execution_count": 250,
   "id": "934b128e",
   "metadata": {},
   "outputs": [
    {
     "data": {
      "text/plain": [
       "(20714, 78)"
      ]
     },
     "execution_count": 250,
     "metadata": {},
     "output_type": "execute_result"
    }
   ],
   "source": [
    "data_steppe_checks.shape"
   ]
  },
  {
   "cell_type": "markdown",
   "id": "bd29d6df",
   "metadata": {},
   "source": [
    "### Khanda dataset:"
   ]
  },
  {
   "cell_type": "code",
   "execution_count": 251,
   "id": "e70bad61",
   "metadata": {},
   "outputs": [
    {
     "data": {
      "text/html": [
       "<div>\n",
       "<style scoped>\n",
       "    .dataframe tbody tr th:only-of-type {\n",
       "        vertical-align: middle;\n",
       "    }\n",
       "\n",
       "    .dataframe tbody tr th {\n",
       "        vertical-align: top;\n",
       "    }\n",
       "\n",
       "    .dataframe thead th {\n",
       "        text-align: right;\n",
       "    }\n",
       "</style>\n",
       "<table border=\"1\" class=\"dataframe\">\n",
       "  <thead>\n",
       "    <tr style=\"text-align: right;\">\n",
       "      <th></th>\n",
       "      <th>gbifID</th>\n",
       "      <th>datasetKey</th>\n",
       "      <th>occurrenceID</th>\n",
       "      <th>family</th>\n",
       "      <th>species</th>\n",
       "      <th>infraspecificEpithet</th>\n",
       "      <th>taxonRank</th>\n",
       "      <th>scientificName</th>\n",
       "      <th>countryCode</th>\n",
       "      <th>decimalLatitude</th>\n",
       "      <th>...</th>\n",
       "      <th>current_30arcsec_monthCountByTemp10</th>\n",
       "      <th>current_30arcsec_minTempWarmest</th>\n",
       "      <th>current_30arcsec_maxTempColdest</th>\n",
       "      <th>current_30arcsec_growingDegDays5</th>\n",
       "      <th>current_30arcsec_growingDegDays0</th>\n",
       "      <th>current_30arcsec_embergerQ</th>\n",
       "      <th>current_30arcsec_continentality</th>\n",
       "      <th>current_30arcsec_climaticMoistureIndex</th>\n",
       "      <th>current_30arcsec_aridityIndexThornthwaite</th>\n",
       "      <th>current_30arcsec_annualPET</th>\n",
       "    </tr>\n",
       "  </thead>\n",
       "  <tbody>\n",
       "    <tr>\n",
       "      <th>0</th>\n",
       "      <td>2.311266e+09</td>\n",
       "      <td>e7a2f416-fea5-41bb-8f17-5217fcaa74d7</td>\n",
       "      <td>NSK0000027</td>\n",
       "      <td>Amaryllidaceae</td>\n",
       "      <td>Allium anisopodium Ledeb.</td>\n",
       "      <td>argunense</td>\n",
       "      <td>SUBSPECIES</td>\n",
       "      <td>Allium anisopodium subsp. argunense Peschkova</td>\n",
       "      <td>RUS</td>\n",
       "      <td>51.467000</td>\n",
       "      <td>...</td>\n",
       "      <td>3.0</td>\n",
       "      <td>89.0</td>\n",
       "      <td>-225.0</td>\n",
       "      <td>8257.5</td>\n",
       "      <td>8257.5</td>\n",
       "      <td>29.78</td>\n",
       "      <td>45.30</td>\n",
       "      <td>-0.28</td>\n",
       "      <td>38.32</td>\n",
       "      <td>648.15997</td>\n",
       "    </tr>\n",
       "    <tr>\n",
       "      <th>1</th>\n",
       "      <td>2.417592e+09</td>\n",
       "      <td>3942a8dc-9f01-420d-a829-01675dc01c73</td>\n",
       "      <td>5464942</td>\n",
       "      <td>Amaryllidaceae</td>\n",
       "      <td>Allium anisopodium Ledeb.</td>\n",
       "      <td>zimmermannianum</td>\n",
       "      <td>VARIETY</td>\n",
       "      <td>Allium anisopodium var. zimmermannianum (Gilg)...</td>\n",
       "      <td>CHN</td>\n",
       "      <td>39.710000</td>\n",
       "      <td>...</td>\n",
       "      <td>7.0</td>\n",
       "      <td>197.0</td>\n",
       "      <td>-6.0</td>\n",
       "      <td>27310.5</td>\n",
       "      <td>36760.5</td>\n",
       "      <td>52.20</td>\n",
       "      <td>30.90</td>\n",
       "      <td>-0.41</td>\n",
       "      <td>70.70</td>\n",
       "      <td>1033.93994</td>\n",
       "    </tr>\n",
       "    <tr>\n",
       "      <th>2</th>\n",
       "      <td>2.417447e+09</td>\n",
       "      <td>3942a8dc-9f01-420d-a829-01675dc01c73</td>\n",
       "      <td>6562119</td>\n",
       "      <td>Amaryllidaceae</td>\n",
       "      <td>Allium anisopodium Ledeb.</td>\n",
       "      <td>zimmermannianum</td>\n",
       "      <td>VARIETY</td>\n",
       "      <td>Allium anisopodium var. zimmermannianum (Gilg)...</td>\n",
       "      <td>CHN</td>\n",
       "      <td>34.560000</td>\n",
       "      <td>...</td>\n",
       "      <td>7.0</td>\n",
       "      <td>177.0</td>\n",
       "      <td>34.0</td>\n",
       "      <td>36868.5</td>\n",
       "      <td>41340.0</td>\n",
       "      <td>55.33</td>\n",
       "      <td>24.70</td>\n",
       "      <td>-0.47</td>\n",
       "      <td>52.28</td>\n",
       "      <td>1049.94995</td>\n",
       "    </tr>\n",
       "    <tr>\n",
       "      <th>3</th>\n",
       "      <td>2.417662e+09</td>\n",
       "      <td>3942a8dc-9f01-420d-a829-01675dc01c73</td>\n",
       "      <td>6562129</td>\n",
       "      <td>Amaryllidaceae</td>\n",
       "      <td>Allium anisopodium Ledeb.</td>\n",
       "      <td>zimmermannianum</td>\n",
       "      <td>VARIETY</td>\n",
       "      <td>Allium anisopodium var. zimmermannianum (Gilg)...</td>\n",
       "      <td>CHN</td>\n",
       "      <td>38.280000</td>\n",
       "      <td>...</td>\n",
       "      <td>6.0</td>\n",
       "      <td>169.0</td>\n",
       "      <td>-15.0</td>\n",
       "      <td>24759.0</td>\n",
       "      <td>32778.0</td>\n",
       "      <td>32.04</td>\n",
       "      <td>32.05</td>\n",
       "      <td>-0.62</td>\n",
       "      <td>61.60</td>\n",
       "      <td>1067.57996</td>\n",
       "    </tr>\n",
       "    <tr>\n",
       "      <th>4</th>\n",
       "      <td>1.303784e+09</td>\n",
       "      <td>f9336171-e9a9-4147-b9f6-2d6c133afffd</td>\n",
       "      <td>6562138</td>\n",
       "      <td>Amaryllidaceae</td>\n",
       "      <td>Allium anisopodium Ledeb.</td>\n",
       "      <td>zimmermannianum</td>\n",
       "      <td>VARIETY</td>\n",
       "      <td>Allium anisopodium var. zimmermannianum (Gilg)...</td>\n",
       "      <td>CHN</td>\n",
       "      <td>36.107933</td>\n",
       "      <td>...</td>\n",
       "      <td>7.0</td>\n",
       "      <td>227.0</td>\n",
       "      <td>22.0</td>\n",
       "      <td>34668.0</td>\n",
       "      <td>49846.5</td>\n",
       "      <td>77.90</td>\n",
       "      <td>26.90</td>\n",
       "      <td>-0.13</td>\n",
       "      <td>37.53</td>\n",
       "      <td>852.62000</td>\n",
       "    </tr>\n",
       "  </tbody>\n",
       "</table>\n",
       "<p>5 rows × 73 columns</p>\n",
       "</div>"
      ],
      "text/plain": [
       "         gbifID                            datasetKey occurrenceID  \\\n",
       "0  2.311266e+09  e7a2f416-fea5-41bb-8f17-5217fcaa74d7   NSK0000027   \n",
       "1  2.417592e+09  3942a8dc-9f01-420d-a829-01675dc01c73      5464942   \n",
       "2  2.417447e+09  3942a8dc-9f01-420d-a829-01675dc01c73      6562119   \n",
       "3  2.417662e+09  3942a8dc-9f01-420d-a829-01675dc01c73      6562129   \n",
       "4  1.303784e+09  f9336171-e9a9-4147-b9f6-2d6c133afffd      6562138   \n",
       "\n",
       "           family                    species infraspecificEpithet   taxonRank  \\\n",
       "0  Amaryllidaceae  Allium anisopodium Ledeb.            argunense  SUBSPECIES   \n",
       "1  Amaryllidaceae  Allium anisopodium Ledeb.      zimmermannianum     VARIETY   \n",
       "2  Amaryllidaceae  Allium anisopodium Ledeb.      zimmermannianum     VARIETY   \n",
       "3  Amaryllidaceae  Allium anisopodium Ledeb.      zimmermannianum     VARIETY   \n",
       "4  Amaryllidaceae  Allium anisopodium Ledeb.      zimmermannianum     VARIETY   \n",
       "\n",
       "                                      scientificName countryCode  \\\n",
       "0      Allium anisopodium subsp. argunense Peschkova         RUS   \n",
       "1  Allium anisopodium var. zimmermannianum (Gilg)...         CHN   \n",
       "2  Allium anisopodium var. zimmermannianum (Gilg)...         CHN   \n",
       "3  Allium anisopodium var. zimmermannianum (Gilg)...         CHN   \n",
       "4  Allium anisopodium var. zimmermannianum (Gilg)...         CHN   \n",
       "\n",
       "   decimalLatitude  ...  current_30arcsec_monthCountByTemp10  \\\n",
       "0        51.467000  ...                                  3.0   \n",
       "1        39.710000  ...                                  7.0   \n",
       "2        34.560000  ...                                  7.0   \n",
       "3        38.280000  ...                                  6.0   \n",
       "4        36.107933  ...                                  7.0   \n",
       "\n",
       "  current_30arcsec_minTempWarmest current_30arcsec_maxTempColdest  \\\n",
       "0                            89.0                          -225.0   \n",
       "1                           197.0                            -6.0   \n",
       "2                           177.0                            34.0   \n",
       "3                           169.0                           -15.0   \n",
       "4                           227.0                            22.0   \n",
       "\n",
       "  current_30arcsec_growingDegDays5 current_30arcsec_growingDegDays0  \\\n",
       "0                           8257.5                           8257.5   \n",
       "1                          27310.5                          36760.5   \n",
       "2                          36868.5                          41340.0   \n",
       "3                          24759.0                          32778.0   \n",
       "4                          34668.0                          49846.5   \n",
       "\n",
       "  current_30arcsec_embergerQ current_30arcsec_continentality  \\\n",
       "0                      29.78                           45.30   \n",
       "1                      52.20                           30.90   \n",
       "2                      55.33                           24.70   \n",
       "3                      32.04                           32.05   \n",
       "4                      77.90                           26.90   \n",
       "\n",
       "   current_30arcsec_climaticMoistureIndex  \\\n",
       "0                                   -0.28   \n",
       "1                                   -0.41   \n",
       "2                                   -0.47   \n",
       "3                                   -0.62   \n",
       "4                                   -0.13   \n",
       "\n",
       "   current_30arcsec_aridityIndexThornthwaite  current_30arcsec_annualPET  \n",
       "0                                      38.32                   648.15997  \n",
       "1                                      70.70                  1033.93994  \n",
       "2                                      52.28                  1049.94995  \n",
       "3                                      61.60                  1067.57996  \n",
       "4                                      37.53                   852.62000  \n",
       "\n",
       "[5 rows x 73 columns]"
      ]
     },
     "execution_count": 251,
     "metadata": {},
     "output_type": "execute_result"
    }
   ],
   "source": [
    "data_khanka.head()"
   ]
  },
  {
   "cell_type": "markdown",
   "id": "4a350598",
   "metadata": {},
   "source": [
    "### Prim dataset"
   ]
  },
  {
   "cell_type": "code",
   "execution_count": 252,
   "id": "447450ae",
   "metadata": {},
   "outputs": [
    {
     "data": {
      "text/html": [
       "<div>\n",
       "<style scoped>\n",
       "    .dataframe tbody tr th:only-of-type {\n",
       "        vertical-align: middle;\n",
       "    }\n",
       "\n",
       "    .dataframe tbody tr th {\n",
       "        vertical-align: top;\n",
       "    }\n",
       "\n",
       "    .dataframe thead th {\n",
       "        text-align: right;\n",
       "    }\n",
       "</style>\n",
       "<table border=\"1\" class=\"dataframe\">\n",
       "  <thead>\n",
       "    <tr style=\"text-align: right;\">\n",
       "      <th></th>\n",
       "      <th>gbifID</th>\n",
       "      <th>datasetKey</th>\n",
       "      <th>occurrenceID</th>\n",
       "      <th>family</th>\n",
       "      <th>species</th>\n",
       "      <th>infraspecificEpithet</th>\n",
       "      <th>taxonRank</th>\n",
       "      <th>scientificName</th>\n",
       "      <th>countryCode</th>\n",
       "      <th>decimalLatitude</th>\n",
       "      <th>...</th>\n",
       "      <th>current_30arcsec_monthCountByTemp10</th>\n",
       "      <th>current_30arcsec_minTempWarmest</th>\n",
       "      <th>current_30arcsec_maxTempColdest</th>\n",
       "      <th>current_30arcsec_growingDegDays5</th>\n",
       "      <th>current_30arcsec_growingDegDays0</th>\n",
       "      <th>current_30arcsec_embergerQ</th>\n",
       "      <th>current_30arcsec_continentality</th>\n",
       "      <th>current_30arcsec_climaticMoistureIndex</th>\n",
       "      <th>current_30arcsec_aridityIndexThornthwaite</th>\n",
       "      <th>current_30arcsec_annualPET</th>\n",
       "    </tr>\n",
       "  </thead>\n",
       "  <tbody>\n",
       "    <tr>\n",
       "      <th>0</th>\n",
       "      <td>3464835138</td>\n",
       "      <td>4d1b5fed-e12f-48e8-94cb-88cf80115dd1</td>\n",
       "      <td>urn:lsid:biocol.org:col:15550:16:0119:0414</td>\n",
       "      <td>Asteraceae</td>\n",
       "      <td>Crepidiastrum tenuifolium (Willd.) Sennikov</td>\n",
       "      <td>altaica</td>\n",
       "      <td>SUBSPECIES</td>\n",
       "      <td>Youngia tenuifolia subsp. altaica Babc. &amp; Steb...</td>\n",
       "      <td>RUS</td>\n",
       "      <td>51.12980</td>\n",
       "      <td>...</td>\n",
       "      <td>5.0</td>\n",
       "      <td>119.0</td>\n",
       "      <td>-93.0</td>\n",
       "      <td>10957.5</td>\n",
       "      <td>16485.0</td>\n",
       "      <td>51.39</td>\n",
       "      <td>32.75</td>\n",
       "      <td>-0.14</td>\n",
       "      <td>42.63</td>\n",
       "      <td>737.26001</td>\n",
       "    </tr>\n",
       "    <tr>\n",
       "      <th>1</th>\n",
       "      <td>3464882136</td>\n",
       "      <td>4d1b5fed-e12f-48e8-94cb-88cf80115dd1</td>\n",
       "      <td>urn:lsid:biocol.org:col:15550:16:0495:0336</td>\n",
       "      <td>Asteraceae</td>\n",
       "      <td>Crepidiastrum tenuifolium (Willd.) Sennikov</td>\n",
       "      <td>altaica</td>\n",
       "      <td>SUBSPECIES</td>\n",
       "      <td>Youngia tenuifolia subsp. altaica Babc. &amp; Steb...</td>\n",
       "      <td>RUS</td>\n",
       "      <td>51.20270</td>\n",
       "      <td>...</td>\n",
       "      <td>5.0</td>\n",
       "      <td>113.0</td>\n",
       "      <td>-99.0</td>\n",
       "      <td>10440.0</td>\n",
       "      <td>15487.5</td>\n",
       "      <td>53.12</td>\n",
       "      <td>32.70</td>\n",
       "      <td>-0.09</td>\n",
       "      <td>39.21</td>\n",
       "      <td>714.76001</td>\n",
       "    </tr>\n",
       "    <tr>\n",
       "      <th>2</th>\n",
       "      <td>2382490292</td>\n",
       "      <td>54f946aa-2ca9-4a51-9ee5-011219e0381e</td>\n",
       "      <td>https://brnu.jacq.org/BRNU581205</td>\n",
       "      <td>Asteraceae</td>\n",
       "      <td>Crepidiastrum tenuifolium (Willd.) Sennikov</td>\n",
       "      <td>altaica</td>\n",
       "      <td>SUBSPECIES</td>\n",
       "      <td>Youngia tenuifolia subsp. altaica Babc. &amp; Steb...</td>\n",
       "      <td>RUS</td>\n",
       "      <td>50.40139</td>\n",
       "      <td>...</td>\n",
       "      <td>5.0</td>\n",
       "      <td>118.0</td>\n",
       "      <td>-108.0</td>\n",
       "      <td>10785.0</td>\n",
       "      <td>16243.5</td>\n",
       "      <td>30.70</td>\n",
       "      <td>33.85</td>\n",
       "      <td>-0.48</td>\n",
       "      <td>52.58</td>\n",
       "      <td>725.84998</td>\n",
       "    </tr>\n",
       "    <tr>\n",
       "      <th>3</th>\n",
       "      <td>2382490309</td>\n",
       "      <td>54f946aa-2ca9-4a51-9ee5-011219e0381e</td>\n",
       "      <td>https://brnu.jacq.org/BRNU581206</td>\n",
       "      <td>Asteraceae</td>\n",
       "      <td>Crepidiastrum tenuifolium (Willd.) Sennikov</td>\n",
       "      <td>altaica</td>\n",
       "      <td>SUBSPECIES</td>\n",
       "      <td>Youngia tenuifolia subsp. altaica Babc. &amp; Steb...</td>\n",
       "      <td>RUS</td>\n",
       "      <td>50.51586</td>\n",
       "      <td>...</td>\n",
       "      <td>5.0</td>\n",
       "      <td>123.0</td>\n",
       "      <td>-106.0</td>\n",
       "      <td>11152.5</td>\n",
       "      <td>16957.5</td>\n",
       "      <td>30.45</td>\n",
       "      <td>34.15</td>\n",
       "      <td>-0.49</td>\n",
       "      <td>53.33</td>\n",
       "      <td>740.52002</td>\n",
       "    </tr>\n",
       "    <tr>\n",
       "      <th>4</th>\n",
       "      <td>2570621591</td>\n",
       "      <td>0eacbbfa-45b9-41dc-b7e3-1f0773ce1477</td>\n",
       "      <td>Flora_of_Siberia_2007_Vol_13_map_196_locality_1</td>\n",
       "      <td>Asteraceae</td>\n",
       "      <td>Crepidiastrum tenuifolium (Willd.) Sennikov</td>\n",
       "      <td>tenuifolia</td>\n",
       "      <td>SUBSPECIES</td>\n",
       "      <td>Youngia tenuifolia subsp. tenuifolia</td>\n",
       "      <td>RUS</td>\n",
       "      <td>53.95200</td>\n",
       "      <td>...</td>\n",
       "      <td>5.0</td>\n",
       "      <td>127.0</td>\n",
       "      <td>-114.0</td>\n",
       "      <td>10792.5</td>\n",
       "      <td>15939.0</td>\n",
       "      <td>40.60</td>\n",
       "      <td>35.00</td>\n",
       "      <td>-0.25</td>\n",
       "      <td>47.11</td>\n",
       "      <td>680.77002</td>\n",
       "    </tr>\n",
       "  </tbody>\n",
       "</table>\n",
       "<p>5 rows × 75 columns</p>\n",
       "</div>"
      ],
      "text/plain": [
       "       gbifID                            datasetKey  \\\n",
       "0  3464835138  4d1b5fed-e12f-48e8-94cb-88cf80115dd1   \n",
       "1  3464882136  4d1b5fed-e12f-48e8-94cb-88cf80115dd1   \n",
       "2  2382490292  54f946aa-2ca9-4a51-9ee5-011219e0381e   \n",
       "3  2382490309  54f946aa-2ca9-4a51-9ee5-011219e0381e   \n",
       "4  2570621591  0eacbbfa-45b9-41dc-b7e3-1f0773ce1477   \n",
       "\n",
       "                                      occurrenceID      family  \\\n",
       "0       urn:lsid:biocol.org:col:15550:16:0119:0414  Asteraceae   \n",
       "1       urn:lsid:biocol.org:col:15550:16:0495:0336  Asteraceae   \n",
       "2                 https://brnu.jacq.org/BRNU581205  Asteraceae   \n",
       "3                 https://brnu.jacq.org/BRNU581206  Asteraceae   \n",
       "4  Flora_of_Siberia_2007_Vol_13_map_196_locality_1  Asteraceae   \n",
       "\n",
       "                                       species infraspecificEpithet  \\\n",
       "0  Crepidiastrum tenuifolium (Willd.) Sennikov              altaica   \n",
       "1  Crepidiastrum tenuifolium (Willd.) Sennikov              altaica   \n",
       "2  Crepidiastrum tenuifolium (Willd.) Sennikov              altaica   \n",
       "3  Crepidiastrum tenuifolium (Willd.) Sennikov              altaica   \n",
       "4  Crepidiastrum tenuifolium (Willd.) Sennikov           tenuifolia   \n",
       "\n",
       "    taxonRank                                     scientificName countryCode  \\\n",
       "0  SUBSPECIES  Youngia tenuifolia subsp. altaica Babc. & Steb...         RUS   \n",
       "1  SUBSPECIES  Youngia tenuifolia subsp. altaica Babc. & Steb...         RUS   \n",
       "2  SUBSPECIES  Youngia tenuifolia subsp. altaica Babc. & Steb...         RUS   \n",
       "3  SUBSPECIES  Youngia tenuifolia subsp. altaica Babc. & Steb...         RUS   \n",
       "4  SUBSPECIES               Youngia tenuifolia subsp. tenuifolia         RUS   \n",
       "\n",
       "   decimalLatitude  ...  current_30arcsec_monthCountByTemp10  \\\n",
       "0         51.12980  ...                                  5.0   \n",
       "1         51.20270  ...                                  5.0   \n",
       "2         50.40139  ...                                  5.0   \n",
       "3         50.51586  ...                                  5.0   \n",
       "4         53.95200  ...                                  5.0   \n",
       "\n",
       "   current_30arcsec_minTempWarmest  current_30arcsec_maxTempColdest  \\\n",
       "0                            119.0                            -93.0   \n",
       "1                            113.0                            -99.0   \n",
       "2                            118.0                           -108.0   \n",
       "3                            123.0                           -106.0   \n",
       "4                            127.0                           -114.0   \n",
       "\n",
       "  current_30arcsec_growingDegDays5 current_30arcsec_growingDegDays0  \\\n",
       "0                          10957.5                          16485.0   \n",
       "1                          10440.0                          15487.5   \n",
       "2                          10785.0                          16243.5   \n",
       "3                          11152.5                          16957.5   \n",
       "4                          10792.5                          15939.0   \n",
       "\n",
       "  current_30arcsec_embergerQ current_30arcsec_continentality  \\\n",
       "0                      51.39                           32.75   \n",
       "1                      53.12                           32.70   \n",
       "2                      30.70                           33.85   \n",
       "3                      30.45                           34.15   \n",
       "4                      40.60                           35.00   \n",
       "\n",
       "  current_30arcsec_climaticMoistureIndex  \\\n",
       "0                                  -0.14   \n",
       "1                                  -0.09   \n",
       "2                                  -0.48   \n",
       "3                                  -0.49   \n",
       "4                                  -0.25   \n",
       "\n",
       "  current_30arcsec_aridityIndexThornthwaite  current_30arcsec_annualPET  \n",
       "0                                     42.63                   737.26001  \n",
       "1                                     39.21                   714.76001  \n",
       "2                                     52.58                   725.84998  \n",
       "3                                     53.33                   740.52002  \n",
       "4                                     47.11                   680.77002  \n",
       "\n",
       "[5 rows x 75 columns]"
      ]
     },
     "execution_count": 252,
     "metadata": {},
     "output_type": "execute_result"
    }
   ],
   "source": [
    "data_prim.head()"
   ]
  },
  {
   "cell_type": "markdown",
   "id": "38132b6c",
   "metadata": {},
   "source": [
    "### Steppe dataset"
   ]
  },
  {
   "cell_type": "code",
   "execution_count": 253,
   "id": "fc312570",
   "metadata": {},
   "outputs": [
    {
     "data": {
      "text/html": [
       "<div>\n",
       "<style scoped>\n",
       "    .dataframe tbody tr th:only-of-type {\n",
       "        vertical-align: middle;\n",
       "    }\n",
       "\n",
       "    .dataframe tbody tr th {\n",
       "        vertical-align: top;\n",
       "    }\n",
       "\n",
       "    .dataframe thead th {\n",
       "        text-align: right;\n",
       "    }\n",
       "</style>\n",
       "<table border=\"1\" class=\"dataframe\">\n",
       "  <thead>\n",
       "    <tr style=\"text-align: right;\">\n",
       "      <th></th>\n",
       "      <th>gbifID</th>\n",
       "      <th>datasetKey</th>\n",
       "      <th>occurrenceID</th>\n",
       "      <th>family</th>\n",
       "      <th>species</th>\n",
       "      <th>infraspecificEpithet</th>\n",
       "      <th>taxonRank</th>\n",
       "      <th>scientificName</th>\n",
       "      <th>countryCode</th>\n",
       "      <th>decimalLatitude</th>\n",
       "      <th>...</th>\n",
       "      <th>current_30arcsec_maxTempColdest</th>\n",
       "      <th>current_30arcsec_growingDegDays5</th>\n",
       "      <th>current_30arcsec_growingDegDays0</th>\n",
       "      <th>current_30arcsec_embergerQ</th>\n",
       "      <th>current_30arcsec_continentality</th>\n",
       "      <th>current_30arcsec_climaticMoistureIndex</th>\n",
       "      <th>current_30arcsec_aridityIndexThornthwaite</th>\n",
       "      <th>current_30arcsec_annualPET</th>\n",
       "      <th>Unnamed: 75</th>\n",
       "      <th>Unnamed: 76</th>\n",
       "    </tr>\n",
       "  </thead>\n",
       "  <tbody>\n",
       "    <tr>\n",
       "      <th>0</th>\n",
       "      <td>4045462570</td>\n",
       "      <td>4515e736-fa02-44ee-9808-bf89445104fe</td>\n",
       "      <td>9663470</td>\n",
       "      <td>Amaranthaceae</td>\n",
       "      <td>Bassia prostrata (L.) Beck</td>\n",
       "      <td>canescens</td>\n",
       "      <td>VARIETY</td>\n",
       "      <td>Kochia prostrata var. canescens Moq.</td>\n",
       "      <td>CHN</td>\n",
       "      <td>44.21</td>\n",
       "      <td>...</td>\n",
       "      <td>-63.0</td>\n",
       "      <td>23877.0</td>\n",
       "      <td>27348.0</td>\n",
       "      <td>7.74</td>\n",
       "      <td>36.25</td>\n",
       "      <td>-0.89</td>\n",
       "      <td>89.08</td>\n",
       "      <td>979.66998</td>\n",
       "      <td>NaN</td>\n",
       "      <td>NaN</td>\n",
       "    </tr>\n",
       "    <tr>\n",
       "      <th>1</th>\n",
       "      <td>4045444803</td>\n",
       "      <td>4515e736-fa02-44ee-9808-bf89445104fe</td>\n",
       "      <td>9402440</td>\n",
       "      <td>Amaranthaceae</td>\n",
       "      <td>Bassia prostrata (L.) Beck</td>\n",
       "      <td>canescens</td>\n",
       "      <td>VARIETY</td>\n",
       "      <td>Kochia prostrata var. canescens Moq.</td>\n",
       "      <td>CHN</td>\n",
       "      <td>43.8</td>\n",
       "      <td>...</td>\n",
       "      <td>-82.0</td>\n",
       "      <td>25452.0</td>\n",
       "      <td>25452.0</td>\n",
       "      <td>17.14</td>\n",
       "      <td>37.00</td>\n",
       "      <td>-0.75</td>\n",
       "      <td>76.88</td>\n",
       "      <td>934.01001</td>\n",
       "      <td>NaN</td>\n",
       "      <td>NaN</td>\n",
       "    </tr>\n",
       "    <tr>\n",
       "      <th>2</th>\n",
       "      <td>4045243421</td>\n",
       "      <td>4515e736-fa02-44ee-9808-bf89445104fe</td>\n",
       "      <td>6529847</td>\n",
       "      <td>Amaranthaceae</td>\n",
       "      <td>Bassia prostrata (L.) Beck</td>\n",
       "      <td>canescens</td>\n",
       "      <td>VARIETY</td>\n",
       "      <td>Kochia prostrata var. canescens Moq.</td>\n",
       "      <td>CHN</td>\n",
       "      <td>40.93</td>\n",
       "      <td>...</td>\n",
       "      <td>-30.0</td>\n",
       "      <td>20989.5</td>\n",
       "      <td>24372.0</td>\n",
       "      <td>16.16</td>\n",
       "      <td>28.25</td>\n",
       "      <td>-0.80</td>\n",
       "      <td>80.31</td>\n",
       "      <td>939.57001</td>\n",
       "      <td>NaN</td>\n",
       "      <td>NaN</td>\n",
       "    </tr>\n",
       "    <tr>\n",
       "      <th>3</th>\n",
       "      <td>4044826650</td>\n",
       "      <td>4515e736-fa02-44ee-9808-bf89445104fe</td>\n",
       "      <td>9663462</td>\n",
       "      <td>Amaranthaceae</td>\n",
       "      <td>Bassia prostrata (L.) Beck</td>\n",
       "      <td>canescens</td>\n",
       "      <td>VARIETY</td>\n",
       "      <td>Kochia prostrata var. canescens Moq.</td>\n",
       "      <td>CHN</td>\n",
       "      <td>44.3</td>\n",
       "      <td>...</td>\n",
       "      <td>-74.0</td>\n",
       "      <td>29578.5</td>\n",
       "      <td>38758.5</td>\n",
       "      <td>10.48</td>\n",
       "      <td>38.35</td>\n",
       "      <td>-0.86</td>\n",
       "      <td>86.21</td>\n",
       "      <td>1058.62000</td>\n",
       "      <td>NaN</td>\n",
       "      <td>NaN</td>\n",
       "    </tr>\n",
       "    <tr>\n",
       "      <th>4</th>\n",
       "      <td>4044826649</td>\n",
       "      <td>4515e736-fa02-44ee-9808-bf89445104fe</td>\n",
       "      <td>9663451</td>\n",
       "      <td>Amaranthaceae</td>\n",
       "      <td>Bassia prostrata (L.) Beck</td>\n",
       "      <td>canescens</td>\n",
       "      <td>VARIETY</td>\n",
       "      <td>Kochia prostrata var. canescens Moq.</td>\n",
       "      <td>CHN</td>\n",
       "      <td>44.43</td>\n",
       "      <td>...</td>\n",
       "      <td>-103.0</td>\n",
       "      <td>29316.0</td>\n",
       "      <td>34020.0</td>\n",
       "      <td>10.58</td>\n",
       "      <td>40.45</td>\n",
       "      <td>-0.86</td>\n",
       "      <td>86.65</td>\n",
       "      <td>1058.44995</td>\n",
       "      <td>NaN</td>\n",
       "      <td>NaN</td>\n",
       "    </tr>\n",
       "  </tbody>\n",
       "</table>\n",
       "<p>5 rows × 77 columns</p>\n",
       "</div>"
      ],
      "text/plain": [
       "       gbifID                            datasetKey occurrenceID  \\\n",
       "0  4045462570  4515e736-fa02-44ee-9808-bf89445104fe      9663470   \n",
       "1  4045444803  4515e736-fa02-44ee-9808-bf89445104fe      9402440   \n",
       "2  4045243421  4515e736-fa02-44ee-9808-bf89445104fe      6529847   \n",
       "3  4044826650  4515e736-fa02-44ee-9808-bf89445104fe      9663462   \n",
       "4  4044826649  4515e736-fa02-44ee-9808-bf89445104fe      9663451   \n",
       "\n",
       "          family                     species infraspecificEpithet taxonRank  \\\n",
       "0  Amaranthaceae  Bassia prostrata (L.) Beck            canescens   VARIETY   \n",
       "1  Amaranthaceae  Bassia prostrata (L.) Beck            canescens   VARIETY   \n",
       "2  Amaranthaceae  Bassia prostrata (L.) Beck            canescens   VARIETY   \n",
       "3  Amaranthaceae  Bassia prostrata (L.) Beck            canescens   VARIETY   \n",
       "4  Amaranthaceae  Bassia prostrata (L.) Beck            canescens   VARIETY   \n",
       "\n",
       "                         scientificName countryCode decimalLatitude  ...  \\\n",
       "0  Kochia prostrata var. canescens Moq.         CHN           44.21  ...   \n",
       "1  Kochia prostrata var. canescens Moq.         CHN            43.8  ...   \n",
       "2  Kochia prostrata var. canescens Moq.         CHN           40.93  ...   \n",
       "3  Kochia prostrata var. canescens Moq.         CHN            44.3  ...   \n",
       "4  Kochia prostrata var. canescens Moq.         CHN           44.43  ...   \n",
       "\n",
       "  current_30arcsec_maxTempColdest  current_30arcsec_growingDegDays5  \\\n",
       "0                           -63.0                           23877.0   \n",
       "1                           -82.0                           25452.0   \n",
       "2                           -30.0                           20989.5   \n",
       "3                           -74.0                           29578.5   \n",
       "4                          -103.0                           29316.0   \n",
       "\n",
       "   current_30arcsec_growingDegDays0 current_30arcsec_embergerQ  \\\n",
       "0                           27348.0                       7.74   \n",
       "1                           25452.0                      17.14   \n",
       "2                           24372.0                      16.16   \n",
       "3                           38758.5                      10.48   \n",
       "4                           34020.0                      10.58   \n",
       "\n",
       "  current_30arcsec_continentality current_30arcsec_climaticMoistureIndex  \\\n",
       "0                           36.25                                  -0.89   \n",
       "1                           37.00                                  -0.75   \n",
       "2                           28.25                                  -0.80   \n",
       "3                           38.35                                  -0.86   \n",
       "4                           40.45                                  -0.86   \n",
       "\n",
       "  current_30arcsec_aridityIndexThornthwaite current_30arcsec_annualPET  \\\n",
       "0                                     89.08                  979.66998   \n",
       "1                                     76.88                  934.01001   \n",
       "2                                     80.31                  939.57001   \n",
       "3                                     86.21                 1058.62000   \n",
       "4                                     86.65                 1058.44995   \n",
       "\n",
       "  Unnamed: 75 Unnamed: 76  \n",
       "0         NaN         NaN  \n",
       "1         NaN         NaN  \n",
       "2         NaN         NaN  \n",
       "3         NaN         NaN  \n",
       "4         NaN         NaN  \n",
       "\n",
       "[5 rows x 77 columns]"
      ]
     },
     "execution_count": 253,
     "metadata": {},
     "output_type": "execute_result"
    }
   ],
   "source": [
    "data_steppe.head()"
   ]
  },
  {
   "cell_type": "markdown",
   "id": "8bb8c571",
   "metadata": {},
   "source": [
    "### Mesophites dataset (mes)"
   ]
  },
  {
   "cell_type": "code",
   "execution_count": 254,
   "id": "f466cf88",
   "metadata": {},
   "outputs": [
    {
     "data": {
      "text/html": [
       "<div>\n",
       "<style scoped>\n",
       "    .dataframe tbody tr th:only-of-type {\n",
       "        vertical-align: middle;\n",
       "    }\n",
       "\n",
       "    .dataframe tbody tr th {\n",
       "        vertical-align: top;\n",
       "    }\n",
       "\n",
       "    .dataframe thead th {\n",
       "        text-align: right;\n",
       "    }\n",
       "</style>\n",
       "<table border=\"1\" class=\"dataframe\">\n",
       "  <thead>\n",
       "    <tr style=\"text-align: right;\">\n",
       "      <th></th>\n",
       "      <th>gbifID</th>\n",
       "      <th>datasetKey</th>\n",
       "      <th>occurrenceID</th>\n",
       "      <th>family</th>\n",
       "      <th>species</th>\n",
       "      <th>infraspecificEpithet</th>\n",
       "      <th>taxonRank</th>\n",
       "      <th>scientificName</th>\n",
       "      <th>countryCode</th>\n",
       "      <th>decimalLatitude</th>\n",
       "      <th>...</th>\n",
       "      <th>current_30arcsec_monthCountByTemp10</th>\n",
       "      <th>current_30arcsec_minTempWarmest</th>\n",
       "      <th>current_30arcsec_maxTempColdest</th>\n",
       "      <th>current_30arcsec_growingDegDays5</th>\n",
       "      <th>current_30arcsec_growingDegDays0</th>\n",
       "      <th>current_30arcsec_embergerQ</th>\n",
       "      <th>current_30arcsec_continentality</th>\n",
       "      <th>current_30arcsec_climaticMoistureIndex</th>\n",
       "      <th>current_30arcsec_aridityIndexThornthwaite</th>\n",
       "      <th>current_30arcsec_annualPET</th>\n",
       "    </tr>\n",
       "  </thead>\n",
       "  <tbody>\n",
       "    <tr>\n",
       "      <th>0</th>\n",
       "      <td>3881342533</td>\n",
       "      <td>50c9509d-22c7-4a22-a47d-8c48425ef4a7</td>\n",
       "      <td>https://www.inaturalist.org/observations/12648...</td>\n",
       "      <td>Apiaceae</td>\n",
       "      <td>Bupleurum komarovianum Lincz.</td>\n",
       "      <td>NaN</td>\n",
       "      <td>SPECIES</td>\n",
       "      <td>Bupleurum komarovianum O.A.Lincz.</td>\n",
       "      <td>RUS</td>\n",
       "      <td>44.569003</td>\n",
       "      <td>...</td>\n",
       "      <td>4.0</td>\n",
       "      <td>139.0</td>\n",
       "      <td>-94.0</td>\n",
       "      <td>13320.0</td>\n",
       "      <td>16201.5</td>\n",
       "      <td>70.14</td>\n",
       "      <td>32.05</td>\n",
       "      <td>0.15</td>\n",
       "      <td>20.44</td>\n",
       "      <td>666.88000</td>\n",
       "    </tr>\n",
       "    <tr>\n",
       "      <th>1</th>\n",
       "      <td>3881442492</td>\n",
       "      <td>50c9509d-22c7-4a22-a47d-8c48425ef4a7</td>\n",
       "      <td>https://www.inaturalist.org/observations/12648...</td>\n",
       "      <td>Apiaceae</td>\n",
       "      <td>Bupleurum komarovianum Lincz.</td>\n",
       "      <td>NaN</td>\n",
       "      <td>SPECIES</td>\n",
       "      <td>Bupleurum komarovianum O.A.Lincz.</td>\n",
       "      <td>RUS</td>\n",
       "      <td>44.339847</td>\n",
       "      <td>...</td>\n",
       "      <td>5.0</td>\n",
       "      <td>161.0</td>\n",
       "      <td>-62.0</td>\n",
       "      <td>19278.0</td>\n",
       "      <td>19278.0</td>\n",
       "      <td>67.54</td>\n",
       "      <td>30.80</td>\n",
       "      <td>0.02</td>\n",
       "      <td>21.43</td>\n",
       "      <td>724.78998</td>\n",
       "    </tr>\n",
       "    <tr>\n",
       "      <th>2</th>\n",
       "      <td>3881672504</td>\n",
       "      <td>50c9509d-22c7-4a22-a47d-8c48425ef4a7</td>\n",
       "      <td>https://www.inaturalist.org/observations/12648...</td>\n",
       "      <td>Apiaceae</td>\n",
       "      <td>Bupleurum komarovianum Lincz.</td>\n",
       "      <td>NaN</td>\n",
       "      <td>SPECIES</td>\n",
       "      <td>Bupleurum komarovianum O.A.Lincz.</td>\n",
       "      <td>RUS</td>\n",
       "      <td>44.634446</td>\n",
       "      <td>...</td>\n",
       "      <td>4.0</td>\n",
       "      <td>130.0</td>\n",
       "      <td>-111.0</td>\n",
       "      <td>9637.5</td>\n",
       "      <td>14973.0</td>\n",
       "      <td>71.67</td>\n",
       "      <td>32.85</td>\n",
       "      <td>0.21</td>\n",
       "      <td>14.34</td>\n",
       "      <td>643.08002</td>\n",
       "    </tr>\n",
       "    <tr>\n",
       "      <th>3</th>\n",
       "      <td>3923591598</td>\n",
       "      <td>50c9509d-22c7-4a22-a47d-8c48425ef4a7</td>\n",
       "      <td>https://www.inaturalist.org/observations/13256...</td>\n",
       "      <td>Apiaceae</td>\n",
       "      <td>Bupleurum komarovianum Lincz.</td>\n",
       "      <td>NaN</td>\n",
       "      <td>SPECIES</td>\n",
       "      <td>Bupleurum komarovianum O.A.Lincz.</td>\n",
       "      <td>RUS</td>\n",
       "      <td>42.460158</td>\n",
       "      <td>...</td>\n",
       "      <td>NaN</td>\n",
       "      <td>NaN</td>\n",
       "      <td>NaN</td>\n",
       "      <td>NaN</td>\n",
       "      <td>NaN</td>\n",
       "      <td>NaN</td>\n",
       "      <td>NaN</td>\n",
       "      <td>NaN</td>\n",
       "      <td>NaN</td>\n",
       "      <td>NaN</td>\n",
       "    </tr>\n",
       "    <tr>\n",
       "      <th>4</th>\n",
       "      <td>3915607719</td>\n",
       "      <td>50c9509d-22c7-4a22-a47d-8c48425ef4a7</td>\n",
       "      <td>https://www.inaturalist.org/observations/13665...</td>\n",
       "      <td>Apiaceae</td>\n",
       "      <td>Bupleurum komarovianum Lincz.</td>\n",
       "      <td>NaN</td>\n",
       "      <td>SPECIES</td>\n",
       "      <td>Bupleurum komarovianum O.A.Lincz.</td>\n",
       "      <td>RUS</td>\n",
       "      <td>43.752005</td>\n",
       "      <td>...</td>\n",
       "      <td>4.0</td>\n",
       "      <td>147.0</td>\n",
       "      <td>-84.0</td>\n",
       "      <td>13887.0</td>\n",
       "      <td>16968.0</td>\n",
       "      <td>80.04</td>\n",
       "      <td>31.15</td>\n",
       "      <td>0.23</td>\n",
       "      <td>15.97</td>\n",
       "      <td>666.79999</td>\n",
       "    </tr>\n",
       "  </tbody>\n",
       "</table>\n",
       "<p>5 rows × 75 columns</p>\n",
       "</div>"
      ],
      "text/plain": [
       "       gbifID                            datasetKey  \\\n",
       "0  3881342533  50c9509d-22c7-4a22-a47d-8c48425ef4a7   \n",
       "1  3881442492  50c9509d-22c7-4a22-a47d-8c48425ef4a7   \n",
       "2  3881672504  50c9509d-22c7-4a22-a47d-8c48425ef4a7   \n",
       "3  3923591598  50c9509d-22c7-4a22-a47d-8c48425ef4a7   \n",
       "4  3915607719  50c9509d-22c7-4a22-a47d-8c48425ef4a7   \n",
       "\n",
       "                                        occurrenceID    family  \\\n",
       "0  https://www.inaturalist.org/observations/12648...  Apiaceae   \n",
       "1  https://www.inaturalist.org/observations/12648...  Apiaceae   \n",
       "2  https://www.inaturalist.org/observations/12648...  Apiaceae   \n",
       "3  https://www.inaturalist.org/observations/13256...  Apiaceae   \n",
       "4  https://www.inaturalist.org/observations/13665...  Apiaceae   \n",
       "\n",
       "                         species infraspecificEpithet taxonRank  \\\n",
       "0  Bupleurum komarovianum Lincz.                  NaN   SPECIES   \n",
       "1  Bupleurum komarovianum Lincz.                  NaN   SPECIES   \n",
       "2  Bupleurum komarovianum Lincz.                  NaN   SPECIES   \n",
       "3  Bupleurum komarovianum Lincz.                  NaN   SPECIES   \n",
       "4  Bupleurum komarovianum Lincz.                  NaN   SPECIES   \n",
       "\n",
       "                      scientificName countryCode  decimalLatitude  ...  \\\n",
       "0  Bupleurum komarovianum O.A.Lincz.         RUS        44.569003  ...   \n",
       "1  Bupleurum komarovianum O.A.Lincz.         RUS        44.339847  ...   \n",
       "2  Bupleurum komarovianum O.A.Lincz.         RUS        44.634446  ...   \n",
       "3  Bupleurum komarovianum O.A.Lincz.         RUS        42.460158  ...   \n",
       "4  Bupleurum komarovianum O.A.Lincz.         RUS        43.752005  ...   \n",
       "\n",
       "   current_30arcsec_monthCountByTemp10  current_30arcsec_minTempWarmest  \\\n",
       "0                                  4.0                            139.0   \n",
       "1                                  5.0                            161.0   \n",
       "2                                  4.0                            130.0   \n",
       "3                                  NaN                              NaN   \n",
       "4                                  4.0                            147.0   \n",
       "\n",
       "   current_30arcsec_maxTempColdest current_30arcsec_growingDegDays5  \\\n",
       "0                            -94.0                          13320.0   \n",
       "1                            -62.0                          19278.0   \n",
       "2                           -111.0                           9637.5   \n",
       "3                              NaN                              NaN   \n",
       "4                            -84.0                          13887.0   \n",
       "\n",
       "  current_30arcsec_growingDegDays0 current_30arcsec_embergerQ  \\\n",
       "0                          16201.5                      70.14   \n",
       "1                          19278.0                      67.54   \n",
       "2                          14973.0                      71.67   \n",
       "3                              NaN                        NaN   \n",
       "4                          16968.0                      80.04   \n",
       "\n",
       "  current_30arcsec_continentality current_30arcsec_climaticMoistureIndex  \\\n",
       "0                           32.05                                   0.15   \n",
       "1                           30.80                                   0.02   \n",
       "2                           32.85                                   0.21   \n",
       "3                             NaN                                    NaN   \n",
       "4                           31.15                                   0.23   \n",
       "\n",
       "  current_30arcsec_aridityIndexThornthwaite  current_30arcsec_annualPET  \n",
       "0                                     20.44                   666.88000  \n",
       "1                                     21.43                   724.78998  \n",
       "2                                     14.34                   643.08002  \n",
       "3                                       NaN                         NaN  \n",
       "4                                     15.97                   666.79999  \n",
       "\n",
       "[5 rows x 75 columns]"
      ]
     },
     "execution_count": 254,
     "metadata": {},
     "output_type": "execute_result"
    }
   ],
   "source": [
    "data_mes.head()"
   ]
  },
  {
   "cell_type": "code",
   "execution_count": 255,
   "id": "ec56794e",
   "metadata": {},
   "outputs": [],
   "source": [
    "feature_columns = ['URB_2000', 'NVG_2000', 'GRS_2000',\n",
    "       'FOR_2000', 'CULTRF_2000', 'CULTIR_2000', 'CULT_2000', 'sq1', 'sq2',\n",
    "       'sq3', 'sq4', 'sq5', 'sq6', 'sq7', 'et0_v3_yr',\n",
    "       'ai_v3_yr', 'wc2.1_30s_bio_19', 'wc2.1_30s_bio_18', 'wc2.1_30s_bio_17',\n",
    "       'wc2.1_30s_bio_16', 'wc2.1_30s_bio_15', 'wc2.1_30s_bio_14',\n",
    "       'wc2.1_30s_bio_13', 'wc2.1_30s_bio_12', 'wc2.1_30s_bio_11',\n",
    "       'wc2.1_30s_bio_10', 'wc2.1_30s_bio_9', 'wc2.1_30s_bio_8',\n",
    "       'wc2.1_30s_bio_7', 'wc2.1_30s_bio_6', 'wc2.1_30s_bio_5',\n",
    "       'wc2.1_30s_bio_4', 'wc2.1_30s_bio_3', 'wc2.1_30s_bio_2',\n",
    "       'wc2.1_30s_bio_1', 'wc2.1_30s_elev', 'current_30arcsec_tri',\n",
    "       'current_30arcsec_topoWet', 'current_30arcsec_thermicityIndex',\n",
    "       'current_30arcsec_PETWettestQuarter',\n",
    "       'current_30arcsec_PETWarmestQuarter', 'current_30arcsec_PETseasonality',\n",
    "       'current_30arcsec_PETDriestQuarter',\n",
    "       'current_30arcsec_PETColdestQuarter',\n",
    "       'current_30arcsec_monthCountByTemp10',\n",
    "       'current_30arcsec_minTempWarmest', 'current_30arcsec_maxTempColdest',\n",
    "       'current_30arcsec_growingDegDays5', 'current_30arcsec_growingDegDays0',\n",
    "       'current_30arcsec_embergerQ', 'current_30arcsec_continentality',\n",
    "       'current_30arcsec_climaticMoistureIndex',\n",
    "       'current_30arcsec_aridityIndexThornthwaite',\n",
    "       'current_30arcsec_annualPET']"
   ]
  },
  {
   "cell_type": "code",
   "execution_count": 256,
   "id": "7bcfc682",
   "metadata": {},
   "outputs": [],
   "source": [
    "def process_dfs(*dfs):\n",
    "    allowed_columns = ['species', 'countryCode', 'decimalLatitude', 'decimalLongitude'] + feature_columns\n",
    "    processed_dfs = []\n",
    "    for df in dfs:\n",
    "        df.species = df.species.map(lambda x: ' '.join(map(str.strip, x.split()[:2])))\n",
    "        df.species = df.species.map(lambda x: x.replace('Pulsatilla dahurica', 'Pulsatilla davurica'))\n",
    "        _ = df.loc[:, feature_columns].apply(pd.to_numeric, errors='coerce').dropna()\n",
    "        s = np.abs(stats.zscore(_.values))\n",
    "        s = s[:,~np.isnan(s).any(axis=0)]\n",
    "        _=_[(s < 3).all(axis=1)]\n",
    "        df = df.loc[_.index]\n",
    "        processed_dfs.append(df.loc[:, allowed_columns])\n",
    "    return processed_dfs"
   ]
  },
  {
   "cell_type": "code",
   "execution_count": 257,
   "id": "c25cc50f",
   "metadata": {},
   "outputs": [],
   "source": [
    "data_khanka, data_prim, data_mes, data_steppe,hanka_only, data_steppe_checks=process_dfs(data_khanka, data_prim, data_mes, data_steppe,hanka_only, data_steppe_checks)"
   ]
  },
  {
   "cell_type": "code",
   "execution_count": 258,
   "id": "5680791d",
   "metadata": {},
   "outputs": [
    {
     "data": {
      "text/plain": [
       "Sabulina verna               5573\n",
       "Thalictrum foetidum          1846\n",
       "Crepidiastrum tenuifolium    1006\n",
       "Braya humilis                 788\n",
       "Thalictrum petaloideum        570\n",
       "Clausia aprica                474\n",
       "Carex macroprophylla          276\n",
       "Name: species, dtype: int64"
      ]
     },
     "execution_count": 258,
     "metadata": {},
     "output_type": "execute_result"
    }
   ],
   "source": [
    "data_prim.species.value_counts()"
   ]
  },
  {
   "cell_type": "code",
   "execution_count": 259,
   "id": "5bab481c",
   "metadata": {},
   "outputs": [
    {
     "data": {
      "text/plain": [
       "Carex pediformis                2246\n",
       "Orostachys spinosa              1750\n",
       "Nepeta multifida                1194\n",
       "Polygala sibirica               1148\n",
       "Pulsatilla turczaninovii         900\n",
       "Helictochloa hookeri             876\n",
       "Iris humilis                     817\n",
       "Carex duriuscula                 810\n",
       "Patrinia rupestris               794\n",
       "Bupleurum scorzonerifolium       769\n",
       "Ephedra monosperma               663\n",
       "Rhaponticum uniflorum            628\n",
       "Klasea centauroides              611\n",
       "Allium anisopodium               594\n",
       "Artemisia laciniata              591\n",
       "Polygala tenuifolia              583\n",
       "Lespedeza juncea                 566\n",
       "Clematis hexapetala              554\n",
       "Carex korshinskyi                534\n",
       "Scutellaria baicalensis          470\n",
       "Ulmus macrocarpa                 457\n",
       "Stipa baicalensis                441\n",
       "Filifolium sibiricum             382\n",
       "Adenophora stenanthina           323\n",
       "Leontopodium leontopodioides     322\n",
       "Prunus sibirica                  308\n",
       "Cleistogenes kitagawae           279\n",
       "Eremogone juncea                 277\n",
       "Saposhnikovia divaricata         262\n",
       "Silene jeniseensis               256\n",
       "Hypericum attenuatum             202\n",
       "Papaver anomalum                 192\n",
       "Cynanchum thesioides             180\n",
       "Artemisia desertorum             158\n",
       "Gagea pauciflora                 152\n",
       "Orobanche pycnostachya           145\n",
       "Pulsatilla chinensis             135\n",
       "Lespedeza daurica                127\n",
       "Allium condensatum               119\n",
       "Linum amurense                   114\n",
       "Scabiosa lachnophylla            102\n",
       "Poa botryoides                    96\n",
       "Lappula intermedia                86\n",
       "Artemisia macilenta               68\n",
       "Artemisia freyniana               66\n",
       "Iris ventricosa                   65\n",
       "Swertia diluta                    62\n",
       "Oxytropis hailarensis             45\n",
       "Cynanchum purpureum               36\n",
       "Echinops dissectus                14\n",
       "Name: species, dtype: int64"
      ]
     },
     "execution_count": 259,
     "metadata": {},
     "output_type": "execute_result"
    }
   ],
   "source": [
    "data_khanka.species.value_counts()"
   ]
  },
  {
   "cell_type": "code",
   "execution_count": 260,
   "id": "c5a0b2a3",
   "metadata": {},
   "outputs": [
    {
     "data": {
      "text/plain": [
       "Trifolium lupinaster          2871\n",
       "Arundinella hirta             2715\n",
       "Viola mandshurica             2241\n",
       "Patrinia scabiosifolia        2144\n",
       "Spodiopogon sibiricus         2023\n",
       "Flueggea suffruticosa         1724\n",
       "Hemerocallis minor            1629\n",
       "Artemisia gmelinii            1554\n",
       "Vicia amoena                  1479\n",
       "Kitagawia terebinthacea       1309\n",
       "Artemisia scoparia            1241\n",
       "Thesium chinense              1225\n",
       "Paeonia lactiflora            1039\n",
       "Platycodon grandiflorus        886\n",
       "Dictamnus dasycarpus           776\n",
       "Pulsatilla cernua              756\n",
       "Iris uniflora                  708\n",
       "Anthoxanthum glabrum           685\n",
       "Silene repens                  628\n",
       "Elymus gmelinii                617\n",
       "Vincetoxicum changqinianum     559\n",
       "Cotoneaster laxiflorus         534\n",
       "Lithospermum erythrorhizon     475\n",
       "Lilium concolor                470\n",
       "Saussurea pulchella            409\n",
       "Veronica linariifolia          369\n",
       "Potentilla flagellaris         365\n",
       "Dontostemon dentatus           365\n",
       "Viola dissecta                 365\n",
       "Vicia pseudo-orobus            333\n",
       "Potentilla discolor            319\n",
       "Linum stelleroides             316\n",
       "Lespedeza tomentosa            313\n",
       "Jacobaea erucifolia            293\n",
       "Viola gmeliniana               275\n",
       "Asparagus oligoclonos          268\n",
       "Artemisia argyi                261\n",
       "Siphonostegia chinensis        258\n",
       "Gypsophila pacifica            194\n",
       "Vincetoxicum atratum           184\n",
       "Bistorta alopecuroides         167\n",
       "Seseli seseloides              154\n",
       "Syneilesis aconitifolia        152\n",
       "Hylotelephium pallescens       136\n",
       "Saussurea odontolepis          124\n",
       "Carex yamatsutana               95\n",
       "Aconitum coreanum               92\n",
       "Bupleurum komarovianum          82\n",
       "Trommsdorffia ciliata           72\n",
       "Prunus humilis                  62\n",
       "Name: species, dtype: int64"
      ]
     },
     "execution_count": 260,
     "metadata": {},
     "output_type": "execute_result"
    }
   ],
   "source": [
    "data_mes.species.value_counts()"
   ]
  },
  {
   "cell_type": "code",
   "execution_count": 261,
   "id": "41498233",
   "metadata": {},
   "outputs": [
    {
     "data": {
      "text/plain": [
       "Artemisia frigida            6167\n",
       "Linum perenne                2099\n",
       "Bassia prostrata             1709\n",
       "Goniolimon speciosum         1254\n",
       "Delphinium grandiflorum      1121\n",
       "Potentilla acaulis           1039\n",
       "Achnatherum sibiricum        1000\n",
       "Eremogone capillaris          976\n",
       "Stellaria dichotoma           792\n",
       "Alyssum lenense               770\n",
       "Caragana pygmaea              609\n",
       "Leymus chinensis              600\n",
       "Phlojodicarpus sibiricus      568\n",
       "Stipa krylovii                533\n",
       "Physochlaina physaloides      512\n",
       "Allium tenuissimum            505\n",
       "Oxytropis oxyphylla           480\n",
       "Stellera chamaejasme          464\n",
       "Oxytropis myriophylla         460\n",
       "Androsace incana              442\n",
       "Heteropappus altaicus         387\n",
       "Allium bidentatum             361\n",
       "Bupleurum bicaule             348\n",
       "Iris dichotoma                340\n",
       "Thalictrum squarrosum         284\n",
       "Saussurea salicifolia         277\n",
       "Astragalus melilotoides       262\n",
       "Persicaria angustifolia       230\n",
       "Corispermum declinatum        213\n",
       "Cymbaria daurica              191\n",
       "Haplophyllum dauricum         181\n",
       "Asparagus dauricus            172\n",
       "Eritrichium rupestre          170\n",
       "Caragana microphylla          168\n",
       "Potentilla verticillaris      165\n",
       "Stipa grandis                 165\n",
       "Euphorbia fischeriana         150\n",
       "Gypsophila davurica           112\n",
       "Astragalus scaberrimus        111\n",
       "Stellaria cherleriae          109\n",
       "Nitraria sibirica             106\n",
       "Astragalus tenuis              70\n",
       "Anemarrhena asphodeloides      65\n",
       "Allium neriniflorum            64\n",
       "Stevenia dahurica              62\n",
       "Astragalus galactites          52\n",
       "Potentilla betonicifolia       51\n",
       "Saussurea davurica             43\n",
       "Gentiana decumbens             39\n",
       "Name: species, dtype: int64"
      ]
     },
     "execution_count": 261,
     "metadata": {},
     "output_type": "execute_result"
    }
   ],
   "source": [
    "data_steppe.species.value_counts()"
   ]
  },
  {
   "cell_type": "code",
   "execution_count": 262,
   "id": "4c817b07",
   "metadata": {},
   "outputs": [
    {
     "data": {
      "text/plain": [
       "Lappula squarrosa          10524\n",
       "Axyris amaranthoides         959\n",
       "Sophora flavescens           794\n",
       "Orostachys malacophylla      499\n",
       "Pulsatilla davurica          366\n",
       "Gentiana squarrosa           363\n",
       "Gueldenstaedtia verna        266\n",
       "Astragalus davuricus         138\n",
       "Iris oxypetala               125\n",
       "Name: species, dtype: int64"
      ]
     },
     "execution_count": 262,
     "metadata": {},
     "output_type": "execute_result"
    }
   ],
   "source": [
    "data_steppe_checks.species.value_counts()"
   ]
  },
  {
   "cell_type": "markdown",
   "id": "cbb9b765",
   "metadata": {},
   "source": [
    "# LDA data preparation"
   ]
  },
  {
   "cell_type": "code",
   "execution_count": 263,
   "id": "1f4a4d4a",
   "metadata": {},
   "outputs": [],
   "source": [
    "def prepare_classification_data(*dfs, features=feature_columns):\n",
    "    X = []\n",
    "    y = []\n",
    "    for ind, df in enumerate(dfs):\n",
    "        _ = df.loc[:, features]\n",
    "        _ = _.sample(frac=0.1)\n",
    "        X.append(_)\n",
    "        y+=[ind] * len(_)\n",
    "    return pd.concat(X, axis=0).values, np.array(y)"
   ]
  },
  {
   "cell_type": "code",
   "execution_count": 264,
   "id": "48f6fdc9",
   "metadata": {},
   "outputs": [],
   "source": [
    "X, y = prepare_classification_data(data_khanka, data_prim, data_mes, data_steppe,hanka_only) "
   ]
  },
  {
   "cell_type": "code",
   "execution_count": 265,
   "id": "5813febf",
   "metadata": {},
   "outputs": [
    {
     "data": {
      "text/plain": [
       "(9699, 54)"
      ]
     },
     "execution_count": 265,
     "metadata": {},
     "output_type": "execute_result"
    }
   ],
   "source": [
    "X.shape"
   ]
  },
  {
   "cell_type": "markdown",
   "id": "cb773169",
   "metadata": {},
   "source": [
    "### y -- переменная, отражающая принадлежность набору данных -- их всего здесь 5;"
   ]
  },
  {
   "cell_type": "code",
   "execution_count": 266,
   "id": "fc1e93dd",
   "metadata": {},
   "outputs": [
    {
     "data": {
      "text/plain": [
       "(9699,)"
      ]
     },
     "execution_count": 266,
     "metadata": {},
     "output_type": "execute_result"
    }
   ],
   "source": [
    "y.shape"
   ]
  },
  {
   "cell_type": "code",
   "execution_count": 267,
   "id": "9c12c3a3",
   "metadata": {},
   "outputs": [],
   "source": [
    "from itertools import cycle\n",
    "from sklearn.ensemble import RandomForestClassifier\n",
    "from sklearn.model_selection import cross_val_score\n",
    "from IPython.core.display import HTML, display_html"
   ]
  },
  {
   "cell_type": "code",
   "execution_count": 268,
   "id": "d445ad78",
   "metadata": {},
   "outputs": [],
   "source": [
    "def analyze_datasets(datasets, features=feature_columns, n_components=2):\n",
    "    dataset_names = '_'.join(datasets.keys())\n",
    "    X, y = prepare_classification_data(*datasets.values(), features=features)\n",
    "    \n",
    "    if len(datasets) > 2:\n",
    "        lda = LinearDiscriminantAnalysis(n_components=n_components)\n",
    "        transformed_data = lda.fit_transform(X, y)\n",
    "        for col, marker, cl in zip(cycle('rbyck'), cycle('xodv'), range(len(datasets.keys()))):\n",
    "            plt.scatter(transformed_data[y==cl, 0], transformed_data[y==cl, 1], marker=marker, color=col, label=list(datasets.keys())[cl], alpha=0.3)\n",
    "\n",
    "        plt.legend()\n",
    "        plt.show()\n",
    "    \n",
    "        display_html(HTML(f'<h3>Explained coef ratio (LDA) for {dataset_names}: {lda.explained_variance_ratio_} </h3>'))\n",
    "   \n",
    "    display_html(HTML('<h3>Feature importances of all considered features: </h3>'))\n",
    "    klf = RandomForestClassifier()\n",
    "    klf.fit(X, y)\n",
    "    for name, val in sorted(list(zip(features, klf.feature_importances_)), key=lambda x: x[1], reverse=True):\n",
    "        print(f\"{name} = {val}\")\n",
    "    \n",
    "    \n",
    "    display_html(HTML('<h3>Recursive feature elimination procedure, selection the most informative features from</h3>'))\n",
    "    print(features)\n",
    "    selector = RFECV(klf, step=1, cv=5, verbose=0, n_jobs=6, scoring=\"balanced_accuracy\")\n",
    "    selector.fit(X, y)\n",
    "    \n",
    "    for feature_name, rank in zip(features, selector.ranking_):\n",
    "        print(f\"{feature_name}: {rank}\")\n",
    "    \n",
    "    selected_features = np.array(features)[selector.support_]\n",
    "    \n",
    "    for feature_name, imp in sorted(zip(selected_features, selector.estimator_.feature_importances_), key=lambda x: x[1], reverse=True): \n",
    "        print(f\"{feature_name}: {imp}\")\n",
    "    \n",
    "    display_html(HTML('<h3>Balanced accuracy estimation for the best feature subset: </h3>'))\n",
    "    klf.fit(X[:, selector.support_], y)\n",
    "    print(cross_val_score(klf, X[:, selector.support_], y, scoring='balanced_accuracy'))\n",
    "        \n",
    "    \n",
    "    display_html(HTML('<h3>Balanced accuracy estimation for all features in the experiment: </h3>'))\n",
    "    print(cross_val_score(klf, X, y, cv=5, scoring='balanced_accuracy'))\n",
    "    \n",
    "#     for name, df in datasets.items():\n",
    "#         display_html(HTML(f'<h3>Descriptive measures for: {name}</h3>'))\n",
    "#         display_html(df.loc[:, features].describe())\n",
    "\n",
    "    display_html(HTML('<hr>'))\n",
    "\n"
   ]
  },
  {
   "cell_type": "code",
   "execution_count": 269,
   "id": "77d50639",
   "metadata": {},
   "outputs": [],
   "source": [
    "feature_sets={\n",
    "    'soil': ['sq1', 'sq2', 'sq3', 'sq4', 'sq5', 'sq6', 'sq7'] + ['URB_2000', 'NVG_2000', 'GRS_2000', 'FOR_2000', 'CULTRF_2000', 'CULTIR_2000', 'CULT_2000'],\n",
    "    'WC21': ['wc2.1_30s_bio_19', 'wc2.1_30s_bio_18', 'wc2.1_30s_bio_17', 'wc2.1_30s_bio_16', 'wc2.1_30s_bio_15', 'wc2.1_30s_bio_14',\n",
    "    'wc2.1_30s_bio_13', 'wc2.1_30s_bio_12', 'wc2.1_30s_bio_11', 'wc2.1_30s_bio_10', 'wc2.1_30s_bio_9', 'wc2.1_30s_bio_8',\n",
    "    'wc2.1_30s_bio_7', 'wc2.1_30s_bio_6', 'wc2.1_30s_bio_5', 'wc2.1_30s_bio_4', 'wc2.1_30s_bio_3', 'wc2.1_30s_bio_2',\n",
    "    'wc2.1_30s_bio_1', 'wc2.1_30s_elev'],\n",
    "    'all_features': feature_columns,\n",
    "}\n",
    "\n",
    "datasets = {\n",
    "    'prim': data_prim,\n",
    "    'khanka':data_khanka,\n",
    "    'mes': data_mes,\n",
    "    'steppe': data_steppe,\n",
    "    'khanka_only': hanka_only,\n",
    "    #'checks': data_steppe_checks\n",
    "}\n"
   ]
  },
  {
   "cell_type": "code",
   "execution_count": 270,
   "id": "74084c51",
   "metadata": {},
   "outputs": [],
   "source": [
    "def analyze_all():\n",
    "    for feature_set_name, features in feature_sets.items():\n",
    "        \n",
    "        display_html(HTML(f'<h1>All datasets. Feature set name: {feature_set_name}</h1>'))\n",
    "        display_html(HTML(f'<h2>datasets: {list(datasets.keys())} </h2>'))\n",
    "        analyze_datasets(datasets, features=features)\n",
    "        \n",
    "        display_html(HTML('<hr>'))\n",
    "        \n",
    "        display_html(HTML(f'<h1>Pair analysis.  Feature set name: {feature_set_name}</h1>'))\n",
    "\n",
    "        all_dataset_combinations = list(combinations(list(datasets.keys()), 2))\n",
    "        \n",
    "        for name1, name2 in all_dataset_combinations:\n",
    "            display_html(HTML(f'<h2>Datasets to compare: {name1}, {name2}</h2>'))\n",
    "            analyze_datasets({name1: datasets[name1], name2: datasets[name2]}, features=features)\n",
    "    \n",
    "        display_html(HTML('<h1>END OF COMPUTATIONS</h1>'))"
   ]
  },
  {
   "cell_type": "code",
   "execution_count": 271,
   "id": "1486ceb0",
   "metadata": {},
   "outputs": [
    {
     "data": {
      "text/html": [
       "<h1>All datasets. Feature set name: soil</h1>"
      ]
     },
     "metadata": {},
     "output_type": "display_data"
    },
    {
     "data": {
      "text/html": [
       "<h2>datasets: ['prim', 'khanka', 'mes', 'steppe', 'khanka_only'] </h2>"
      ]
     },
     "metadata": {},
     "output_type": "display_data"
    },
    {
     "data": {
      "image/png": "[encoded data removed]",
      "text/plain": [
       "<Figure size 640x480 with 1 Axes>"
      ]
     },
     "metadata": {},
     "output_type": "display_data"
    },
    {
     "data": {
      "text/html": [
       "<h3>Explained coef ratio (LDA) for prim_khanka_mes_steppe_khanka_only: [0.64944748 0.28594726] </h3>"
      ]
     },
     "metadata": {},
     "output_type": "display_data"
    },
    {
     "data": {
      "text/html": [
       "<h3>Feature importances of all considered features: </h3>"
      ]
     },
     "metadata": {},
     "output_type": "display_data"
    },
    {
     "name": "stdout",
     "output_type": "stream",
     "text": [
      "GRS_2000 = 0.1548868061997605\n",
      "URB_2000 = 0.1341148434340231\n",
      "FOR_2000 = 0.12652295731885085\n",
      "CULTRF_2000 = 0.11035857494023497\n",
      "NVG_2000 = 0.10953460106763593\n",
      "CULT_2000 = 0.10777454906738079\n",
      "CULTIR_2000 = 0.06843881738846071\n",
      "sq7 = 0.049354380144762934\n",
      "sq3 = 0.04442960711649244\n",
      "sq1 = 0.02753288669749944\n",
      "sq2 = 0.022933750657003257\n",
      "sq4 = 0.021707937876269096\n",
      "sq5 = 0.012308293667632786\n",
      "sq6 = 0.010101994423993212\n"
     ]
    },
    {
     "data": {
      "text/html": [
       "<h3>Recursive feature elimination procedure, selection the most informative features from</h3>"
      ]
     },
     "metadata": {},
     "output_type": "display_data"
    },
    {
     "name": "stdout",
     "output_type": "stream",
     "text": [
      "['sq1', 'sq2', 'sq3', 'sq4', 'sq5', 'sq6', 'sq7', 'URB_2000', 'NVG_2000', 'GRS_2000', 'FOR_2000', 'CULTRF_2000', 'CULTIR_2000', 'CULT_2000']\n",
      "sq1: 1\n",
      "sq2: 1\n",
      "sq3: 1\n",
      "sq4: 2\n",
      "sq5: 3\n",
      "sq6: 4\n",
      "sq7: 1\n",
      "URB_2000: 1\n",
      "NVG_2000: 1\n",
      "GRS_2000: 1\n",
      "FOR_2000: 1\n",
      "CULTRF_2000: 1\n",
      "CULTIR_2000: 1\n",
      "CULT_2000: 1\n",
      "GRS_2000: 0.15750421146087393\n",
      "URB_2000: 0.14030301698498557\n",
      "FOR_2000: 0.13298726456818658\n",
      "CULTRF_2000: 0.11392000866273971\n",
      "NVG_2000: 0.11318639664107782\n",
      "CULT_2000: 0.10720818927660096\n",
      "CULTIR_2000: 0.06635880162474324\n",
      "sq7: 0.05382356249484002\n",
      "sq3: 0.05104865993222737\n",
      "sq1: 0.03384013074232791\n",
      "sq2: 0.029819757611397057\n"
     ]
    },
    {
     "data": {
      "text/html": [
       "<h3>Balanced accuracy estimation for the best feature subset: </h3>"
      ]
     },
     "metadata": {},
     "output_type": "display_data"
    },
    {
     "name": "stdout",
     "output_type": "stream",
     "text": [
      "[0.55128484 0.53078592 0.60446516 0.48754112 0.53531327]\n"
     ]
    },
    {
     "data": {
      "text/html": [
       "<h3>Balanced accuracy estimation for all features in the experiment: </h3>"
      ]
     },
     "metadata": {},
     "output_type": "display_data"
    },
    {
     "name": "stdout",
     "output_type": "stream",
     "text": [
      "[0.55079175 0.51205266 0.55770391 0.49174711 0.56990226]\n"
     ]
    },
    {
     "data": {
      "text/html": [
       "<hr>"
      ]
     },
     "metadata": {},
     "output_type": "display_data"
    },
    {
     "data": {
      "text/html": [
       "<hr>"
      ]
     },
     "metadata": {},
     "output_type": "display_data"
    },
    {
     "data": {
      "text/html": [
       "<h1>Pair analysis.  Feature set name: soil</h1>"
      ]
     },
     "metadata": {},
     "output_type": "display_data"
    },
    {
     "data": {
      "text/html": [
       "<h2>Datasets to compare: prim, khanka</h2>"
      ]
     },
     "metadata": {},
     "output_type": "display_data"
    },
    {
     "data": {
      "text/html": [
       "<h3>Feature importances of all considered features: </h3>"
      ]
     },
     "metadata": {},
     "output_type": "display_data"
    },
    {
     "name": "stdout",
     "output_type": "stream",
     "text": [
      "GRS_2000 = 0.14027798410929102\n",
      "FOR_2000 = 0.12278948548367148\n",
      "URB_2000 = 0.1153269134105128\n",
      "sq3 = 0.11012681018897273\n",
      "sq7 = 0.09482768149057887\n",
      "CULT_2000 = 0.08783265865635416\n",
      "CULTRF_2000 = 0.0845383725804723\n",
      "NVG_2000 = 0.07530831731342544\n",
      "CULTIR_2000 = 0.05429920236492026\n",
      "sq2 = 0.028764629183906473\n",
      "sq1 = 0.028263846053689402\n",
      "sq4 = 0.024254944161619482\n",
      "sq5 = 0.022498529009881127\n",
      "sq6 = 0.010890625992704609\n"
     ]
    },
    {
     "data": {
      "text/html": [
       "<h3>Recursive feature elimination procedure, selection the most informative features from</h3>"
      ]
     },
     "metadata": {},
     "output_type": "display_data"
    },
    {
     "name": "stdout",
     "output_type": "stream",
     "text": [
      "['sq1', 'sq2', 'sq3', 'sq4', 'sq5', 'sq6', 'sq7', 'URB_2000', 'NVG_2000', 'GRS_2000', 'FOR_2000', 'CULTRF_2000', 'CULTIR_2000', 'CULT_2000']\n",
      "sq1: 1\n",
      "sq2: 1\n",
      "sq3: 1\n",
      "sq4: 2\n",
      "sq5: 3\n",
      "sq6: 4\n",
      "sq7: 1\n",
      "URB_2000: 1\n",
      "NVG_2000: 1\n",
      "GRS_2000: 1\n",
      "FOR_2000: 1\n",
      "CULTRF_2000: 1\n",
      "CULTIR_2000: 1\n",
      "CULT_2000: 1\n",
      "GRS_2000: 0.1495951807045156\n",
      "FOR_2000: 0.12573195861598205\n",
      "sq3: 0.12068390154488631\n",
      "URB_2000: 0.11655739675595084\n",
      "sq7: 0.09619769264225043\n",
      "CULTRF_2000: 0.09184277211655244\n",
      "CULT_2000: 0.08452579453409133\n",
      "NVG_2000: 0.07624413465170311\n",
      "CULTIR_2000: 0.056411594025710936\n",
      "sq1: 0.044843275298351616\n",
      "sq2: 0.037366299110005406\n"
     ]
    },
    {
     "data": {
      "text/html": [
       "<h3>Balanced accuracy estimation for the best feature subset: </h3>"
      ]
     },
     "metadata": {},
     "output_type": "display_data"
    },
    {
     "name": "stdout",
     "output_type": "stream",
     "text": [
      "[0.78981936 0.74934059 0.78110255 0.77446271 0.80719553]\n"
     ]
    },
    {
     "data": {
      "text/html": [
       "<h3>Balanced accuracy estimation for all features in the experiment: </h3>"
      ]
     },
     "metadata": {},
     "output_type": "display_data"
    },
    {
     "name": "stdout",
     "output_type": "stream",
     "text": [
      "[0.78538477 0.74349261 0.78205883 0.78348083 0.80957649]\n"
     ]
    },
    {
     "data": {
      "text/html": [
       "<hr>"
      ]
     },
     "metadata": {},
     "output_type": "display_data"
    },
    {
     "data": {
      "text/html": [
       "<h2>Datasets to compare: prim, mes</h2>"
      ]
     },
     "metadata": {},
     "output_type": "display_data"
    },
    {
     "data": {
      "text/html": [
       "<h3>Feature importances of all considered features: </h3>"
      ]
     },
     "metadata": {},
     "output_type": "display_data"
    },
    {
     "name": "stdout",
     "output_type": "stream",
     "text": [
      "GRS_2000 = 0.15439251569605372\n",
      "sq7 = 0.15108063778488698\n",
      "sq3 = 0.10880658837838855\n",
      "URB_2000 = 0.08991653262489427\n",
      "FOR_2000 = 0.08231243377903069\n",
      "CULT_2000 = 0.07698128370650785\n",
      "CULTRF_2000 = 0.07155585291396697\n",
      "CULTIR_2000 = 0.06066373103825212\n",
      "NVG_2000 = 0.04716642811750095\n",
      "sq2 = 0.03517483326941199\n",
      "sq5 = 0.034782447908976305\n",
      "sq1 = 0.03150462468446024\n",
      "sq6 = 0.029711726332471447\n",
      "sq4 = 0.025950363765197854\n"
     ]
    },
    {
     "data": {
      "text/html": [
       "<h3>Recursive feature elimination procedure, selection the most informative features from</h3>"
      ]
     },
     "metadata": {},
     "output_type": "display_data"
    },
    {
     "name": "stdout",
     "output_type": "stream",
     "text": [
      "['sq1', 'sq2', 'sq3', 'sq4', 'sq5', 'sq6', 'sq7', 'URB_2000', 'NVG_2000', 'GRS_2000', 'FOR_2000', 'CULTRF_2000', 'CULTIR_2000', 'CULT_2000']\n",
      "sq1: 1\n",
      "sq2: 1\n",
      "sq3: 1\n",
      "sq4: 1\n",
      "sq5: 1\n",
      "sq6: 1\n",
      "sq7: 1\n",
      "URB_2000: 1\n",
      "NVG_2000: 1\n",
      "GRS_2000: 1\n",
      "FOR_2000: 1\n",
      "CULTRF_2000: 1\n",
      "CULTIR_2000: 1\n",
      "CULT_2000: 1\n",
      "GRS_2000: 0.1587744782307895\n",
      "sq7: 0.15311995905336\n",
      "sq3: 0.09193387524530844\n",
      "URB_2000: 0.08946648337398727\n",
      "FOR_2000: 0.08375457454810109\n",
      "CULT_2000: 0.0788708773472081\n",
      "CULTRF_2000: 0.0759697151054852\n",
      "CULTIR_2000: 0.05853576879215037\n",
      "sq5: 0.05194062438181204\n",
      "NVG_2000: 0.04819869446830531\n",
      "sq4: 0.03269989393959154\n",
      "sq1: 0.03265012797325964\n",
      "sq2: 0.026736007941398077\n",
      "sq6: 0.017348919599243503\n"
     ]
    },
    {
     "data": {
      "text/html": [
       "<h3>Balanced accuracy estimation for the best feature subset: </h3>"
      ]
     },
     "metadata": {},
     "output_type": "display_data"
    },
    {
     "name": "stdout",
     "output_type": "stream",
     "text": [
      "[0.83318972 0.82685102 0.86934185 0.83317613 0.83453365]\n"
     ]
    },
    {
     "data": {
      "text/html": [
       "<h3>Balanced accuracy estimation for all features in the experiment: </h3>"
      ]
     },
     "metadata": {},
     "output_type": "display_data"
    },
    {
     "name": "stdout",
     "output_type": "stream",
     "text": [
      "[0.83586294 0.83801065 0.86934185 0.83555708 0.84712712]\n"
     ]
    },
    {
     "data": {
      "text/html": [
       "<hr>"
      ]
     },
     "metadata": {},
     "output_type": "display_data"
    },
    {
     "data": {
      "text/html": [
       "<h2>Datasets to compare: prim, steppe</h2>"
      ]
     },
     "metadata": {},
     "output_type": "display_data"
    },
    {
     "data": {
      "text/html": [
       "<h3>Feature importances of all considered features: </h3>"
      ]
     },
     "metadata": {},
     "output_type": "display_data"
    },
    {
     "name": "stdout",
     "output_type": "stream",
     "text": [
      "GRS_2000 = 0.1382332626363571\n",
      "FOR_2000 = 0.12973143003413004\n",
      "URB_2000 = 0.11416649253996726\n",
      "sq7 = 0.10896393859352353\n",
      "CULT_2000 = 0.09609847574817237\n",
      "sq3 = 0.09286325123994396\n",
      "NVG_2000 = 0.09109278586321101\n",
      "CULTRF_2000 = 0.08878497363411032\n",
      "CULTIR_2000 = 0.04509761104025859\n",
      "sq1 = 0.02241680814139527\n",
      "sq4 = 0.020122595639135158\n",
      "sq5 = 0.02000280043429984\n",
      "sq2 = 0.019048806621568028\n",
      "sq6 = 0.013376767833927564\n"
     ]
    },
    {
     "data": {
      "text/html": [
       "<h3>Recursive feature elimination procedure, selection the most informative features from</h3>"
      ]
     },
     "metadata": {},
     "output_type": "display_data"
    },
    {
     "name": "stdout",
     "output_type": "stream",
     "text": [
      "['sq1', 'sq2', 'sq3', 'sq4', 'sq5', 'sq6', 'sq7', 'URB_2000', 'NVG_2000', 'GRS_2000', 'FOR_2000', 'CULTRF_2000', 'CULTIR_2000', 'CULT_2000']\n",
      "sq1: 1\n",
      "sq2: 2\n",
      "sq3: 1\n",
      "sq4: 3\n",
      "sq5: 1\n",
      "sq6: 4\n",
      "sq7: 1\n",
      "URB_2000: 1\n",
      "NVG_2000: 1\n",
      "GRS_2000: 1\n",
      "FOR_2000: 1\n",
      "CULTRF_2000: 1\n",
      "CULTIR_2000: 1\n",
      "CULT_2000: 1\n",
      "GRS_2000: 0.14597592223505007\n",
      "FOR_2000: 0.13485006809193828\n",
      "URB_2000: 0.12016856998762039\n",
      "sq7: 0.10507538888143221\n",
      "CULT_2000: 0.10073989704595135\n",
      "sq3: 0.09997819167654906\n",
      "NVG_2000: 0.09807168013608991\n",
      "CULTRF_2000: 0.08508826284377705\n",
      "CULTIR_2000: 0.04523268536399754\n",
      "sq1: 0.03331874131637042\n",
      "sq5: 0.03150059242122384\n"
     ]
    },
    {
     "data": {
      "text/html": [
       "<h3>Balanced accuracy estimation for the best feature subset: </h3>"
      ]
     },
     "metadata": {},
     "output_type": "display_data"
    },
    {
     "name": "stdout",
     "output_type": "stream",
     "text": [
      "[0.77281846 0.77068532 0.79132465 0.77255523 0.76146466]\n"
     ]
    },
    {
     "data": {
      "text/html": [
       "<h3>Balanced accuracy estimation for all features in the experiment: </h3>"
      ]
     },
     "metadata": {},
     "output_type": "display_data"
    },
    {
     "name": "stdout",
     "output_type": "stream",
     "text": [
      "[0.76386103 0.78028226 0.79831539 0.76263973 0.76608573]\n"
     ]
    },
    {
     "data": {
      "text/html": [
       "<hr>"
      ]
     },
     "metadata": {},
     "output_type": "display_data"
    },
    {
     "data": {
      "text/html": [
       "<h2>Datasets to compare: prim, khanka_only</h2>"
      ]
     },
     "metadata": {},
     "output_type": "display_data"
    },
    {
     "data": {
      "text/html": [
       "<h3>Feature importances of all considered features: </h3>"
      ]
     },
     "metadata": {},
     "output_type": "display_data"
    },
    {
     "name": "stdout",
     "output_type": "stream",
     "text": [
      "URB_2000 = 0.20039102830501185\n",
      "FOR_2000 = 0.13778686673904195\n",
      "GRS_2000 = 0.13492391850793548\n",
      "CULT_2000 = 0.12037388323288147\n",
      "CULTRF_2000 = 0.10287955141771035\n",
      "sq3 = 0.07201483108738187\n",
      "sq7 = 0.06260854578990227\n",
      "CULTIR_2000 = 0.059561739956846806\n",
      "sq2 = 0.04006486942242445\n",
      "sq1 = 0.03348859265104117\n",
      "NVG_2000 = 0.024838473645218684\n",
      "sq4 = 0.007857571068158261\n",
      "sq5 = 0.0028699697976105787\n",
      "sq6 = 0.00034015837883493366\n"
     ]
    },
    {
     "data": {
      "text/html": [
       "<h3>Recursive feature elimination procedure, selection the most informative features from</h3>"
      ]
     },
     "metadata": {},
     "output_type": "display_data"
    },
    {
     "name": "stdout",
     "output_type": "stream",
     "text": [
      "['sq1', 'sq2', 'sq3', 'sq4', 'sq5', 'sq6', 'sq7', 'URB_2000', 'NVG_2000', 'GRS_2000', 'FOR_2000', 'CULTRF_2000', 'CULTIR_2000', 'CULT_2000']\n",
      "sq1: 1\n",
      "sq2: 1\n",
      "sq3: 1\n",
      "sq4: 2\n",
      "sq5: 3\n",
      "sq6: 4\n",
      "sq7: 1\n",
      "URB_2000: 1\n",
      "NVG_2000: 1\n",
      "GRS_2000: 1\n",
      "FOR_2000: 1\n",
      "CULTRF_2000: 1\n",
      "CULTIR_2000: 1\n",
      "CULT_2000: 1\n",
      "URB_2000: 0.20694265602658624\n",
      "FOR_2000: 0.15095870778356527\n",
      "GRS_2000: 0.11703148744630627\n",
      "CULTRF_2000: 0.11214019687997141\n",
      "CULT_2000: 0.10711404078653494\n",
      "sq3: 0.08027971967540608\n",
      "CULTIR_2000: 0.0708287823164898\n",
      "sq7: 0.058094222736998116\n",
      "sq2: 0.04006314964148245\n",
      "sq1: 0.030152749438074344\n",
      "NVG_2000: 0.026394287268585236\n"
     ]
    },
    {
     "data": {
      "text/html": [
       "<h3>Balanced accuracy estimation for the best feature subset: </h3>"
      ]
     },
     "metadata": {},
     "output_type": "display_data"
    },
    {
     "name": "stdout",
     "output_type": "stream",
     "text": [
      "[0.95454545 0.8        0.95       0.81580087 0.72727273]\n"
     ]
    },
    {
     "data": {
      "text/html": [
       "<h3>Balanced accuracy estimation for all features in the experiment: </h3>"
      ]
     },
     "metadata": {},
     "output_type": "display_data"
    },
    {
     "name": "stdout",
     "output_type": "stream",
     "text": [
      "[1.         0.8        0.95       0.81341991 0.72727273]\n"
     ]
    },
    {
     "data": {
      "text/html": [
       "<hr>"
      ]
     },
     "metadata": {},
     "output_type": "display_data"
    },
    {
     "data": {
      "text/html": [
       "<h2>Datasets to compare: khanka, mes</h2>"
      ]
     },
     "metadata": {},
     "output_type": "display_data"
    },
    {
     "data": {
      "text/html": [
       "<h3>Feature importances of all considered features: </h3>"
      ]
     },
     "metadata": {},
     "output_type": "display_data"
    },
    {
     "name": "stdout",
     "output_type": "stream",
     "text": [
      "GRS_2000 = 0.15091024089498914\n",
      "URB_2000 = 0.12532497664299433\n",
      "NVG_2000 = 0.12292667747337309\n",
      "FOR_2000 = 0.11355941850146242\n",
      "CULTRF_2000 = 0.09749848239415229\n",
      "CULT_2000 = 0.08958334739568916\n",
      "CULTIR_2000 = 0.06084895901014185\n",
      "sq7 = 0.05131380477927846\n",
      "sq3 = 0.04487763969840135\n",
      "sq1 = 0.042017505846458546\n",
      "sq4 = 0.033718623035004766\n",
      "sq2 = 0.02955932712462705\n",
      "sq6 = 0.01919626772919713\n",
      "sq5 = 0.018664729474230344\n"
     ]
    },
    {
     "data": {
      "text/html": [
       "<h3>Recursive feature elimination procedure, selection the most informative features from</h3>"
      ]
     },
     "metadata": {},
     "output_type": "display_data"
    },
    {
     "name": "stdout",
     "output_type": "stream",
     "text": [
      "['sq1', 'sq2', 'sq3', 'sq4', 'sq5', 'sq6', 'sq7', 'URB_2000', 'NVG_2000', 'GRS_2000', 'FOR_2000', 'CULTRF_2000', 'CULTIR_2000', 'CULT_2000']\n",
      "sq1: 1\n",
      "sq2: 1\n",
      "sq3: 1\n",
      "sq4: 1\n",
      "sq5: 2\n",
      "sq6: 1\n",
      "sq7: 1\n",
      "URB_2000: 1\n",
      "NVG_2000: 1\n",
      "GRS_2000: 1\n",
      "FOR_2000: 1\n",
      "CULTRF_2000: 1\n",
      "CULTIR_2000: 1\n",
      "CULT_2000: 1\n",
      "GRS_2000: 0.15833195696572097\n",
      "URB_2000: 0.12844677789835024\n",
      "NVG_2000: 0.11819153471125604\n",
      "FOR_2000: 0.1110539871507121\n",
      "CULTRF_2000: 0.09780137069672101\n",
      "CULT_2000: 0.0875373372121067\n",
      "CULTIR_2000: 0.06264251117474295\n",
      "sq3: 0.05670416580774528\n",
      "sq7: 0.049837943565471915\n",
      "sq1: 0.03559653391766067\n",
      "sq2: 0.03492373292499608\n",
      "sq4: 0.03484321398824453\n",
      "sq6: 0.024088933986271516\n"
     ]
    },
    {
     "data": {
      "text/html": [
       "<h3>Balanced accuracy estimation for the best feature subset: </h3>"
      ]
     },
     "metadata": {},
     "output_type": "display_data"
    },
    {
     "name": "stdout",
     "output_type": "stream",
     "text": [
      "[0.7381945  0.72969843 0.75813186 0.74477592 0.77284486]\n"
     ]
    },
    {
     "data": {
      "text/html": [
       "<h3>Balanced accuracy estimation for all features in the experiment: </h3>"
      ]
     },
     "metadata": {},
     "output_type": "display_data"
    },
    {
     "name": "stdout",
     "output_type": "stream",
     "text": [
      "[0.7412632  0.72389624 0.76172467 0.7456158  0.76424444]\n"
     ]
    },
    {
     "data": {
      "text/html": [
       "<hr>"
      ]
     },
     "metadata": {},
     "output_type": "display_data"
    },
    {
     "data": {
      "text/html": [
       "<h2>Datasets to compare: khanka, steppe</h2>"
      ]
     },
     "metadata": {},
     "output_type": "display_data"
    },
    {
     "data": {
      "text/html": [
       "<h3>Feature importances of all considered features: </h3>"
      ]
     },
     "metadata": {},
     "output_type": "display_data"
    },
    {
     "name": "stdout",
     "output_type": "stream",
     "text": [
      "GRS_2000 = 0.16183864825517144\n",
      "FOR_2000 = 0.15998095652172925\n",
      "URB_2000 = 0.150919268963677\n",
      "CULTRF_2000 = 0.12114408941243124\n",
      "CULT_2000 = 0.11732987864848343\n",
      "NVG_2000 = 0.10633005307738702\n",
      "CULTIR_2000 = 0.06405764502673958\n",
      "sq3 = 0.023194581315265615\n",
      "sq7 = 0.02243223005087841\n",
      "sq4 = 0.021458145428214812\n",
      "sq1 = 0.020653272053258967\n",
      "sq2 = 0.01829535208947167\n",
      "sq5 = 0.007858330307391952\n",
      "sq6 = 0.00450754884989957\n"
     ]
    },
    {
     "data": {
      "text/html": [
       "<h3>Recursive feature elimination procedure, selection the most informative features from</h3>"
      ]
     },
     "metadata": {},
     "output_type": "display_data"
    },
    {
     "name": "stdout",
     "output_type": "stream",
     "text": [
      "['sq1', 'sq2', 'sq3', 'sq4', 'sq5', 'sq6', 'sq7', 'URB_2000', 'NVG_2000', 'GRS_2000', 'FOR_2000', 'CULTRF_2000', 'CULTIR_2000', 'CULT_2000']\n",
      "sq1: 1\n",
      "sq2: 1\n",
      "sq3: 1\n",
      "sq4: 1\n",
      "sq5: 2\n",
      "sq6: 3\n",
      "sq7: 1\n",
      "URB_2000: 1\n",
      "NVG_2000: 1\n",
      "GRS_2000: 1\n",
      "FOR_2000: 1\n",
      "CULTRF_2000: 1\n",
      "CULTIR_2000: 1\n",
      "CULT_2000: 1\n",
      "GRS_2000: 0.16306475301102596\n",
      "FOR_2000: 0.1592282058681327\n",
      "URB_2000: 0.1518779122464714\n",
      "CULTRF_2000: 0.12112087527007062\n",
      "CULT_2000: 0.11714997361623311\n",
      "NVG_2000: 0.10802479244182664\n",
      "CULTIR_2000: 0.06646947004849797\n",
      "sq7: 0.024659538921187905\n",
      "sq4: 0.0233114650591346\n",
      "sq3: 0.023263945997733907\n",
      "sq1: 0.02290721876351205\n",
      "sq2: 0.018921848756173126\n"
     ]
    },
    {
     "data": {
      "text/html": [
       "<h3>Balanced accuracy estimation for the best feature subset: </h3>"
      ]
     },
     "metadata": {},
     "output_type": "display_data"
    },
    {
     "name": "stdout",
     "output_type": "stream",
     "text": [
      "[0.64969206 0.60982612 0.61985688 0.63464431 0.60008361]\n"
     ]
    },
    {
     "data": {
      "text/html": [
       "<h3>Balanced accuracy estimation for all features in the experiment: </h3>"
      ]
     },
     "metadata": {},
     "output_type": "display_data"
    },
    {
     "name": "stdout",
     "output_type": "stream",
     "text": [
      "[0.6419487  0.61205282 0.63131427 0.64369997 0.59841961]\n"
     ]
    },
    {
     "data": {
      "text/html": [
       "<hr>"
      ]
     },
     "metadata": {},
     "output_type": "display_data"
    },
    {
     "data": {
      "text/html": [
       "<h2>Datasets to compare: khanka, khanka_only</h2>"
      ]
     },
     "metadata": {},
     "output_type": "display_data"
    },
    {
     "data": {
      "text/html": [
       "<h3>Feature importances of all considered features: </h3>"
      ]
     },
     "metadata": {},
     "output_type": "display_data"
    },
    {
     "name": "stdout",
     "output_type": "stream",
     "text": [
      "URB_2000 = 0.2024167845600431\n",
      "GRS_2000 = 0.17154104141081955\n",
      "CULTRF_2000 = 0.16523047491346227\n",
      "FOR_2000 = 0.15842142153417835\n",
      "CULT_2000 = 0.14559865816296194\n",
      "NVG_2000 = 0.030484783156360523\n",
      "CULTIR_2000 = 0.029253785321621182\n",
      "sq2 = 0.026625712499320206\n",
      "sq1 = 0.025511468496391805\n",
      "sq3 = 0.017723988945769042\n",
      "sq7 = 0.015006375867454624\n",
      "sq4 = 0.01110484083547416\n",
      "sq5 = 0.0009830251906922654\n",
      "sq6 = 9.763910545103002e-05\n"
     ]
    },
    {
     "data": {
      "text/html": [
       "<h3>Recursive feature elimination procedure, selection the most informative features from</h3>"
      ]
     },
     "metadata": {},
     "output_type": "display_data"
    },
    {
     "name": "stdout",
     "output_type": "stream",
     "text": [
      "['sq1', 'sq2', 'sq3', 'sq4', 'sq5', 'sq6', 'sq7', 'URB_2000', 'NVG_2000', 'GRS_2000', 'FOR_2000', 'CULTRF_2000', 'CULTIR_2000', 'CULT_2000']\n",
      "sq1: 1\n",
      "sq2: 1\n",
      "sq3: 3\n",
      "sq4: 4\n",
      "sq5: 5\n",
      "sq6: 6\n",
      "sq7: 2\n",
      "URB_2000: 1\n",
      "NVG_2000: 1\n",
      "GRS_2000: 1\n",
      "FOR_2000: 1\n",
      "CULTRF_2000: 1\n",
      "CULTIR_2000: 1\n",
      "CULT_2000: 1\n",
      "URB_2000: 0.26403880842491667\n",
      "FOR_2000: 0.19061897897365976\n",
      "GRS_2000: 0.1797596019421352\n",
      "CULT_2000: 0.13761522042900015\n",
      "CULTRF_2000: 0.13452176129380097\n",
      "CULTIR_2000: 0.028941510345695483\n",
      "sq1: 0.023735907379984194\n",
      "NVG_2000: 0.023170685968103635\n",
      "sq2: 0.01759752524270418\n"
     ]
    },
    {
     "data": {
      "text/html": [
       "<h3>Balanced accuracy estimation for the best feature subset: </h3>"
      ]
     },
     "metadata": {},
     "output_type": "display_data"
    },
    {
     "name": "stdout",
     "output_type": "stream",
     "text": [
      "[0.79336283 0.84557522 0.67405765 0.67738359 0.76385809]\n"
     ]
    },
    {
     "data": {
      "text/html": [
       "<h3>Balanced accuracy estimation for all features in the experiment: </h3>"
      ]
     },
     "metadata": {},
     "output_type": "display_data"
    },
    {
     "name": "stdout",
     "output_type": "stream",
     "text": [
      "[0.79225664 0.84557522 0.67405765 0.5864745  0.76385809]\n"
     ]
    },
    {
     "data": {
      "text/html": [
       "<hr>"
      ]
     },
     "metadata": {},
     "output_type": "display_data"
    },
    {
     "data": {
      "text/html": [
       "<h2>Datasets to compare: mes, steppe</h2>"
      ]
     },
     "metadata": {},
     "output_type": "display_data"
    },
    {
     "data": {
      "text/html": [
       "<h3>Feature importances of all considered features: </h3>"
      ]
     },
     "metadata": {},
     "output_type": "display_data"
    },
    {
     "name": "stdout",
     "output_type": "stream",
     "text": [
      "NVG_2000 = 0.1728424743403887\n",
      "GRS_2000 = 0.14963323242665955\n",
      "CULTRF_2000 = 0.11671182547619009\n",
      "FOR_2000 = 0.10573464114763043\n",
      "URB_2000 = 0.10310411543960742\n",
      "CULT_2000 = 0.10253869427871792\n",
      "CULTIR_2000 = 0.05580278946182822\n",
      "sq7 = 0.04095285329698587\n",
      "sq3 = 0.03915032742994111\n",
      "sq1 = 0.03353585158663566\n",
      "sq4 = 0.0230621542579132\n",
      "sq2 = 0.023039588410310695\n",
      "sq5 = 0.017513249576240487\n",
      "sq6 = 0.01637820287095045\n"
     ]
    },
    {
     "data": {
      "text/html": [
       "<h3>Recursive feature elimination procedure, selection the most informative features from</h3>"
      ]
     },
     "metadata": {},
     "output_type": "display_data"
    },
    {
     "name": "stdout",
     "output_type": "stream",
     "text": [
      "['sq1', 'sq2', 'sq3', 'sq4', 'sq5', 'sq6', 'sq7', 'URB_2000', 'NVG_2000', 'GRS_2000', 'FOR_2000', 'CULTRF_2000', 'CULTIR_2000', 'CULT_2000']\n",
      "sq1: 1\n",
      "sq2: 1\n",
      "sq3: 1\n",
      "sq4: 1\n",
      "sq5: 2\n",
      "sq6: 3\n",
      "sq7: 1\n",
      "URB_2000: 1\n",
      "NVG_2000: 1\n",
      "GRS_2000: 1\n",
      "FOR_2000: 1\n",
      "CULTRF_2000: 1\n",
      "CULTIR_2000: 1\n",
      "CULT_2000: 1\n",
      "NVG_2000: 0.20451327606335587\n",
      "GRS_2000: 0.14415923022503035\n",
      "CULTRF_2000: 0.12300936349323006\n",
      "FOR_2000: 0.10235839794092408\n",
      "URB_2000: 0.10020301600736341\n",
      "CULT_2000: 0.09882231729990101\n",
      "CULTIR_2000: 0.05360525241722061\n",
      "sq7: 0.04506199914226669\n",
      "sq3: 0.03939029710213098\n",
      "sq1: 0.03228543839766012\n",
      "sq4: 0.029320686933974386\n",
      "sq2: 0.02727072497694239\n"
     ]
    },
    {
     "data": {
      "text/html": [
       "<h3>Balanced accuracy estimation for the best feature subset: </h3>"
      ]
     },
     "metadata": {},
     "output_type": "display_data"
    },
    {
     "name": "stdout",
     "output_type": "stream",
     "text": [
      "[0.83577206 0.84428897 0.84740787 0.83013677 0.82096592]\n"
     ]
    },
    {
     "data": {
      "text/html": [
       "<h3>Balanced accuracy estimation for all features in the experiment: </h3>"
      ]
     },
     "metadata": {},
     "output_type": "display_data"
    },
    {
     "name": "stdout",
     "output_type": "stream",
     "text": [
      "[0.82330597 0.84128081 0.84739005 0.83309146 0.82372074]\n"
     ]
    },
    {
     "data": {
      "text/html": [
       "<hr>"
      ]
     },
     "metadata": {},
     "output_type": "display_data"
    },
    {
     "data": {
      "text/html": [
       "<h2>Datasets to compare: mes, khanka_only</h2>"
      ]
     },
     "metadata": {},
     "output_type": "display_data"
    },
    {
     "data": {
      "text/html": [
       "<h3>Feature importances of all considered features: </h3>"
      ]
     },
     "metadata": {},
     "output_type": "display_data"
    },
    {
     "name": "stdout",
     "output_type": "stream",
     "text": [
      "GRS_2000 = 0.2066159379181964\n",
      "FOR_2000 = 0.16911762573039643\n",
      "URB_2000 = 0.15957565730315915\n",
      "CULTRF_2000 = 0.1593263891969343\n",
      "CULT_2000 = 0.15660391340540042\n",
      "sq2 = 0.034264230695219354\n",
      "sq1 = 0.031178226079276294\n",
      "CULTIR_2000 = 0.02856536520600402\n",
      "sq4 = 0.016594413551470046\n",
      "sq3 = 0.015381576344639132\n",
      "sq7 = 0.011959394501730468\n",
      "NVG_2000 = 0.009239189382046818\n",
      "sq5 = 0.000853776653958587\n",
      "sq6 = 0.0007243040315685745\n"
     ]
    },
    {
     "data": {
      "text/html": [
       "<h3>Recursive feature elimination procedure, selection the most informative features from</h3>"
      ]
     },
     "metadata": {},
     "output_type": "display_data"
    },
    {
     "name": "stdout",
     "output_type": "stream",
     "text": [
      "['sq1', 'sq2', 'sq3', 'sq4', 'sq5', 'sq6', 'sq7', 'URB_2000', 'NVG_2000', 'GRS_2000', 'FOR_2000', 'CULTRF_2000', 'CULTIR_2000', 'CULT_2000']\n",
      "sq1: 1\n",
      "sq2: 1\n",
      "sq3: 3\n",
      "sq4: 2\n",
      "sq5: 5\n",
      "sq6: 6\n",
      "sq7: 1\n",
      "URB_2000: 1\n",
      "NVG_2000: 4\n",
      "GRS_2000: 1\n",
      "FOR_2000: 1\n",
      "CULTRF_2000: 1\n",
      "CULTIR_2000: 1\n",
      "CULT_2000: 1\n",
      "GRS_2000: 0.2241745806637033\n",
      "URB_2000: 0.17638852260220703\n",
      "CULTRF_2000: 0.17426609838818216\n",
      "CULT_2000: 0.16116147714813375\n",
      "FOR_2000: 0.1589639755401167\n",
      "sq2: 0.042211552020911265\n",
      "sq1: 0.027600289845928105\n",
      "CULTIR_2000: 0.023198545784678205\n",
      "sq7: 0.012034958006139445\n"
     ]
    },
    {
     "data": {
      "text/html": [
       "<h3>Balanced accuracy estimation for the best feature subset: </h3>"
      ]
     },
     "metadata": {},
     "output_type": "display_data"
    },
    {
     "name": "stdout",
     "output_type": "stream",
     "text": [
      "[0.69931224 0.76790634 0.85950413 0.81404959 0.74655647]\n"
     ]
    },
    {
     "data": {
      "text/html": [
       "<h3>Balanced accuracy estimation for all features in the experiment: </h3>"
      ]
     },
     "metadata": {},
     "output_type": "display_data"
    },
    {
     "name": "stdout",
     "output_type": "stream",
     "text": [
      "[0.64931224 0.76790634 0.76997245 0.81404959 0.79793388]\n"
     ]
    },
    {
     "data": {
      "text/html": [
       "<hr>"
      ]
     },
     "metadata": {},
     "output_type": "display_data"
    },
    {
     "data": {
      "text/html": [
       "<h2>Datasets to compare: steppe, khanka_only</h2>"
      ]
     },
     "metadata": {},
     "output_type": "display_data"
    },
    {
     "data": {
      "text/html": [
       "<h3>Feature importances of all considered features: </h3>"
      ]
     },
     "metadata": {},
     "output_type": "display_data"
    },
    {
     "name": "stdout",
     "output_type": "stream",
     "text": [
      "CULTRF_2000 = 0.16597344306960174\n",
      "URB_2000 = 0.16110700993906552\n",
      "GRS_2000 = 0.15791350921011182\n",
      "FOR_2000 = 0.15411586785328005\n",
      "CULT_2000 = 0.13595016026248913\n",
      "CULTIR_2000 = 0.04347994112746683\n",
      "NVG_2000 = 0.0403595010229938\n",
      "sq1 = 0.03738775677790511\n",
      "sq2 = 0.03350968202210736\n",
      "sq3 = 0.032716139694000376\n",
      "sq7 = 0.02728856646269543\n",
      "sq4 = 0.0077086885286359\n",
      "sq5 = 0.0021816387084420854\n",
      "sq6 = 0.00030809532120496246\n"
     ]
    },
    {
     "data": {
      "text/html": [
       "<h3>Recursive feature elimination procedure, selection the most informative features from</h3>"
      ]
     },
     "metadata": {},
     "output_type": "display_data"
    },
    {
     "name": "stdout",
     "output_type": "stream",
     "text": [
      "['sq1', 'sq2', 'sq3', 'sq4', 'sq5', 'sq6', 'sq7', 'URB_2000', 'NVG_2000', 'GRS_2000', 'FOR_2000', 'CULTRF_2000', 'CULTIR_2000', 'CULT_2000']\n",
      "sq1: 1\n",
      "sq2: 1\n",
      "sq3: 1\n",
      "sq4: 1\n",
      "sq5: 1\n",
      "sq6: 2\n",
      "sq7: 1\n",
      "URB_2000: 1\n",
      "NVG_2000: 1\n",
      "GRS_2000: 1\n",
      "FOR_2000: 1\n",
      "CULTRF_2000: 1\n",
      "CULTIR_2000: 1\n",
      "CULT_2000: 1\n",
      "URB_2000: 0.1753270304759877\n",
      "CULTRF_2000: 0.15986252251195293\n",
      "FOR_2000: 0.15754488445823944\n",
      "GRS_2000: 0.1480497405071998\n",
      "CULT_2000: 0.1454904413491382\n",
      "CULTIR_2000: 0.03763625649337982\n",
      "NVG_2000: 0.03722686076180497\n",
      "sq1: 0.03517701267177701\n",
      "sq2: 0.03517128465122\n",
      "sq7: 0.031089130559804813\n",
      "sq3: 0.028543611575330377\n",
      "sq4: 0.007135598525595244\n",
      "sq5: 0.0017456254585698186\n"
     ]
    },
    {
     "data": {
      "text/html": [
       "<h3>Balanced accuracy estimation for the best feature subset: </h3>"
      ]
     },
     "metadata": {},
     "output_type": "display_data"
    },
    {
     "name": "stdout",
     "output_type": "stream",
     "text": [
      "[0.86363636 0.90909091 0.77272727 0.85       0.9       ]\n"
     ]
    },
    {
     "data": {
      "text/html": [
       "<h3>Balanced accuracy estimation for all features in the experiment: </h3>"
      ]
     },
     "metadata": {},
     "output_type": "display_data"
    },
    {
     "name": "stdout",
     "output_type": "stream",
     "text": [
      "[0.86363636 0.90909091 0.77272727 0.85       0.9       ]\n"
     ]
    },
    {
     "data": {
      "text/html": [
       "<hr>"
      ]
     },
     "metadata": {},
     "output_type": "display_data"
    },
    {
     "data": {
      "text/html": [
       "<h1>END OF COMPUTATIONS</h1>"
      ]
     },
     "metadata": {},
     "output_type": "display_data"
    },
    {
     "data": {
      "text/html": [
       "<h1>All datasets. Feature set name: WC21</h1>"
      ]
     },
     "metadata": {},
     "output_type": "display_data"
    },
    {
     "data": {
      "text/html": [
       "<h2>datasets: ['prim', 'khanka', 'mes', 'steppe', 'khanka_only'] </h2>"
      ]
     },
     "metadata": {},
     "output_type": "display_data"
    },
    {
     "data": {
      "image/png": "[encoded data removed]",
      "text/plain": [
       "<Figure size 640x480 with 1 Axes>"
      ]
     },
     "metadata": {},
     "output_type": "display_data"
    },
    {
     "data": {
      "text/html": [
       "<h3>Explained coef ratio (LDA) for prim_khanka_mes_steppe_khanka_only: [0.6180672  0.31289847] </h3>"
      ]
     },
     "metadata": {},
     "output_type": "display_data"
    },
    {
     "data": {
      "text/html": [
       "<h3>Feature importances of all considered features: </h3>"
      ]
     },
     "metadata": {},
     "output_type": "display_data"
    },
    {
     "name": "stdout",
     "output_type": "stream",
     "text": [
      "wc2.1_30s_bio_18 = 0.09795556491173597\n",
      "wc2.1_30s_bio_16 = 0.084123890533657\n",
      "wc2.1_30s_bio_13 = 0.07055055544886907\n",
      "wc2.1_30s_bio_12 = 0.0690562285787172\n",
      "wc2.1_30s_bio_4 = 0.06012252282969352\n",
      "wc2.1_30s_bio_8 = 0.05469105544238022\n",
      "wc2.1_30s_elev = 0.051442301431041476\n",
      "wc2.1_30s_bio_1 = 0.05007138634256226\n",
      "wc2.1_30s_bio_3 = 0.04797228982853866\n",
      "wc2.1_30s_bio_10 = 0.044848925916311934\n",
      "wc2.1_30s_bio_15 = 0.04474151688289049\n",
      "wc2.1_30s_bio_19 = 0.04427055991154591\n",
      "wc2.1_30s_bio_5 = 0.04050955574056186\n",
      "wc2.1_30s_bio_2 = 0.03927624843263868\n",
      "wc2.1_30s_bio_9 = 0.038951015556219694\n",
      "wc2.1_30s_bio_7 = 0.038174025669365085\n",
      "wc2.1_30s_bio_11 = 0.03737149965029485\n",
      "wc2.1_30s_bio_17 = 0.03405589354187286\n",
      "wc2.1_30s_bio_6 = 0.030754308069575263\n",
      "wc2.1_30s_bio_14 = 0.02106065528152798\n"
     ]
    },
    {
     "data": {
      "text/html": [
       "<h3>Recursive feature elimination procedure, selection the most informative features from</h3>"
      ]
     },
     "metadata": {},
     "output_type": "display_data"
    },
    {
     "name": "stdout",
     "output_type": "stream",
     "text": [
      "['wc2.1_30s_bio_19', 'wc2.1_30s_bio_18', 'wc2.1_30s_bio_17', 'wc2.1_30s_bio_16', 'wc2.1_30s_bio_15', 'wc2.1_30s_bio_14', 'wc2.1_30s_bio_13', 'wc2.1_30s_bio_12', 'wc2.1_30s_bio_11', 'wc2.1_30s_bio_10', 'wc2.1_30s_bio_9', 'wc2.1_30s_bio_8', 'wc2.1_30s_bio_7', 'wc2.1_30s_bio_6', 'wc2.1_30s_bio_5', 'wc2.1_30s_bio_4', 'wc2.1_30s_bio_3', 'wc2.1_30s_bio_2', 'wc2.1_30s_bio_1', 'wc2.1_30s_elev']\n",
      "wc2.1_30s_bio_19: 9\n",
      "wc2.1_30s_bio_18: 1\n",
      "wc2.1_30s_bio_17: 12\n",
      "wc2.1_30s_bio_16: 1\n",
      "wc2.1_30s_bio_15: 1\n",
      "wc2.1_30s_bio_14: 15\n",
      "wc2.1_30s_bio_13: 4\n",
      "wc2.1_30s_bio_12: 1\n",
      "wc2.1_30s_bio_11: 11\n",
      "wc2.1_30s_bio_10: 3\n",
      "wc2.1_30s_bio_9: 6\n",
      "wc2.1_30s_bio_8: 1\n",
      "wc2.1_30s_bio_7: 8\n",
      "wc2.1_30s_bio_6: 14\n",
      "wc2.1_30s_bio_5: 13\n",
      "wc2.1_30s_bio_4: 1\n",
      "wc2.1_30s_bio_3: 2\n",
      "wc2.1_30s_bio_2: 10\n",
      "wc2.1_30s_bio_1: 7\n",
      "wc2.1_30s_elev: 5\n",
      "wc2.1_30s_bio_12: 0.17853280471847302\n",
      "wc2.1_30s_bio_8: 0.17563209694577855\n",
      "wc2.1_30s_bio_4: 0.1736162567387844\n",
      "wc2.1_30s_bio_18: 0.1717823805527956\n",
      "wc2.1_30s_bio_16: 0.15552930932826012\n",
      "wc2.1_30s_bio_15: 0.14490715171590837\n"
     ]
    },
    {
     "data": {
      "text/html": [
       "<h3>Balanced accuracy estimation for the best feature subset: </h3>"
      ]
     },
     "metadata": {},
     "output_type": "display_data"
    },
    {
     "name": "stdout",
     "output_type": "stream",
     "text": [
      "[0.53650207 0.53695684 0.53223801 0.56766699 0.55897123]\n"
     ]
    },
    {
     "data": {
      "text/html": [
       "<h3>Balanced accuracy estimation for all features in the experiment: </h3>"
      ]
     },
     "metadata": {},
     "output_type": "display_data"
    },
    {
     "name": "stdout",
     "output_type": "stream",
     "text": [
      "[0.52166189 0.55040356 0.53050036 0.56964213 0.55740577]\n"
     ]
    },
    {
     "data": {
      "text/html": [
       "<hr>"
      ]
     },
     "metadata": {},
     "output_type": "display_data"
    },
    {
     "data": {
      "text/html": [
       "<hr>"
      ]
     },
     "metadata": {},
     "output_type": "display_data"
    },
    {
     "data": {
      "text/html": [
       "<h1>Pair analysis.  Feature set name: WC21</h1>"
      ]
     },
     "metadata": {},
     "output_type": "display_data"
    },
    {
     "data": {
      "text/html": [
       "<h2>Datasets to compare: prim, khanka</h2>"
      ]
     },
     "metadata": {},
     "output_type": "display_data"
    },
    {
     "data": {
      "text/html": [
       "<h3>Feature importances of all considered features: </h3>"
      ]
     },
     "metadata": {},
     "output_type": "display_data"
    },
    {
     "name": "stdout",
     "output_type": "stream",
     "text": [
      "wc2.1_30s_bio_8 = 0.12775925186131645\n",
      "wc2.1_30s_bio_17 = 0.09819828240558809\n",
      "wc2.1_30s_bio_19 = 0.09111843730501049\n",
      "wc2.1_30s_bio_4 = 0.08192207381529654\n",
      "wc2.1_30s_bio_14 = 0.06482601603578253\n",
      "wc2.1_30s_bio_7 = 0.0616540088801413\n",
      "wc2.1_30s_bio_12 = 0.05523012490457245\n",
      "wc2.1_30s_bio_9 = 0.04804525291580839\n",
      "wc2.1_30s_bio_10 = 0.04188874574401612\n",
      "wc2.1_30s_bio_15 = 0.04106117247818609\n",
      "wc2.1_30s_elev = 0.03700451112050462\n",
      "wc2.1_30s_bio_1 = 0.034930615415386584\n",
      "wc2.1_30s_bio_2 = 0.03433959650144465\n",
      "wc2.1_30s_bio_5 = 0.031916350055990826\n",
      "wc2.1_30s_bio_3 = 0.02874519831310037\n",
      "wc2.1_30s_bio_6 = 0.028243117259190403\n",
      "wc2.1_30s_bio_13 = 0.02453502208010002\n",
      "wc2.1_30s_bio_11 = 0.023570849419783487\n",
      "wc2.1_30s_bio_18 = 0.02282122103142202\n",
      "wc2.1_30s_bio_16 = 0.022190152457358617\n"
     ]
    },
    {
     "data": {
      "text/html": [
       "<h3>Recursive feature elimination procedure, selection the most informative features from</h3>"
      ]
     },
     "metadata": {},
     "output_type": "display_data"
    },
    {
     "name": "stdout",
     "output_type": "stream",
     "text": [
      "['wc2.1_30s_bio_19', 'wc2.1_30s_bio_18', 'wc2.1_30s_bio_17', 'wc2.1_30s_bio_16', 'wc2.1_30s_bio_15', 'wc2.1_30s_bio_14', 'wc2.1_30s_bio_13', 'wc2.1_30s_bio_12', 'wc2.1_30s_bio_11', 'wc2.1_30s_bio_10', 'wc2.1_30s_bio_9', 'wc2.1_30s_bio_8', 'wc2.1_30s_bio_7', 'wc2.1_30s_bio_6', 'wc2.1_30s_bio_5', 'wc2.1_30s_bio_4', 'wc2.1_30s_bio_3', 'wc2.1_30s_bio_2', 'wc2.1_30s_bio_1', 'wc2.1_30s_elev']\n",
      "wc2.1_30s_bio_19: 1\n",
      "wc2.1_30s_bio_18: 1\n",
      "wc2.1_30s_bio_17: 1\n",
      "wc2.1_30s_bio_16: 1\n",
      "wc2.1_30s_bio_15: 1\n",
      "wc2.1_30s_bio_14: 1\n",
      "wc2.1_30s_bio_13: 1\n",
      "wc2.1_30s_bio_12: 1\n",
      "wc2.1_30s_bio_11: 1\n",
      "wc2.1_30s_bio_10: 1\n",
      "wc2.1_30s_bio_9: 1\n",
      "wc2.1_30s_bio_8: 1\n",
      "wc2.1_30s_bio_7: 1\n",
      "wc2.1_30s_bio_6: 1\n",
      "wc2.1_30s_bio_5: 1\n",
      "wc2.1_30s_bio_4: 1\n",
      "wc2.1_30s_bio_3: 1\n",
      "wc2.1_30s_bio_2: 1\n",
      "wc2.1_30s_bio_1: 1\n",
      "wc2.1_30s_elev: 1\n",
      "wc2.1_30s_bio_8: 0.11187330053106573\n",
      "wc2.1_30s_bio_17: 0.09931281705380648\n",
      "wc2.1_30s_bio_19: 0.09617602518203905\n",
      "wc2.1_30s_bio_4: 0.09030967349245803\n",
      "wc2.1_30s_bio_14: 0.08655969938251301\n",
      "wc2.1_30s_bio_15: 0.06460349706337147\n",
      "wc2.1_30s_bio_9: 0.04176116167333605\n",
      "wc2.1_30s_bio_12: 0.03931798087064925\n",
      "wc2.1_30s_bio_1: 0.038137415768892395\n",
      "wc2.1_30s_bio_10: 0.037291253151782874\n",
      "wc2.1_30s_elev: 0.037233169880803274\n",
      "wc2.1_30s_bio_7: 0.03630815479396269\n",
      "wc2.1_30s_bio_5: 0.03223822324981824\n",
      "wc2.1_30s_bio_6: 0.03144208826261676\n",
      "wc2.1_30s_bio_2: 0.03137157854497103\n",
      "wc2.1_30s_bio_3: 0.028625074713153394\n",
      "wc2.1_30s_bio_11: 0.027457200266415963\n",
      "wc2.1_30s_bio_13: 0.024101726635507047\n",
      "wc2.1_30s_bio_18: 0.023003210405653608\n",
      "wc2.1_30s_bio_16: 0.022876749077183456\n"
     ]
    },
    {
     "data": {
      "text/html": [
       "<h3>Balanced accuracy estimation for the best feature subset: </h3>"
      ]
     },
     "metadata": {},
     "output_type": "display_data"
    },
    {
     "name": "stdout",
     "output_type": "stream",
     "text": [
      "[0.81542859 0.79884091 0.80927586 0.82855036 0.81238938]\n"
     ]
    },
    {
     "data": {
      "text/html": [
       "<h3>Balanced accuracy estimation for all features in the experiment: </h3>"
      ]
     },
     "metadata": {},
     "output_type": "display_data"
    },
    {
     "name": "stdout",
     "output_type": "stream",
     "text": [
      "[0.81195027 0.80262397 0.81053688 0.82778129 0.80303413]\n"
     ]
    },
    {
     "data": {
      "text/html": [
       "<hr>"
      ]
     },
     "metadata": {},
     "output_type": "display_data"
    },
    {
     "data": {
      "text/html": [
       "<h2>Datasets to compare: prim, mes</h2>"
      ]
     },
     "metadata": {},
     "output_type": "display_data"
    },
    {
     "data": {
      "text/html": [
       "<h3>Feature importances of all considered features: </h3>"
      ]
     },
     "metadata": {},
     "output_type": "display_data"
    },
    {
     "name": "stdout",
     "output_type": "stream",
     "text": [
      "wc2.1_30s_bio_8 = 0.20392625638035056\n",
      "wc2.1_30s_bio_10 = 0.12897978829704812\n",
      "wc2.1_30s_bio_5 = 0.1136677605547789\n",
      "wc2.1_30s_bio_4 = 0.08183227673170933\n",
      "wc2.1_30s_elev = 0.06534747616165615\n",
      "wc2.1_30s_bio_1 = 0.03730996848084373\n",
      "wc2.1_30s_bio_7 = 0.03640429335320727\n",
      "wc2.1_30s_bio_19 = 0.034961180782135816\n",
      "wc2.1_30s_bio_3 = 0.03237083442808842\n",
      "wc2.1_30s_bio_18 = 0.030740157375890823\n",
      "wc2.1_30s_bio_15 = 0.030183885923513898\n",
      "wc2.1_30s_bio_9 = 0.03018317164274483\n",
      "wc2.1_30s_bio_17 = 0.029105444958404936\n",
      "wc2.1_30s_bio_16 = 0.027179530936983103\n",
      "wc2.1_30s_bio_13 = 0.024618734888648134\n",
      "wc2.1_30s_bio_12 = 0.02311593498532128\n",
      "wc2.1_30s_bio_11 = 0.020613762756823265\n",
      "wc2.1_30s_bio_2 = 0.018132139528056333\n",
      "wc2.1_30s_bio_6 = 0.017510731538568153\n",
      "wc2.1_30s_bio_14 = 0.01381667029522675\n"
     ]
    },
    {
     "data": {
      "text/html": [
       "<h3>Recursive feature elimination procedure, selection the most informative features from</h3>"
      ]
     },
     "metadata": {},
     "output_type": "display_data"
    },
    {
     "name": "stdout",
     "output_type": "stream",
     "text": [
      "['wc2.1_30s_bio_19', 'wc2.1_30s_bio_18', 'wc2.1_30s_bio_17', 'wc2.1_30s_bio_16', 'wc2.1_30s_bio_15', 'wc2.1_30s_bio_14', 'wc2.1_30s_bio_13', 'wc2.1_30s_bio_12', 'wc2.1_30s_bio_11', 'wc2.1_30s_bio_10', 'wc2.1_30s_bio_9', 'wc2.1_30s_bio_8', 'wc2.1_30s_bio_7', 'wc2.1_30s_bio_6', 'wc2.1_30s_bio_5', 'wc2.1_30s_bio_4', 'wc2.1_30s_bio_3', 'wc2.1_30s_bio_2', 'wc2.1_30s_bio_1', 'wc2.1_30s_elev']\n",
      "wc2.1_30s_bio_19: 1\n",
      "wc2.1_30s_bio_18: 1\n",
      "wc2.1_30s_bio_17: 5\n",
      "wc2.1_30s_bio_16: 1\n",
      "wc2.1_30s_bio_15: 1\n",
      "wc2.1_30s_bio_14: 3\n",
      "wc2.1_30s_bio_13: 1\n",
      "wc2.1_30s_bio_12: 1\n",
      "wc2.1_30s_bio_11: 1\n",
      "wc2.1_30s_bio_10: 1\n",
      "wc2.1_30s_bio_9: 1\n",
      "wc2.1_30s_bio_8: 1\n",
      "wc2.1_30s_bio_7: 1\n",
      "wc2.1_30s_bio_6: 2\n",
      "wc2.1_30s_bio_5: 1\n",
      "wc2.1_30s_bio_4: 1\n",
      "wc2.1_30s_bio_3: 1\n",
      "wc2.1_30s_bio_2: 4\n",
      "wc2.1_30s_bio_1: 1\n",
      "wc2.1_30s_elev: 1\n",
      "wc2.1_30s_bio_8: 0.23415462605760495\n",
      "wc2.1_30s_bio_10: 0.1424698740746615\n",
      "wc2.1_30s_bio_5: 0.09700249104122793\n",
      "wc2.1_30s_bio_4: 0.08860883799693706\n",
      "wc2.1_30s_elev: 0.06368823596143489\n",
      "wc2.1_30s_bio_7: 0.057553289685068815\n",
      "wc2.1_30s_bio_9: 0.04444221892611662\n",
      "wc2.1_30s_bio_1: 0.035876803671140586\n",
      "wc2.1_30s_bio_19: 0.03486032049304354\n",
      "wc2.1_30s_bio_3: 0.03279161490911451\n",
      "wc2.1_30s_bio_16: 0.03174909332817135\n",
      "wc2.1_30s_bio_15: 0.03168145149372436\n",
      "wc2.1_30s_bio_18: 0.030777019646364194\n",
      "wc2.1_30s_bio_12: 0.027988179184401708\n",
      "wc2.1_30s_bio_13: 0.025724282586639887\n",
      "wc2.1_30s_bio_11: 0.020631660944348044\n"
     ]
    },
    {
     "data": {
      "text/html": [
       "<h3>Balanced accuracy estimation for the best feature subset: </h3>"
      ]
     },
     "metadata": {},
     "output_type": "display_data"
    },
    {
     "name": "stdout",
     "output_type": "stream",
     "text": [
      "[0.90053269 0.88402661 0.87003055 0.8675149  0.88040142]\n"
     ]
    },
    {
     "data": {
      "text/html": [
       "<h3>Balanced accuracy estimation for all features in the experiment: </h3>"
      ]
     },
     "metadata": {},
     "output_type": "display_data"
    },
    {
     "name": "stdout",
     "output_type": "stream",
     "text": [
      "[0.90290235 0.8769176  0.8704157  0.86820266 0.88315624]\n"
     ]
    },
    {
     "data": {
      "text/html": [
       "<hr>"
      ]
     },
     "metadata": {},
     "output_type": "display_data"
    },
    {
     "data": {
      "text/html": [
       "<h2>Datasets to compare: prim, steppe</h2>"
      ]
     },
     "metadata": {},
     "output_type": "display_data"
    },
    {
     "data": {
      "text/html": [
       "<h3>Feature importances of all considered features: </h3>"
      ]
     },
     "metadata": {},
     "output_type": "display_data"
    },
    {
     "name": "stdout",
     "output_type": "stream",
     "text": [
      "wc2.1_30s_bio_12 = 0.10272094812247748\n",
      "wc2.1_30s_bio_17 = 0.085409291978417\n",
      "wc2.1_30s_bio_4 = 0.07558856816849785\n",
      "wc2.1_30s_bio_7 = 0.06988934087502449\n",
      "wc2.1_30s_bio_19 = 0.06772156676145144\n",
      "wc2.1_30s_bio_10 = 0.057934150662297845\n",
      "wc2.1_30s_bio_14 = 0.054676714789927625\n",
      "wc2.1_30s_bio_8 = 0.05269328921948342\n",
      "wc2.1_30s_bio_5 = 0.04976289689614226\n",
      "wc2.1_30s_bio_1 = 0.046200662440403446\n",
      "wc2.1_30s_elev = 0.04610045985229012\n",
      "wc2.1_30s_bio_16 = 0.03932087935339761\n",
      "wc2.1_30s_bio_2 = 0.03891442284867955\n",
      "wc2.1_30s_bio_3 = 0.03800393939247477\n",
      "wc2.1_30s_bio_9 = 0.033570562740978915\n",
      "wc2.1_30s_bio_15 = 0.031077350145380433\n",
      "wc2.1_30s_bio_11 = 0.030846643222841193\n",
      "wc2.1_30s_bio_6 = 0.029139155114428807\n",
      "wc2.1_30s_bio_18 = 0.02625534309093822\n",
      "wc2.1_30s_bio_13 = 0.024173814324467722\n"
     ]
    },
    {
     "data": {
      "text/html": [
       "<h3>Recursive feature elimination procedure, selection the most informative features from</h3>"
      ]
     },
     "metadata": {},
     "output_type": "display_data"
    },
    {
     "name": "stdout",
     "output_type": "stream",
     "text": [
      "['wc2.1_30s_bio_19', 'wc2.1_30s_bio_18', 'wc2.1_30s_bio_17', 'wc2.1_30s_bio_16', 'wc2.1_30s_bio_15', 'wc2.1_30s_bio_14', 'wc2.1_30s_bio_13', 'wc2.1_30s_bio_12', 'wc2.1_30s_bio_11', 'wc2.1_30s_bio_10', 'wc2.1_30s_bio_9', 'wc2.1_30s_bio_8', 'wc2.1_30s_bio_7', 'wc2.1_30s_bio_6', 'wc2.1_30s_bio_5', 'wc2.1_30s_bio_4', 'wc2.1_30s_bio_3', 'wc2.1_30s_bio_2', 'wc2.1_30s_bio_1', 'wc2.1_30s_elev']\n",
      "wc2.1_30s_bio_19: 1\n",
      "wc2.1_30s_bio_18: 2\n",
      "wc2.1_30s_bio_17: 1\n",
      "wc2.1_30s_bio_16: 1\n",
      "wc2.1_30s_bio_15: 1\n",
      "wc2.1_30s_bio_14: 1\n",
      "wc2.1_30s_bio_13: 1\n",
      "wc2.1_30s_bio_12: 1\n",
      "wc2.1_30s_bio_11: 1\n",
      "wc2.1_30s_bio_10: 1\n",
      "wc2.1_30s_bio_9: 1\n",
      "wc2.1_30s_bio_8: 1\n",
      "wc2.1_30s_bio_7: 1\n",
      "wc2.1_30s_bio_6: 1\n",
      "wc2.1_30s_bio_5: 1\n",
      "wc2.1_30s_bio_4: 1\n",
      "wc2.1_30s_bio_3: 1\n",
      "wc2.1_30s_bio_2: 1\n",
      "wc2.1_30s_bio_1: 1\n",
      "wc2.1_30s_elev: 1\n",
      "wc2.1_30s_bio_12: 0.11275576824988341\n",
      "wc2.1_30s_bio_17: 0.10305633446165588\n",
      "wc2.1_30s_bio_4: 0.07601414613213037\n",
      "wc2.1_30s_bio_19: 0.06031232680696079\n",
      "wc2.1_30s_bio_10: 0.05527985491900815\n",
      "wc2.1_30s_bio_7: 0.053887990570978206\n",
      "wc2.1_30s_bio_14: 0.05176684808125799\n",
      "wc2.1_30s_bio_16: 0.05163228232910651\n",
      "wc2.1_30s_bio_5: 0.05062059124980434\n",
      "wc2.1_30s_bio_8: 0.04834032202868773\n",
      "wc2.1_30s_bio_1: 0.04697966526032342\n",
      "wc2.1_30s_bio_2: 0.045076939970404954\n",
      "wc2.1_30s_elev: 0.04363896390887928\n",
      "wc2.1_30s_bio_3: 0.03980717018216823\n",
      "wc2.1_30s_bio_9: 0.035631342332595996\n",
      "wc2.1_30s_bio_13: 0.03318441866660981\n",
      "wc2.1_30s_bio_15: 0.03311838534802985\n",
      "wc2.1_30s_bio_11: 0.030481081919956264\n",
      "wc2.1_30s_bio_6: 0.0284155675815588\n"
     ]
    },
    {
     "data": {
      "text/html": [
       "<h3>Balanced accuracy estimation for the best feature subset: </h3>"
      ]
     },
     "metadata": {},
     "output_type": "display_data"
    },
    {
     "name": "stdout",
     "output_type": "stream",
     "text": [
      "[0.80535431 0.81784216 0.81523596 0.79977995 0.80574773]\n"
     ]
    },
    {
     "data": {
      "text/html": [
       "<h3>Balanced accuracy estimation for all features in the experiment: </h3>"
      ]
     },
     "metadata": {},
     "output_type": "display_data"
    },
    {
     "name": "stdout",
     "output_type": "stream",
     "text": [
      "[0.800212   0.81876637 0.81350579 0.7922454  0.80336678]\n"
     ]
    },
    {
     "data": {
      "text/html": [
       "<hr>"
      ]
     },
     "metadata": {},
     "output_type": "display_data"
    },
    {
     "data": {
      "text/html": [
       "<h2>Datasets to compare: prim, khanka_only</h2>"
      ]
     },
     "metadata": {},
     "output_type": "display_data"
    },
    {
     "data": {
      "text/html": [
       "<h3>Feature importances of all considered features: </h3>"
      ]
     },
     "metadata": {},
     "output_type": "display_data"
    },
    {
     "name": "stdout",
     "output_type": "stream",
     "text": [
      "wc2.1_30s_bio_8 = 0.25065707735363907\n",
      "wc2.1_30s_bio_10 = 0.2319124929425549\n",
      "wc2.1_30s_bio_5 = 0.0796062481562555\n",
      "wc2.1_30s_elev = 0.06523582054569085\n",
      "wc2.1_30s_bio_12 = 0.05187081709106403\n",
      "wc2.1_30s_bio_1 = 0.040148162969226006\n",
      "wc2.1_30s_bio_11 = 0.03742562351632849\n",
      "wc2.1_30s_bio_18 = 0.033797418937330084\n",
      "wc2.1_30s_bio_16 = 0.032284401873529704\n",
      "wc2.1_30s_bio_19 = 0.027919739587095115\n",
      "wc2.1_30s_bio_17 = 0.027785287587994766\n",
      "wc2.1_30s_bio_15 = 0.026529147994882266\n",
      "wc2.1_30s_bio_14 = 0.023482386137080074\n",
      "wc2.1_30s_bio_7 = 0.013429422669875266\n",
      "wc2.1_30s_bio_6 = 0.012502028873797803\n",
      "wc2.1_30s_bio_4 = 0.011888723726931933\n",
      "wc2.1_30s_bio_3 = 0.009760906171342745\n",
      "wc2.1_30s_bio_13 = 0.008679950251244907\n",
      "wc2.1_30s_bio_2 = 0.00836656077848136\n",
      "wc2.1_30s_bio_9 = 0.006717782835655252\n"
     ]
    },
    {
     "data": {
      "text/html": [
       "<h3>Recursive feature elimination procedure, selection the most informative features from</h3>"
      ]
     },
     "metadata": {},
     "output_type": "display_data"
    },
    {
     "name": "stdout",
     "output_type": "stream",
     "text": [
      "['wc2.1_30s_bio_19', 'wc2.1_30s_bio_18', 'wc2.1_30s_bio_17', 'wc2.1_30s_bio_16', 'wc2.1_30s_bio_15', 'wc2.1_30s_bio_14', 'wc2.1_30s_bio_13', 'wc2.1_30s_bio_12', 'wc2.1_30s_bio_11', 'wc2.1_30s_bio_10', 'wc2.1_30s_bio_9', 'wc2.1_30s_bio_8', 'wc2.1_30s_bio_7', 'wc2.1_30s_bio_6', 'wc2.1_30s_bio_5', 'wc2.1_30s_bio_4', 'wc2.1_30s_bio_3', 'wc2.1_30s_bio_2', 'wc2.1_30s_bio_1', 'wc2.1_30s_elev']\n",
      "wc2.1_30s_bio_19: 2\n",
      "wc2.1_30s_bio_18: 1\n",
      "wc2.1_30s_bio_17: 4\n",
      "wc2.1_30s_bio_16: 3\n",
      "wc2.1_30s_bio_15: 1\n",
      "wc2.1_30s_bio_14: 5\n",
      "wc2.1_30s_bio_13: 9\n",
      "wc2.1_30s_bio_12: 1\n",
      "wc2.1_30s_bio_11: 10\n",
      "wc2.1_30s_bio_10: 1\n",
      "wc2.1_30s_bio_9: 7\n",
      "wc2.1_30s_bio_8: 1\n",
      "wc2.1_30s_bio_7: 8\n",
      "wc2.1_30s_bio_6: 12\n",
      "wc2.1_30s_bio_5: 1\n",
      "wc2.1_30s_bio_4: 11\n",
      "wc2.1_30s_bio_3: 13\n",
      "wc2.1_30s_bio_2: 1\n",
      "wc2.1_30s_bio_1: 6\n",
      "wc2.1_30s_elev: 1\n",
      "wc2.1_30s_bio_10: 0.33933145617198957\n",
      "wc2.1_30s_bio_8: 0.28776534711858454\n",
      "wc2.1_30s_bio_5: 0.11170211717836588\n",
      "wc2.1_30s_elev: 0.09978843185367578\n",
      "wc2.1_30s_bio_18: 0.05207348830973851\n",
      "wc2.1_30s_bio_15: 0.04801217593070818\n",
      "wc2.1_30s_bio_12: 0.03336875607033691\n",
      "wc2.1_30s_bio_2: 0.02795822736660065\n"
     ]
    },
    {
     "data": {
      "text/html": [
       "<h3>Balanced accuracy estimation for the best feature subset: </h3>"
      ]
     },
     "metadata": {},
     "output_type": "display_data"
    },
    {
     "name": "stdout",
     "output_type": "stream",
     "text": [
      "[0.95454545 1.         1.         1.         0.99761905]\n"
     ]
    },
    {
     "data": {
      "text/html": [
       "<h3>Balanced accuracy estimation for all features in the experiment: </h3>"
      ]
     },
     "metadata": {},
     "output_type": "display_data"
    },
    {
     "name": "stdout",
     "output_type": "stream",
     "text": [
      "[0.95454545 1.         1.         1.         1.        ]\n"
     ]
    },
    {
     "data": {
      "text/html": [
       "<hr>"
      ]
     },
     "metadata": {},
     "output_type": "display_data"
    },
    {
     "data": {
      "text/html": [
       "<h2>Datasets to compare: khanka, mes</h2>"
      ]
     },
     "metadata": {},
     "output_type": "display_data"
    },
    {
     "data": {
      "text/html": [
       "<h3>Feature importances of all considered features: </h3>"
      ]
     },
     "metadata": {},
     "output_type": "display_data"
    },
    {
     "name": "stdout",
     "output_type": "stream",
     "text": [
      "wc2.1_30s_bio_12 = 0.14256690720764292\n",
      "wc2.1_30s_bio_1 = 0.07673392094542734\n",
      "wc2.1_30s_bio_16 = 0.07235922828345152\n",
      "wc2.1_30s_bio_18 = 0.07078596938804631\n",
      "wc2.1_30s_bio_13 = 0.06611936296790479\n",
      "wc2.1_30s_bio_4 = 0.05248890940399687\n",
      "wc2.1_30s_elev = 0.04881473420588496\n",
      "wc2.1_30s_bio_10 = 0.043605344951793225\n",
      "wc2.1_30s_bio_7 = 0.04303155649763288\n",
      "wc2.1_30s_bio_9 = 0.042272609120097844\n",
      "wc2.1_30s_bio_11 = 0.0421121009632043\n",
      "wc2.1_30s_bio_2 = 0.040075183422110444\n",
      "wc2.1_30s_bio_15 = 0.039107622272882885\n",
      "wc2.1_30s_bio_3 = 0.0377625329080496\n",
      "wc2.1_30s_bio_8 = 0.036791609516644785\n",
      "wc2.1_30s_bio_17 = 0.034715988250226516\n",
      "wc2.1_30s_bio_6 = 0.03437439015373649\n",
      "wc2.1_30s_bio_5 = 0.02848045107931276\n",
      "wc2.1_30s_bio_19 = 0.02547406948590566\n",
      "wc2.1_30s_bio_14 = 0.022327508976047933\n"
     ]
    },
    {
     "data": {
      "text/html": [
       "<h3>Recursive feature elimination procedure, selection the most informative features from</h3>"
      ]
     },
     "metadata": {},
     "output_type": "display_data"
    },
    {
     "name": "stdout",
     "output_type": "stream",
     "text": [
      "['wc2.1_30s_bio_19', 'wc2.1_30s_bio_18', 'wc2.1_30s_bio_17', 'wc2.1_30s_bio_16', 'wc2.1_30s_bio_15', 'wc2.1_30s_bio_14', 'wc2.1_30s_bio_13', 'wc2.1_30s_bio_12', 'wc2.1_30s_bio_11', 'wc2.1_30s_bio_10', 'wc2.1_30s_bio_9', 'wc2.1_30s_bio_8', 'wc2.1_30s_bio_7', 'wc2.1_30s_bio_6', 'wc2.1_30s_bio_5', 'wc2.1_30s_bio_4', 'wc2.1_30s_bio_3', 'wc2.1_30s_bio_2', 'wc2.1_30s_bio_1', 'wc2.1_30s_elev']\n",
      "wc2.1_30s_bio_19: 9\n",
      "wc2.1_30s_bio_18: 1\n",
      "wc2.1_30s_bio_17: 11\n",
      "wc2.1_30s_bio_16: 1\n",
      "wc2.1_30s_bio_15: 1\n",
      "wc2.1_30s_bio_14: 12\n",
      "wc2.1_30s_bio_13: 1\n",
      "wc2.1_30s_bio_12: 1\n",
      "wc2.1_30s_bio_11: 1\n",
      "wc2.1_30s_bio_10: 4\n",
      "wc2.1_30s_bio_9: 3\n",
      "wc2.1_30s_bio_8: 6\n",
      "wc2.1_30s_bio_7: 2\n",
      "wc2.1_30s_bio_6: 8\n",
      "wc2.1_30s_bio_5: 10\n",
      "wc2.1_30s_bio_4: 1\n",
      "wc2.1_30s_bio_3: 7\n",
      "wc2.1_30s_bio_2: 5\n",
      "wc2.1_30s_bio_1: 1\n",
      "wc2.1_30s_elev: 1\n",
      "wc2.1_30s_bio_12: 0.2179272592880695\n",
      "wc2.1_30s_bio_16: 0.12916459607071426\n",
      "wc2.1_30s_bio_1: 0.11324744426071061\n",
      "wc2.1_30s_bio_18: 0.10734319509001586\n",
      "wc2.1_30s_elev: 0.09035277850932312\n",
      "wc2.1_30s_bio_4: 0.08858170313455214\n",
      "wc2.1_30s_bio_13: 0.08650415337751777\n",
      "wc2.1_30s_bio_11: 0.08401755061972525\n",
      "wc2.1_30s_bio_15: 0.08286131964937149\n"
     ]
    },
    {
     "data": {
      "text/html": [
       "<h3>Balanced accuracy estimation for the best feature subset: </h3>"
      ]
     },
     "metadata": {},
     "output_type": "display_data"
    },
    {
     "name": "stdout",
     "output_type": "stream",
     "text": [
      "[0.76553548 0.7798764  0.75630496 0.75831486 0.77643956]\n"
     ]
    },
    {
     "data": {
      "text/html": [
       "<h3>Balanced accuracy estimation for all features in the experiment: </h3>"
      ]
     },
     "metadata": {},
     "output_type": "display_data"
    },
    {
     "name": "stdout",
     "output_type": "stream",
     "text": [
      "[0.75547612 0.78194251 0.75794734 0.76343815 0.76925015]\n"
     ]
    },
    {
     "data": {
      "text/html": [
       "<hr>"
      ]
     },
     "metadata": {},
     "output_type": "display_data"
    },
    {
     "data": {
      "text/html": [
       "<h2>Datasets to compare: khanka, steppe</h2>"
      ]
     },
     "metadata": {},
     "output_type": "display_data"
    },
    {
     "data": {
      "text/html": [
       "<h3>Feature importances of all considered features: </h3>"
      ]
     },
     "metadata": {},
     "output_type": "display_data"
    },
    {
     "name": "stdout",
     "output_type": "stream",
     "text": [
      "wc2.1_30s_bio_3 = 0.08170987643095769\n",
      "wc2.1_30s_bio_18 = 0.0688170314360296\n",
      "wc2.1_30s_bio_4 = 0.06773516268614334\n",
      "wc2.1_30s_bio_9 = 0.06209763073964207\n",
      "wc2.1_30s_bio_15 = 0.05960437826296135\n",
      "wc2.1_30s_elev = 0.05858392943944375\n",
      "wc2.1_30s_bio_13 = 0.05295763924625053\n",
      "wc2.1_30s_bio_12 = 0.05239654486337005\n",
      "wc2.1_30s_bio_1 = 0.050392983223703516\n",
      "wc2.1_30s_bio_10 = 0.047989711116288886\n",
      "wc2.1_30s_bio_16 = 0.0468881963034846\n",
      "wc2.1_30s_bio_2 = 0.04664164702290192\n",
      "wc2.1_30s_bio_11 = 0.046334891230175874\n",
      "wc2.1_30s_bio_6 = 0.04623261430115339\n",
      "wc2.1_30s_bio_8 = 0.043150431415507826\n",
      "wc2.1_30s_bio_7 = 0.03963952777673865\n",
      "wc2.1_30s_bio_5 = 0.038692097799224154\n",
      "wc2.1_30s_bio_19 = 0.034306413903205\n",
      "wc2.1_30s_bio_17 = 0.0332918569866386\n",
      "wc2.1_30s_bio_14 = 0.022537435816179233\n"
     ]
    },
    {
     "data": {
      "text/html": [
       "<h3>Recursive feature elimination procedure, selection the most informative features from</h3>"
      ]
     },
     "metadata": {},
     "output_type": "display_data"
    },
    {
     "name": "stdout",
     "output_type": "stream",
     "text": [
      "['wc2.1_30s_bio_19', 'wc2.1_30s_bio_18', 'wc2.1_30s_bio_17', 'wc2.1_30s_bio_16', 'wc2.1_30s_bio_15', 'wc2.1_30s_bio_14', 'wc2.1_30s_bio_13', 'wc2.1_30s_bio_12', 'wc2.1_30s_bio_11', 'wc2.1_30s_bio_10', 'wc2.1_30s_bio_9', 'wc2.1_30s_bio_8', 'wc2.1_30s_bio_7', 'wc2.1_30s_bio_6', 'wc2.1_30s_bio_5', 'wc2.1_30s_bio_4', 'wc2.1_30s_bio_3', 'wc2.1_30s_bio_2', 'wc2.1_30s_bio_1', 'wc2.1_30s_elev']\n",
      "wc2.1_30s_bio_19: 7\n",
      "wc2.1_30s_bio_18: 1\n",
      "wc2.1_30s_bio_17: 9\n",
      "wc2.1_30s_bio_16: 1\n",
      "wc2.1_30s_bio_15: 1\n",
      "wc2.1_30s_bio_14: 10\n",
      "wc2.1_30s_bio_13: 3\n",
      "wc2.1_30s_bio_12: 1\n",
      "wc2.1_30s_bio_11: 1\n",
      "wc2.1_30s_bio_10: 1\n",
      "wc2.1_30s_bio_9: 1\n",
      "wc2.1_30s_bio_8: 5\n",
      "wc2.1_30s_bio_7: 6\n",
      "wc2.1_30s_bio_6: 4\n",
      "wc2.1_30s_bio_5: 8\n",
      "wc2.1_30s_bio_4: 1\n",
      "wc2.1_30s_bio_3: 1\n",
      "wc2.1_30s_bio_2: 2\n",
      "wc2.1_30s_bio_1: 1\n",
      "wc2.1_30s_elev: 1\n",
      "wc2.1_30s_bio_3: 0.11997923460514708\n",
      "wc2.1_30s_bio_18: 0.1013663001418364\n",
      "wc2.1_30s_bio_15: 0.09876589011908489\n",
      "wc2.1_30s_bio_4: 0.09585296824128033\n",
      "wc2.1_30s_bio_9: 0.09496704975922657\n",
      "wc2.1_30s_elev: 0.08732579492906502\n",
      "wc2.1_30s_bio_1: 0.0842892086447203\n",
      "wc2.1_30s_bio_10: 0.08280225554838616\n",
      "wc2.1_30s_bio_12: 0.07999152957819894\n",
      "wc2.1_30s_bio_16: 0.07970566822054205\n",
      "wc2.1_30s_bio_11: 0.07495410021251211\n"
     ]
    },
    {
     "data": {
      "text/html": [
       "<h3>Balanced accuracy estimation for the best feature subset: </h3>"
      ]
     },
     "metadata": {},
     "output_type": "display_data"
    },
    {
     "name": "stdout",
     "output_type": "stream",
     "text": [
      "[0.65739249 0.67201225 0.65515531 0.6612539  0.66882795]\n"
     ]
    },
    {
     "data": {
      "text/html": [
       "<h3>Balanced accuracy estimation for all features in the experiment: </h3>"
      ]
     },
     "metadata": {},
     "output_type": "display_data"
    },
    {
     "name": "stdout",
     "output_type": "stream",
     "text": [
      "[0.67345378 0.67757185 0.64350939 0.65071867 0.67381789]\n"
     ]
    },
    {
     "data": {
      "text/html": [
       "<hr>"
      ]
     },
     "metadata": {},
     "output_type": "display_data"
    },
    {
     "data": {
      "text/html": [
       "<h2>Datasets to compare: khanka, khanka_only</h2>"
      ]
     },
     "metadata": {},
     "output_type": "display_data"
    },
    {
     "data": {
      "text/html": [
       "<h3>Feature importances of all considered features: </h3>"
      ]
     },
     "metadata": {},
     "output_type": "display_data"
    },
    {
     "name": "stdout",
     "output_type": "stream",
     "text": [
      "wc2.1_30s_bio_15 = 0.08541316048845975\n",
      "wc2.1_30s_bio_10 = 0.08501596577052412\n",
      "wc2.1_30s_bio_9 = 0.06788126237869048\n",
      "wc2.1_30s_bio_1 = 0.06290081666736887\n",
      "wc2.1_30s_bio_7 = 0.0599835800816663\n",
      "wc2.1_30s_elev = 0.05840671445369287\n",
      "wc2.1_30s_bio_4 = 0.056175991225754625\n",
      "wc2.1_30s_bio_13 = 0.05136632306587829\n",
      "wc2.1_30s_bio_3 = 0.047917260063195\n",
      "wc2.1_30s_bio_6 = 0.04753649551008973\n",
      "wc2.1_30s_bio_5 = 0.04621622626630609\n",
      "wc2.1_30s_bio_11 = 0.04602993830649874\n",
      "wc2.1_30s_bio_8 = 0.045996508649765136\n",
      "wc2.1_30s_bio_12 = 0.043200435545506746\n",
      "wc2.1_30s_bio_18 = 0.04290037525798122\n",
      "wc2.1_30s_bio_16 = 0.04214032603922949\n",
      "wc2.1_30s_bio_2 = 0.03503088469564777\n",
      "wc2.1_30s_bio_19 = 0.035001226726655635\n",
      "wc2.1_30s_bio_17 = 0.024523436734321086\n",
      "wc2.1_30s_bio_14 = 0.016363072072768263\n"
     ]
    },
    {
     "data": {
      "text/html": [
       "<h3>Recursive feature elimination procedure, selection the most informative features from</h3>"
      ]
     },
     "metadata": {},
     "output_type": "display_data"
    },
    {
     "name": "stdout",
     "output_type": "stream",
     "text": [
      "['wc2.1_30s_bio_19', 'wc2.1_30s_bio_18', 'wc2.1_30s_bio_17', 'wc2.1_30s_bio_16', 'wc2.1_30s_bio_15', 'wc2.1_30s_bio_14', 'wc2.1_30s_bio_13', 'wc2.1_30s_bio_12', 'wc2.1_30s_bio_11', 'wc2.1_30s_bio_10', 'wc2.1_30s_bio_9', 'wc2.1_30s_bio_8', 'wc2.1_30s_bio_7', 'wc2.1_30s_bio_6', 'wc2.1_30s_bio_5', 'wc2.1_30s_bio_4', 'wc2.1_30s_bio_3', 'wc2.1_30s_bio_2', 'wc2.1_30s_bio_1', 'wc2.1_30s_elev']\n",
      "wc2.1_30s_bio_19: 15\n",
      "wc2.1_30s_bio_18: 9\n",
      "wc2.1_30s_bio_17: 11\n",
      "wc2.1_30s_bio_16: 3\n",
      "wc2.1_30s_bio_15: 1\n",
      "wc2.1_30s_bio_14: 16\n",
      "wc2.1_30s_bio_13: 13\n",
      "wc2.1_30s_bio_12: 6\n",
      "wc2.1_30s_bio_11: 7\n",
      "wc2.1_30s_bio_10: 1\n",
      "wc2.1_30s_bio_9: 1\n",
      "wc2.1_30s_bio_8: 8\n",
      "wc2.1_30s_bio_7: 2\n",
      "wc2.1_30s_bio_6: 4\n",
      "wc2.1_30s_bio_5: 10\n",
      "wc2.1_30s_bio_4: 1\n",
      "wc2.1_30s_bio_3: 12\n",
      "wc2.1_30s_bio_2: 14\n",
      "wc2.1_30s_bio_1: 1\n",
      "wc2.1_30s_elev: 5\n",
      "wc2.1_30s_bio_15: 0.25439851642801536\n",
      "wc2.1_30s_bio_4: 0.2020660536133155\n",
      "wc2.1_30s_bio_9: 0.19061970442975262\n",
      "wc2.1_30s_bio_10: 0.18986519581888306\n",
      "wc2.1_30s_bio_1: 0.16305052971003342\n"
     ]
    },
    {
     "data": {
      "text/html": [
       "<h3>Balanced accuracy estimation for the best feature subset: </h3>"
      ]
     },
     "metadata": {},
     "output_type": "display_data"
    },
    {
     "name": "stdout",
     "output_type": "stream",
     "text": [
      "[0.64225664 0.64778761 0.58536585 0.6308204  0.67960089]\n"
     ]
    },
    {
     "data": {
      "text/html": [
       "<h3>Balanced accuracy estimation for all features in the experiment: </h3>"
      ]
     },
     "metadata": {},
     "output_type": "display_data"
    },
    {
     "name": "stdout",
     "output_type": "stream",
     "text": [
      "[0.69225664 0.54778761 0.53991131 0.62749446 0.72616408]\n"
     ]
    },
    {
     "data": {
      "text/html": [
       "<hr>"
      ]
     },
     "metadata": {},
     "output_type": "display_data"
    },
    {
     "data": {
      "text/html": [
       "<h2>Datasets to compare: mes, steppe</h2>"
      ]
     },
     "metadata": {},
     "output_type": "display_data"
    },
    {
     "data": {
      "text/html": [
       "<h3>Feature importances of all considered features: </h3>"
      ]
     },
     "metadata": {},
     "output_type": "display_data"
    },
    {
     "name": "stdout",
     "output_type": "stream",
     "text": [
      "wc2.1_30s_bio_18 = 0.18821354813448216\n",
      "wc2.1_30s_bio_13 = 0.11606297459854756\n",
      "wc2.1_30s_bio_16 = 0.1144987842072659\n",
      "wc2.1_30s_bio_12 = 0.08907860065863979\n",
      "wc2.1_30s_elev = 0.05886601221804816\n",
      "wc2.1_30s_bio_8 = 0.05640247390463719\n",
      "wc2.1_30s_bio_3 = 0.04137240356867\n",
      "wc2.1_30s_bio_10 = 0.036410039217601685\n",
      "wc2.1_30s_bio_1 = 0.03462313762916612\n",
      "wc2.1_30s_bio_15 = 0.03213787285360048\n",
      "wc2.1_30s_bio_2 = 0.03029379720073886\n",
      "wc2.1_30s_bio_4 = 0.026932310906303953\n",
      "wc2.1_30s_bio_17 = 0.0268038541352177\n",
      "wc2.1_30s_bio_9 = 0.02599247182112206\n",
      "wc2.1_30s_bio_11 = 0.02490477797077708\n",
      "wc2.1_30s_bio_6 = 0.02201630774845262\n",
      "wc2.1_30s_bio_5 = 0.021940134870531727\n",
      "wc2.1_30s_bio_7 = 0.02162946050979927\n",
      "wc2.1_30s_bio_19 = 0.017126854600707273\n",
      "wc2.1_30s_bio_14 = 0.014694183245690296\n"
     ]
    },
    {
     "data": {
      "text/html": [
       "<h3>Recursive feature elimination procedure, selection the most informative features from</h3>"
      ]
     },
     "metadata": {},
     "output_type": "display_data"
    },
    {
     "name": "stdout",
     "output_type": "stream",
     "text": [
      "['wc2.1_30s_bio_19', 'wc2.1_30s_bio_18', 'wc2.1_30s_bio_17', 'wc2.1_30s_bio_16', 'wc2.1_30s_bio_15', 'wc2.1_30s_bio_14', 'wc2.1_30s_bio_13', 'wc2.1_30s_bio_12', 'wc2.1_30s_bio_11', 'wc2.1_30s_bio_10', 'wc2.1_30s_bio_9', 'wc2.1_30s_bio_8', 'wc2.1_30s_bio_7', 'wc2.1_30s_bio_6', 'wc2.1_30s_bio_5', 'wc2.1_30s_bio_4', 'wc2.1_30s_bio_3', 'wc2.1_30s_bio_2', 'wc2.1_30s_bio_1', 'wc2.1_30s_elev']\n",
      "wc2.1_30s_bio_19: 7\n",
      "wc2.1_30s_bio_18: 1\n",
      "wc2.1_30s_bio_17: 4\n",
      "wc2.1_30s_bio_16: 1\n",
      "wc2.1_30s_bio_15: 1\n",
      "wc2.1_30s_bio_14: 9\n",
      "wc2.1_30s_bio_13: 1\n",
      "wc2.1_30s_bio_12: 1\n",
      "wc2.1_30s_bio_11: 3\n",
      "wc2.1_30s_bio_10: 1\n",
      "wc2.1_30s_bio_9: 2\n",
      "wc2.1_30s_bio_8: 1\n",
      "wc2.1_30s_bio_7: 5\n",
      "wc2.1_30s_bio_6: 8\n",
      "wc2.1_30s_bio_5: 6\n",
      "wc2.1_30s_bio_4: 1\n",
      "wc2.1_30s_bio_3: 1\n",
      "wc2.1_30s_bio_2: 1\n",
      "wc2.1_30s_bio_1: 1\n",
      "wc2.1_30s_elev: 1\n",
      "wc2.1_30s_bio_18: 0.20234664380530323\n",
      "wc2.1_30s_bio_16: 0.14078584245958198\n",
      "wc2.1_30s_bio_13: 0.13073619463144362\n",
      "wc2.1_30s_bio_12: 0.10660984717293369\n",
      "wc2.1_30s_elev: 0.06390887275397633\n",
      "wc2.1_30s_bio_8: 0.06307172366634858\n",
      "wc2.1_30s_bio_3: 0.05537800173355198\n",
      "wc2.1_30s_bio_10: 0.053803259041420574\n",
      "wc2.1_30s_bio_1: 0.04988844641018856\n",
      "wc2.1_30s_bio_15: 0.04885723066715445\n",
      "wc2.1_30s_bio_4: 0.04474391057870631\n",
      "wc2.1_30s_bio_2: 0.03987002707939068\n"
     ]
    },
    {
     "data": {
      "text/html": [
       "<h3>Balanced accuracy estimation for the best feature subset: </h3>"
      ]
     },
     "metadata": {},
     "output_type": "display_data"
    },
    {
     "name": "stdout",
     "output_type": "stream",
     "text": [
      "[0.87183803 0.86549243 0.8739924  0.85416635 0.86386169]\n"
     ]
    },
    {
     "data": {
      "text/html": [
       "<h3>Balanced accuracy estimation for all features in the experiment: </h3>"
      ]
     },
     "metadata": {},
     "output_type": "display_data"
    },
    {
     "name": "stdout",
     "output_type": "stream",
     "text": [
      "[0.86536853 0.86964248 0.86962466 0.8495631  0.86456822]\n"
     ]
    },
    {
     "data": {
      "text/html": [
       "<hr>"
      ]
     },
     "metadata": {},
     "output_type": "display_data"
    },
    {
     "data": {
      "text/html": [
       "<h2>Datasets to compare: mes, khanka_only</h2>"
      ]
     },
     "metadata": {},
     "output_type": "display_data"
    },
    {
     "data": {
      "text/html": [
       "<h3>Feature importances of all considered features: </h3>"
      ]
     },
     "metadata": {},
     "output_type": "display_data"
    },
    {
     "name": "stdout",
     "output_type": "stream",
     "text": [
      "wc2.1_30s_bio_15 = 0.12066243294710237\n",
      "wc2.1_30s_bio_10 = 0.07689985440821549\n",
      "wc2.1_30s_bio_1 = 0.07326252607740012\n",
      "wc2.1_30s_bio_18 = 0.05686985712826865\n",
      "wc2.1_30s_bio_11 = 0.05666669908510415\n",
      "wc2.1_30s_bio_7 = 0.05561180509216414\n",
      "wc2.1_30s_bio_4 = 0.04942574059305695\n",
      "wc2.1_30s_elev = 0.04767129094799388\n",
      "wc2.1_30s_bio_6 = 0.0463455577801898\n",
      "wc2.1_30s_bio_12 = 0.04543150372174423\n",
      "wc2.1_30s_bio_13 = 0.045358453734354584\n",
      "wc2.1_30s_bio_5 = 0.041071194587505966\n",
      "wc2.1_30s_bio_17 = 0.041059602746230134\n",
      "wc2.1_30s_bio_9 = 0.039852040030161656\n",
      "wc2.1_30s_bio_8 = 0.03950241425611226\n",
      "wc2.1_30s_bio_3 = 0.03875298232565532\n",
      "wc2.1_30s_bio_16 = 0.037587285654362784\n",
      "wc2.1_30s_bio_19 = 0.0349985182163754\n",
      "wc2.1_30s_bio_2 = 0.02959455548492912\n",
      "wc2.1_30s_bio_14 = 0.02337568518307313\n"
     ]
    },
    {
     "data": {
      "text/html": [
       "<h3>Recursive feature elimination procedure, selection the most informative features from</h3>"
      ]
     },
     "metadata": {},
     "output_type": "display_data"
    },
    {
     "name": "stdout",
     "output_type": "stream",
     "text": [
      "['wc2.1_30s_bio_19', 'wc2.1_30s_bio_18', 'wc2.1_30s_bio_17', 'wc2.1_30s_bio_16', 'wc2.1_30s_bio_15', 'wc2.1_30s_bio_14', 'wc2.1_30s_bio_13', 'wc2.1_30s_bio_12', 'wc2.1_30s_bio_11', 'wc2.1_30s_bio_10', 'wc2.1_30s_bio_9', 'wc2.1_30s_bio_8', 'wc2.1_30s_bio_7', 'wc2.1_30s_bio_6', 'wc2.1_30s_bio_5', 'wc2.1_30s_bio_4', 'wc2.1_30s_bio_3', 'wc2.1_30s_bio_2', 'wc2.1_30s_bio_1', 'wc2.1_30s_elev']\n",
      "wc2.1_30s_bio_19: 1\n",
      "wc2.1_30s_bio_18: 1\n",
      "wc2.1_30s_bio_17: 6\n",
      "wc2.1_30s_bio_16: 1\n",
      "wc2.1_30s_bio_15: 1\n",
      "wc2.1_30s_bio_14: 8\n",
      "wc2.1_30s_bio_13: 1\n",
      "wc2.1_30s_bio_12: 1\n",
      "wc2.1_30s_bio_11: 1\n",
      "wc2.1_30s_bio_10: 1\n",
      "wc2.1_30s_bio_9: 4\n",
      "wc2.1_30s_bio_8: 1\n",
      "wc2.1_30s_bio_7: 1\n",
      "wc2.1_30s_bio_6: 1\n",
      "wc2.1_30s_bio_5: 7\n",
      "wc2.1_30s_bio_4: 1\n",
      "wc2.1_30s_bio_3: 5\n",
      "wc2.1_30s_bio_2: 3\n",
      "wc2.1_30s_bio_1: 1\n",
      "wc2.1_30s_elev: 2\n",
      "wc2.1_30s_bio_1: 0.09333184022978504\n",
      "wc2.1_30s_bio_11: 0.0930997294991096\n",
      "wc2.1_30s_bio_10: 0.08946123131164764\n",
      "wc2.1_30s_bio_18: 0.08606499286489645\n",
      "wc2.1_30s_bio_6: 0.08431045656980657\n",
      "wc2.1_30s_bio_15: 0.08337848088256448\n",
      "wc2.1_30s_bio_12: 0.08077880832416612\n",
      "wc2.1_30s_bio_4: 0.07678987009229872\n",
      "wc2.1_30s_bio_16: 0.0731171019493017\n",
      "wc2.1_30s_bio_7: 0.06764780675890918\n",
      "wc2.1_30s_bio_19: 0.06229083498864617\n",
      "wc2.1_30s_bio_8: 0.056573190279056884\n",
      "wc2.1_30s_bio_13: 0.05315565624981154\n"
     ]
    },
    {
     "data": {
      "text/html": [
       "<h3>Balanced accuracy estimation for the best feature subset: </h3>"
      ]
     },
     "metadata": {},
     "output_type": "display_data"
    },
    {
     "name": "stdout",
     "output_type": "stream",
     "text": [
      "[0.79931224 0.95179063 0.76928375 0.77066116 0.89862259]\n"
     ]
    },
    {
     "data": {
      "text/html": [
       "<h3>Balanced accuracy estimation for all features in the experiment: </h3>"
      ]
     },
     "metadata": {},
     "output_type": "display_data"
    },
    {
     "name": "stdout",
     "output_type": "stream",
     "text": [
      "[0.74862448 0.95179063 0.72451791 0.72589532 0.89862259]\n"
     ]
    },
    {
     "data": {
      "text/html": [
       "<hr>"
      ]
     },
     "metadata": {},
     "output_type": "display_data"
    },
    {
     "data": {
      "text/html": [
       "<h2>Datasets to compare: steppe, khanka_only</h2>"
      ]
     },
     "metadata": {},
     "output_type": "display_data"
    },
    {
     "data": {
      "text/html": [
       "<h3>Feature importances of all considered features: </h3>"
      ]
     },
     "metadata": {},
     "output_type": "display_data"
    },
    {
     "name": "stdout",
     "output_type": "stream",
     "text": [
      "wc2.1_30s_bio_13 = 0.1341713220689608\n",
      "wc2.1_30s_bio_18 = 0.07614701562808775\n",
      "wc2.1_30s_bio_12 = 0.07449669706019789\n",
      "wc2.1_30s_bio_16 = 0.07153149944936543\n",
      "wc2.1_30s_bio_15 = 0.06899286719300236\n",
      "wc2.1_30s_bio_4 = 0.06372030524572382\n",
      "wc2.1_30s_elev = 0.06137898404694503\n",
      "wc2.1_30s_bio_10 = 0.054702520146095314\n",
      "wc2.1_30s_bio_7 = 0.04967998711893515\n",
      "wc2.1_30s_bio_11 = 0.045125246103982025\n",
      "wc2.1_30s_bio_14 = 0.04502446997054805\n",
      "wc2.1_30s_bio_3 = 0.04436428505778353\n",
      "wc2.1_30s_bio_17 = 0.04261004751532881\n",
      "wc2.1_30s_bio_8 = 0.031968324628873536\n",
      "wc2.1_30s_bio_9 = 0.030978287282304815\n",
      "wc2.1_30s_bio_6 = 0.028603830977652386\n",
      "wc2.1_30s_bio_1 = 0.02628279825062501\n",
      "wc2.1_30s_bio_19 = 0.017623985209075474\n",
      "wc2.1_30s_bio_5 = 0.017590835663663554\n",
      "wc2.1_30s_bio_2 = 0.015006691382849238\n"
     ]
    },
    {
     "data": {
      "text/html": [
       "<h3>Recursive feature elimination procedure, selection the most informative features from</h3>"
      ]
     },
     "metadata": {},
     "output_type": "display_data"
    },
    {
     "name": "stdout",
     "output_type": "stream",
     "text": [
      "['wc2.1_30s_bio_19', 'wc2.1_30s_bio_18', 'wc2.1_30s_bio_17', 'wc2.1_30s_bio_16', 'wc2.1_30s_bio_15', 'wc2.1_30s_bio_14', 'wc2.1_30s_bio_13', 'wc2.1_30s_bio_12', 'wc2.1_30s_bio_11', 'wc2.1_30s_bio_10', 'wc2.1_30s_bio_9', 'wc2.1_30s_bio_8', 'wc2.1_30s_bio_7', 'wc2.1_30s_bio_6', 'wc2.1_30s_bio_5', 'wc2.1_30s_bio_4', 'wc2.1_30s_bio_3', 'wc2.1_30s_bio_2', 'wc2.1_30s_bio_1', 'wc2.1_30s_elev']\n",
      "wc2.1_30s_bio_19: 1\n",
      "wc2.1_30s_bio_18: 1\n",
      "wc2.1_30s_bio_17: 7\n",
      "wc2.1_30s_bio_16: 2\n",
      "wc2.1_30s_bio_15: 1\n",
      "wc2.1_30s_bio_14: 12\n",
      "wc2.1_30s_bio_13: 1\n",
      "wc2.1_30s_bio_12: 3\n",
      "wc2.1_30s_bio_11: 8\n",
      "wc2.1_30s_bio_10: 6\n",
      "wc2.1_30s_bio_9: 9\n",
      "wc2.1_30s_bio_8: 14\n",
      "wc2.1_30s_bio_7: 4\n",
      "wc2.1_30s_bio_6: 10\n",
      "wc2.1_30s_bio_5: 11\n",
      "wc2.1_30s_bio_4: 5\n",
      "wc2.1_30s_bio_3: 15\n",
      "wc2.1_30s_bio_2: 16\n",
      "wc2.1_30s_bio_1: 13\n",
      "wc2.1_30s_elev: 1\n",
      "wc2.1_30s_bio_15: 0.2507473880173202\n",
      "wc2.1_30s_elev: 0.2414905235138126\n",
      "wc2.1_30s_bio_13: 0.2293672405420111\n",
      "wc2.1_30s_bio_18: 0.14820216845909553\n",
      "wc2.1_30s_bio_19: 0.13019267946776045\n"
     ]
    },
    {
     "data": {
      "text/html": [
       "<h3>Balanced accuracy estimation for the best feature subset: </h3>"
      ]
     },
     "metadata": {},
     "output_type": "display_data"
    },
    {
     "name": "stdout",
     "output_type": "stream",
     "text": [
      "[1. 1. 1. 1. 1.]\n"
     ]
    },
    {
     "data": {
      "text/html": [
       "<h3>Balanced accuracy estimation for all features in the experiment: </h3>"
      ]
     },
     "metadata": {},
     "output_type": "display_data"
    },
    {
     "name": "stdout",
     "output_type": "stream",
     "text": [
      "[1. 1. 1. 1. 1.]\n"
     ]
    },
    {
     "data": {
      "text/html": [
       "<hr>"
      ]
     },
     "metadata": {},
     "output_type": "display_data"
    },
    {
     "data": {
      "text/html": [
       "<h1>END OF COMPUTATIONS</h1>"
      ]
     },
     "metadata": {},
     "output_type": "display_data"
    },
    {
     "data": {
      "text/html": [
       "<h1>All datasets. Feature set name: all_features</h1>"
      ]
     },
     "metadata": {},
     "output_type": "display_data"
    },
    {
     "data": {
      "text/html": [
       "<h2>datasets: ['prim', 'khanka', 'mes', 'steppe', 'khanka_only'] </h2>"
      ]
     },
     "metadata": {},
     "output_type": "display_data"
    },
    {
     "data": {
      "image/png": "[encoded data removed]",
      "text/plain": [
       "<Figure size 640x480 with 1 Axes>"
      ]
     },
     "metadata": {},
     "output_type": "display_data"
    },
    {
     "data": {
      "text/html": [
       "<h3>Explained coef ratio (LDA) for prim_khanka_mes_steppe_khanka_only: [0.59425638 0.3084311 ] </h3>"
      ]
     },
     "metadata": {},
     "output_type": "display_data"
    },
    {
     "data": {
      "text/html": [
       "<h3>Feature importances of all considered features: </h3>"
      ]
     },
     "metadata": {},
     "output_type": "display_data"
    },
    {
     "name": "stdout",
     "output_type": "stream",
     "text": [
      "wc2.1_30s_bio_18 = 0.056048489743225405\n",
      "wc2.1_30s_bio_16 = 0.046497333980186045\n",
      "ai_v3_yr = 0.03928626483168852\n",
      "wc2.1_30s_bio_13 = 0.038292493530007146\n",
      "wc2.1_30s_bio_12 = 0.03791663979415765\n",
      "current_30arcsec_minTempWarmest = 0.0350988079433833\n",
      "current_30arcsec_continentality = 0.030996057127409986\n",
      "current_30arcsec_climaticMoistureIndex = 0.02755411572345495\n",
      "wc2.1_30s_bio_4 = 0.026616879978544825\n",
      "wc2.1_30s_bio_8 = 0.026182397882077185\n",
      "current_30arcsec_aridityIndexThornthwaite = 0.026138371224698323\n",
      "current_30arcsec_embergerQ = 0.024899984950469377\n",
      "wc2.1_30s_bio_3 = 0.02224623466016004\n",
      "current_30arcsec_PETseasonality = 0.021959923397344854\n",
      "wc2.1_30s_bio_19 = 0.021584828126624184\n",
      "wc2.1_30s_bio_15 = 0.021196729163253457\n",
      "wc2.1_30s_bio_10 = 0.020091416975808973\n",
      "wc2.1_30s_elev = 0.018554164833033748\n",
      "current_30arcsec_PETWettestQuarter = 0.018038743261938894\n",
      "current_30arcsec_annualPET = 0.017894803075246022\n",
      "current_30arcsec_tri = 0.017870907597683533\n",
      "current_30arcsec_topoWet = 0.017517114068169026\n",
      "wc2.1_30s_bio_1 = 0.017483430976069213\n",
      "et0_v3_yr = 0.01714767225709113\n",
      "wc2.1_30s_bio_9 = 0.017080720503061853\n",
      "current_30arcsec_growingDegDays5 = 0.017021776810345314\n",
      "wc2.1_30s_bio_2 = 0.01682818625645065\n",
      "wc2.1_30s_bio_7 = 0.016673174028327627\n",
      "current_30arcsec_PETDriestQuarter = 0.01656482719291159\n",
      "wc2.1_30s_bio_5 = 0.016359222996860306\n",
      "FOR_2000 = 0.016180838580579705\n",
      "current_30arcsec_thermicityIndex = 0.015697611523995767\n",
      "wc2.1_30s_bio_11 = 0.015442238133842325\n",
      "current_30arcsec_PETColdestQuarter = 0.015171490443423545\n",
      "GRS_2000 = 0.015109498574910465\n",
      "current_30arcsec_PETWarmestQuarter = 0.014974665755517534\n",
      "current_30arcsec_growingDegDays0 = 0.014858607162741096\n",
      "wc2.1_30s_bio_17 = 0.014829718224872059\n",
      "URB_2000 = 0.014344660279717494\n",
      "CULTRF_2000 = 0.014059435975360145\n",
      "current_30arcsec_maxTempColdest = 0.014012279834400137\n",
      "CULT_2000 = 0.013809684949728203\n",
      "wc2.1_30s_bio_6 = 0.01326214828154997\n",
      "NVG_2000 = 0.01219789267979961\n",
      "wc2.1_30s_bio_14 = 0.011875755778055658\n",
      "current_30arcsec_monthCountByTemp10 = 0.008339534419954796\n",
      "CULTIR_2000 = 0.006163926893984844\n",
      "sq3 = 0.004951053647600275\n",
      "sq7 = 0.004031333437141858\n",
      "sq1 = 0.0035040761347131504\n",
      "sq2 = 0.0031690888497348173\n",
      "sq4 = 0.0027767759831917303\n",
      "sq5 = 0.0018336463917071712\n",
      "sq6 = 0.0017623251737945167\n"
     ]
    },
    {
     "data": {
      "text/html": [
       "<h3>Recursive feature elimination procedure, selection the most informative features from</h3>"
      ]
     },
     "metadata": {},
     "output_type": "display_data"
    },
    {
     "name": "stdout",
     "output_type": "stream",
     "text": [
      "['URB_2000', 'NVG_2000', 'GRS_2000', 'FOR_2000', 'CULTRF_2000', 'CULTIR_2000', 'CULT_2000', 'sq1', 'sq2', 'sq3', 'sq4', 'sq5', 'sq6', 'sq7', 'et0_v3_yr', 'ai_v3_yr', 'wc2.1_30s_bio_19', 'wc2.1_30s_bio_18', 'wc2.1_30s_bio_17', 'wc2.1_30s_bio_16', 'wc2.1_30s_bio_15', 'wc2.1_30s_bio_14', 'wc2.1_30s_bio_13', 'wc2.1_30s_bio_12', 'wc2.1_30s_bio_11', 'wc2.1_30s_bio_10', 'wc2.1_30s_bio_9', 'wc2.1_30s_bio_8', 'wc2.1_30s_bio_7', 'wc2.1_30s_bio_6', 'wc2.1_30s_bio_5', 'wc2.1_30s_bio_4', 'wc2.1_30s_bio_3', 'wc2.1_30s_bio_2', 'wc2.1_30s_bio_1', 'wc2.1_30s_elev', 'current_30arcsec_tri', 'current_30arcsec_topoWet', 'current_30arcsec_thermicityIndex', 'current_30arcsec_PETWettestQuarter', 'current_30arcsec_PETWarmestQuarter', 'current_30arcsec_PETseasonality', 'current_30arcsec_PETDriestQuarter', 'current_30arcsec_PETColdestQuarter', 'current_30arcsec_monthCountByTemp10', 'current_30arcsec_minTempWarmest', 'current_30arcsec_maxTempColdest', 'current_30arcsec_growingDegDays5', 'current_30arcsec_growingDegDays0', 'current_30arcsec_embergerQ', 'current_30arcsec_continentality', 'current_30arcsec_climaticMoistureIndex', 'current_30arcsec_aridityIndexThornthwaite', 'current_30arcsec_annualPET']\n",
      "URB_2000: 1\n",
      "NVG_2000: 1\n",
      "GRS_2000: 1\n",
      "FOR_2000: 1\n",
      "CULTRF_2000: 1\n",
      "CULTIR_2000: 3\n",
      "CULT_2000: 1\n",
      "sq1: 6\n",
      "sq2: 7\n",
      "sq3: 5\n",
      "sq4: 8\n",
      "sq5: 9\n",
      "sq6: 10\n",
      "sq7: 2\n",
      "et0_v3_yr: 1\n",
      "ai_v3_yr: 1\n",
      "wc2.1_30s_bio_19: 1\n",
      "wc2.1_30s_bio_18: 1\n",
      "wc2.1_30s_bio_17: 1\n",
      "wc2.1_30s_bio_16: 1\n",
      "wc2.1_30s_bio_15: 1\n",
      "wc2.1_30s_bio_14: 1\n",
      "wc2.1_30s_bio_13: 1\n",
      "wc2.1_30s_bio_12: 1\n",
      "wc2.1_30s_bio_11: 1\n",
      "wc2.1_30s_bio_10: 1\n",
      "wc2.1_30s_bio_9: 1\n",
      "wc2.1_30s_bio_8: 1\n",
      "wc2.1_30s_bio_7: 1\n",
      "wc2.1_30s_bio_6: 1\n",
      "wc2.1_30s_bio_5: 1\n",
      "wc2.1_30s_bio_4: 1\n",
      "wc2.1_30s_bio_3: 1\n",
      "wc2.1_30s_bio_2: 1\n",
      "wc2.1_30s_bio_1: 1\n",
      "wc2.1_30s_elev: 1\n",
      "current_30arcsec_tri: 1\n",
      "current_30arcsec_topoWet: 1\n",
      "current_30arcsec_thermicityIndex: 1\n",
      "current_30arcsec_PETWettestQuarter: 1\n",
      "current_30arcsec_PETWarmestQuarter: 1\n",
      "current_30arcsec_PETseasonality: 1\n",
      "current_30arcsec_PETDriestQuarter: 1\n",
      "current_30arcsec_PETColdestQuarter: 1\n",
      "current_30arcsec_monthCountByTemp10: 4\n",
      "current_30arcsec_minTempWarmest: 1\n",
      "current_30arcsec_maxTempColdest: 1\n",
      "current_30arcsec_growingDegDays5: 1\n",
      "current_30arcsec_growingDegDays0: 1\n",
      "current_30arcsec_embergerQ: 1\n",
      "current_30arcsec_continentality: 1\n",
      "current_30arcsec_climaticMoistureIndex: 1\n",
      "current_30arcsec_aridityIndexThornthwaite: 1\n",
      "current_30arcsec_annualPET: 1\n",
      "wc2.1_30s_bio_18: 0.04539760817007907\n",
      "wc2.1_30s_bio_16: 0.04188318917852355\n",
      "wc2.1_30s_bio_13: 0.041239358933896006\n",
      "wc2.1_30s_bio_12: 0.04027599579925024\n",
      "current_30arcsec_minTempWarmest: 0.035974705495998294\n",
      "ai_v3_yr: 0.03561469000631089\n",
      "current_30arcsec_aridityIndexThornthwaite: 0.03338174932986694\n",
      "wc2.1_30s_bio_8: 0.032610557100960384\n",
      "current_30arcsec_continentality: 0.030939956165165695\n",
      "current_30arcsec_embergerQ: 0.029281708446949335\n",
      "wc2.1_30s_bio_4: 0.028628916777205773\n",
      "current_30arcsec_PETseasonality: 0.026038442100302032\n",
      "current_30arcsec_climaticMoistureIndex: 0.024725900341839104\n",
      "wc2.1_30s_bio_10: 0.02471901644004859\n",
      "wc2.1_30s_bio_15: 0.024132555603931023\n",
      "wc2.1_30s_bio_3: 0.02278701679988722\n",
      "current_30arcsec_growingDegDays5: 0.02041251501171196\n",
      "wc2.1_30s_bio_5: 0.019390226835838666\n",
      "et0_v3_yr: 0.01919410136333511\n",
      "wc2.1_30s_bio_9: 0.019011327944448358\n",
      "wc2.1_30s_bio_7: 0.01896459122102983\n",
      "current_30arcsec_annualPET: 0.018708430416289466\n",
      "current_30arcsec_topoWet: 0.018448116883844703\n",
      "current_30arcsec_tri: 0.018320857675281795\n",
      "wc2.1_30s_elev: 0.018266008329550727\n",
      "current_30arcsec_PETWettestQuarter: 0.018120721266161263\n",
      "FOR_2000: 0.01800702003920219\n",
      "current_30arcsec_thermicityIndex: 0.017534617970479706\n",
      "wc2.1_30s_bio_1: 0.01730171867328474\n",
      "current_30arcsec_PETDriestQuarter: 0.016815089794814542\n",
      "wc2.1_30s_bio_19: 0.01666738084138321\n",
      "wc2.1_30s_bio_2: 0.016600815247925456\n",
      "wc2.1_30s_bio_17: 0.01643305054881183\n",
      "current_30arcsec_PETWarmestQuarter: 0.0163594814713718\n",
      "current_30arcsec_PETColdestQuarter: 0.01583944823794419\n",
      "GRS_2000: 0.01578827471984346\n",
      "URB_2000: 0.015655735382542516\n",
      "current_30arcsec_maxTempColdest: 0.015297552709724495\n",
      "wc2.1_30s_bio_11: 0.015257549191936174\n",
      "current_30arcsec_growingDegDays0: 0.014198550312468852\n",
      "CULT_2000: 0.014122631451956821\n",
      "CULTRF_2000: 0.0140475809419576\n",
      "wc2.1_30s_bio_6: 0.013847055447727782\n",
      "NVG_2000: 0.01202470213495926\n",
      "wc2.1_30s_bio_14: 0.011733481243959556\n"
     ]
    },
    {
     "data": {
      "text/html": [
       "<h3>Balanced accuracy estimation for the best feature subset: </h3>"
      ]
     },
     "metadata": {},
     "output_type": "display_data"
    },
    {
     "name": "stdout",
     "output_type": "stream",
     "text": [
      "[0.58835605 0.54813265 0.51374895 0.64619198 0.64787013]\n"
     ]
    },
    {
     "data": {
      "text/html": [
       "<h3>Balanced accuracy estimation for all features in the experiment: </h3>"
      ]
     },
     "metadata": {},
     "output_type": "display_data"
    },
    {
     "name": "stdout",
     "output_type": "stream",
     "text": [
      "[0.60731928 0.59418683 0.51895034 0.60001396 0.64353498]\n"
     ]
    },
    {
     "data": {
      "text/html": [
       "<hr>"
      ]
     },
     "metadata": {},
     "output_type": "display_data"
    },
    {
     "data": {
      "text/html": [
       "<hr>"
      ]
     },
     "metadata": {},
     "output_type": "display_data"
    },
    {
     "data": {
      "text/html": [
       "<h1>Pair analysis.  Feature set name: all_features</h1>"
      ]
     },
     "metadata": {},
     "output_type": "display_data"
    },
    {
     "data": {
      "text/html": [
       "<h2>Datasets to compare: prim, khanka</h2>"
      ]
     },
     "metadata": {},
     "output_type": "display_data"
    },
    {
     "data": {
      "text/html": [
       "<h3>Feature importances of all considered features: </h3>"
      ]
     },
     "metadata": {},
     "output_type": "display_data"
    },
    {
     "name": "stdout",
     "output_type": "stream",
     "text": [
      "wc2.1_30s_bio_19 = 0.07702274792468679\n",
      "wc2.1_30s_bio_8 = 0.07245714307592103\n",
      "current_30arcsec_embergerQ = 0.07190583805198132\n",
      "wc2.1_30s_bio_17 = 0.05966082488713621\n",
      "wc2.1_30s_bio_7 = 0.046162720486717906\n",
      "current_30arcsec_continentality = 0.04513652373277258\n",
      "wc2.1_30s_bio_14 = 0.04106693415116264\n",
      "wc2.1_30s_bio_4 = 0.03865659816294552\n",
      "wc2.1_30s_bio_12 = 0.03704252942027122\n",
      "current_30arcsec_PETseasonality = 0.03004798044748118\n",
      "wc2.1_30s_bio_15 = 0.021787108046770403\n",
      "ai_v3_yr = 0.021342136750431305\n",
      "current_30arcsec_minTempWarmest = 0.02098362507593607\n",
      "current_30arcsec_growingDegDays5 = 0.02074357333456711\n",
      "wc2.1_30s_bio_9 = 0.017749544922033116\n",
      "current_30arcsec_growingDegDays0 = 0.01628006087338664\n",
      "current_30arcsec_thermicityIndex = 0.01625507662703101\n",
      "current_30arcsec_tri = 0.015814823116920857\n",
      "wc2.1_30s_bio_10 = 0.015778009564071833\n",
      "current_30arcsec_PETWarmestQuarter = 0.015041868719214393\n",
      "current_30arcsec_topoWet = 0.014766537503357898\n",
      "GRS_2000 = 0.014089954760104611\n",
      "wc2.1_30s_bio_2 = 0.014046336775090961\n",
      "wc2.1_30s_bio_3 = 0.01374463442116874\n",
      "current_30arcsec_climaticMoistureIndex = 0.013526516973021352\n",
      "wc2.1_30s_bio_1 = 0.013470065447816216\n",
      "wc2.1_30s_bio_11 = 0.013103201103646735\n",
      "FOR_2000 = 0.012392381231775742\n",
      "current_30arcsec_PETWettestQuarter = 0.01236238245377922\n",
      "current_30arcsec_annualPET = 0.012020989863228141\n",
      "wc2.1_30s_elev = 0.011709645698078783\n",
      "et0_v3_yr = 0.01115544756815168\n",
      "wc2.1_30s_bio_16 = 0.011011662061914982\n",
      "current_30arcsec_PETDriestQuarter = 0.010807572566115947\n",
      "wc2.1_30s_bio_5 = 0.010628633666985406\n",
      "wc2.1_30s_bio_13 = 0.009840551959169183\n",
      "wc2.1_30s_bio_6 = 0.009809135281228109\n",
      "wc2.1_30s_bio_18 = 0.009737787217879643\n",
      "current_30arcsec_aridityIndexThornthwaite = 0.009340454327513644\n",
      "URB_2000 = 0.008995027436853716\n",
      "current_30arcsec_maxTempColdest = 0.008228254651380237\n",
      "CULT_2000 = 0.008121153601650978\n",
      "CULTRF_2000 = 0.0074562444280135195\n",
      "current_30arcsec_monthCountByTemp10 = 0.007306198227026262\n",
      "NVG_2000 = 0.006358521421730786\n",
      "current_30arcsec_PETColdestQuarter = 0.006236499944157323\n",
      "sq7 = 0.003565352451909168\n",
      "sq1 = 0.0029726631701544838\n",
      "sq3 = 0.0029520151589100983\n",
      "CULTIR_2000 = 0.002845583092076849\n",
      "sq4 = 0.0019471086676850354\n",
      "sq2 = 0.0017905745914051975\n",
      "sq5 = 0.0015923254537517334\n",
      "sq6 = 0.0011329194518286305\n"
     ]
    },
    {
     "data": {
      "text/html": [
       "<h3>Recursive feature elimination procedure, selection the most informative features from</h3>"
      ]
     },
     "metadata": {},
     "output_type": "display_data"
    },
    {
     "name": "stdout",
     "output_type": "stream",
     "text": [
      "['URB_2000', 'NVG_2000', 'GRS_2000', 'FOR_2000', 'CULTRF_2000', 'CULTIR_2000', 'CULT_2000', 'sq1', 'sq2', 'sq3', 'sq4', 'sq5', 'sq6', 'sq7', 'et0_v3_yr', 'ai_v3_yr', 'wc2.1_30s_bio_19', 'wc2.1_30s_bio_18', 'wc2.1_30s_bio_17', 'wc2.1_30s_bio_16', 'wc2.1_30s_bio_15', 'wc2.1_30s_bio_14', 'wc2.1_30s_bio_13', 'wc2.1_30s_bio_12', 'wc2.1_30s_bio_11', 'wc2.1_30s_bio_10', 'wc2.1_30s_bio_9', 'wc2.1_30s_bio_8', 'wc2.1_30s_bio_7', 'wc2.1_30s_bio_6', 'wc2.1_30s_bio_5', 'wc2.1_30s_bio_4', 'wc2.1_30s_bio_3', 'wc2.1_30s_bio_2', 'wc2.1_30s_bio_1', 'wc2.1_30s_elev', 'current_30arcsec_tri', 'current_30arcsec_topoWet', 'current_30arcsec_thermicityIndex', 'current_30arcsec_PETWettestQuarter', 'current_30arcsec_PETWarmestQuarter', 'current_30arcsec_PETseasonality', 'current_30arcsec_PETDriestQuarter', 'current_30arcsec_PETColdestQuarter', 'current_30arcsec_monthCountByTemp10', 'current_30arcsec_minTempWarmest', 'current_30arcsec_maxTempColdest', 'current_30arcsec_growingDegDays5', 'current_30arcsec_growingDegDays0', 'current_30arcsec_embergerQ', 'current_30arcsec_continentality', 'current_30arcsec_climaticMoistureIndex', 'current_30arcsec_aridityIndexThornthwaite', 'current_30arcsec_annualPET']\n",
      "URB_2000: 8\n",
      "NVG_2000: 13\n",
      "GRS_2000: 1\n",
      "FOR_2000: 1\n",
      "CULTRF_2000: 12\n",
      "CULTIR_2000: 18\n",
      "CULT_2000: 9\n",
      "sq1: 20\n",
      "sq2: 19\n",
      "sq3: 15\n",
      "sq4: 21\n",
      "sq5: 23\n",
      "sq6: 22\n",
      "sq7: 17\n",
      "et0_v3_yr: 1\n",
      "ai_v3_yr: 1\n",
      "wc2.1_30s_bio_19: 1\n",
      "wc2.1_30s_bio_18: 4\n",
      "wc2.1_30s_bio_17: 1\n",
      "wc2.1_30s_bio_16: 11\n",
      "wc2.1_30s_bio_15: 1\n",
      "wc2.1_30s_bio_14: 1\n",
      "wc2.1_30s_bio_13: 1\n",
      "wc2.1_30s_bio_12: 1\n",
      "wc2.1_30s_bio_11: 5\n",
      "wc2.1_30s_bio_10: 1\n",
      "wc2.1_30s_bio_9: 1\n",
      "wc2.1_30s_bio_8: 1\n",
      "wc2.1_30s_bio_7: 1\n",
      "wc2.1_30s_bio_6: 1\n",
      "wc2.1_30s_bio_5: 6\n",
      "wc2.1_30s_bio_4: 1\n",
      "wc2.1_30s_bio_3: 1\n",
      "wc2.1_30s_bio_2: 2\n",
      "wc2.1_30s_bio_1: 1\n",
      "wc2.1_30s_elev: 1\n",
      "current_30arcsec_tri: 1\n",
      "current_30arcsec_topoWet: 1\n",
      "current_30arcsec_thermicityIndex: 1\n",
      "current_30arcsec_PETWettestQuarter: 1\n",
      "current_30arcsec_PETWarmestQuarter: 1\n",
      "current_30arcsec_PETseasonality: 1\n",
      "current_30arcsec_PETDriestQuarter: 1\n",
      "current_30arcsec_PETColdestQuarter: 14\n",
      "current_30arcsec_monthCountByTemp10: 16\n",
      "current_30arcsec_minTempWarmest: 1\n",
      "current_30arcsec_maxTempColdest: 7\n",
      "current_30arcsec_growingDegDays5: 1\n",
      "current_30arcsec_growingDegDays0: 1\n",
      "current_30arcsec_embergerQ: 1\n",
      "current_30arcsec_continentality: 1\n",
      "current_30arcsec_climaticMoistureIndex: 10\n",
      "current_30arcsec_aridityIndexThornthwaite: 3\n",
      "current_30arcsec_annualPET: 1\n",
      "wc2.1_30s_bio_8: 0.12126064994242057\n",
      "wc2.1_30s_bio_4: 0.06493761702684515\n",
      "wc2.1_30s_bio_19: 0.06443723124567675\n",
      "current_30arcsec_embergerQ: 0.06038171685109228\n",
      "current_30arcsec_continentality: 0.058063592439717926\n",
      "wc2.1_30s_bio_17: 0.04674892355894387\n",
      "wc2.1_30s_bio_12: 0.03710630152627761\n",
      "wc2.1_30s_bio_14: 0.03629765882395462\n",
      "current_30arcsec_PETWettestQuarter: 0.033629395482597677\n",
      "wc2.1_30s_bio_7: 0.03147030665797836\n",
      "ai_v3_yr: 0.030296211201791184\n",
      "current_30arcsec_PETDriestQuarter: 0.030063043339804855\n",
      "current_30arcsec_minTempWarmest: 0.02721506977902433\n",
      "wc2.1_30s_bio_9: 0.022977282961771706\n",
      "current_30arcsec_topoWet: 0.021970976353044604\n",
      "current_30arcsec_PETseasonality: 0.02195335275947057\n",
      "current_30arcsec_thermicityIndex: 0.0218410765598703\n",
      "current_30arcsec_tri: 0.021045548987892872\n",
      "current_30arcsec_growingDegDays5: 0.020330219132694755\n",
      "wc2.1_30s_bio_10: 0.019882153242925298\n",
      "current_30arcsec_growingDegDays0: 0.019520010915978575\n",
      "FOR_2000: 0.018569392311047792\n",
      "wc2.1_30s_bio_3: 0.01839017781535606\n",
      "GRS_2000: 0.018328818396648155\n",
      "wc2.1_30s_bio_15: 0.018004352231158392\n",
      "et0_v3_yr: 0.01782738411406497\n",
      "current_30arcsec_PETWarmestQuarter: 0.017558033518924206\n",
      "current_30arcsec_annualPET: 0.016494359775864435\n",
      "wc2.1_30s_bio_1: 0.016230140032141044\n",
      "wc2.1_30s_elev: 0.016129907133212582\n",
      "wc2.1_30s_bio_6: 0.015820245687402847\n",
      "wc2.1_30s_bio_13: 0.015218850194405631\n"
     ]
    },
    {
     "data": {
      "text/html": [
       "<h3>Balanced accuracy estimation for the best feature subset: </h3>"
      ]
     },
     "metadata": {},
     "output_type": "display_data"
    },
    {
     "name": "stdout",
     "output_type": "stream",
     "text": [
      "[0.82016793 0.84512563 0.81684198 0.81154657 0.81640329]\n"
     ]
    },
    {
     "data": {
      "text/html": [
       "<h3>Balanced accuracy estimation for all features in the experiment: </h3>"
      ]
     },
     "metadata": {},
     "output_type": "display_data"
    },
    {
     "name": "stdout",
     "output_type": "stream",
     "text": [
      "[0.81905928 0.84179969 0.82062505 0.81962705 0.81674041]\n"
     ]
    },
    {
     "data": {
      "text/html": [
       "<hr>"
      ]
     },
     "metadata": {},
     "output_type": "display_data"
    },
    {
     "data": {
      "text/html": [
       "<h2>Datasets to compare: prim, mes</h2>"
      ]
     },
     "metadata": {},
     "output_type": "display_data"
    },
    {
     "data": {
      "text/html": [
       "<h3>Feature importances of all considered features: </h3>"
      ]
     },
     "metadata": {},
     "output_type": "display_data"
    },
    {
     "name": "stdout",
     "output_type": "stream",
     "text": [
      "wc2.1_30s_bio_8 = 0.15627744681978709\n",
      "current_30arcsec_minTempWarmest = 0.10612036460425023\n",
      "wc2.1_30s_bio_10 = 0.07196382052546901\n",
      "wc2.1_30s_bio_5 = 0.051212340592272684\n",
      "current_30arcsec_continentality = 0.0511601627037113\n",
      "wc2.1_30s_bio_4 = 0.04375686123250087\n",
      "current_30arcsec_PETWettestQuarter = 0.04192171716088098\n",
      "wc2.1_30s_elev = 0.03426616568585562\n",
      "current_30arcsec_growingDegDays5 = 0.02546995601415363\n",
      "sq1 = 0.01956603036318282\n",
      "wc2.1_30s_bio_18 = 0.017982607866007142\n",
      "wc2.1_30s_bio_15 = 0.016495109783678064\n",
      "sq7 = 0.015471919790455733\n",
      "sq3 = 0.014068884252477798\n",
      "current_30arcsec_tri = 0.013833958189659408\n",
      "wc2.1_30s_bio_3 = 0.013600989712023708\n",
      "current_30arcsec_thermicityIndex = 0.012941770026274321\n",
      "wc2.1_30s_bio_7 = 0.012870888401993736\n",
      "sq5 = 0.012475896041903222\n",
      "current_30arcsec_PETDriestQuarter = 0.012344966916531386\n",
      "wc2.1_30s_bio_13 = 0.012142052767814533\n",
      "wc2.1_30s_bio_19 = 0.011243901775241108\n",
      "wc2.1_30s_bio_16 = 0.010521022147519838\n",
      "current_30arcsec_annualPET = 0.010396490879461701\n",
      "current_30arcsec_growingDegDays0 = 0.010167154836143057\n",
      "current_30arcsec_topoWet = 0.009846481060661933\n",
      "wc2.1_30s_bio_1 = 0.009526891780232796\n",
      "current_30arcsec_PETseasonality = 0.009145905212702529\n",
      "current_30arcsec_PETWarmestQuarter = 0.008784931079376713\n",
      "wc2.1_30s_bio_9 = 0.008660438118051185\n",
      "et0_v3_yr = 0.008567362407463565\n",
      "sq4 = 0.008429551201683606\n",
      "sq6 = 0.008361548833988057\n",
      "GRS_2000 = 0.008103013474137433\n",
      "NVG_2000 = 0.00767030540304545\n",
      "current_30arcsec_monthCountByTemp10 = 0.007509174487334771\n",
      "sq2 = 0.0073629806032162815\n",
      "ai_v3_yr = 0.007041903394698761\n",
      "FOR_2000 = 0.007016574915362301\n",
      "wc2.1_30s_bio_12 = 0.0068959082788087765\n",
      "URB_2000 = 0.006800388347181706\n",
      "current_30arcsec_aridityIndexThornthwaite = 0.0067961929392965584\n",
      "wc2.1_30s_bio_11 = 0.006663669115258662\n",
      "current_30arcsec_embergerQ = 0.006212792838138153\n",
      "wc2.1_30s_bio_2 = 0.006191756264246923\n",
      "current_30arcsec_PETColdestQuarter = 0.006068284713571497\n",
      "current_30arcsec_maxTempColdest = 0.006055901365852553\n",
      "current_30arcsec_climaticMoistureIndex = 0.005831230160308875\n",
      "wc2.1_30s_bio_17 = 0.00566390225974238\n",
      "CULT_2000 = 0.005477641402793803\n",
      "wc2.1_30s_bio_6 = 0.004750963032284043\n",
      "CULTRF_2000 = 0.004510287563225977\n",
      "wc2.1_30s_bio_14 = 0.004316021319957438\n",
      "CULTIR_2000 = 0.003465519338128312\n"
     ]
    },
    {
     "data": {
      "text/html": [
       "<h3>Recursive feature elimination procedure, selection the most informative features from</h3>"
      ]
     },
     "metadata": {},
     "output_type": "display_data"
    },
    {
     "name": "stdout",
     "output_type": "stream",
     "text": [
      "['URB_2000', 'NVG_2000', 'GRS_2000', 'FOR_2000', 'CULTRF_2000', 'CULTIR_2000', 'CULT_2000', 'sq1', 'sq2', 'sq3', 'sq4', 'sq5', 'sq6', 'sq7', 'et0_v3_yr', 'ai_v3_yr', 'wc2.1_30s_bio_19', 'wc2.1_30s_bio_18', 'wc2.1_30s_bio_17', 'wc2.1_30s_bio_16', 'wc2.1_30s_bio_15', 'wc2.1_30s_bio_14', 'wc2.1_30s_bio_13', 'wc2.1_30s_bio_12', 'wc2.1_30s_bio_11', 'wc2.1_30s_bio_10', 'wc2.1_30s_bio_9', 'wc2.1_30s_bio_8', 'wc2.1_30s_bio_7', 'wc2.1_30s_bio_6', 'wc2.1_30s_bio_5', 'wc2.1_30s_bio_4', 'wc2.1_30s_bio_3', 'wc2.1_30s_bio_2', 'wc2.1_30s_bio_1', 'wc2.1_30s_elev', 'current_30arcsec_tri', 'current_30arcsec_topoWet', 'current_30arcsec_thermicityIndex', 'current_30arcsec_PETWettestQuarter', 'current_30arcsec_PETWarmestQuarter', 'current_30arcsec_PETseasonality', 'current_30arcsec_PETDriestQuarter', 'current_30arcsec_PETColdestQuarter', 'current_30arcsec_monthCountByTemp10', 'current_30arcsec_minTempWarmest', 'current_30arcsec_maxTempColdest', 'current_30arcsec_growingDegDays5', 'current_30arcsec_growingDegDays0', 'current_30arcsec_embergerQ', 'current_30arcsec_continentality', 'current_30arcsec_climaticMoistureIndex', 'current_30arcsec_aridityIndexThornthwaite', 'current_30arcsec_annualPET']\n",
      "URB_2000: 1\n",
      "NVG_2000: 2\n",
      "GRS_2000: 1\n",
      "FOR_2000: 1\n",
      "CULTRF_2000: 1\n",
      "CULTIR_2000: 9\n",
      "CULT_2000: 5\n",
      "sq1: 1\n",
      "sq2: 1\n",
      "sq3: 1\n",
      "sq4: 1\n",
      "sq5: 1\n",
      "sq6: 1\n",
      "sq7: 1\n",
      "et0_v3_yr: 1\n",
      "ai_v3_yr: 1\n",
      "wc2.1_30s_bio_19: 1\n",
      "wc2.1_30s_bio_18: 1\n",
      "wc2.1_30s_bio_17: 1\n",
      "wc2.1_30s_bio_16: 1\n",
      "wc2.1_30s_bio_15: 1\n",
      "wc2.1_30s_bio_14: 7\n",
      "wc2.1_30s_bio_13: 1\n",
      "wc2.1_30s_bio_12: 1\n",
      "wc2.1_30s_bio_11: 3\n",
      "wc2.1_30s_bio_10: 1\n",
      "wc2.1_30s_bio_9: 1\n",
      "wc2.1_30s_bio_8: 1\n",
      "wc2.1_30s_bio_7: 1\n",
      "wc2.1_30s_bio_6: 8\n",
      "wc2.1_30s_bio_5: 1\n",
      "wc2.1_30s_bio_4: 1\n",
      "wc2.1_30s_bio_3: 1\n",
      "wc2.1_30s_bio_2: 1\n",
      "wc2.1_30s_bio_1: 1\n",
      "wc2.1_30s_elev: 1\n",
      "current_30arcsec_tri: 1\n",
      "current_30arcsec_topoWet: 1\n",
      "current_30arcsec_thermicityIndex: 1\n",
      "current_30arcsec_PETWettestQuarter: 1\n",
      "current_30arcsec_PETWarmestQuarter: 1\n",
      "current_30arcsec_PETseasonality: 1\n",
      "current_30arcsec_PETDriestQuarter: 1\n",
      "current_30arcsec_PETColdestQuarter: 4\n",
      "current_30arcsec_monthCountByTemp10: 1\n",
      "current_30arcsec_minTempWarmest: 1\n",
      "current_30arcsec_maxTempColdest: 1\n",
      "current_30arcsec_growingDegDays5: 1\n",
      "current_30arcsec_growingDegDays0: 1\n",
      "current_30arcsec_embergerQ: 1\n",
      "current_30arcsec_continentality: 1\n",
      "current_30arcsec_climaticMoistureIndex: 6\n",
      "current_30arcsec_aridityIndexThornthwaite: 1\n",
      "current_30arcsec_annualPET: 1\n",
      "wc2.1_30s_bio_8: 0.11605258638633571\n",
      "current_30arcsec_minTempWarmest: 0.08505362995826529\n",
      "wc2.1_30s_bio_10: 0.06445152876163802\n",
      "wc2.1_30s_bio_4: 0.054455709826468156\n",
      "current_30arcsec_PETWettestQuarter: 0.05280340469953825\n",
      "current_30arcsec_growingDegDays5: 0.048676351744312354\n",
      "wc2.1_30s_bio_5: 0.04250674758598742\n",
      "current_30arcsec_continentality: 0.03973424479586027\n",
      "wc2.1_30s_elev: 0.029080563621847813\n",
      "current_30arcsec_monthCountByTemp10: 0.0253055962552955\n",
      "current_30arcsec_thermicityIndex: 0.020007444050201172\n",
      "sq1: 0.019971797692083675\n",
      "wc2.1_30s_bio_18: 0.019558084506929824\n",
      "wc2.1_30s_bio_15: 0.018955868207949932\n",
      "sq3: 0.01886993875098349\n",
      "wc2.1_30s_bio_7: 0.018682507004819975\n",
      "current_30arcsec_growingDegDays0: 0.017103982603643274\n",
      "current_30arcsec_PETDriestQuarter: 0.016344614566555102\n",
      "wc2.1_30s_bio_16: 0.016170806976783008\n",
      "wc2.1_30s_bio_9: 0.01606891913953638\n",
      "wc2.1_30s_bio_19: 0.015960587173805427\n",
      "current_30arcsec_tri: 0.014413259847972587\n",
      "wc2.1_30s_bio_3: 0.014245718978090415\n",
      "sq2: 0.01397297047961603\n",
      "wc2.1_30s_bio_13: 0.01322309992220922\n",
      "sq6: 0.01214724178778211\n",
      "sq5: 0.011571433441391202\n",
      "current_30arcsec_PETseasonality: 0.011417196590528419\n",
      "current_30arcsec_PETWarmestQuarter: 0.01035484917187755\n",
      "wc2.1_30s_bio_1: 0.01002565646311971\n",
      "current_30arcsec_topoWet: 0.009551014739055917\n",
      "sq7: 0.0095358677043158\n",
      "et0_v3_yr: 0.009267330128031688\n",
      "wc2.1_30s_bio_12: 0.00917736732283366\n",
      "current_30arcsec_embergerQ: 0.008931160909280499\n",
      "FOR_2000: 0.008867723521165707\n",
      "GRS_2000: 0.008864346967350757\n",
      "sq4: 0.00882529473223429\n",
      "ai_v3_yr: 0.008513098067211355\n",
      "URB_2000: 0.00840684710730033\n",
      "current_30arcsec_aridityIndexThornthwaite: 0.008068458580067397\n",
      "current_30arcsec_annualPET: 0.007972442236926653\n",
      "wc2.1_30s_bio_17: 0.007713226623903303\n",
      "wc2.1_30s_bio_2: 0.0071909175746700535\n",
      "current_30arcsec_maxTempColdest: 0.006202345464177892\n",
      "CULTRF_2000: 0.005726217330047214\n"
     ]
    },
    {
     "data": {
      "text/html": [
       "<h3>Balanced accuracy estimation for the best feature subset: </h3>"
      ]
     },
     "metadata": {},
     "output_type": "display_data"
    },
    {
     "name": "stdout",
     "output_type": "stream",
     "text": [
      "[0.91629131 0.90237685 0.90673103 0.87709111 0.87939787]\n"
     ]
    },
    {
     "data": {
      "text/html": [
       "<h3>Balanced accuracy estimation for all features in the experiment: </h3>"
      ]
     },
     "metadata": {},
     "output_type": "display_data"
    },
    {
     "name": "stdout",
     "output_type": "stream",
     "text": [
      "[0.9149139  0.90000718 0.9019917  0.8804775  0.87601338]\n"
     ]
    },
    {
     "data": {
      "text/html": [
       "<hr>"
      ]
     },
     "metadata": {},
     "output_type": "display_data"
    },
    {
     "data": {
      "text/html": [
       "<h2>Datasets to compare: prim, steppe</h2>"
      ]
     },
     "metadata": {},
     "output_type": "display_data"
    },
    {
     "data": {
      "text/html": [
       "<h3>Feature importances of all considered features: </h3>"
      ]
     },
     "metadata": {},
     "output_type": "display_data"
    },
    {
     "name": "stdout",
     "output_type": "stream",
     "text": [
      "current_30arcsec_PETseasonality = 0.07496512880563426\n",
      "current_30arcsec_climaticMoistureIndex = 0.07064561755596217\n",
      "current_30arcsec_embergerQ = 0.0675570506978956\n",
      "current_30arcsec_aridityIndexThornthwaite = 0.059651030436162995\n",
      "ai_v3_yr = 0.0575168320867015\n",
      "wc2.1_30s_bio_12 = 0.05443845547471458\n",
      "current_30arcsec_PETWarmestQuarter = 0.038345302571800396\n",
      "wc2.1_30s_bio_17 = 0.0332776621117605\n",
      "wc2.1_30s_bio_4 = 0.02744462771023915\n",
      "wc2.1_30s_bio_8 = 0.023260491328609186\n",
      "current_30arcsec_PETWettestQuarter = 0.02157737968825217\n",
      "wc2.1_30s_bio_19 = 0.02071601634156832\n",
      "current_30arcsec_growingDegDays5 = 0.01863891487080953\n",
      "current_30arcsec_annualPET = 0.01859343485297989\n",
      "wc2.1_30s_bio_7 = 0.018337925998471845\n",
      "wc2.1_30s_bio_5 = 0.017372978671462164\n",
      "wc2.1_30s_bio_10 = 0.01717772415913094\n",
      "wc2.1_30s_bio_14 = 0.016194857036559526\n",
      "FOR_2000 = 0.015435140947961598\n",
      "wc2.1_30s_elev = 0.015209049037806198\n",
      "current_30arcsec_topoWet = 0.015163163501596097\n",
      "et0_v3_yr = 0.015138951925416031\n",
      "wc2.1_30s_bio_16 = 0.015032829355470359\n",
      "current_30arcsec_continentality = 0.014953541084667179\n",
      "wc2.1_30s_bio_1 = 0.014693607642067091\n",
      "current_30arcsec_growingDegDays0 = 0.014035333512189007\n",
      "GRS_2000 = 0.013606330679638857\n",
      "current_30arcsec_tri = 0.013103502370717052\n",
      "wc2.1_30s_bio_18 = 0.01253624344614488\n",
      "current_30arcsec_PETDriestQuarter = 0.012491529451529858\n",
      "wc2.1_30s_bio_3 = 0.012352418330610538\n",
      "wc2.1_30s_bio_2 = 0.012244036360558474\n",
      "wc2.1_30s_bio_15 = 0.011637206040814195\n",
      "URB_2000 = 0.011343766842608472\n",
      "current_30arcsec_thermicityIndex = 0.011154046130078714\n",
      "wc2.1_30s_bio_6 = 0.010381335463430204\n",
      "wc2.1_30s_bio_11 = 0.010309221357271248\n",
      "CULT_2000 = 0.010200488551982087\n",
      "current_30arcsec_minTempWarmest = 0.009780998299333673\n",
      "wc2.1_30s_bio_9 = 0.009664712572144732\n",
      "current_30arcsec_maxTempColdest = 0.009020829992337909\n",
      "CULTRF_2000 = 0.008652995468796304\n",
      "wc2.1_30s_bio_13 = 0.008368279874105974\n",
      "NVG_2000 = 0.00651547739160167\n",
      "current_30arcsec_PETColdestQuarter = 0.006390266714008048\n",
      "current_30arcsec_monthCountByTemp10 = 0.005114544385135349\n",
      "sq3 = 0.003845140379354551\n",
      "sq1 = 0.00380100130296473\n",
      "CULTIR_2000 = 0.0037839732953841468\n",
      "sq7 = 0.003759136197069781\n",
      "sq2 = 0.0017085302401542795\n",
      "sq4 = 0.0012458452198843973\n",
      "sq5 = 0.0008876490634282911\n",
      "sq6 = 0.0007274471730231553\n"
     ]
    },
    {
     "data": {
      "text/html": [
       "<h3>Recursive feature elimination procedure, selection the most informative features from</h3>"
      ]
     },
     "metadata": {},
     "output_type": "display_data"
    },
    {
     "name": "stdout",
     "output_type": "stream",
     "text": [
      "['URB_2000', 'NVG_2000', 'GRS_2000', 'FOR_2000', 'CULTRF_2000', 'CULTIR_2000', 'CULT_2000', 'sq1', 'sq2', 'sq3', 'sq4', 'sq5', 'sq6', 'sq7', 'et0_v3_yr', 'ai_v3_yr', 'wc2.1_30s_bio_19', 'wc2.1_30s_bio_18', 'wc2.1_30s_bio_17', 'wc2.1_30s_bio_16', 'wc2.1_30s_bio_15', 'wc2.1_30s_bio_14', 'wc2.1_30s_bio_13', 'wc2.1_30s_bio_12', 'wc2.1_30s_bio_11', 'wc2.1_30s_bio_10', 'wc2.1_30s_bio_9', 'wc2.1_30s_bio_8', 'wc2.1_30s_bio_7', 'wc2.1_30s_bio_6', 'wc2.1_30s_bio_5', 'wc2.1_30s_bio_4', 'wc2.1_30s_bio_3', 'wc2.1_30s_bio_2', 'wc2.1_30s_bio_1', 'wc2.1_30s_elev', 'current_30arcsec_tri', 'current_30arcsec_topoWet', 'current_30arcsec_thermicityIndex', 'current_30arcsec_PETWettestQuarter', 'current_30arcsec_PETWarmestQuarter', 'current_30arcsec_PETseasonality', 'current_30arcsec_PETDriestQuarter', 'current_30arcsec_PETColdestQuarter', 'current_30arcsec_monthCountByTemp10', 'current_30arcsec_minTempWarmest', 'current_30arcsec_maxTempColdest', 'current_30arcsec_growingDegDays5', 'current_30arcsec_growingDegDays0', 'current_30arcsec_embergerQ', 'current_30arcsec_continentality', 'current_30arcsec_climaticMoistureIndex', 'current_30arcsec_aridityIndexThornthwaite', 'current_30arcsec_annualPET']\n",
      "URB_2000: 1\n",
      "NVG_2000: 1\n",
      "GRS_2000: 1\n",
      "FOR_2000: 1\n",
      "CULTRF_2000: 1\n",
      "CULTIR_2000: 3\n",
      "CULT_2000: 1\n",
      "sq1: 5\n",
      "sq2: 6\n",
      "sq3: 2\n",
      "sq4: 7\n",
      "sq5: 9\n",
      "sq6: 8\n",
      "sq7: 1\n",
      "et0_v3_yr: 1\n",
      "ai_v3_yr: 1\n",
      "wc2.1_30s_bio_19: 1\n",
      "wc2.1_30s_bio_18: 1\n",
      "wc2.1_30s_bio_17: 1\n",
      "wc2.1_30s_bio_16: 1\n",
      "wc2.1_30s_bio_15: 1\n",
      "wc2.1_30s_bio_14: 1\n",
      "wc2.1_30s_bio_13: 1\n",
      "wc2.1_30s_bio_12: 1\n",
      "wc2.1_30s_bio_11: 1\n",
      "wc2.1_30s_bio_10: 1\n",
      "wc2.1_30s_bio_9: 1\n",
      "wc2.1_30s_bio_8: 1\n",
      "wc2.1_30s_bio_7: 1\n",
      "wc2.1_30s_bio_6: 1\n",
      "wc2.1_30s_bio_5: 1\n",
      "wc2.1_30s_bio_4: 1\n",
      "wc2.1_30s_bio_3: 1\n",
      "wc2.1_30s_bio_2: 1\n",
      "wc2.1_30s_bio_1: 1\n",
      "wc2.1_30s_elev: 1\n",
      "current_30arcsec_tri: 1\n",
      "current_30arcsec_topoWet: 1\n",
      "current_30arcsec_thermicityIndex: 1\n",
      "current_30arcsec_PETWettestQuarter: 1\n",
      "current_30arcsec_PETWarmestQuarter: 1\n",
      "current_30arcsec_PETseasonality: 1\n",
      "current_30arcsec_PETDriestQuarter: 1\n",
      "current_30arcsec_PETColdestQuarter: 1\n",
      "current_30arcsec_monthCountByTemp10: 4\n",
      "current_30arcsec_minTempWarmest: 1\n",
      "current_30arcsec_maxTempColdest: 1\n",
      "current_30arcsec_growingDegDays5: 1\n",
      "current_30arcsec_growingDegDays0: 1\n",
      "current_30arcsec_embergerQ: 1\n",
      "current_30arcsec_continentality: 1\n",
      "current_30arcsec_climaticMoistureIndex: 1\n",
      "current_30arcsec_aridityIndexThornthwaite: 1\n",
      "current_30arcsec_annualPET: 1\n",
      "current_30arcsec_climaticMoistureIndex: 0.08850755338132511\n",
      "current_30arcsec_aridityIndexThornthwaite: 0.05881092363793417\n",
      "current_30arcsec_PETseasonality: 0.05290975315355441\n",
      "current_30arcsec_PETWarmestQuarter: 0.047108530635738236\n",
      "wc2.1_30s_bio_17: 0.04619292074485416\n",
      "ai_v3_yr: 0.04611312428588204\n",
      "wc2.1_30s_bio_12: 0.04354242388610084\n",
      "wc2.1_30s_bio_14: 0.040110142830067336\n",
      "wc2.1_30s_bio_4: 0.03724810661881039\n",
      "current_30arcsec_embergerQ: 0.03716511497885561\n",
      "current_30arcsec_continentality: 0.029810316138380897\n",
      "current_30arcsec_annualPET: 0.024026807071599418\n",
      "current_30arcsec_PETWettestQuarter: 0.022624031819632167\n",
      "wc2.1_30s_bio_19: 0.022503499373932218\n",
      "et0_v3_yr: 0.01970841019505257\n",
      "wc2.1_30s_bio_7: 0.018975629197436533\n",
      "wc2.1_30s_elev: 0.016782628934944272\n",
      "current_30arcsec_topoWet: 0.016762369205853833\n",
      "wc2.1_30s_bio_5: 0.015617556144798934\n",
      "wc2.1_30s_bio_10: 0.015208130614444237\n",
      "FOR_2000: 0.015183288601442097\n",
      "wc2.1_30s_bio_1: 0.015056525046883946\n",
      "current_30arcsec_thermicityIndex: 0.014884595522036588\n",
      "wc2.1_30s_bio_8: 0.014503376275821564\n",
      "wc2.1_30s_bio_2: 0.014203933545372645\n",
      "current_30arcsec_tri: 0.01400474676102541\n",
      "current_30arcsec_growingDegDays0: 0.013772045215891498\n",
      "current_30arcsec_growingDegDays5: 0.013556854039498072\n",
      "wc2.1_30s_bio_16: 0.012996324433282708\n",
      "GRS_2000: 0.012724767142807354\n",
      "wc2.1_30s_bio_3: 0.012570629051896372\n",
      "wc2.1_30s_bio_18: 0.012519722758289038\n",
      "URB_2000: 0.012114754919149734\n",
      "current_30arcsec_minTempWarmest: 0.01184834633374241\n",
      "wc2.1_30s_bio_11: 0.01112362607018922\n",
      "current_30arcsec_PETDriestQuarter: 0.011039974846161144\n",
      "wc2.1_30s_bio_15: 0.010740984964952089\n",
      "wc2.1_30s_bio_9: 0.01029731003799856\n",
      "current_30arcsec_maxTempColdest: 0.010101865156372986\n",
      "CULTRF_2000: 0.009915905017497346\n",
      "wc2.1_30s_bio_13: 0.009726805368742672\n",
      "CULT_2000: 0.00930596338179534\n",
      "wc2.1_30s_bio_6: 0.009129233439721586\n",
      "NVG_2000: 0.007209768809177782\n",
      "current_30arcsec_PETColdestQuarter: 0.006245176877437158\n",
      "sq7: 0.005495503533617365\n"
     ]
    },
    {
     "data": {
      "text/html": [
       "<h3>Balanced accuracy estimation for the best feature subset: </h3>"
      ]
     },
     "metadata": {},
     "output_type": "display_data"
    },
    {
     "name": "stdout",
     "output_type": "stream",
     "text": [
      "[0.80824522 0.83511752 0.81009365 0.8189684  0.83165654]\n"
     ]
    },
    {
     "data": {
      "text/html": [
       "<h3>Balanced accuracy estimation for all features in the experiment: </h3>"
      ]
     },
     "metadata": {},
     "output_type": "display_data"
    },
    {
     "name": "stdout",
     "output_type": "stream",
     "text": [
      "[0.79888481 0.84696586 0.80720274 0.82266526 0.82582959]\n"
     ]
    },
    {
     "data": {
      "text/html": [
       "<hr>"
      ]
     },
     "metadata": {},
     "output_type": "display_data"
    },
    {
     "data": {
      "text/html": [
       "<h2>Datasets to compare: prim, khanka_only</h2>"
      ]
     },
     "metadata": {},
     "output_type": "display_data"
    },
    {
     "data": {
      "text/html": [
       "<h3>Feature importances of all considered features: </h3>"
      ]
     },
     "metadata": {},
     "output_type": "display_data"
    },
    {
     "name": "stdout",
     "output_type": "stream",
     "text": [
      "wc2.1_30s_bio_10 = 0.1924602618344893\n",
      "current_30arcsec_minTempWarmest = 0.1471004761296394\n",
      "wc2.1_30s_bio_8 = 0.11814686212250716\n",
      "wc2.1_30s_bio_5 = 0.049227657360986866\n",
      "wc2.1_30s_bio_6 = 0.046016098964615955\n",
      "wc2.1_30s_elev = 0.04395725940122937\n",
      "current_30arcsec_growingDegDays0 = 0.04183928856773909\n",
      "current_30arcsec_growingDegDays5 = 0.04065717067177579\n",
      "wc2.1_30s_bio_1 = 0.029995586913392346\n",
      "current_30arcsec_thermicityIndex = 0.029560270397115295\n",
      "wc2.1_30s_bio_11 = 0.027160804860557667\n",
      "wc2.1_30s_bio_18 = 0.02395007164121494\n",
      "current_30arcsec_annualPET = 0.023560738424189397\n",
      "wc2.1_30s_bio_9 = 0.02003596427211758\n",
      "wc2.1_30s_bio_4 = 0.017977248554703167\n",
      "current_30arcsec_continentality = 0.015787158672963975\n",
      "wc2.1_30s_bio_19 = 0.01520902576789687\n",
      "current_30arcsec_aridityIndexThornthwaite = 0.009694794450001496\n",
      "current_30arcsec_PETDriestQuarter = 0.009236995058042118\n",
      "current_30arcsec_maxTempColdest = 0.009122295377336841\n",
      "current_30arcsec_topoWet = 0.009094089371091076\n",
      "wc2.1_30s_bio_15 = 0.008063409994764471\n",
      "current_30arcsec_PETColdestQuarter = 0.007336884902136975\n",
      "wc2.1_30s_bio_14 = 0.0059623909995846925\n",
      "et0_v3_yr = 0.005694617454659478\n",
      "current_30arcsec_monthCountByTemp10 = 0.005582449571134745\n",
      "wc2.1_30s_bio_16 = 0.005564476122461158\n",
      "wc2.1_30s_bio_7 = 0.005033025761846133\n",
      "wc2.1_30s_bio_17 = 0.004762843262397175\n",
      "current_30arcsec_PETWarmestQuarter = 0.004471597777531325\n",
      "current_30arcsec_embergerQ = 0.0038689724297964407\n",
      "current_30arcsec_tri = 0.0035103323551602793\n",
      "ai_v3_yr = 0.0033819077790018114\n",
      "wc2.1_30s_bio_3 = 0.0033599057901286993\n",
      "wc2.1_30s_bio_12 = 0.0031104668944297096\n",
      "wc2.1_30s_bio_2 = 0.0026703751100585122\n",
      "current_30arcsec_climaticMoistureIndex = 0.001826125178386059\n",
      "wc2.1_30s_bio_13 = 0.0014207526441983769\n",
      "URB_2000 = 0.0012654403580505227\n",
      "FOR_2000 = 0.0011441774253075907\n",
      "GRS_2000 = 0.0007586876895201072\n",
      "current_30arcsec_PETWettestQuarter = 0.0007009963826630731\n",
      "CULTRF_2000 = 0.0004527962007696719\n",
      "current_30arcsec_PETseasonality = 0.00014829356931586685\n",
      "sq1 = 0.00011796185800378666\n",
      "sq3 = 9.936750876289932e-07\n",
      "NVG_2000 = 0.0\n",
      "CULTIR_2000 = 0.0\n",
      "CULT_2000 = 0.0\n",
      "sq2 = 0.0\n",
      "sq4 = 0.0\n",
      "sq5 = 0.0\n",
      "sq6 = 0.0\n",
      "sq7 = 0.0\n"
     ]
    },
    {
     "data": {
      "text/html": [
       "<h3>Recursive feature elimination procedure, selection the most informative features from</h3>"
      ]
     },
     "metadata": {},
     "output_type": "display_data"
    },
    {
     "name": "stdout",
     "output_type": "stream",
     "text": [
      "['URB_2000', 'NVG_2000', 'GRS_2000', 'FOR_2000', 'CULTRF_2000', 'CULTIR_2000', 'CULT_2000', 'sq1', 'sq2', 'sq3', 'sq4', 'sq5', 'sq6', 'sq7', 'et0_v3_yr', 'ai_v3_yr', 'wc2.1_30s_bio_19', 'wc2.1_30s_bio_18', 'wc2.1_30s_bio_17', 'wc2.1_30s_bio_16', 'wc2.1_30s_bio_15', 'wc2.1_30s_bio_14', 'wc2.1_30s_bio_13', 'wc2.1_30s_bio_12', 'wc2.1_30s_bio_11', 'wc2.1_30s_bio_10', 'wc2.1_30s_bio_9', 'wc2.1_30s_bio_8', 'wc2.1_30s_bio_7', 'wc2.1_30s_bio_6', 'wc2.1_30s_bio_5', 'wc2.1_30s_bio_4', 'wc2.1_30s_bio_3', 'wc2.1_30s_bio_2', 'wc2.1_30s_bio_1', 'wc2.1_30s_elev', 'current_30arcsec_tri', 'current_30arcsec_topoWet', 'current_30arcsec_thermicityIndex', 'current_30arcsec_PETWettestQuarter', 'current_30arcsec_PETWarmestQuarter', 'current_30arcsec_PETseasonality', 'current_30arcsec_PETDriestQuarter', 'current_30arcsec_PETColdestQuarter', 'current_30arcsec_monthCountByTemp10', 'current_30arcsec_minTempWarmest', 'current_30arcsec_maxTempColdest', 'current_30arcsec_growingDegDays5', 'current_30arcsec_growingDegDays0', 'current_30arcsec_embergerQ', 'current_30arcsec_continentality', 'current_30arcsec_climaticMoistureIndex', 'current_30arcsec_aridityIndexThornthwaite', 'current_30arcsec_annualPET']\n",
      "URB_2000: 30\n",
      "NVG_2000: 32\n",
      "GRS_2000: 31\n",
      "FOR_2000: 13\n",
      "CULTRF_2000: 28\n",
      "CULTIR_2000: 29\n",
      "CULT_2000: 21\n",
      "sq1: 27\n",
      "sq2: 26\n",
      "sq3: 22\n",
      "sq4: 25\n",
      "sq5: 24\n",
      "sq6: 20\n",
      "sq7: 18\n",
      "et0_v3_yr: 1\n",
      "ai_v3_yr: 6\n",
      "wc2.1_30s_bio_19: 1\n",
      "wc2.1_30s_bio_18: 1\n",
      "wc2.1_30s_bio_17: 3\n",
      "wc2.1_30s_bio_16: 9\n",
      "wc2.1_30s_bio_15: 15\n",
      "wc2.1_30s_bio_14: 1\n",
      "wc2.1_30s_bio_13: 5\n",
      "wc2.1_30s_bio_12: 4\n",
      "wc2.1_30s_bio_11: 1\n",
      "wc2.1_30s_bio_10: 1\n",
      "wc2.1_30s_bio_9: 2\n",
      "wc2.1_30s_bio_8: 1\n",
      "wc2.1_30s_bio_7: 1\n",
      "wc2.1_30s_bio_6: 1\n",
      "wc2.1_30s_bio_5: 1\n",
      "wc2.1_30s_bio_4: 1\n",
      "wc2.1_30s_bio_3: 1\n",
      "wc2.1_30s_bio_2: 14\n",
      "wc2.1_30s_bio_1: 1\n",
      "wc2.1_30s_elev: 1\n",
      "current_30arcsec_tri: 19\n",
      "current_30arcsec_topoWet: 1\n",
      "current_30arcsec_thermicityIndex: 1\n",
      "current_30arcsec_PETWettestQuarter: 23\n",
      "current_30arcsec_PETWarmestQuarter: 17\n",
      "current_30arcsec_PETseasonality: 16\n",
      "current_30arcsec_PETDriestQuarter: 1\n",
      "current_30arcsec_PETColdestQuarter: 12\n",
      "current_30arcsec_monthCountByTemp10: 1\n",
      "current_30arcsec_minTempWarmest: 1\n",
      "current_30arcsec_maxTempColdest: 1\n",
      "current_30arcsec_growingDegDays5: 1\n",
      "current_30arcsec_growingDegDays0: 1\n",
      "current_30arcsec_embergerQ: 10\n",
      "current_30arcsec_continentality: 8\n",
      "current_30arcsec_climaticMoistureIndex: 11\n",
      "current_30arcsec_aridityIndexThornthwaite: 7\n",
      "current_30arcsec_annualPET: 1\n",
      "wc2.1_30s_bio_10: 0.15233500952537088\n",
      "current_30arcsec_minTempWarmest: 0.14831232693125423\n",
      "wc2.1_30s_bio_8: 0.12830038276793523\n",
      "wc2.1_30s_elev: 0.07684784285975628\n",
      "current_30arcsec_growingDegDays5: 0.07127688039119692\n",
      "wc2.1_30s_bio_5: 0.06788287171956811\n",
      "current_30arcsec_annualPET: 0.04382331079713299\n",
      "wc2.1_30s_bio_4: 0.04280702754511965\n",
      "wc2.1_30s_bio_6: 0.034536510714775155\n",
      "wc2.1_30s_bio_7: 0.028874236994603567\n",
      "current_30arcsec_PETDriestQuarter: 0.027337661668690814\n",
      "wc2.1_30s_bio_1: 0.025727670525661515\n",
      "current_30arcsec_thermicityIndex: 0.020983120715746883\n",
      "current_30arcsec_maxTempColdest: 0.020010103942727623\n",
      "wc2.1_30s_bio_3: 0.016729117375051526\n",
      "et0_v3_yr: 0.015738878930764134\n",
      "wc2.1_30s_bio_11: 0.01544238599227022\n",
      "current_30arcsec_topoWet: 0.013854717335720742\n",
      "current_30arcsec_monthCountByTemp10: 0.011484587572334832\n",
      "wc2.1_30s_bio_19: 0.01147187096050908\n",
      "current_30arcsec_growingDegDays0: 0.011283225927867246\n",
      "wc2.1_30s_bio_14: 0.008346810797706765\n",
      "wc2.1_30s_bio_18: 0.006593448008235738\n"
     ]
    },
    {
     "data": {
      "text/html": [
       "<h3>Balanced accuracy estimation for the best feature subset: </h3>"
      ]
     },
     "metadata": {},
     "output_type": "display_data"
    },
    {
     "name": "stdout",
     "output_type": "stream",
     "text": [
      "[1.   1.   0.95 1.   1.  ]\n"
     ]
    },
    {
     "data": {
      "text/html": [
       "<h3>Balanced accuracy estimation for all features in the experiment: </h3>"
      ]
     },
     "metadata": {},
     "output_type": "display_data"
    },
    {
     "name": "stdout",
     "output_type": "stream",
     "text": [
      "[1.   1.   0.95 1.   1.  ]\n"
     ]
    },
    {
     "data": {
      "text/html": [
       "<hr>"
      ]
     },
     "metadata": {},
     "output_type": "display_data"
    },
    {
     "data": {
      "text/html": [
       "<h2>Datasets to compare: khanka, mes</h2>"
      ]
     },
     "metadata": {},
     "output_type": "display_data"
    },
    {
     "data": {
      "text/html": [
       "<h3>Feature importances of all considered features: </h3>"
      ]
     },
     "metadata": {},
     "output_type": "display_data"
    },
    {
     "name": "stdout",
     "output_type": "stream",
     "text": [
      "wc2.1_30s_bio_12 = 0.0672080308460153\n",
      "current_30arcsec_embergerQ = 0.048212271805550794\n",
      "ai_v3_yr = 0.04570268646821584\n",
      "wc2.1_30s_bio_16 = 0.042392060466114115\n",
      "wc2.1_30s_bio_18 = 0.040269174551981216\n",
      "wc2.1_30s_bio_13 = 0.036886023947092325\n",
      "current_30arcsec_aridityIndexThornthwaite = 0.03398657735953102\n",
      "wc2.1_30s_bio_7 = 0.03218970011473277\n",
      "wc2.1_30s_bio_11 = 0.03140672318219127\n",
      "current_30arcsec_climaticMoistureIndex = 0.030154120534912735\n",
      "wc2.1_30s_bio_6 = 0.021233684487721283\n",
      "current_30arcsec_growingDegDays0 = 0.019985809484839443\n",
      "current_30arcsec_tri = 0.01932740560185126\n",
      "wc2.1_30s_bio_1 = 0.018850000743567838\n",
      "wc2.1_30s_elev = 0.018302409413296934\n",
      "current_30arcsec_topoWet = 0.017788143376089072\n",
      "CULTRF_2000 = 0.017743046881648985\n",
      "current_30arcsec_annualPET = 0.01767539072998687\n",
      "current_30arcsec_growingDegDays5 = 0.01757726301892343\n",
      "wc2.1_30s_bio_3 = 0.016468875800471017\n",
      "wc2.1_30s_bio_2 = 0.016037823569723015\n",
      "wc2.1_30s_bio_4 = 0.01588978840382865\n",
      "URB_2000 = 0.015875846402815332\n",
      "current_30arcsec_thermicityIndex = 0.015412476595079216\n",
      "wc2.1_30s_bio_10 = 0.015338232470587061\n",
      "GRS_2000 = 0.015069363318908888\n",
      "wc2.1_30s_bio_15 = 0.014998031403666123\n",
      "FOR_2000 = 0.014695995140047269\n",
      "CULT_2000 = 0.014635106389190817\n",
      "current_30arcsec_continentality = 0.014538242161970397\n",
      "wc2.1_30s_bio_8 = 0.014059710330747332\n",
      "current_30arcsec_PETDriestQuarter = 0.013932047773566502\n",
      "current_30arcsec_maxTempColdest = 0.01391247165283715\n",
      "wc2.1_30s_bio_9 = 0.013790659003066126\n",
      "current_30arcsec_PETWarmestQuarter = 0.013731463838000568\n",
      "NVG_2000 = 0.013188588686889602\n",
      "et0_v3_yr = 0.013041120840245215\n",
      "current_30arcsec_minTempWarmest = 0.012939972641704711\n",
      "current_30arcsec_PETseasonality = 0.012902520196388056\n",
      "current_30arcsec_PETWettestQuarter = 0.01270402445053677\n",
      "wc2.1_30s_bio_19 = 0.01211731512418044\n",
      "current_30arcsec_PETColdestQuarter = 0.011312610505585649\n",
      "wc2.1_30s_bio_17 = 0.0110172866525795\n",
      "sq5 = 0.010761919328382349\n",
      "wc2.1_30s_bio_5 = 0.010334994656396661\n",
      "sq3 = 0.009311178776772825\n",
      "wc2.1_30s_bio_14 = 0.008932337359422187\n",
      "sq2 = 0.008323285252346593\n",
      "sq6 = 0.008168858524353945\n",
      "sq1 = 0.007789439054564027\n",
      "sq7 = 0.007386469375624182\n",
      "sq4 = 0.006882345758304349\n",
      "CULTIR_2000 = 0.006376703355344556\n",
      "current_30arcsec_monthCountByTemp10 = 0.0012323721916104441\n"
     ]
    },
    {
     "data": {
      "text/html": [
       "<h3>Recursive feature elimination procedure, selection the most informative features from</h3>"
      ]
     },
     "metadata": {},
     "output_type": "display_data"
    },
    {
     "name": "stdout",
     "output_type": "stream",
     "text": [
      "['URB_2000', 'NVG_2000', 'GRS_2000', 'FOR_2000', 'CULTRF_2000', 'CULTIR_2000', 'CULT_2000', 'sq1', 'sq2', 'sq3', 'sq4', 'sq5', 'sq6', 'sq7', 'et0_v3_yr', 'ai_v3_yr', 'wc2.1_30s_bio_19', 'wc2.1_30s_bio_18', 'wc2.1_30s_bio_17', 'wc2.1_30s_bio_16', 'wc2.1_30s_bio_15', 'wc2.1_30s_bio_14', 'wc2.1_30s_bio_13', 'wc2.1_30s_bio_12', 'wc2.1_30s_bio_11', 'wc2.1_30s_bio_10', 'wc2.1_30s_bio_9', 'wc2.1_30s_bio_8', 'wc2.1_30s_bio_7', 'wc2.1_30s_bio_6', 'wc2.1_30s_bio_5', 'wc2.1_30s_bio_4', 'wc2.1_30s_bio_3', 'wc2.1_30s_bio_2', 'wc2.1_30s_bio_1', 'wc2.1_30s_elev', 'current_30arcsec_tri', 'current_30arcsec_topoWet', 'current_30arcsec_thermicityIndex', 'current_30arcsec_PETWettestQuarter', 'current_30arcsec_PETWarmestQuarter', 'current_30arcsec_PETseasonality', 'current_30arcsec_PETDriestQuarter', 'current_30arcsec_PETColdestQuarter', 'current_30arcsec_monthCountByTemp10', 'current_30arcsec_minTempWarmest', 'current_30arcsec_maxTempColdest', 'current_30arcsec_growingDegDays5', 'current_30arcsec_growingDegDays0', 'current_30arcsec_embergerQ', 'current_30arcsec_continentality', 'current_30arcsec_climaticMoistureIndex', 'current_30arcsec_aridityIndexThornthwaite', 'current_30arcsec_annualPET']\n",
      "URB_2000: 7\n",
      "NVG_2000: 24\n",
      "GRS_2000: 4\n",
      "FOR_2000: 17\n",
      "CULTRF_2000: 1\n",
      "CULTIR_2000: 34\n",
      "CULT_2000: 9\n",
      "sq1: 6\n",
      "sq2: 31\n",
      "sq3: 28\n",
      "sq4: 35\n",
      "sq5: 22\n",
      "sq6: 32\n",
      "sq7: 36\n",
      "et0_v3_yr: 16\n",
      "ai_v3_yr: 1\n",
      "wc2.1_30s_bio_19: 29\n",
      "wc2.1_30s_bio_18: 1\n",
      "wc2.1_30s_bio_17: 25\n",
      "wc2.1_30s_bio_16: 1\n",
      "wc2.1_30s_bio_15: 1\n",
      "wc2.1_30s_bio_14: 33\n",
      "wc2.1_30s_bio_13: 1\n",
      "wc2.1_30s_bio_12: 1\n",
      "wc2.1_30s_bio_11: 1\n",
      "wc2.1_30s_bio_10: 1\n",
      "wc2.1_30s_bio_9: 12\n",
      "wc2.1_30s_bio_8: 3\n",
      "wc2.1_30s_bio_7: 1\n",
      "wc2.1_30s_bio_6: 23\n",
      "wc2.1_30s_bio_5: 30\n",
      "wc2.1_30s_bio_4: 2\n",
      "wc2.1_30s_bio_3: 14\n",
      "wc2.1_30s_bio_2: 1\n",
      "wc2.1_30s_bio_1: 1\n",
      "wc2.1_30s_elev: 1\n",
      "current_30arcsec_tri: 1\n",
      "current_30arcsec_topoWet: 1\n",
      "current_30arcsec_thermicityIndex: 15\n",
      "current_30arcsec_PETWettestQuarter: 19\n",
      "current_30arcsec_PETWarmestQuarter: 26\n",
      "current_30arcsec_PETseasonality: 8\n",
      "current_30arcsec_PETDriestQuarter: 10\n",
      "current_30arcsec_PETColdestQuarter: 27\n",
      "current_30arcsec_monthCountByTemp10: 37\n",
      "current_30arcsec_minTempWarmest: 20\n",
      "current_30arcsec_maxTempColdest: 21\n",
      "current_30arcsec_growingDegDays5: 18\n",
      "current_30arcsec_growingDegDays0: 1\n",
      "current_30arcsec_embergerQ: 1\n",
      "current_30arcsec_continentality: 13\n",
      "current_30arcsec_climaticMoistureIndex: 11\n",
      "current_30arcsec_aridityIndexThornthwaite: 1\n",
      "current_30arcsec_annualPET: 5\n",
      "wc2.1_30s_bio_12: 0.1240364347484509\n",
      "current_30arcsec_embergerQ: 0.10036438326164009\n",
      "ai_v3_yr: 0.0824827615444433\n",
      "wc2.1_30s_bio_16: 0.06802229798878201\n",
      "wc2.1_30s_bio_18: 0.06725454786261024\n",
      "wc2.1_30s_bio_13: 0.05126824221796347\n",
      "wc2.1_30s_bio_1: 0.04941664128618079\n",
      "current_30arcsec_growingDegDays0: 0.049045429136591566\n",
      "CULTRF_2000: 0.04567458178681262\n",
      "current_30arcsec_aridityIndexThornthwaite: 0.04532673916767064\n",
      "wc2.1_30s_bio_10: 0.04366023383548802\n",
      "wc2.1_30s_elev: 0.04250646180851905\n",
      "current_30arcsec_topoWet: 0.042332134834286\n",
      "current_30arcsec_tri: 0.041094478744113386\n",
      "wc2.1_30s_bio_2: 0.03811095464623899\n",
      "wc2.1_30s_bio_15: 0.03750012866820791\n",
      "wc2.1_30s_bio_11: 0.037216213537459665\n",
      "wc2.1_30s_bio_7: 0.0346873349245413\n"
     ]
    },
    {
     "data": {
      "text/html": [
       "<h3>Balanced accuracy estimation for the best feature subset: </h3>"
      ]
     },
     "metadata": {},
     "output_type": "display_data"
    },
    {
     "name": "stdout",
     "output_type": "stream",
     "text": [
      "[0.76587069 0.73850837 0.77495677 0.7645132  0.74798428]\n"
     ]
    },
    {
     "data": {
      "text/html": [
       "<h3>Balanced accuracy estimation for all features in the experiment: </h3>"
      ]
     },
     "metadata": {},
     "output_type": "display_data"
    },
    {
     "name": "stdout",
     "output_type": "stream",
     "text": [
      "[0.76280199 0.73863332 0.7676888  0.75010079 0.74588457]\n"
     ]
    },
    {
     "data": {
      "text/html": [
       "<hr>"
      ]
     },
     "metadata": {},
     "output_type": "display_data"
    },
    {
     "data": {
      "text/html": [
       "<h2>Datasets to compare: khanka, steppe</h2>"
      ]
     },
     "metadata": {},
     "output_type": "display_data"
    },
    {
     "data": {
      "text/html": [
       "<h3>Feature importances of all considered features: </h3>"
      ]
     },
     "metadata": {},
     "output_type": "display_data"
    },
    {
     "name": "stdout",
     "output_type": "stream",
     "text": [
      "wc2.1_30s_bio_18 = 0.04005144297014551\n",
      "current_30arcsec_continentality = 0.03835509609286448\n",
      "wc2.1_30s_bio_4 = 0.03517863654076669\n",
      "current_30arcsec_aridityIndexThornthwaite = 0.031036250269665187\n",
      "wc2.1_30s_bio_16 = 0.030945101508208357\n",
      "ai_v3_yr = 0.02922012274249437\n",
      "wc2.1_30s_bio_3 = 0.028436853719274246\n",
      "wc2.1_30s_bio_15 = 0.028346678421190177\n",
      "current_30arcsec_PETDriestQuarter = 0.02799022698479569\n",
      "et0_v3_yr = 0.027663463299775242\n",
      "wc2.1_30s_bio_9 = 0.027475331912859214\n",
      "wc2.1_30s_bio_13 = 0.024295034364967875\n",
      "current_30arcsec_maxTempColdest = 0.024146149301974024\n",
      "wc2.1_30s_bio_11 = 0.02407276278837496\n",
      "wc2.1_30s_elev = 0.023236699945847605\n",
      "current_30arcsec_annualPET = 0.02318471521599787\n",
      "wc2.1_30s_bio_12 = 0.021593535367988897\n",
      "current_30arcsec_tri = 0.021087595560271687\n",
      "FOR_2000 = 0.02013128382213208\n",
      "wc2.1_30s_bio_6 = 0.02004009307798016\n",
      "wc2.1_30s_bio_2 = 0.019964384439591535\n",
      "current_30arcsec_topoWet = 0.01995023846530244\n",
      "current_30arcsec_PETWarmestQuarter = 0.01951887655161451\n",
      "GRS_2000 = 0.019277418741239078\n",
      "wc2.1_30s_bio_8 = 0.018570597290518853\n",
      "URB_2000 = 0.01853046387644532\n",
      "current_30arcsec_PETWettestQuarter = 0.018425879743562697\n",
      "current_30arcsec_growingDegDays0 = 0.018402211495035316\n",
      "wc2.1_30s_bio_7 = 0.018355415877770467\n",
      "current_30arcsec_thermicityIndex = 0.018351277337617024\n",
      "current_30arcsec_embergerQ = 0.017894973622360304\n",
      "current_30arcsec_growingDegDays5 = 0.017813608775810886\n",
      "wc2.1_30s_bio_1 = 0.01781061329194627\n",
      "wc2.1_30s_bio_10 = 0.017716328787845806\n",
      "current_30arcsec_PETseasonality = 0.017514868576904725\n",
      "wc2.1_30s_bio_5 = 0.01724424225663002\n",
      "current_30arcsec_minTempWarmest = 0.01638281506700547\n",
      "CULTRF_2000 = 0.016259240607138466\n",
      "current_30arcsec_climaticMoistureIndex = 0.01611985108807492\n",
      "wc2.1_30s_bio_17 = 0.01555198113478764\n",
      "current_30arcsec_PETColdestQuarter = 0.014582672752672419\n",
      "wc2.1_30s_bio_19 = 0.014580831349762128\n",
      "NVG_2000 = 0.01457812671142275\n",
      "CULT_2000 = 0.014047483104313967\n",
      "wc2.1_30s_bio_14 = 0.009119549723448644\n",
      "CULTIR_2000 = 0.008310119571062235\n",
      "sq1 = 0.003548453606436071\n",
      "sq2 = 0.0031271401538312212\n",
      "sq7 = 0.002955814062780945\n",
      "sq3 = 0.0024580419059562486\n",
      "sq4 = 0.0020360920668456473\n",
      "current_30arcsec_monthCountByTemp10 = 0.0016672357061648679\n",
      "sq5 = 0.0016398096958880773\n",
      "sq6 = 0.0012062686546388905\n"
     ]
    },
    {
     "data": {
      "text/html": [
       "<h3>Recursive feature elimination procedure, selection the most informative features from</h3>"
      ]
     },
     "metadata": {},
     "output_type": "display_data"
    },
    {
     "name": "stdout",
     "output_type": "stream",
     "text": [
      "['URB_2000', 'NVG_2000', 'GRS_2000', 'FOR_2000', 'CULTRF_2000', 'CULTIR_2000', 'CULT_2000', 'sq1', 'sq2', 'sq3', 'sq4', 'sq5', 'sq6', 'sq7', 'et0_v3_yr', 'ai_v3_yr', 'wc2.1_30s_bio_19', 'wc2.1_30s_bio_18', 'wc2.1_30s_bio_17', 'wc2.1_30s_bio_16', 'wc2.1_30s_bio_15', 'wc2.1_30s_bio_14', 'wc2.1_30s_bio_13', 'wc2.1_30s_bio_12', 'wc2.1_30s_bio_11', 'wc2.1_30s_bio_10', 'wc2.1_30s_bio_9', 'wc2.1_30s_bio_8', 'wc2.1_30s_bio_7', 'wc2.1_30s_bio_6', 'wc2.1_30s_bio_5', 'wc2.1_30s_bio_4', 'wc2.1_30s_bio_3', 'wc2.1_30s_bio_2', 'wc2.1_30s_bio_1', 'wc2.1_30s_elev', 'current_30arcsec_tri', 'current_30arcsec_topoWet', 'current_30arcsec_thermicityIndex', 'current_30arcsec_PETWettestQuarter', 'current_30arcsec_PETWarmestQuarter', 'current_30arcsec_PETseasonality', 'current_30arcsec_PETDriestQuarter', 'current_30arcsec_PETColdestQuarter', 'current_30arcsec_monthCountByTemp10', 'current_30arcsec_minTempWarmest', 'current_30arcsec_maxTempColdest', 'current_30arcsec_growingDegDays5', 'current_30arcsec_growingDegDays0', 'current_30arcsec_embergerQ', 'current_30arcsec_continentality', 'current_30arcsec_climaticMoistureIndex', 'current_30arcsec_aridityIndexThornthwaite', 'current_30arcsec_annualPET']\n",
      "URB_2000: 1\n",
      "NVG_2000: 1\n",
      "GRS_2000: 1\n",
      "FOR_2000: 1\n",
      "CULTRF_2000: 1\n",
      "CULTIR_2000: 1\n",
      "CULT_2000: 1\n",
      "sq1: 1\n",
      "sq2: 1\n",
      "sq3: 3\n",
      "sq4: 6\n",
      "sq5: 4\n",
      "sq6: 7\n",
      "sq7: 2\n",
      "et0_v3_yr: 1\n",
      "ai_v3_yr: 1\n",
      "wc2.1_30s_bio_19: 1\n",
      "wc2.1_30s_bio_18: 1\n",
      "wc2.1_30s_bio_17: 1\n",
      "wc2.1_30s_bio_16: 1\n",
      "wc2.1_30s_bio_15: 1\n",
      "wc2.1_30s_bio_14: 1\n",
      "wc2.1_30s_bio_13: 1\n",
      "wc2.1_30s_bio_12: 1\n",
      "wc2.1_30s_bio_11: 1\n",
      "wc2.1_30s_bio_10: 1\n",
      "wc2.1_30s_bio_9: 1\n",
      "wc2.1_30s_bio_8: 1\n",
      "wc2.1_30s_bio_7: 1\n",
      "wc2.1_30s_bio_6: 1\n",
      "wc2.1_30s_bio_5: 1\n",
      "wc2.1_30s_bio_4: 1\n",
      "wc2.1_30s_bio_3: 1\n",
      "wc2.1_30s_bio_2: 1\n",
      "wc2.1_30s_bio_1: 1\n",
      "wc2.1_30s_elev: 1\n",
      "current_30arcsec_tri: 1\n",
      "current_30arcsec_topoWet: 1\n",
      "current_30arcsec_thermicityIndex: 1\n",
      "current_30arcsec_PETWettestQuarter: 1\n",
      "current_30arcsec_PETWarmestQuarter: 1\n",
      "current_30arcsec_PETseasonality: 1\n",
      "current_30arcsec_PETDriestQuarter: 1\n",
      "current_30arcsec_PETColdestQuarter: 1\n",
      "current_30arcsec_monthCountByTemp10: 5\n",
      "current_30arcsec_minTempWarmest: 1\n",
      "current_30arcsec_maxTempColdest: 1\n",
      "current_30arcsec_growingDegDays5: 1\n",
      "current_30arcsec_growingDegDays0: 1\n",
      "current_30arcsec_embergerQ: 1\n",
      "current_30arcsec_continentality: 1\n",
      "current_30arcsec_climaticMoistureIndex: 1\n",
      "current_30arcsec_aridityIndexThornthwaite: 1\n",
      "current_30arcsec_annualPET: 1\n",
      "current_30arcsec_continentality: 0.038311108782247597\n",
      "wc2.1_30s_bio_3: 0.036757210015574436\n",
      "wc2.1_30s_bio_18: 0.03573960614123403\n",
      "ai_v3_yr: 0.03118995151519371\n",
      "wc2.1_30s_bio_4: 0.030683064991746684\n",
      "wc2.1_30s_bio_13: 0.02975461287024538\n",
      "wc2.1_30s_bio_15: 0.0295198560614993\n",
      "current_30arcsec_aridityIndexThornthwaite: 0.028345099002293043\n",
      "wc2.1_30s_bio_11: 0.028032089720577084\n",
      "wc2.1_30s_bio_9: 0.02801173484970652\n",
      "et0_v3_yr: 0.027399719962398972\n",
      "current_30arcsec_PETDriestQuarter: 0.02680295193731161\n",
      "wc2.1_30s_bio_16: 0.026070373766862033\n",
      "current_30arcsec_annualPET: 0.022504817398095244\n",
      "current_30arcsec_tri: 0.022246618571961377\n",
      "wc2.1_30s_elev: 0.02217818293234258\n",
      "FOR_2000: 0.021414069090845457\n",
      "current_30arcsec_topoWet: 0.021141331743609538\n",
      "current_30arcsec_thermicityIndex: 0.020850914628363287\n",
      "current_30arcsec_PETWarmestQuarter: 0.020817143996669972\n",
      "wc2.1_30s_bio_12: 0.020713010770631955\n",
      "wc2.1_30s_bio_8: 0.02038012878645395\n",
      "current_30arcsec_embergerQ: 0.020144310297917644\n",
      "current_30arcsec_PETWettestQuarter: 0.019651088933824404\n",
      "current_30arcsec_maxTempColdest: 0.019409956642661166\n",
      "wc2.1_30s_bio_2: 0.01928283300238163\n",
      "wc2.1_30s_bio_1: 0.019244208370400473\n",
      "GRS_2000: 0.01918883354245753\n",
      "wc2.1_30s_bio_7: 0.019172486113193252\n",
      "URB_2000: 0.018956197932547884\n",
      "current_30arcsec_growingDegDays0: 0.018497664562915832\n",
      "wc2.1_30s_bio_6: 0.018446398958918298\n",
      "current_30arcsec_minTempWarmest: 0.01780973395726647\n",
      "wc2.1_30s_bio_10: 0.017730651171161328\n",
      "current_30arcsec_PETseasonality: 0.017689824451723492\n",
      "current_30arcsec_growingDegDays5: 0.0170416674569843\n",
      "wc2.1_30s_bio_5: 0.01677296796983468\n",
      "wc2.1_30s_bio_19: 0.016601371788479417\n",
      "wc2.1_30s_bio_17: 0.0157673048052744\n",
      "current_30arcsec_climaticMoistureIndex: 0.01569883874726137\n",
      "CULT_2000: 0.014974728544747384\n",
      "NVG_2000: 0.014645496799894521\n",
      "current_30arcsec_PETColdestQuarter: 0.014562924632387944\n",
      "CULTRF_2000: 0.014351862192794211\n",
      "wc2.1_30s_bio_14: 0.009363131705422753\n",
      "CULTIR_2000: 0.008092579863082485\n",
      "sq1: 0.004262378692444563\n",
      "sq2: 0.003776961328158856\n"
     ]
    },
    {
     "data": {
      "text/html": [
       "<h3>Balanced accuracy estimation for the best feature subset: </h3>"
      ]
     },
     "metadata": {},
     "output_type": "display_data"
    },
    {
     "name": "stdout",
     "output_type": "stream",
     "text": [
      "[0.66090737 0.66996753 0.68361128 0.65072277 0.66402449]\n"
     ]
    },
    {
     "data": {
      "text/html": [
       "<h3>Balanced accuracy estimation for all features in the experiment: </h3>"
      ]
     },
     "metadata": {},
     "output_type": "display_data"
    },
    {
     "name": "stdout",
     "output_type": "stream",
     "text": [
      "[0.65187583 0.66848306 0.68471993 0.65552828 0.67363345]\n"
     ]
    },
    {
     "data": {
      "text/html": [
       "<hr>"
      ]
     },
     "metadata": {},
     "output_type": "display_data"
    },
    {
     "data": {
      "text/html": [
       "<h2>Datasets to compare: khanka, khanka_only</h2>"
      ]
     },
     "metadata": {},
     "output_type": "display_data"
    },
    {
     "data": {
      "text/html": [
       "<h3>Feature importances of all considered features: </h3>"
      ]
     },
     "metadata": {},
     "output_type": "display_data"
    },
    {
     "name": "stdout",
     "output_type": "stream",
     "text": [
      "wc2.1_30s_bio_4 = 0.04144331555753426\n",
      "current_30arcsec_growingDegDays5 = 0.03944030409634668\n",
      "wc2.1_30s_bio_17 = 0.03847443662787741\n",
      "current_30arcsec_growingDegDays0 = 0.03715634362129164\n",
      "wc2.1_30s_bio_1 = 0.035191925286948436\n",
      "wc2.1_30s_bio_10 = 0.031843314307219386\n",
      "wc2.1_30s_bio_15 = 0.03134971688046399\n",
      "wc2.1_30s_bio_7 = 0.03018153216985496\n",
      "current_30arcsec_annualPET = 0.029612666268398112\n",
      "ai_v3_yr = 0.02941974718480445\n",
      "current_30arcsec_PETDriestQuarter = 0.02927614610700334\n",
      "current_30arcsec_embergerQ = 0.027916167875932665\n",
      "current_30arcsec_PETColdestQuarter = 0.026877986794003137\n",
      "et0_v3_yr = 0.026743608312749054\n",
      "wc2.1_30s_bio_19 = 0.02621324868455412\n",
      "current_30arcsec_thermicityIndex = 0.02595492738774433\n",
      "wc2.1_30s_bio_6 = 0.025839016639658024\n",
      "wc2.1_30s_bio_12 = 0.02579295414103522\n",
      "wc2.1_30s_bio_9 = 0.02481944327876051\n",
      "current_30arcsec_aridityIndexThornthwaite = 0.024021684886189613\n",
      "wc2.1_30s_bio_11 = 0.02347935964094981\n",
      "current_30arcsec_continentality = 0.02335324961169767\n",
      "current_30arcsec_maxTempColdest = 0.022233790912239905\n",
      "wc2.1_30s_bio_16 = 0.021774914590581694\n",
      "wc2.1_30s_bio_3 = 0.02012114166944464\n",
      "current_30arcsec_topoWet = 0.019374342279693778\n",
      "wc2.1_30s_bio_5 = 0.018622833054784415\n",
      "FOR_2000 = 0.018214813756194704\n",
      "wc2.1_30s_bio_18 = 0.017851841133309055\n",
      "wc2.1_30s_bio_8 = 0.017487618275629082\n",
      "current_30arcsec_PETseasonality = 0.0168019074089623\n",
      "wc2.1_30s_bio_13 = 0.015667261001880695\n",
      "wc2.1_30s_elev = 0.015472518154715937\n",
      "wc2.1_30s_bio_2 = 0.015045321476629936\n",
      "current_30arcsec_tri = 0.014729904583226148\n",
      "current_30arcsec_minTempWarmest = 0.01462081920155662\n",
      "URB_2000 = 0.014195705205206372\n",
      "current_30arcsec_climaticMoistureIndex = 0.013195772612290895\n",
      "wc2.1_30s_bio_14 = 0.013017959339959879\n",
      "current_30arcsec_PETWettestQuarter = 0.012307499432090458\n",
      "current_30arcsec_PETWarmestQuarter = 0.012252666483259981\n",
      "GRS_2000 = 0.008191638203811634\n",
      "CULT_2000 = 0.00790234215773303\n",
      "CULTRF_2000 = 0.0076212923818635096\n",
      "CULTIR_2000 = 0.002284327271595775\n",
      "sq1 = 0.001812495120158974\n",
      "sq7 = 0.0014837587263744365\n",
      "sq4 = 0.0013165408153109767\n",
      "sq2 = 0.0010000603566819896\n",
      "sq3 = 0.000494449529093852\n",
      "current_30arcsec_monthCountByTemp10 = 0.00041059730262775756\n",
      "sq5 = 9.277220207472384e-05\n",
      "NVG_2000 = 0.0\n",
      "sq6 = 0.0\n"
     ]
    },
    {
     "data": {
      "text/html": [
       "<h3>Recursive feature elimination procedure, selection the most informative features from</h3>"
      ]
     },
     "metadata": {},
     "output_type": "display_data"
    },
    {
     "name": "stdout",
     "output_type": "stream",
     "text": [
      "['URB_2000', 'NVG_2000', 'GRS_2000', 'FOR_2000', 'CULTRF_2000', 'CULTIR_2000', 'CULT_2000', 'sq1', 'sq2', 'sq3', 'sq4', 'sq5', 'sq6', 'sq7', 'et0_v3_yr', 'ai_v3_yr', 'wc2.1_30s_bio_19', 'wc2.1_30s_bio_18', 'wc2.1_30s_bio_17', 'wc2.1_30s_bio_16', 'wc2.1_30s_bio_15', 'wc2.1_30s_bio_14', 'wc2.1_30s_bio_13', 'wc2.1_30s_bio_12', 'wc2.1_30s_bio_11', 'wc2.1_30s_bio_10', 'wc2.1_30s_bio_9', 'wc2.1_30s_bio_8', 'wc2.1_30s_bio_7', 'wc2.1_30s_bio_6', 'wc2.1_30s_bio_5', 'wc2.1_30s_bio_4', 'wc2.1_30s_bio_3', 'wc2.1_30s_bio_2', 'wc2.1_30s_bio_1', 'wc2.1_30s_elev', 'current_30arcsec_tri', 'current_30arcsec_topoWet', 'current_30arcsec_thermicityIndex', 'current_30arcsec_PETWettestQuarter', 'current_30arcsec_PETWarmestQuarter', 'current_30arcsec_PETseasonality', 'current_30arcsec_PETDriestQuarter', 'current_30arcsec_PETColdestQuarter', 'current_30arcsec_monthCountByTemp10', 'current_30arcsec_minTempWarmest', 'current_30arcsec_maxTempColdest', 'current_30arcsec_growingDegDays5', 'current_30arcsec_growingDegDays0', 'current_30arcsec_embergerQ', 'current_30arcsec_continentality', 'current_30arcsec_climaticMoistureIndex', 'current_30arcsec_aridityIndexThornthwaite', 'current_30arcsec_annualPET']\n",
      "URB_2000: 4\n",
      "NVG_2000: 19\n",
      "GRS_2000: 8\n",
      "FOR_2000: 1\n",
      "CULTRF_2000: 9\n",
      "CULTIR_2000: 10\n",
      "CULT_2000: 1\n",
      "sq1: 11\n",
      "sq2: 14\n",
      "sq3: 13\n",
      "sq4: 12\n",
      "sq5: 18\n",
      "sq6: 16\n",
      "sq7: 15\n",
      "et0_v3_yr: 1\n",
      "ai_v3_yr: 1\n",
      "wc2.1_30s_bio_19: 1\n",
      "wc2.1_30s_bio_18: 2\n",
      "wc2.1_30s_bio_17: 1\n",
      "wc2.1_30s_bio_16: 1\n",
      "wc2.1_30s_bio_15: 1\n",
      "wc2.1_30s_bio_14: 1\n",
      "wc2.1_30s_bio_13: 7\n",
      "wc2.1_30s_bio_12: 1\n",
      "wc2.1_30s_bio_11: 1\n",
      "wc2.1_30s_bio_10: 1\n",
      "wc2.1_30s_bio_9: 1\n",
      "wc2.1_30s_bio_8: 1\n",
      "wc2.1_30s_bio_7: 1\n",
      "wc2.1_30s_bio_6: 1\n",
      "wc2.1_30s_bio_5: 1\n",
      "wc2.1_30s_bio_4: 1\n",
      "wc2.1_30s_bio_3: 1\n",
      "wc2.1_30s_bio_2: 1\n",
      "wc2.1_30s_bio_1: 1\n",
      "wc2.1_30s_elev: 1\n",
      "current_30arcsec_tri: 1\n",
      "current_30arcsec_topoWet: 1\n",
      "current_30arcsec_thermicityIndex: 1\n",
      "current_30arcsec_PETWettestQuarter: 1\n",
      "current_30arcsec_PETWarmestQuarter: 1\n",
      "current_30arcsec_PETseasonality: 6\n",
      "current_30arcsec_PETDriestQuarter: 1\n",
      "current_30arcsec_PETColdestQuarter: 1\n",
      "current_30arcsec_monthCountByTemp10: 17\n",
      "current_30arcsec_minTempWarmest: 3\n",
      "current_30arcsec_maxTempColdest: 1\n",
      "current_30arcsec_growingDegDays5: 1\n",
      "current_30arcsec_growingDegDays0: 1\n",
      "current_30arcsec_embergerQ: 1\n",
      "current_30arcsec_continentality: 1\n",
      "current_30arcsec_climaticMoistureIndex: 5\n",
      "current_30arcsec_aridityIndexThornthwaite: 1\n",
      "current_30arcsec_annualPET: 1\n",
      "wc2.1_30s_bio_11: 0.04493648725691642\n",
      "wc2.1_30s_bio_9: 0.04301714566669078\n",
      "current_30arcsec_continentality: 0.04057957790036066\n",
      "current_30arcsec_growingDegDays5: 0.04042009901900262\n",
      "wc2.1_30s_bio_15: 0.0396411403701452\n",
      "wc2.1_30s_bio_5: 0.03692293241579947\n",
      "wc2.1_30s_bio_6: 0.036196243321634736\n",
      "current_30arcsec_PETColdestQuarter: 0.0356149636198321\n",
      "wc2.1_30s_bio_10: 0.03485149803719033\n",
      "wc2.1_30s_bio_4: 0.03480744317791646\n",
      "wc2.1_30s_bio_1: 0.03245304368985258\n",
      "current_30arcsec_growingDegDays0: 0.03241618422564673\n",
      "ai_v3_yr: 0.03105992592382114\n",
      "current_30arcsec_maxTempColdest: 0.030551621498845785\n",
      "et0_v3_yr: 0.02951043159943594\n",
      "wc2.1_30s_bio_17: 0.028294598228459117\n",
      "current_30arcsec_annualPET: 0.02823169685993358\n",
      "wc2.1_30s_bio_7: 0.027118117862725666\n",
      "current_30arcsec_aridityIndexThornthwaite: 0.026501567308454536\n",
      "current_30arcsec_topoWet: 0.02629606951411899\n",
      "wc2.1_30s_elev: 0.026010010936391662\n",
      "FOR_2000: 0.025097719133391885\n",
      "wc2.1_30s_bio_19: 0.0241039071451613\n",
      "current_30arcsec_embergerQ: 0.023818039929230487\n",
      "wc2.1_30s_bio_3: 0.022564215720510088\n",
      "wc2.1_30s_bio_8: 0.02097154318189305\n",
      "current_30arcsec_thermicityIndex: 0.020543635320233657\n",
      "current_30arcsec_PETDriestQuarter: 0.020521601138143282\n",
      "wc2.1_30s_bio_2: 0.01994863185662418\n",
      "CULT_2000: 0.01884447162129123\n",
      "wc2.1_30s_bio_12: 0.018153283103695645\n",
      "current_30arcsec_tri: 0.018053450505895446\n",
      "wc2.1_30s_bio_14: 0.016870144553776792\n",
      "current_30arcsec_PETWarmestQuarter: 0.01661032745090968\n",
      "wc2.1_30s_bio_16: 0.015832402768641986\n",
      "current_30arcsec_PETWettestQuarter: 0.012635828137426896\n"
     ]
    },
    {
     "data": {
      "text/html": [
       "<h3>Balanced accuracy estimation for the best feature subset: </h3>"
      ]
     },
     "metadata": {},
     "output_type": "display_data"
    },
    {
     "name": "stdout",
     "output_type": "stream",
     "text": [
      "[0.69668142 0.64336283 0.72394678 0.76385809 0.5421286 ]\n"
     ]
    },
    {
     "data": {
      "text/html": [
       "<h3>Balanced accuracy estimation for all features in the experiment: </h3>"
      ]
     },
     "metadata": {},
     "output_type": "display_data"
    },
    {
     "name": "stdout",
     "output_type": "stream",
     "text": [
      "[0.74668142 0.64336283 0.72394678 0.7172949  0.5421286 ]\n"
     ]
    },
    {
     "data": {
      "text/html": [
       "<hr>"
      ]
     },
     "metadata": {},
     "output_type": "display_data"
    },
    {
     "data": {
      "text/html": [
       "<h2>Datasets to compare: mes, steppe</h2>"
      ]
     },
     "metadata": {},
     "output_type": "display_data"
    },
    {
     "data": {
      "text/html": [
       "<h3>Feature importances of all considered features: </h3>"
      ]
     },
     "metadata": {},
     "output_type": "display_data"
    },
    {
     "name": "stdout",
     "output_type": "stream",
     "text": [
      "wc2.1_30s_bio_18 = 0.1092466269493742\n",
      "wc2.1_30s_bio_16 = 0.07522952151476178\n",
      "ai_v3_yr = 0.061721054447808274\n",
      "wc2.1_30s_bio_12 = 0.04815688120571207\n",
      "wc2.1_30s_bio_13 = 0.047958476024149634\n",
      "current_30arcsec_aridityIndexThornthwaite = 0.04660079607510947\n",
      "current_30arcsec_minTempWarmest = 0.043437786961440364\n",
      "NVG_2000 = 0.03188462606266379\n",
      "current_30arcsec_climaticMoistureIndex = 0.029316858992582927\n",
      "wc2.1_30s_bio_8 = 0.026590808329816796\n",
      "wc2.1_30s_elev = 0.022354543670038734\n",
      "current_30arcsec_embergerQ = 0.021292080366431407\n",
      "wc2.1_30s_bio_3 = 0.020219643324539623\n",
      "et0_v3_yr = 0.01607415051982296\n",
      "current_30arcsec_growingDegDays5 = 0.015700423442518055\n",
      "CULTRF_2000 = 0.015227696723043414\n",
      "wc2.1_30s_bio_15 = 0.015206568663385031\n",
      "CULT_2000 = 0.015053222926502652\n",
      "wc2.1_30s_bio_1 = 0.014554732008660132\n",
      "wc2.1_30s_bio_10 = 0.01448348752685181\n",
      "FOR_2000 = 0.014353564423361491\n",
      "current_30arcsec_PETseasonality = 0.014159625991674975\n",
      "current_30arcsec_tri = 0.01403797554157939\n",
      "current_30arcsec_annualPET = 0.01315434262139948\n",
      "current_30arcsec_continentality = 0.012606586714595878\n",
      "GRS_2000 = 0.011873380177121797\n",
      "current_30arcsec_topoWet = 0.011843640927025953\n",
      "wc2.1_30s_bio_4 = 0.011717542154081939\n",
      "wc2.1_30s_bio_17 = 0.011523764416087403\n",
      "current_30arcsec_thermicityIndex = 0.011331890280880249\n",
      "URB_2000 = 0.011093333324937489\n",
      "current_30arcsec_PETDriestQuarter = 0.010784951355914545\n",
      "current_30arcsec_PETColdestQuarter = 0.010526419549739872\n",
      "wc2.1_30s_bio_11 = 0.010518752791584509\n",
      "wc2.1_30s_bio_19 = 0.010459309814715781\n",
      "wc2.1_30s_bio_9 = 0.01013534540054986\n",
      "current_30arcsec_PETWarmestQuarter = 0.00962742528639301\n",
      "current_30arcsec_growingDegDays0 = 0.009287863221791424\n",
      "wc2.1_30s_bio_2 = 0.00910133386047462\n",
      "wc2.1_30s_bio_7 = 0.009033108545270386\n",
      "current_30arcsec_PETWettestQuarter = 0.008765070562258637\n",
      "current_30arcsec_maxTempColdest = 0.008465420931945376\n",
      "wc2.1_30s_bio_5 = 0.008287023587321491\n",
      "wc2.1_30s_bio_6 = 0.007896898923569904\n",
      "sq1 = 0.0064085690242155855\n",
      "wc2.1_30s_bio_14 = 0.005567424446287519\n",
      "sq3 = 0.005442848414454585\n",
      "sq6 = 0.0050537447939827205\n",
      "sq5 = 0.004909114785624113\n",
      "sq7 = 0.004688335611726472\n",
      "sq2 = 0.004606779384769179\n",
      "CULTIR_2000 = 0.00420234604562267\n",
      "current_30arcsec_monthCountByTemp10 = 0.004160197064287847\n",
      "sq4 = 0.004066084289540631\n"
     ]
    },
    {
     "data": {
      "text/html": [
       "<h3>Recursive feature elimination procedure, selection the most informative features from</h3>"
      ]
     },
     "metadata": {},
     "output_type": "display_data"
    },
    {
     "name": "stdout",
     "output_type": "stream",
     "text": [
      "['URB_2000', 'NVG_2000', 'GRS_2000', 'FOR_2000', 'CULTRF_2000', 'CULTIR_2000', 'CULT_2000', 'sq1', 'sq2', 'sq3', 'sq4', 'sq5', 'sq6', 'sq7', 'et0_v3_yr', 'ai_v3_yr', 'wc2.1_30s_bio_19', 'wc2.1_30s_bio_18', 'wc2.1_30s_bio_17', 'wc2.1_30s_bio_16', 'wc2.1_30s_bio_15', 'wc2.1_30s_bio_14', 'wc2.1_30s_bio_13', 'wc2.1_30s_bio_12', 'wc2.1_30s_bio_11', 'wc2.1_30s_bio_10', 'wc2.1_30s_bio_9', 'wc2.1_30s_bio_8', 'wc2.1_30s_bio_7', 'wc2.1_30s_bio_6', 'wc2.1_30s_bio_5', 'wc2.1_30s_bio_4', 'wc2.1_30s_bio_3', 'wc2.1_30s_bio_2', 'wc2.1_30s_bio_1', 'wc2.1_30s_elev', 'current_30arcsec_tri', 'current_30arcsec_topoWet', 'current_30arcsec_thermicityIndex', 'current_30arcsec_PETWettestQuarter', 'current_30arcsec_PETWarmestQuarter', 'current_30arcsec_PETseasonality', 'current_30arcsec_PETDriestQuarter', 'current_30arcsec_PETColdestQuarter', 'current_30arcsec_monthCountByTemp10', 'current_30arcsec_minTempWarmest', 'current_30arcsec_maxTempColdest', 'current_30arcsec_growingDegDays5', 'current_30arcsec_growingDegDays0', 'current_30arcsec_embergerQ', 'current_30arcsec_continentality', 'current_30arcsec_climaticMoistureIndex', 'current_30arcsec_aridityIndexThornthwaite', 'current_30arcsec_annualPET']\n",
      "URB_2000: 1\n",
      "NVG_2000: 1\n",
      "GRS_2000: 1\n",
      "FOR_2000: 1\n",
      "CULTRF_2000: 1\n",
      "CULTIR_2000: 10\n",
      "CULT_2000: 1\n",
      "sq1: 1\n",
      "sq2: 5\n",
      "sq3: 8\n",
      "sq4: 9\n",
      "sq5: 11\n",
      "sq6: 12\n",
      "sq7: 4\n",
      "et0_v3_yr: 1\n",
      "ai_v3_yr: 1\n",
      "wc2.1_30s_bio_19: 1\n",
      "wc2.1_30s_bio_18: 1\n",
      "wc2.1_30s_bio_17: 1\n",
      "wc2.1_30s_bio_16: 1\n",
      "wc2.1_30s_bio_15: 1\n",
      "wc2.1_30s_bio_14: 7\n",
      "wc2.1_30s_bio_13: 1\n",
      "wc2.1_30s_bio_12: 1\n",
      "wc2.1_30s_bio_11: 1\n",
      "wc2.1_30s_bio_10: 1\n",
      "wc2.1_30s_bio_9: 1\n",
      "wc2.1_30s_bio_8: 1\n",
      "wc2.1_30s_bio_7: 1\n",
      "wc2.1_30s_bio_6: 1\n",
      "wc2.1_30s_bio_5: 2\n",
      "wc2.1_30s_bio_4: 1\n",
      "wc2.1_30s_bio_3: 1\n",
      "wc2.1_30s_bio_2: 1\n",
      "wc2.1_30s_bio_1: 1\n",
      "wc2.1_30s_elev: 1\n",
      "current_30arcsec_tri: 1\n",
      "current_30arcsec_topoWet: 1\n",
      "current_30arcsec_thermicityIndex: 1\n",
      "current_30arcsec_PETWettestQuarter: 1\n",
      "current_30arcsec_PETWarmestQuarter: 3\n",
      "current_30arcsec_PETseasonality: 1\n",
      "current_30arcsec_PETDriestQuarter: 1\n",
      "current_30arcsec_PETColdestQuarter: 1\n",
      "current_30arcsec_monthCountByTemp10: 13\n",
      "current_30arcsec_minTempWarmest: 1\n",
      "current_30arcsec_maxTempColdest: 6\n",
      "current_30arcsec_growingDegDays5: 1\n",
      "current_30arcsec_growingDegDays0: 1\n",
      "current_30arcsec_embergerQ: 1\n",
      "current_30arcsec_continentality: 1\n",
      "current_30arcsec_climaticMoistureIndex: 1\n",
      "current_30arcsec_aridityIndexThornthwaite: 1\n",
      "current_30arcsec_annualPET: 1\n",
      "wc2.1_30s_bio_18: 0.09915953005120756\n",
      "wc2.1_30s_bio_13: 0.08416981228438236\n",
      "ai_v3_yr: 0.07448635536508559\n",
      "wc2.1_30s_bio_16: 0.06586381948091999\n",
      "wc2.1_30s_bio_12: 0.05715344885760692\n",
      "current_30arcsec_aridityIndexThornthwaite: 0.050155155256901306\n",
      "current_30arcsec_climaticMoistureIndex: 0.04041108113426237\n",
      "wc2.1_30s_bio_8: 0.031083527411291053\n",
      "current_30arcsec_minTempWarmest: 0.029188545229462702\n",
      "NVG_2000: 0.025508803035087835\n",
      "wc2.1_30s_elev: 0.020557678205655038\n",
      "wc2.1_30s_bio_10: 0.01749019750815082\n",
      "current_30arcsec_PETseasonality: 0.016735836729430287\n",
      "CULT_2000: 0.016688625160881466\n",
      "CULTRF_2000: 0.016411938152993046\n",
      "wc2.1_30s_bio_3: 0.016269935366071898\n",
      "current_30arcsec_growingDegDays5: 0.01626134156815933\n",
      "current_30arcsec_topoWet: 0.015646090032861406\n",
      "current_30arcsec_continentality: 0.015571244891226231\n",
      "et0_v3_yr: 0.01550878507984635\n",
      "current_30arcsec_embergerQ: 0.015500208522851281\n",
      "wc2.1_30s_bio_15: 0.01532396304577858\n",
      "current_30arcsec_tri: 0.01516539380533858\n",
      "FOR_2000: 0.014646947075914338\n",
      "wc2.1_30s_bio_2: 0.014566456336351037\n",
      "wc2.1_30s_bio_4: 0.013484828882531656\n",
      "current_30arcsec_growingDegDays0: 0.013344841377949307\n",
      "current_30arcsec_PETDriestQuarter: 0.013111420603617273\n",
      "wc2.1_30s_bio_1: 0.012820572925607782\n",
      "current_30arcsec_thermicityIndex: 0.012691891132464194\n",
      "current_30arcsec_PETColdestQuarter: 0.01251463977553318\n",
      "wc2.1_30s_bio_19: 0.012462372751322398\n",
      "URB_2000: 0.011940864832511002\n",
      "GRS_2000: 0.011829243204064822\n",
      "current_30arcsec_annualPET: 0.01177541196366855\n",
      "current_30arcsec_PETWettestQuarter: 0.011682380572843829\n",
      "wc2.1_30s_bio_6: 0.011052621625656258\n",
      "wc2.1_30s_bio_17: 0.010926616719416624\n",
      "wc2.1_30s_bio_9: 0.010721685184403942\n",
      "wc2.1_30s_bio_11: 0.010697525405244317\n",
      "sq1: 0.01027872982316685\n",
      "wc2.1_30s_bio_7: 0.00913963363228075\n"
     ]
    },
    {
     "data": {
      "text/html": [
       "<h3>Balanced accuracy estimation for the best feature subset: </h3>"
      ]
     },
     "metadata": {},
     "output_type": "display_data"
    },
    {
     "name": "stdout",
     "output_type": "stream",
     "text": [
      "[0.8865174  0.86614549 0.86888249 0.88397672 0.86759419]\n"
     ]
    },
    {
     "data": {
      "text/html": [
       "<h3>Balanced accuracy estimation for all features in the experiment: </h3>"
      ]
     },
     "metadata": {},
     "output_type": "display_data"
    },
    {
     "name": "stdout",
     "output_type": "stream",
     "text": [
      "[0.88881713 0.87281486 0.85594349 0.88417658 0.8717086 ]\n"
     ]
    },
    {
     "data": {
      "text/html": [
       "<hr>"
      ]
     },
     "metadata": {},
     "output_type": "display_data"
    },
    {
     "data": {
      "text/html": [
       "<h2>Datasets to compare: mes, khanka_only</h2>"
      ]
     },
     "metadata": {},
     "output_type": "display_data"
    },
    {
     "data": {
      "text/html": [
       "<h3>Feature importances of all considered features: </h3>"
      ]
     },
     "metadata": {},
     "output_type": "display_data"
    },
    {
     "name": "stdout",
     "output_type": "stream",
     "text": [
      "current_30arcsec_annualPET = 0.05123752009478047\n",
      "et0_v3_yr = 0.05080045383559133\n",
      "wc2.1_30s_bio_9 = 0.038294179353310843\n",
      "wc2.1_30s_bio_16 = 0.03688713031262235\n",
      "wc2.1_30s_bio_18 = 0.03332199241279548\n",
      "current_30arcsec_PETColdestQuarter = 0.033149134364446234\n",
      "current_30arcsec_maxTempColdest = 0.0315843051669493\n",
      "current_30arcsec_growingDegDays0 = 0.03147347888030016\n",
      "wc2.1_30s_elev = 0.03103446230872054\n",
      "wc2.1_30s_bio_11 = 0.030880513712514678\n",
      "current_30arcsec_growingDegDays5 = 0.030523255548520745\n",
      "wc2.1_30s_bio_13 = 0.029854807034363454\n",
      "wc2.1_30s_bio_17 = 0.028098861340963763\n",
      "wc2.1_30s_bio_15 = 0.027831014460094672\n",
      "ai_v3_yr = 0.025876318390851527\n",
      "wc2.1_30s_bio_1 = 0.025597365984501307\n",
      "wc2.1_30s_bio_2 = 0.02440473867904728\n",
      "wc2.1_30s_bio_12 = 0.022964261454147674\n",
      "wc2.1_30s_bio_8 = 0.022924250173693633\n",
      "current_30arcsec_PETWettestQuarter = 0.022468821208246833\n",
      "wc2.1_30s_bio_19 = 0.02204677244699825\n",
      "current_30arcsec_continentality = 0.021714963065248075\n",
      "wc2.1_30s_bio_7 = 0.020728946711282583\n",
      "current_30arcsec_PETDriestQuarter = 0.020309624598676874\n",
      "wc2.1_30s_bio_6 = 0.020283363765117288\n",
      "current_30arcsec_PETWarmestQuarter = 0.02008135823076087\n",
      "wc2.1_30s_bio_10 = 0.01986170090972385\n",
      "current_30arcsec_embergerQ = 0.018960547186975277\n",
      "current_30arcsec_aridityIndexThornthwaite = 0.017891029956803854\n",
      "wc2.1_30s_bio_5 = 0.01766956281370371\n",
      "URB_2000 = 0.016443079206351945\n",
      "wc2.1_30s_bio_14 = 0.01612704137252805\n",
      "current_30arcsec_topoWet = 0.016051772608533844\n",
      "current_30arcsec_thermicityIndex = 0.015623834788380192\n",
      "wc2.1_30s_bio_4 = 0.014619729535836389\n",
      "current_30arcsec_climaticMoistureIndex = 0.01304804541438069\n",
      "wc2.1_30s_bio_3 = 0.01280949366181999\n",
      "current_30arcsec_PETseasonality = 0.011419081847827217\n",
      "CULTRF_2000 = 0.008393846178558888\n",
      "CULT_2000 = 0.008061293407019244\n",
      "current_30arcsec_tri = 0.0077752981232784135\n",
      "FOR_2000 = 0.007574679106732748\n",
      "current_30arcsec_minTempWarmest = 0.006925762368091387\n",
      "GRS_2000 = 0.005833344254049265\n",
      "CULTIR_2000 = 0.002705829351103432\n",
      "sq3 = 0.0023941597393796984\n",
      "sq1 = 0.002059215419046816\n",
      "sq4 = 0.0013476052542742878\n",
      "sq7 = 0.0012915185130346072\n",
      "sq2 = 0.0007406354480201489\n",
      "NVG_2000 = 0.0\n",
      "sq5 = 0.0\n",
      "sq6 = 0.0\n",
      "current_30arcsec_monthCountByTemp10 = 0.0\n"
     ]
    },
    {
     "data": {
      "text/html": [
       "<h3>Recursive feature elimination procedure, selection the most informative features from</h3>"
      ]
     },
     "metadata": {},
     "output_type": "display_data"
    },
    {
     "name": "stdout",
     "output_type": "stream",
     "text": [
      "['URB_2000', 'NVG_2000', 'GRS_2000', 'FOR_2000', 'CULTRF_2000', 'CULTIR_2000', 'CULT_2000', 'sq1', 'sq2', 'sq3', 'sq4', 'sq5', 'sq6', 'sq7', 'et0_v3_yr', 'ai_v3_yr', 'wc2.1_30s_bio_19', 'wc2.1_30s_bio_18', 'wc2.1_30s_bio_17', 'wc2.1_30s_bio_16', 'wc2.1_30s_bio_15', 'wc2.1_30s_bio_14', 'wc2.1_30s_bio_13', 'wc2.1_30s_bio_12', 'wc2.1_30s_bio_11', 'wc2.1_30s_bio_10', 'wc2.1_30s_bio_9', 'wc2.1_30s_bio_8', 'wc2.1_30s_bio_7', 'wc2.1_30s_bio_6', 'wc2.1_30s_bio_5', 'wc2.1_30s_bio_4', 'wc2.1_30s_bio_3', 'wc2.1_30s_bio_2', 'wc2.1_30s_bio_1', 'wc2.1_30s_elev', 'current_30arcsec_tri', 'current_30arcsec_topoWet', 'current_30arcsec_thermicityIndex', 'current_30arcsec_PETWettestQuarter', 'current_30arcsec_PETWarmestQuarter', 'current_30arcsec_PETseasonality', 'current_30arcsec_PETDriestQuarter', 'current_30arcsec_PETColdestQuarter', 'current_30arcsec_monthCountByTemp10', 'current_30arcsec_minTempWarmest', 'current_30arcsec_maxTempColdest', 'current_30arcsec_growingDegDays5', 'current_30arcsec_growingDegDays0', 'current_30arcsec_embergerQ', 'current_30arcsec_continentality', 'current_30arcsec_climaticMoistureIndex', 'current_30arcsec_aridityIndexThornthwaite', 'current_30arcsec_annualPET']\n",
      "URB_2000: 18\n",
      "NVG_2000: 38\n",
      "GRS_2000: 24\n",
      "FOR_2000: 27\n",
      "CULTRF_2000: 29\n",
      "CULTIR_2000: 26\n",
      "CULT_2000: 22\n",
      "sq1: 34\n",
      "sq2: 32\n",
      "sq3: 30\n",
      "sq4: 33\n",
      "sq5: 37\n",
      "sq6: 36\n",
      "sq7: 31\n",
      "et0_v3_yr: 1\n",
      "ai_v3_yr: 1\n",
      "wc2.1_30s_bio_19: 1\n",
      "wc2.1_30s_bio_18: 1\n",
      "wc2.1_30s_bio_17: 6\n",
      "wc2.1_30s_bio_16: 1\n",
      "wc2.1_30s_bio_15: 1\n",
      "wc2.1_30s_bio_14: 21\n",
      "wc2.1_30s_bio_13: 12\n",
      "wc2.1_30s_bio_12: 1\n",
      "wc2.1_30s_bio_11: 1\n",
      "wc2.1_30s_bio_10: 1\n",
      "wc2.1_30s_bio_9: 13\n",
      "wc2.1_30s_bio_8: 10\n",
      "wc2.1_30s_bio_7: 2\n",
      "wc2.1_30s_bio_6: 4\n",
      "wc2.1_30s_bio_5: 23\n",
      "wc2.1_30s_bio_4: 5\n",
      "wc2.1_30s_bio_3: 1\n",
      "wc2.1_30s_bio_2: 1\n",
      "wc2.1_30s_bio_1: 1\n",
      "wc2.1_30s_elev: 19\n",
      "current_30arcsec_tri: 28\n",
      "current_30arcsec_topoWet: 16\n",
      "current_30arcsec_thermicityIndex: 1\n",
      "current_30arcsec_PETWettestQuarter: 3\n",
      "current_30arcsec_PETWarmestQuarter: 8\n",
      "current_30arcsec_PETseasonality: 14\n",
      "current_30arcsec_PETDriestQuarter: 15\n",
      "current_30arcsec_PETColdestQuarter: 1\n",
      "current_30arcsec_monthCountByTemp10: 35\n",
      "current_30arcsec_minTempWarmest: 11\n",
      "current_30arcsec_maxTempColdest: 9\n",
      "current_30arcsec_growingDegDays5: 7\n",
      "current_30arcsec_growingDegDays0: 20\n",
      "current_30arcsec_embergerQ: 1\n",
      "current_30arcsec_continentality: 1\n",
      "current_30arcsec_climaticMoistureIndex: 25\n",
      "current_30arcsec_aridityIndexThornthwaite: 17\n",
      "current_30arcsec_annualPET: 1\n",
      "current_30arcsec_PETColdestQuarter: 0.08550458477255712\n",
      "et0_v3_yr: 0.07722839765784603\n",
      "current_30arcsec_annualPET: 0.07584349878671459\n",
      "wc2.1_30s_bio_11: 0.07438542667724059\n",
      "wc2.1_30s_bio_15: 0.06793785219734301\n",
      "current_30arcsec_continentality: 0.06539691284135724\n",
      "wc2.1_30s_bio_19: 0.061508960249295266\n",
      "wc2.1_30s_bio_1: 0.05906209711694701\n",
      "current_30arcsec_embergerQ: 0.0582548591696585\n",
      "wc2.1_30s_bio_3: 0.05394776782931128\n",
      "wc2.1_30s_bio_10: 0.049372919626915444\n",
      "ai_v3_yr: 0.04857542518972695\n",
      "wc2.1_30s_bio_12: 0.04808541286503597\n",
      "wc2.1_30s_bio_18: 0.04704952200269505\n",
      "wc2.1_30s_bio_2: 0.04573934405045169\n",
      "current_30arcsec_thermicityIndex: 0.04129924586390005\n",
      "wc2.1_30s_bio_16: 0.04080777310300423\n"
     ]
    },
    {
     "data": {
      "text/html": [
       "<h3>Balanced accuracy estimation for the best feature subset: </h3>"
      ]
     },
     "metadata": {},
     "output_type": "display_data"
    },
    {
     "name": "stdout",
     "output_type": "stream",
     "text": [
      "[0.74862448 0.81473829 0.95179063 0.81749311 0.84793388]\n"
     ]
    },
    {
     "data": {
      "text/html": [
       "<h3>Balanced accuracy estimation for all features in the experiment: </h3>"
      ]
     },
     "metadata": {},
     "output_type": "display_data"
    },
    {
     "name": "stdout",
     "output_type": "stream",
     "text": [
      "[0.79862448 0.81336088 0.81473829 0.77272727 0.79862259]\n"
     ]
    },
    {
     "data": {
      "text/html": [
       "<hr>"
      ]
     },
     "metadata": {},
     "output_type": "display_data"
    },
    {
     "data": {
      "text/html": [
       "<h2>Datasets to compare: steppe, khanka_only</h2>"
      ]
     },
     "metadata": {},
     "output_type": "display_data"
    },
    {
     "data": {
      "text/html": [
       "<h3>Feature importances of all considered features: </h3>"
      ]
     },
     "metadata": {},
     "output_type": "display_data"
    },
    {
     "name": "stdout",
     "output_type": "stream",
     "text": [
      "et0_v3_yr = 0.05629858643970793\n",
      "wc2.1_30s_bio_13 = 0.05396554028331965\n",
      "current_30arcsec_aridityIndexThornthwaite = 0.05009542694752848\n",
      "wc2.1_30s_bio_17 = 0.04557877878573043\n",
      "ai_v3_yr = 0.042642398695417735\n",
      "wc2.1_30s_bio_18 = 0.04253628776648892\n",
      "wc2.1_30s_bio_16 = 0.040140380284421934\n",
      "wc2.1_30s_elev = 0.04009368423027025\n",
      "wc2.1_30s_bio_10 = 0.03778100532978727\n",
      "wc2.1_30s_bio_11 = 0.036802744618695815\n",
      "wc2.1_30s_bio_7 = 0.03573240957422615\n",
      "current_30arcsec_growingDegDays5 = 0.03213314219178797\n",
      "wc2.1_30s_bio_1 = 0.0311499832427817\n",
      "wc2.1_30s_bio_4 = 0.030326455214815945\n",
      "current_30arcsec_growingDegDays0 = 0.029782385328459025\n",
      "wc2.1_30s_bio_15 = 0.029771389236081053\n",
      "wc2.1_30s_bio_3 = 0.02964509329148486\n",
      "wc2.1_30s_bio_19 = 0.02835600110986555\n",
      "wc2.1_30s_bio_6 = 0.024798140862508835\n",
      "current_30arcsec_minTempWarmest = 0.024551015869109613\n",
      "current_30arcsec_thermicityIndex = 0.0208321527385294\n",
      "current_30arcsec_continentality = 0.018729597501043704\n",
      "current_30arcsec_annualPET = 0.018379493545208875\n",
      "wc2.1_30s_bio_5 = 0.017355455642324616\n",
      "current_30arcsec_maxTempColdest = 0.016911390598286776\n",
      "wc2.1_30s_bio_12 = 0.016286717214225355\n",
      "wc2.1_30s_bio_8 = 0.016133672479574007\n",
      "wc2.1_30s_bio_9 = 0.016048313892758716\n",
      "current_30arcsec_PETseasonality = 0.01474963664740966\n",
      "current_30arcsec_embergerQ = 0.013631527488237856\n",
      "wc2.1_30s_bio_14 = 0.013078884227347409\n",
      "current_30arcsec_PETColdestQuarter = 0.011477166498786917\n",
      "current_30arcsec_PETDriestQuarter = 0.011207619254134469\n",
      "current_30arcsec_topoWet = 0.008618492063621967\n",
      "current_30arcsec_monthCountByTemp10 = 0.007835199075821786\n",
      "current_30arcsec_climaticMoistureIndex = 0.007831675579591756\n",
      "current_30arcsec_PETWarmestQuarter = 0.007687792249565753\n",
      "CULTIR_2000 = 0.007451811528808091\n",
      "current_30arcsec_PETWettestQuarter = 0.004901235717442346\n",
      "wc2.1_30s_bio_2 = 0.0025171988897337654\n",
      "CULT_2000 = 0.002284670779653167\n",
      "FOR_2000 = 0.00176622425163235\n",
      "CULTRF_2000 = 0.0007029591448720829\n",
      "URB_2000 = 0.0006397777431255915\n",
      "sq1 = 0.00048373795404002925\n",
      "NVG_2000 = 0.00027674799173440986\n",
      "GRS_2000 = 0.0\n",
      "sq2 = 0.0\n",
      "sq3 = 0.0\n",
      "sq4 = 0.0\n",
      "sq5 = 0.0\n",
      "sq6 = 0.0\n",
      "sq7 = 0.0\n",
      "current_30arcsec_tri = 0.0\n"
     ]
    },
    {
     "data": {
      "text/html": [
       "<h3>Recursive feature elimination procedure, selection the most informative features from</h3>"
      ]
     },
     "metadata": {},
     "output_type": "display_data"
    },
    {
     "name": "stdout",
     "output_type": "stream",
     "text": [
      "['URB_2000', 'NVG_2000', 'GRS_2000', 'FOR_2000', 'CULTRF_2000', 'CULTIR_2000', 'CULT_2000', 'sq1', 'sq2', 'sq3', 'sq4', 'sq5', 'sq6', 'sq7', 'et0_v3_yr', 'ai_v3_yr', 'wc2.1_30s_bio_19', 'wc2.1_30s_bio_18', 'wc2.1_30s_bio_17', 'wc2.1_30s_bio_16', 'wc2.1_30s_bio_15', 'wc2.1_30s_bio_14', 'wc2.1_30s_bio_13', 'wc2.1_30s_bio_12', 'wc2.1_30s_bio_11', 'wc2.1_30s_bio_10', 'wc2.1_30s_bio_9', 'wc2.1_30s_bio_8', 'wc2.1_30s_bio_7', 'wc2.1_30s_bio_6', 'wc2.1_30s_bio_5', 'wc2.1_30s_bio_4', 'wc2.1_30s_bio_3', 'wc2.1_30s_bio_2', 'wc2.1_30s_bio_1', 'wc2.1_30s_elev', 'current_30arcsec_tri', 'current_30arcsec_topoWet', 'current_30arcsec_thermicityIndex', 'current_30arcsec_PETWettestQuarter', 'current_30arcsec_PETWarmestQuarter', 'current_30arcsec_PETseasonality', 'current_30arcsec_PETDriestQuarter', 'current_30arcsec_PETColdestQuarter', 'current_30arcsec_monthCountByTemp10', 'current_30arcsec_minTempWarmest', 'current_30arcsec_maxTempColdest', 'current_30arcsec_growingDegDays5', 'current_30arcsec_growingDegDays0', 'current_30arcsec_embergerQ', 'current_30arcsec_continentality', 'current_30arcsec_climaticMoistureIndex', 'current_30arcsec_aridityIndexThornthwaite', 'current_30arcsec_annualPET']\n",
      "URB_2000: 35\n",
      "NVG_2000: 40\n",
      "GRS_2000: 42\n",
      "FOR_2000: 31\n",
      "CULTRF_2000: 33\n",
      "CULTIR_2000: 28\n",
      "CULT_2000: 30\n",
      "sq1: 37\n",
      "sq2: 39\n",
      "sq3: 36\n",
      "sq4: 44\n",
      "sq5: 38\n",
      "sq6: 41\n",
      "sq7: 43\n",
      "et0_v3_yr: 1\n",
      "ai_v3_yr: 1\n",
      "wc2.1_30s_bio_19: 5\n",
      "wc2.1_30s_bio_18: 1\n",
      "wc2.1_30s_bio_17: 3\n",
      "wc2.1_30s_bio_16: 1\n",
      "wc2.1_30s_bio_15: 1\n",
      "wc2.1_30s_bio_14: 18\n",
      "wc2.1_30s_bio_13: 1\n",
      "wc2.1_30s_bio_12: 6\n",
      "wc2.1_30s_bio_11: 15\n",
      "wc2.1_30s_bio_10: 1\n",
      "wc2.1_30s_bio_9: 9\n",
      "wc2.1_30s_bio_8: 2\n",
      "wc2.1_30s_bio_7: 7\n",
      "wc2.1_30s_bio_6: 14\n",
      "wc2.1_30s_bio_5: 22\n",
      "wc2.1_30s_bio_4: 1\n",
      "wc2.1_30s_bio_3: 13\n",
      "wc2.1_30s_bio_2: 25\n",
      "wc2.1_30s_bio_1: 19\n",
      "wc2.1_30s_elev: 1\n",
      "current_30arcsec_tri: 29\n",
      "current_30arcsec_topoWet: 34\n",
      "current_30arcsec_thermicityIndex: 8\n",
      "current_30arcsec_PETWettestQuarter: 27\n",
      "current_30arcsec_PETWarmestQuarter: 26\n",
      "current_30arcsec_PETseasonality: 23\n",
      "current_30arcsec_PETDriestQuarter: 4\n",
      "current_30arcsec_PETColdestQuarter: 12\n",
      "current_30arcsec_monthCountByTemp10: 32\n",
      "current_30arcsec_minTempWarmest: 1\n",
      "current_30arcsec_maxTempColdest: 17\n",
      "current_30arcsec_growingDegDays5: 10\n",
      "current_30arcsec_growingDegDays0: 24\n",
      "current_30arcsec_embergerQ: 21\n",
      "current_30arcsec_continentality: 11\n",
      "current_30arcsec_climaticMoistureIndex: 20\n",
      "current_30arcsec_aridityIndexThornthwaite: 1\n",
      "current_30arcsec_annualPET: 16\n",
      "wc2.1_30s_bio_18: 0.14837881024512542\n",
      "wc2.1_30s_bio_13: 0.1374367903403423\n",
      "wc2.1_30s_elev: 0.13651597039211696\n",
      "et0_v3_yr: 0.10386261756682967\n",
      "wc2.1_30s_bio_15: 0.09606726929887477\n",
      "wc2.1_30s_bio_16: 0.08423049624761066\n",
      "ai_v3_yr: 0.06460611048063232\n",
      "current_30arcsec_aridityIndexThornthwaite: 0.06242426112852452\n",
      "wc2.1_30s_bio_10: 0.06095969809602604\n",
      "current_30arcsec_minTempWarmest: 0.05868651508866864\n",
      "wc2.1_30s_bio_4: 0.04683146111524857\n"
     ]
    },
    {
     "data": {
      "text/html": [
       "<h3>Balanced accuracy estimation for the best feature subset: </h3>"
      ]
     },
     "metadata": {},
     "output_type": "display_data"
    },
    {
     "name": "stdout",
     "output_type": "stream",
     "text": [
      "[1.         0.95454545 1.         1.         1.        ]\n"
     ]
    },
    {
     "data": {
      "text/html": [
       "<h3>Balanced accuracy estimation for all features in the experiment: </h3>"
      ]
     },
     "metadata": {},
     "output_type": "display_data"
    },
    {
     "name": "stdout",
     "output_type": "stream",
     "text": [
      "[0.95454545 0.95454545 1.         1.         1.        ]\n"
     ]
    },
    {
     "data": {
      "text/html": [
       "<hr>"
      ]
     },
     "metadata": {},
     "output_type": "display_data"
    },
    {
     "data": {
      "text/html": [
       "<h1>END OF COMPUTATIONS</h1>"
      ]
     },
     "metadata": {},
     "output_type": "display_data"
    }
   ],
   "source": [
    "analyze_all()"
   ]
  },
  {
   "cell_type": "code",
   "execution_count": 272,
   "id": "133f0cfa",
   "metadata": {},
   "outputs": [],
   "source": [
    "datasets = {\n",
    "    'prim': data_prim,\n",
    "    'khanka':data_khanka,\n",
    "    'mes': data_mes,\n",
    "    'steppe': data_steppe,\n",
    "    'khanka_only': hanka_only,\n",
    "    'checks': data_steppe_checks\n",
    "}\n",
    "\n",
    "for key, df in datasets.items():\n",
    "    df.describe().to_csv(f'.\\\\stat\\\\{key}_stat.csv')"
   ]
  },
  {
   "cell_type": "code",
   "execution_count": 273,
   "id": "f4849c43",
   "metadata": {},
   "outputs": [
    {
     "data": {
      "text/html": [
       "<style>#sk-container-id-1 {color: black;background-color: white;}#sk-container-id-1 pre{padding: 0;}#sk-container-id-1 div.sk-toggleable {background-color: white;}#sk-container-id-1 label.sk-toggleable__label {cursor: pointer;display: block;width: 100%;margin-bottom: 0;padding: 0.3em;box-sizing: border-box;text-align: center;}#sk-container-id-1 label.sk-toggleable__label-arrow:before {content: \"▸\";float: left;margin-right: 0.25em;color: #696969;}#sk-container-id-1 label.sk-toggleable__label-arrow:hover:before {color: black;}#sk-container-id-1 div.sk-estimator:hover label.sk-toggleable__label-arrow:before {color: black;}#sk-container-id-1 div.sk-toggleable__content {max-height: 0;max-width: 0;overflow: hidden;text-align: left;background-color: #f0f8ff;}#sk-container-id-1 div.sk-toggleable__content pre {margin: 0.2em;color: black;border-radius: 0.25em;background-color: #f0f8ff;}#sk-container-id-1 input.sk-toggleable__control:checked~div.sk-toggleable__content {max-height: 200px;max-width: 100%;overflow: auto;}#sk-container-id-1 input.sk-toggleable__control:checked~label.sk-toggleable__label-arrow:before {content: \"▾\";}#sk-container-id-1 div.sk-estimator input.sk-toggleable__control:checked~label.sk-toggleable__label {background-color: #d4ebff;}#sk-container-id-1 div.sk-label input.sk-toggleable__control:checked~label.sk-toggleable__label {background-color: #d4ebff;}#sk-container-id-1 input.sk-hidden--visually {border: 0;clip: rect(1px 1px 1px 1px);clip: rect(1px, 1px, 1px, 1px);height: 1px;margin: -1px;overflow: hidden;padding: 0;position: absolute;width: 1px;}#sk-container-id-1 div.sk-estimator {font-family: monospace;background-color: #f0f8ff;border: 1px dotted black;border-radius: 0.25em;box-sizing: border-box;margin-bottom: 0.5em;}#sk-container-id-1 div.sk-estimator:hover {background-color: #d4ebff;}#sk-container-id-1 div.sk-parallel-item::after {content: \"\";width: 100%;border-bottom: 1px solid gray;flex-grow: 1;}#sk-container-id-1 div.sk-label:hover label.sk-toggleable__label {background-color: #d4ebff;}#sk-container-id-1 div.sk-serial::before {content: \"\";position: absolute;border-left: 1px solid gray;box-sizing: border-box;top: 0;bottom: 0;left: 50%;z-index: 0;}#sk-container-id-1 div.sk-serial {display: flex;flex-direction: column;align-items: center;background-color: white;padding-right: 0.2em;padding-left: 0.2em;position: relative;}#sk-container-id-1 div.sk-item {position: relative;z-index: 1;}#sk-container-id-1 div.sk-parallel {display: flex;align-items: stretch;justify-content: center;background-color: white;position: relative;}#sk-container-id-1 div.sk-item::before, #sk-container-id-1 div.sk-parallel-item::before {content: \"\";position: absolute;border-left: 1px solid gray;box-sizing: border-box;top: 0;bottom: 0;left: 50%;z-index: -1;}#sk-container-id-1 div.sk-parallel-item {display: flex;flex-direction: column;z-index: 1;position: relative;background-color: white;}#sk-container-id-1 div.sk-parallel-item:first-child::after {align-self: flex-end;width: 50%;}#sk-container-id-1 div.sk-parallel-item:last-child::after {align-self: flex-start;width: 50%;}#sk-container-id-1 div.sk-parallel-item:only-child::after {width: 0;}#sk-container-id-1 div.sk-dashed-wrapped {border: 1px dashed gray;margin: 0 0.4em 0.5em 0.4em;box-sizing: border-box;padding-bottom: 0.4em;background-color: white;}#sk-container-id-1 div.sk-label label {font-family: monospace;font-weight: bold;display: inline-block;line-height: 1.2em;}#sk-container-id-1 div.sk-label-container {text-align: center;}#sk-container-id-1 div.sk-container {/* jupyter's `normalize.less` sets `[hidden] { display: none; }` but bootstrap.min.css set `[hidden] { display: none !important; }` so we also need the `!important` here to be able to override the default hidden behavior on the sphinx rendered scikit-learn.org. See: https://github.com/scikit-learn/scikit-learn/issues/21755 */display: inline-block !important;position: relative;}#sk-container-id-1 div.sk-text-repr-fallback {display: none;}</style><div id=\"sk-container-id-1\" class=\"sk-top-container\"><div class=\"sk-text-repr-fallback\"><pre>RandomForestClassifier()</pre><b>In a Jupyter environment, please rerun this cell to show the HTML representation or trust the notebook. <br />On GitHub, the HTML representation is unable to render, please try loading this page with nbviewer.org.</b></div><div class=\"sk-container\" hidden><div class=\"sk-item\"><div class=\"sk-estimator sk-toggleable\"><input class=\"sk-toggleable__control sk-hidden--visually\" id=\"sk-estimator-id-1\" type=\"checkbox\" checked><label for=\"sk-estimator-id-1\" class=\"sk-toggleable__label sk-toggleable__label-arrow\">RandomForestClassifier</label><div class=\"sk-toggleable__content\"><pre>RandomForestClassifier()</pre></div></div></div></div></div>"
      ],
      "text/plain": [
       "RandomForestClassifier()"
      ]
     },
     "execution_count": 273,
     "metadata": {},
     "output_type": "execute_result"
    }
   ],
   "source": [
    "clf = RandomForestClassifier()\n",
    "clf.fit(X, y)\n"
   ]
  },
  {
   "cell_type": "code",
   "execution_count": 274,
   "id": "6b987ed4",
   "metadata": {},
   "outputs": [],
   "source": [
    "r = permutation_importance(clf, X, y, n_repeats=3, random_state=0, n_jobs=5)"
   ]
  },
  {
   "cell_type": "code",
   "execution_count": 275,
   "id": "a5acf8a6",
   "metadata": {},
   "outputs": [
    {
     "data": {
      "text/plain": [
       "{'importances_mean': array([ 7.90459498e-04,  4.12413651e-04,  4.81149259e-04,  5.49884868e-04,\n",
       "         3.09310238e-04, -1.03103413e-04,  1.03103413e-04,  6.87356085e-05,\n",
       "         1.71839021e-04, -6.87356085e-05,  3.43678042e-04,  1.03103413e-04,\n",
       "         1.37471217e-04,  1.37471217e-04,  4.46781455e-04,  1.64965460e-03,\n",
       "        -2.74942434e-04, -1.37471217e-04, -4.12413651e-04,  1.85586143e-03,\n",
       "         3.09310238e-04,  3.43678042e-04, -1.03103413e-04,  1.03103413e-03,\n",
       "         8.59195106e-04,  5.84252672e-04, -6.87356085e-05, -5.84252672e-04,\n",
       "         1.37471217e-04, -3.43678042e-05,  8.93562910e-04,  4.46781455e-04,\n",
       "        -2.74942434e-04,  1.03103413e-04,  4.46781455e-04, -3.78045847e-04,\n",
       "        -2.74942434e-04, -2.74942434e-04, -3.43678042e-04, -4.81149259e-04,\n",
       "         1.03103413e-04,  6.87356085e-05, -3.78045847e-04,  3.78045847e-04,\n",
       "         1.71839021e-04, -7.21723889e-04, -1.71839021e-04, -2.06206825e-04,\n",
       "         5.84252672e-04, -3.43678042e-05,  6.87356085e-05,  8.59195106e-04,\n",
       "         6.87356085e-04,  3.78045847e-04]),\n",
       " 'importances_std': array([1.28592549e-04, 6.68186483e-04, 3.79604805e-04, 6.37427810e-04,\n",
       "        3.66947735e-04, 1.45810245e-04, 8.41835840e-05, 1.28592549e-04,\n",
       "        3.18713905e-04, 5.60521924e-04, 1.75242104e-04, 2.22728828e-04,\n",
       "        4.93270787e-04, 3.18713905e-04, 9.23464882e-04, 6.35572121e-04,\n",
       "        4.78688122e-04, 7.15973009e-04, 1.68367168e-04, 1.03446520e-03,\n",
       "        9.70852452e-04, 9.72068297e-05, 2.22728828e-04, 7.29051223e-04,\n",
       "        7.25803763e-04, 5.34637564e-04, 4.15267759e-04, 5.60521924e-04,\n",
       "        1.28592549e-04, 4.86034149e-05, 4.31996601e-04, 4.63647028e-04,\n",
       "        5.14370194e-04, 5.52028677e-04, 1.28867809e-03, 2.95643031e-04,\n",
       "        4.86034149e-05, 6.20526861e-04, 5.47732668e-04, 8.17635994e-04,\n",
       "        5.89285088e-04, 6.42962743e-04, 6.80447808e-04, 2.57185097e-04,\n",
       "        4.78688122e-04, 5.12068750e-04, 1.94413659e-04, 5.25726313e-04,\n",
       "        5.07434549e-04, 5.60521924e-04, 4.86034149e-05, 5.91286062e-04,\n",
       "        2.70612361e-04, 7.63862624e-04]),\n",
       " 'importances': array([[ 0.00061862,  0.00082483,  0.00092793],\n",
       "        [-0.00020621,  0.00134034,  0.0001031 ],\n",
       "        [ 0.        ,  0.00092793,  0.00051552],\n",
       "        [ 0.        ,  0.00144345,  0.00020621],\n",
       "        [ 0.00051552, -0.00020621,  0.00061862],\n",
       "        [ 0.0001031 , -0.00020621, -0.00020621],\n",
       "        [ 0.00020621,  0.0001031 ,  0.        ],\n",
       "        [-0.0001031 ,  0.0001031 ,  0.00020621],\n",
       "        [-0.0001031 ,  0.00061862,  0.        ],\n",
       "        [ 0.0001031 ,  0.00051552, -0.00082483],\n",
       "        [ 0.00051552,  0.00041241,  0.0001031 ],\n",
       "        [-0.0001031 ,  0.00041241,  0.        ],\n",
       "        [-0.00030931,  0.00082483, -0.0001031 ],\n",
       "        [ 0.00041241,  0.00030931, -0.00030931],\n",
       "        [ 0.00134034,  0.00082483, -0.00082483],\n",
       "        [ 0.00082483,  0.00175276,  0.00237138],\n",
       "        [-0.0001031 , -0.00092793,  0.00020621],\n",
       "        [-0.00103103, -0.0001031 ,  0.00072172],\n",
       "        [-0.00061862, -0.00041241, -0.00020621],\n",
       "        [ 0.00134034,  0.00092793,  0.00329931],\n",
       "        [ 0.00020621, -0.00082483,  0.00154655],\n",
       "        [ 0.00041241,  0.00041241,  0.00020621],\n",
       "        [-0.00041241,  0.0001031 ,  0.        ],\n",
       "        [ 0.00154655,  0.        ,  0.00154655],\n",
       "        [ 0.00103103, -0.0001031 ,  0.00164965],\n",
       "        [ 0.00020621,  0.00134034,  0.00020621],\n",
       "        [-0.00030931,  0.00051552, -0.00041241],\n",
       "        [-0.00134034, -0.00041241,  0.        ],\n",
       "        [ 0.0001031 ,  0.        ,  0.00030931],\n",
       "        [ 0.        , -0.0001031 ,  0.        ],\n",
       "        [ 0.00103103,  0.00134034,  0.00030931],\n",
       "        [ 0.00072172, -0.00020621,  0.00082483],\n",
       "        [-0.00041241, -0.00082483,  0.00041241],\n",
       "        [ 0.00020621,  0.00072172, -0.00061862],\n",
       "        [-0.00041241,  0.00226828, -0.00051552],\n",
       "        [-0.00072172, -0.00041241,  0.        ],\n",
       "        [-0.00030931, -0.00030931, -0.00020621],\n",
       "        [ 0.        ,  0.00030931, -0.00113414],\n",
       "        [-0.00030931, -0.00103103,  0.00030931],\n",
       "        [-0.00072172,  0.00061862, -0.00134034],\n",
       "        [-0.00041241, -0.00020621,  0.00092793],\n",
       "        [-0.0001031 , -0.00061862,  0.00092793],\n",
       "        [ 0.0001031 ,  0.0001031 , -0.00134034],\n",
       "        [ 0.00072172,  0.0001031 ,  0.00030931],\n",
       "        [ 0.00082483,  0.        , -0.00030931],\n",
       "        [-0.00103103, -0.00113414,  0.        ],\n",
       "        [-0.00030931, -0.00030931,  0.0001031 ],\n",
       "        [ 0.00051552, -0.00072172, -0.00041241],\n",
       "        [ 0.00123724,  0.        ,  0.00051552],\n",
       "        [ 0.00072172, -0.00061862, -0.00020621],\n",
       "        [ 0.        ,  0.0001031 ,  0.0001031 ],\n",
       "        [ 0.00092793,  0.00154655,  0.0001031 ],\n",
       "        [ 0.00082483,  0.00092793,  0.00030931],\n",
       "        [ 0.00144345, -0.00030931,  0.        ]])}"
      ]
     },
     "execution_count": 275,
     "metadata": {},
     "output_type": "execute_result"
    }
   ],
   "source": [
    "r"
   ]
  },
  {
   "cell_type": "code",
   "execution_count": null,
   "id": "627aa569",
   "metadata": {},
   "outputs": [],
   "source": []
  }
 ],
 "metadata": {
  "kernelspec": {
   "display_name": "Python 3 (ipykernel)",
   "language": "python",
   "name": "python3"
  },
  "language_info": {
   "codemirror_mode": {
    "name": "ipython",
    "version": 3
   },
   "file_extension": ".py",
   "mimetype": "text/x-python",
   "name": "python",
   "nbconvert_exporter": "python",
   "pygments_lexer": "ipython3",
   "version": "3.9.15"
  }
 },
 "nbformat": 4,
 "nbformat_minor": 5
}
