{
 "cells": [
  {
   "cell_type": "code",
   "execution_count": 1,
   "id": "e9da414f",
   "metadata": {},
   "outputs": [],
   "source": [
    "import pandas as pd"
   ]
  },
  {
   "cell_type": "code",
   "execution_count": 2,
   "id": "2eed0c76",
   "metadata": {},
   "outputs": [],
   "source": [
    "data_khanka=pd.read_csv('Steppe_Khanka_and rasters_add.csv')"
   ]
  },
  {
   "cell_type": "code",
   "execution_count": 3,
   "id": "50627681",
   "metadata": {},
   "outputs": [
    {
     "data": {
      "text/plain": [
       "(28658, 73)"
      ]
     },
     "execution_count": 3,
     "metadata": {},
     "output_type": "execute_result"
    }
   ],
   "source": [
    "data_khanka.shape"
   ]
  },
  {
   "cell_type": "code",
   "execution_count": 4,
   "id": "a9cc0da9",
   "metadata": {},
   "outputs": [],
   "source": [
    "data_prim=pd.read_csv('Steppe_Prim_and rasters_add.csv') "
   ]
  },
  {
   "cell_type": "code",
   "execution_count": 5,
   "id": "15ed3884",
   "metadata": {},
   "outputs": [
    {
     "data": {
      "text/plain": [
       "(12721, 75)"
      ]
     },
     "execution_count": 5,
     "metadata": {},
     "output_type": "execute_result"
    }
   ],
   "source": [
    "data_prim.shape"
   ]
  },
  {
   "cell_type": "code",
   "execution_count": 6,
   "id": "ddcfb4ea",
   "metadata": {},
   "outputs": [],
   "source": [
    "data_steppe7=pd.read_csv('steppe7_cl.csv', sep=';') "
   ]
  },
  {
   "cell_type": "code",
   "execution_count": 7,
   "id": "28867c67",
   "metadata": {},
   "outputs": [
    {
     "data": {
      "text/plain": [
       "(29830, 17)"
      ]
     },
     "execution_count": 7,
     "metadata": {},
     "output_type": "execute_result"
    }
   ],
   "source": [
    "data_steppe7.shape"
   ]
  },
  {
   "cell_type": "code",
   "execution_count": 8,
   "id": "e1896ac2",
   "metadata": {},
   "outputs": [
    {
     "data": {
      "text/html": [
       "<div>\n",
       "<style scoped>\n",
       "    .dataframe tbody tr th:only-of-type {\n",
       "        vertical-align: middle;\n",
       "    }\n",
       "\n",
       "    .dataframe tbody tr th {\n",
       "        vertical-align: top;\n",
       "    }\n",
       "\n",
       "    .dataframe thead th {\n",
       "        text-align: right;\n",
       "    }\n",
       "</style>\n",
       "<table border=\"1\" class=\"dataframe\">\n",
       "  <thead>\n",
       "    <tr style=\"text-align: right;\">\n",
       "      <th></th>\n",
       "      <th>gbifID</th>\n",
       "      <th>datasetKey</th>\n",
       "      <th>occurrenceID</th>\n",
       "      <th>family</th>\n",
       "      <th>species</th>\n",
       "      <th>infraspecificEpithet</th>\n",
       "      <th>taxonRank</th>\n",
       "      <th>scientificName</th>\n",
       "      <th>countryCode</th>\n",
       "      <th>decimalLatitude</th>\n",
       "      <th>decimalLongitude</th>\n",
       "      <th>coordinateUncertaintyInMeters</th>\n",
       "      <th>coordinatePrecision</th>\n",
       "      <th>eventDate</th>\n",
       "      <th>basisOfRecord</th>\n",
       "      <th>institutionCode</th>\n",
       "      <th>collectionCode</th>\n",
       "    </tr>\n",
       "  </thead>\n",
       "  <tbody>\n",
       "    <tr>\n",
       "      <th>0</th>\n",
       "      <td>2.311266e+09</td>\n",
       "      <td>e7a2f416-fea5-41bb-8f17-5217fcaa74d7</td>\n",
       "      <td>NSK0000027</td>\n",
       "      <td>Amaryllidaceae</td>\n",
       "      <td>Allium anisopodium Ledeb.</td>\n",
       "      <td>argunense</td>\n",
       "      <td>SUBSPECIES</td>\n",
       "      <td>Allium anisopodium subsp. argunense Peschkova</td>\n",
       "      <td>RUS</td>\n",
       "      <td>51.467000</td>\n",
       "      <td>119.667000</td>\n",
       "      <td>1000</td>\n",
       "      <td>NaN</td>\n",
       "      <td>1953-06-29T00:00:00</td>\n",
       "      <td>PRESERVED_SPECIMEN</td>\n",
       "      <td>NaN</td>\n",
       "      <td>NSK</td>\n",
       "    </tr>\n",
       "    <tr>\n",
       "      <th>1</th>\n",
       "      <td>2.417592e+09</td>\n",
       "      <td>3942a8dc-9f01-420d-a829-01675dc01c73</td>\n",
       "      <td>5464942</td>\n",
       "      <td>Amaryllidaceae</td>\n",
       "      <td>Allium anisopodium Ledeb.</td>\n",
       "      <td>zimmermannianum</td>\n",
       "      <td>VARIETY</td>\n",
       "      <td>Allium anisopodium var. zimmermannianum (Gilg)...</td>\n",
       "      <td>CHN</td>\n",
       "      <td>39.710000</td>\n",
       "      <td>115.830000</td>\n",
       "      <td>NaN</td>\n",
       "      <td>NaN</td>\n",
       "      <td>1971-01-01T00:00:00</td>\n",
       "      <td>PRESERVED_SPECIMEN</td>\n",
       "      <td>PE</td>\n",
       "      <td>NaN</td>\n",
       "    </tr>\n",
       "    <tr>\n",
       "      <th>2</th>\n",
       "      <td>2.417447e+09</td>\n",
       "      <td>3942a8dc-9f01-420d-a829-01675dc01c73</td>\n",
       "      <td>6562119</td>\n",
       "      <td>Amaryllidaceae</td>\n",
       "      <td>Allium anisopodium Ledeb.</td>\n",
       "      <td>zimmermannianum</td>\n",
       "      <td>VARIETY</td>\n",
       "      <td>Allium anisopodium var. zimmermannianum (Gilg)...</td>\n",
       "      <td>CHN</td>\n",
       "      <td>34.560000</td>\n",
       "      <td>105.720000</td>\n",
       "      <td>NaN</td>\n",
       "      <td>NaN</td>\n",
       "      <td>1950-01-01T00:00:00</td>\n",
       "      <td>PRESERVED_SPECIMEN</td>\n",
       "      <td>PE</td>\n",
       "      <td>NaN</td>\n",
       "    </tr>\n",
       "    <tr>\n",
       "      <th>3</th>\n",
       "      <td>2.417662e+09</td>\n",
       "      <td>3942a8dc-9f01-420d-a829-01675dc01c73</td>\n",
       "      <td>6562129</td>\n",
       "      <td>Amaryllidaceae</td>\n",
       "      <td>Allium anisopodium Ledeb.</td>\n",
       "      <td>zimmermannianum</td>\n",
       "      <td>VARIETY</td>\n",
       "      <td>Allium anisopodium var. zimmermannianum (Gilg)...</td>\n",
       "      <td>CHN</td>\n",
       "      <td>38.280000</td>\n",
       "      <td>109.730000</td>\n",
       "      <td>NaN</td>\n",
       "      <td>NaN</td>\n",
       "      <td>1953-01-01T00:00:00</td>\n",
       "      <td>PRESERVED_SPECIMEN</td>\n",
       "      <td>PE</td>\n",
       "      <td>NaN</td>\n",
       "    </tr>\n",
       "    <tr>\n",
       "      <th>4</th>\n",
       "      <td>1.303784e+09</td>\n",
       "      <td>f9336171-e9a9-4147-b9f6-2d6c133afffd</td>\n",
       "      <td>6562138</td>\n",
       "      <td>Amaryllidaceae</td>\n",
       "      <td>Allium anisopodium Ledeb.</td>\n",
       "      <td>zimmermannianum</td>\n",
       "      <td>VARIETY</td>\n",
       "      <td>Allium anisopodium var. zimmermannianum (Gilg)...</td>\n",
       "      <td>CHN</td>\n",
       "      <td>36.107933</td>\n",
       "      <td>120.415961</td>\n",
       "      <td>NaN</td>\n",
       "      <td>NaN</td>\n",
       "      <td>1930-01-01T00:00:00</td>\n",
       "      <td>PRESERVED_SPECIMEN</td>\n",
       "      <td>PE</td>\n",
       "      <td>NaN</td>\n",
       "    </tr>\n",
       "  </tbody>\n",
       "</table>\n",
       "</div>"
      ],
      "text/plain": [
       "         gbifID                            datasetKey occurrenceID  \\\n",
       "0  2.311266e+09  e7a2f416-fea5-41bb-8f17-5217fcaa74d7   NSK0000027   \n",
       "1  2.417592e+09  3942a8dc-9f01-420d-a829-01675dc01c73      5464942   \n",
       "2  2.417447e+09  3942a8dc-9f01-420d-a829-01675dc01c73      6562119   \n",
       "3  2.417662e+09  3942a8dc-9f01-420d-a829-01675dc01c73      6562129   \n",
       "4  1.303784e+09  f9336171-e9a9-4147-b9f6-2d6c133afffd      6562138   \n",
       "\n",
       "           family                    species infraspecificEpithet   taxonRank  \\\n",
       "0  Amaryllidaceae  Allium anisopodium Ledeb.            argunense  SUBSPECIES   \n",
       "1  Amaryllidaceae  Allium anisopodium Ledeb.      zimmermannianum     VARIETY   \n",
       "2  Amaryllidaceae  Allium anisopodium Ledeb.      zimmermannianum     VARIETY   \n",
       "3  Amaryllidaceae  Allium anisopodium Ledeb.      zimmermannianum     VARIETY   \n",
       "4  Amaryllidaceae  Allium anisopodium Ledeb.      zimmermannianum     VARIETY   \n",
       "\n",
       "                                      scientificName countryCode  \\\n",
       "0      Allium anisopodium subsp. argunense Peschkova         RUS   \n",
       "1  Allium anisopodium var. zimmermannianum (Gilg)...         CHN   \n",
       "2  Allium anisopodium var. zimmermannianum (Gilg)...         CHN   \n",
       "3  Allium anisopodium var. zimmermannianum (Gilg)...         CHN   \n",
       "4  Allium anisopodium var. zimmermannianum (Gilg)...         CHN   \n",
       "\n",
       "   decimalLatitude  decimalLongitude coordinateUncertaintyInMeters  \\\n",
       "0        51.467000        119.667000                          1000   \n",
       "1        39.710000        115.830000                           NaN   \n",
       "2        34.560000        105.720000                           NaN   \n",
       "3        38.280000        109.730000                           NaN   \n",
       "4        36.107933        120.415961                           NaN   \n",
       "\n",
       "  coordinatePrecision            eventDate       basisOfRecord  \\\n",
       "0                 NaN  1953-06-29T00:00:00  PRESERVED_SPECIMEN   \n",
       "1                 NaN  1971-01-01T00:00:00  PRESERVED_SPECIMEN   \n",
       "2                 NaN  1950-01-01T00:00:00  PRESERVED_SPECIMEN   \n",
       "3                 NaN  1953-01-01T00:00:00  PRESERVED_SPECIMEN   \n",
       "4                 NaN  1930-01-01T00:00:00  PRESERVED_SPECIMEN   \n",
       "\n",
       "  institutionCode collectionCode  \n",
       "0             NaN            NSK  \n",
       "1              PE            NaN  \n",
       "2              PE            NaN  \n",
       "3              PE            NaN  \n",
       "4              PE            NaN  "
      ]
     },
     "execution_count": 8,
     "metadata": {},
     "output_type": "execute_result"
    }
   ],
   "source": [
    "data_steppe7.head()"
   ]
  },
  {
   "cell_type": "code",
   "execution_count": 9,
   "id": "9e4eed95",
   "metadata": {},
   "outputs": [
    {
     "data": {
      "text/plain": [
       "(12721, 75)"
      ]
     },
     "execution_count": 9,
     "metadata": {},
     "output_type": "execute_result"
    }
   ],
   "source": [
    "data_prim.shape"
   ]
  },
  {
   "cell_type": "code",
   "execution_count": 10,
   "id": "5680791d",
   "metadata": {},
   "outputs": [
    {
     "data": {
      "text/plain": [
       "Sabulina verna Rchb.                           6284\n",
       "Thalictrum foetidum L.                         2340\n",
       "Braya humilis (C.A.Mey.) B.L.Rob.              1174\n",
       "Crepidiastrum tenuifolium (Willd.) Sennikov    1128\n",
       "Thalictrum petaloideum L.                       742\n",
       "Clausia aprica Trotzky                          727\n",
       "Carex macroprophylla (Y.C.Yang) S.R.Zhang       326\n",
       "Name: species, dtype: int64"
      ]
     },
     "execution_count": 10,
     "metadata": {},
     "output_type": "execute_result"
    }
   ],
   "source": [
    "data_prim.species.value_counts()"
   ]
  },
  {
   "cell_type": "code",
   "execution_count": 11,
   "id": "5bab481c",
   "metadata": {},
   "outputs": [
    {
     "data": {
      "text/plain": [
       "Carex pediformis C.A.Mey.                         2842\n",
       "Orostachys spinosa (L.) Sweet                     1995\n",
       "Polygala sibirica L.                              1676\n",
       "Carex duriuscula C.A.Mey.                         1493\n",
       "Nepeta multifida L.                               1288\n",
       "Helictochloa hookeri (Scribn.) Romero Zarco       1235\n",
       "Patrinia rupestris (Pall.) Dufr.                  1021\n",
       "Pulsatilla turczaninovii Krylov & Serg.            967\n",
       "Iris humilis Georgi                                909\n",
       "Bupleurum scorzonerifolium Willd.                  888\n",
       "Ephedra monosperma J.G.Gmel. ex C.A.Mey.           859\n",
       "Rhaponticum uniflorum (L.) DC.                     857\n",
       "Lespedeza juncea (L.f.) Pers.                      819\n",
       "Polygala tenuifolia Willd.                         812\n",
       "Artemisia laciniata Willd.                         763\n",
       "Allium anisopodium Ledeb.                          698\n",
       "Klasea centauroides (L.) Cass.                     693\n",
       "Clematis hexapetala Pall.                          653\n",
       "Ulmus macrocarpa Hance                             609\n",
       "Carex korshinskyi Kom.                             595\n",
       "Scutellaria baicalensis Georgi                     592\n",
       "Stipa baicalensis Roshev.                          488\n",
       "Leontopodium leontopodioides (Willd.) Beauverd     434\n",
       "Filifolium sibiricum (L.) Kitam.                   423\n",
       "Adenophora stenanthina (Ledeb.) Kitag.             381\n",
       "Prunus sibirica L.                                 368\n",
       "Silene jeniseensis Willd.                          321\n",
       "Hypericum attenuatum Choisy                        315\n",
       "Cleistogenes kitagawae Honda                       313\n",
       "Artemisia desertorum Spreng.                       307\n",
       "Eremogone juncea (M.Bieb.) Fenzl                   302\n",
       "Saposhnikovia divaricata (Turcz.) Schischk.        295\n",
       "Pulsatilla chinensis (Bunge) Regel                 275\n",
       "Papaver anomalum Fedde                             261\n",
       "Cynanchum thesioides K.Schum.                      219\n",
       "Gagea pauciflora Turcz.                            199\n",
       "Allium condensatum Turcz.                          192\n",
       "Orobanche pycnostachya Hance                       179\n",
       "Lespedeza daurica (Laxm.) Schindl.                 176\n",
       "Linum amurense Alef.                               141\n",
       "Scabiosa lachnophylla Kitag.                       129\n",
       "Swertia diluta (Turcz.) Benth. & Hook.fil.         125\n",
       "Poa botryoides (Trin. ex Griseb.) Kom.             120\n",
       "Lappula intermedia (Ledeb.) Popov                   92\n",
       "Artemisia freyniana (Pamp.) Krasch.                 87\n",
       "Artemisia macilenta (Maxim.) Krasch.                74\n",
       "Iris ventricosa Pall.                               67\n",
       "Oxytropis hailarensis Kitag.                        51\n",
       "Cynanchum purpureum K.Schum.                        41\n",
       "Echinops dissectus Kitag.                           19\n",
       "Name: species, dtype: int64"
      ]
     },
     "execution_count": 11,
     "metadata": {},
     "output_type": "execute_result"
    }
   ],
   "source": [
    "data_khanka.species.value_counts()"
   ]
  },
  {
   "cell_type": "code",
   "execution_count": 12,
   "id": "c5a0b2a3",
   "metadata": {},
   "outputs": [
    {
     "data": {
      "text/plain": [
       "(28658, 73)"
      ]
     },
     "execution_count": 12,
     "metadata": {},
     "output_type": "execute_result"
    }
   ],
   "source": [
    "data_khanka.shape"
   ]
  },
  {
   "cell_type": "code",
   "execution_count": 13,
   "id": "41498233",
   "metadata": {},
   "outputs": [],
   "source": [
    "columns = ['WAT_2000', 'URB_2000', 'NVG_2000', 'GRS_2000',\n",
    "       'FOR_2000', 'CULTRF_2000', 'CULTIR_2000', 'CULT_2000', 'sq1', 'sq2',\n",
    "       'sq3', 'sq4', 'sq5', 'sq6', 'sq7', 'et0_v3_yr_sd', 'et0_v3_yr',\n",
    "       'ai_v3_yr', 'wc2.1_30s_bio_19', 'wc2.1_30s_bio_18', 'wc2.1_30s_bio_17',\n",
    "       'wc2.1_30s_bio_16', 'wc2.1_30s_bio_15', 'wc2.1_30s_bio_14',\n",
    "       'wc2.1_30s_bio_13', 'wc2.1_30s_bio_12', 'wc2.1_30s_bio_11',\n",
    "       'wc2.1_30s_bio_10', 'wc2.1_30s_bio_9', 'wc2.1_30s_bio_8',\n",
    "       'wc2.1_30s_bio_7', 'wc2.1_30s_bio_6', 'wc2.1_30s_bio_5',\n",
    "       'wc2.1_30s_bio_4', 'wc2.1_30s_bio_3', 'wc2.1_30s_bio_2',\n",
    "       'wc2.1_30s_bio_1', 'wc2.1_30s_elev', 'current_30arcsec_tri',\n",
    "       'current_30arcsec_topoWet', 'current_30arcsec_thermicityIndex',\n",
    "       'current_30arcsec_PETWettestQuarter',\n",
    "       'current_30arcsec_PETWarmestQuarter', 'current_30arcsec_PETseasonality',\n",
    "       'current_30arcsec_PETDriestQuarter',\n",
    "       'current_30arcsec_PETColdestQuarter',\n",
    "       'current_30arcsec_monthCountByTemp10',\n",
    "       'current_30arcsec_minTempWarmest', 'current_30arcsec_maxTempColdest',\n",
    "       'current_30arcsec_growingDegDays5', 'current_30arcsec_growingDegDays0',\n",
    "       'current_30arcsec_embergerQ', 'current_30arcsec_continentality',\n",
    "       'current_30arcsec_climaticMoistureIndex',\n",
    "       'current_30arcsec_aridityIndexThornthwaite',\n",
    "       'current_30arcsec_annualPET']"
   ]
  },
  {
   "cell_type": "code",
   "execution_count": 14,
   "id": "9635e505",
   "metadata": {},
   "outputs": [],
   "source": [
    "khanka=data_khanka.loc[:, columns]"
   ]
  },
  {
   "cell_type": "code",
   "execution_count": 15,
   "id": "5fe94a85",
   "metadata": {},
   "outputs": [],
   "source": [
    "khanka.loc[:, 'group'] =1"
   ]
  },
  {
   "cell_type": "code",
   "execution_count": 16,
   "id": "de06fba1",
   "metadata": {},
   "outputs": [],
   "source": [
    "prim = data_prim.loc[:, columns]"
   ]
  },
  {
   "cell_type": "code",
   "execution_count": 17,
   "id": "9886fb89",
   "metadata": {},
   "outputs": [],
   "source": [
    "prim.loc[:, 'group'] =0"
   ]
  },
  {
   "cell_type": "code",
   "execution_count": 18,
   "id": "94327fb0",
   "metadata": {},
   "outputs": [],
   "source": [
    "from sklearn.discriminant_analysis import LinearDiscriminantAnalysis\n",
    "from sklearn.decomposition import PCA"
   ]
  },
  {
   "cell_type": "code",
   "execution_count": 19,
   "id": "59065c20",
   "metadata": {},
   "outputs": [],
   "source": [
    "clf = PCA(n_components=2)"
   ]
  },
  {
   "cell_type": "code",
   "execution_count": 20,
   "id": "3e78f10b",
   "metadata": {},
   "outputs": [],
   "source": [
    "all_data = pd.concat([khanka, prim], axis=0).fillna(0)"
   ]
  },
  {
   "cell_type": "code",
   "execution_count": 21,
   "id": "13a4c2fd",
   "metadata": {},
   "outputs": [
    {
     "data": {
      "text/html": [
       "<style>#sk-container-id-1 {color: black;background-color: white;}#sk-container-id-1 pre{padding: 0;}#sk-container-id-1 div.sk-toggleable {background-color: white;}#sk-container-id-1 label.sk-toggleable__label {cursor: pointer;display: block;width: 100%;margin-bottom: 0;padding: 0.3em;box-sizing: border-box;text-align: center;}#sk-container-id-1 label.sk-toggleable__label-arrow:before {content: \"▸\";float: left;margin-right: 0.25em;color: #696969;}#sk-container-id-1 label.sk-toggleable__label-arrow:hover:before {color: black;}#sk-container-id-1 div.sk-estimator:hover label.sk-toggleable__label-arrow:before {color: black;}#sk-container-id-1 div.sk-toggleable__content {max-height: 0;max-width: 0;overflow: hidden;text-align: left;background-color: #f0f8ff;}#sk-container-id-1 div.sk-toggleable__content pre {margin: 0.2em;color: black;border-radius: 0.25em;background-color: #f0f8ff;}#sk-container-id-1 input.sk-toggleable__control:checked~div.sk-toggleable__content {max-height: 200px;max-width: 100%;overflow: auto;}#sk-container-id-1 input.sk-toggleable__control:checked~label.sk-toggleable__label-arrow:before {content: \"▾\";}#sk-container-id-1 div.sk-estimator input.sk-toggleable__control:checked~label.sk-toggleable__label {background-color: #d4ebff;}#sk-container-id-1 div.sk-label input.sk-toggleable__control:checked~label.sk-toggleable__label {background-color: #d4ebff;}#sk-container-id-1 input.sk-hidden--visually {border: 0;clip: rect(1px 1px 1px 1px);clip: rect(1px, 1px, 1px, 1px);height: 1px;margin: -1px;overflow: hidden;padding: 0;position: absolute;width: 1px;}#sk-container-id-1 div.sk-estimator {font-family: monospace;background-color: #f0f8ff;border: 1px dotted black;border-radius: 0.25em;box-sizing: border-box;margin-bottom: 0.5em;}#sk-container-id-1 div.sk-estimator:hover {background-color: #d4ebff;}#sk-container-id-1 div.sk-parallel-item::after {content: \"\";width: 100%;border-bottom: 1px solid gray;flex-grow: 1;}#sk-container-id-1 div.sk-label:hover label.sk-toggleable__label {background-color: #d4ebff;}#sk-container-id-1 div.sk-serial::before {content: \"\";position: absolute;border-left: 1px solid gray;box-sizing: border-box;top: 0;bottom: 0;left: 50%;z-index: 0;}#sk-container-id-1 div.sk-serial {display: flex;flex-direction: column;align-items: center;background-color: white;padding-right: 0.2em;padding-left: 0.2em;position: relative;}#sk-container-id-1 div.sk-item {position: relative;z-index: 1;}#sk-container-id-1 div.sk-parallel {display: flex;align-items: stretch;justify-content: center;background-color: white;position: relative;}#sk-container-id-1 div.sk-item::before, #sk-container-id-1 div.sk-parallel-item::before {content: \"\";position: absolute;border-left: 1px solid gray;box-sizing: border-box;top: 0;bottom: 0;left: 50%;z-index: -1;}#sk-container-id-1 div.sk-parallel-item {display: flex;flex-direction: column;z-index: 1;position: relative;background-color: white;}#sk-container-id-1 div.sk-parallel-item:first-child::after {align-self: flex-end;width: 50%;}#sk-container-id-1 div.sk-parallel-item:last-child::after {align-self: flex-start;width: 50%;}#sk-container-id-1 div.sk-parallel-item:only-child::after {width: 0;}#sk-container-id-1 div.sk-dashed-wrapped {border: 1px dashed gray;margin: 0 0.4em 0.5em 0.4em;box-sizing: border-box;padding-bottom: 0.4em;background-color: white;}#sk-container-id-1 div.sk-label label {font-family: monospace;font-weight: bold;display: inline-block;line-height: 1.2em;}#sk-container-id-1 div.sk-label-container {text-align: center;}#sk-container-id-1 div.sk-container {/* jupyter's `normalize.less` sets `[hidden] { display: none; }` but bootstrap.min.css set `[hidden] { display: none !important; }` so we also need the `!important` here to be able to override the default hidden behavior on the sphinx rendered scikit-learn.org. See: https://github.com/scikit-learn/scikit-learn/issues/21755 */display: inline-block !important;position: relative;}#sk-container-id-1 div.sk-text-repr-fallback {display: none;}</style><div id=\"sk-container-id-1\" class=\"sk-top-container\"><div class=\"sk-text-repr-fallback\"><pre>PCA(n_components=2)</pre><b>In a Jupyter environment, please rerun this cell to show the HTML representation or trust the notebook. <br />On GitHub, the HTML representation is unable to render, please try loading this page with nbviewer.org.</b></div><div class=\"sk-container\" hidden><div class=\"sk-item\"><div class=\"sk-estimator sk-toggleable\"><input class=\"sk-toggleable__control sk-hidden--visually\" id=\"sk-estimator-id-1\" type=\"checkbox\" checked><label for=\"sk-estimator-id-1\" class=\"sk-toggleable__label sk-toggleable__label-arrow\">PCA</label><div class=\"sk-toggleable__content\"><pre>PCA(n_components=2)</pre></div></div></div></div></div>"
      ],
      "text/plain": [
       "PCA(n_components=2)"
      ]
     },
     "execution_count": 21,
     "metadata": {},
     "output_type": "execute_result"
    }
   ],
   "source": [
    "clf.fit(all_data.values[:, :-1])"
   ]
  },
  {
   "cell_type": "code",
   "execution_count": 22,
   "id": "d445ad78",
   "metadata": {},
   "outputs": [],
   "source": [
    "from matplotlib import pyplot as plt"
   ]
  },
  {
   "cell_type": "code",
   "execution_count": 23,
   "id": "d8adf382",
   "metadata": {},
   "outputs": [],
   "source": [
    "transformed = clf.transform(all_data.values[:, :-1])"
   ]
  },
  {
   "cell_type": "code",
   "execution_count": 24,
   "id": "57af05c7",
   "metadata": {},
   "outputs": [],
   "source": [
    "X, y = all_data.values[:, :-1], all_data.values[:, -1]"
   ]
  },
  {
   "cell_type": "code",
   "execution_count": 25,
   "id": "74084c51",
   "metadata": {},
   "outputs": [
    {
     "data": {
      "text/plain": [
       "[<matplotlib.lines.Line2D at 0x20aaf9759a0>,\n",
       " <matplotlib.lines.Line2D at 0x20aaf975a60>]"
      ]
     },
     "execution_count": 25,
     "metadata": {},
     "output_type": "execute_result"
    },
    {
     "data": {
      "image/png": "[encoded data removed]",
      "text/plain": [
       "<Figure size 640x480 with 1 Axes>"
      ]
     },
     "metadata": {},
     "output_type": "display_data"
    }
   ],
   "source": [
    "plt.plot(transformed[all_data.values[:, -1] == 0][:, 0], transformed[all_data.values[:, -1] == 0][:, 1], 'ro', transformed[all_data.values[:, -1] == 1][:, 0], transformed[all_data.values[:, -1] == 1][:, 1], 'bx')"
   ]
  },
  {
   "cell_type": "code",
   "execution_count": 35,
   "id": "48ba823c",
   "metadata": {},
   "outputs": [
    {
     "data": {
      "text/plain": [
       "array([0.90713202, 0.07225202])"
      ]
     },
     "execution_count": 35,
     "metadata": {},
     "output_type": "execute_result"
    }
   ],
   "source": [
    "clf.explained_variance_ratio_"
   ]
  },
  {
   "cell_type": "code",
   "execution_count": 26,
   "id": "f5e149e3",
   "metadata": {},
   "outputs": [],
   "source": [
    "from sklearn.ensemble import RandomForestClassifier"
   ]
  },
  {
   "cell_type": "code",
   "execution_count": 27,
   "id": "adec3d4d",
   "metadata": {},
   "outputs": [],
   "source": [
    "klf = RandomForestClassifier()"
   ]
  },
  {
   "cell_type": "code",
   "execution_count": 28,
   "id": "b0247b7a",
   "metadata": {},
   "outputs": [
    {
     "data": {
      "text/html": [
       "<style>#sk-container-id-2 {color: black;background-color: white;}#sk-container-id-2 pre{padding: 0;}#sk-container-id-2 div.sk-toggleable {background-color: white;}#sk-container-id-2 label.sk-toggleable__label {cursor: pointer;display: block;width: 100%;margin-bottom: 0;padding: 0.3em;box-sizing: border-box;text-align: center;}#sk-container-id-2 label.sk-toggleable__label-arrow:before {content: \"▸\";float: left;margin-right: 0.25em;color: #696969;}#sk-container-id-2 label.sk-toggleable__label-arrow:hover:before {color: black;}#sk-container-id-2 div.sk-estimator:hover label.sk-toggleable__label-arrow:before {color: black;}#sk-container-id-2 div.sk-toggleable__content {max-height: 0;max-width: 0;overflow: hidden;text-align: left;background-color: #f0f8ff;}#sk-container-id-2 div.sk-toggleable__content pre {margin: 0.2em;color: black;border-radius: 0.25em;background-color: #f0f8ff;}#sk-container-id-2 input.sk-toggleable__control:checked~div.sk-toggleable__content {max-height: 200px;max-width: 100%;overflow: auto;}#sk-container-id-2 input.sk-toggleable__control:checked~label.sk-toggleable__label-arrow:before {content: \"▾\";}#sk-container-id-2 div.sk-estimator input.sk-toggleable__control:checked~label.sk-toggleable__label {background-color: #d4ebff;}#sk-container-id-2 div.sk-label input.sk-toggleable__control:checked~label.sk-toggleable__label {background-color: #d4ebff;}#sk-container-id-2 input.sk-hidden--visually {border: 0;clip: rect(1px 1px 1px 1px);clip: rect(1px, 1px, 1px, 1px);height: 1px;margin: -1px;overflow: hidden;padding: 0;position: absolute;width: 1px;}#sk-container-id-2 div.sk-estimator {font-family: monospace;background-color: #f0f8ff;border: 1px dotted black;border-radius: 0.25em;box-sizing: border-box;margin-bottom: 0.5em;}#sk-container-id-2 div.sk-estimator:hover {background-color: #d4ebff;}#sk-container-id-2 div.sk-parallel-item::after {content: \"\";width: 100%;border-bottom: 1px solid gray;flex-grow: 1;}#sk-container-id-2 div.sk-label:hover label.sk-toggleable__label {background-color: #d4ebff;}#sk-container-id-2 div.sk-serial::before {content: \"\";position: absolute;border-left: 1px solid gray;box-sizing: border-box;top: 0;bottom: 0;left: 50%;z-index: 0;}#sk-container-id-2 div.sk-serial {display: flex;flex-direction: column;align-items: center;background-color: white;padding-right: 0.2em;padding-left: 0.2em;position: relative;}#sk-container-id-2 div.sk-item {position: relative;z-index: 1;}#sk-container-id-2 div.sk-parallel {display: flex;align-items: stretch;justify-content: center;background-color: white;position: relative;}#sk-container-id-2 div.sk-item::before, #sk-container-id-2 div.sk-parallel-item::before {content: \"\";position: absolute;border-left: 1px solid gray;box-sizing: border-box;top: 0;bottom: 0;left: 50%;z-index: -1;}#sk-container-id-2 div.sk-parallel-item {display: flex;flex-direction: column;z-index: 1;position: relative;background-color: white;}#sk-container-id-2 div.sk-parallel-item:first-child::after {align-self: flex-end;width: 50%;}#sk-container-id-2 div.sk-parallel-item:last-child::after {align-self: flex-start;width: 50%;}#sk-container-id-2 div.sk-parallel-item:only-child::after {width: 0;}#sk-container-id-2 div.sk-dashed-wrapped {border: 1px dashed gray;margin: 0 0.4em 0.5em 0.4em;box-sizing: border-box;padding-bottom: 0.4em;background-color: white;}#sk-container-id-2 div.sk-label label {font-family: monospace;font-weight: bold;display: inline-block;line-height: 1.2em;}#sk-container-id-2 div.sk-label-container {text-align: center;}#sk-container-id-2 div.sk-container {/* jupyter's `normalize.less` sets `[hidden] { display: none; }` but bootstrap.min.css set `[hidden] { display: none !important; }` so we also need the `!important` here to be able to override the default hidden behavior on the sphinx rendered scikit-learn.org. See: https://github.com/scikit-learn/scikit-learn/issues/21755 */display: inline-block !important;position: relative;}#sk-container-id-2 div.sk-text-repr-fallback {display: none;}</style><div id=\"sk-container-id-2\" class=\"sk-top-container\"><div class=\"sk-text-repr-fallback\"><pre>RandomForestClassifier()</pre><b>In a Jupyter environment, please rerun this cell to show the HTML representation or trust the notebook. <br />On GitHub, the HTML representation is unable to render, please try loading this page with nbviewer.org.</b></div><div class=\"sk-container\" hidden><div class=\"sk-item\"><div class=\"sk-estimator sk-toggleable\"><input class=\"sk-toggleable__control sk-hidden--visually\" id=\"sk-estimator-id-2\" type=\"checkbox\" checked><label for=\"sk-estimator-id-2\" class=\"sk-toggleable__label sk-toggleable__label-arrow\">RandomForestClassifier</label><div class=\"sk-toggleable__content\"><pre>RandomForestClassifier()</pre></div></div></div></div></div>"
      ],
      "text/plain": [
       "RandomForestClassifier()"
      ]
     },
     "execution_count": 28,
     "metadata": {},
     "output_type": "execute_result"
    }
   ],
   "source": [
    "klf.fit(X, y)"
   ]
  },
  {
   "cell_type": "code",
   "execution_count": 36,
   "id": "2b2c64a5",
   "metadata": {},
   "outputs": [
    {
     "name": "stdout",
     "output_type": "stream",
     "text": [
      "wc2.1_30s_bio_17 = 0.09448924247777021\n",
      "wc2.1_30s_bio_8 = 0.06581607904093825\n",
      "wc2.1_30s_bio_19 = 0.056478816791322294\n",
      "wc2.1_30s_bio_7 = 0.052948938437482745\n",
      "current_30arcsec_continentality = 0.052640509892464805\n",
      "wc2.1_30s_bio_14 = 0.04946106186789394\n",
      "wc2.1_30s_bio_4 = 0.04784178487282897\n",
      "current_30arcsec_PETWettestQuarter = 0.03242658083216089\n",
      "current_30arcsec_embergerQ = 0.026032253841621316\n",
      "wc2.1_30s_bio_9 = 0.025633553726816246\n",
      "wc2.1_30s_bio_15 = 0.02246671135408079\n",
      "current_30arcsec_PETDriestQuarter = 0.02077265188780595\n",
      "current_30arcsec_growingDegDays5 = 0.019250880601786213\n",
      "current_30arcsec_PETseasonality = 0.01889958424464079\n",
      "wc2.1_30s_bio_10 = 0.01832778955775768\n",
      "current_30arcsec_climaticMoistureIndex = 0.017839182296258204\n",
      "current_30arcsec_annualPET = 0.017509781316243565\n",
      "current_30arcsec_PETWarmestQuarter = 0.01620314644810437\n",
      "ai_v3_yr = 0.016147177282085215\n",
      "current_30arcsec_thermicityIndex = 0.015767535703989234\n",
      "et0_v3_yr = 0.014578560799361826\n",
      "current_30arcsec_tri = 0.014545082232763353\n",
      "wc2.1_30s_bio_1 = 0.01450671222886339\n",
      "current_30arcsec_growingDegDays0 = 0.014047836896168411\n",
      "current_30arcsec_topoWet = 0.013708470507671069\n",
      "current_30arcsec_minTempWarmest = 0.013663081129555879\n",
      "wc2.1_30s_bio_3 = 0.013488092345660875\n",
      "wc2.1_30s_bio_18 = 0.013263921209495235\n",
      "wc2.1_30s_elev = 0.01311259834252293\n",
      "wc2.1_30s_bio_13 = 0.013057533544421279\n",
      "wc2.1_30s_bio_5 = 0.012571680020560584\n",
      "wc2.1_30s_bio_2 = 0.012500021625065187\n",
      "wc2.1_30s_bio_16 = 0.011454043792585666\n",
      "current_30arcsec_aridityIndexThornthwaite = 0.011148293338323179\n",
      "wc2.1_30s_bio_11 = 0.010400156878541988\n",
      "current_30arcsec_monthCountByTemp10 = 0.01037135979947002\n",
      "wc2.1_30s_bio_6 = 0.01009609184610793\n",
      "wc2.1_30s_bio_12 = 0.009965485589030664\n",
      "FOR_2000 = 0.009626875780335588\n",
      "GRS_2000 = 0.009457115842482872\n",
      "current_30arcsec_maxTempColdest = 0.009139611843916278\n",
      "URB_2000 = 0.008843410252203497\n",
      "current_30arcsec_PETColdestQuarter = 0.008396158521803547\n",
      "et0_v3_yr_sd = 0.0059831635960949595\n",
      "CULT_2000 = 0.005695738275604556\n",
      "NVG_2000 = 0.005669896149685974\n",
      "CULTRF_2000 = 0.005647173554533324\n",
      "sq3 = 0.003489344495086088\n",
      "CULTIR_2000 = 0.0032916361543619327\n",
      "sq7 = 0.0027667399430808203\n",
      "WAT_2000 = 0.002165753300711274\n",
      "sq1 = 0.0018127228143122653\n",
      "sq2 = 0.0015288422126310778\n",
      "sq5 = 0.0013202909000169078\n",
      "sq4 = 0.0009483581147064474\n",
      "sq6 = 0.0007848836482114084\n"
     ]
    }
   ],
   "source": [
    "for name, val in sorted(list(zip(columns, klf.feature_importances_)), key=lambda x: x[1], reverse=True):\n",
    "    print(f\"{name} = {val}\")"
   ]
  },
  {
   "cell_type": "code",
   "execution_count": 37,
   "id": "f86ab424",
   "metadata": {},
   "outputs": [],
   "source": [
    "from sklearn.model_selection import cross_val_score"
   ]
  },
  {
   "cell_type": "code",
   "execution_count": 38,
   "id": "eb7affc6",
   "metadata": {},
   "outputs": [
    {
     "data": {
      "text/plain": [
       "array([0.55930432, 0.68784206, 0.77999765, 0.92611544, 0.94766225,\n",
       "       0.9333544 , 0.85826728, 0.67388313, 0.73262141, 0.57395329])"
      ]
     },
     "execution_count": 38,
     "metadata": {},
     "output_type": "execute_result"
    }
   ],
   "source": [
    "cross_val_score(klf, X, y, cv=10, scoring='balanced_accuracy')"
   ]
  },
  {
   "cell_type": "markdown",
   "id": "aed55a74",
   "metadata": {},
   "source": [
    "mean score = 0.76 "
   ]
  }
 ],
 "metadata": {
  "kernelspec": {
   "display_name": "Python 3 (ipykernel)",
   "language": "python",
   "name": "python3"
  },
  "language_info": {
   "codemirror_mode": {
    "name": "ipython",
    "version": 3
   },
   "file_extension": ".py",
   "mimetype": "text/x-python",
   "name": "python",
   "nbconvert_exporter": "python",
   "pygments_lexer": "ipython3",
   "version": "3.9.15"
  }
 },
 "nbformat": 4,
 "nbformat_minor": 5
}
