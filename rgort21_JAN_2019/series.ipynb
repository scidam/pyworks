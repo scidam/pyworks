{
 "cells": [
  {
   "cell_type": "markdown",
   "metadata": {},
   "source": [
    "### Задача. Построить модель исходя из эмперических данных об иерирахическом делении цветков для определенного вида. "
   ]
  },
  {
   "cell_type": "markdown",
   "metadata": {},
   "source": [
    "Построим для начала модель для числа цветков центральной ветви."
   ]
  },
  {
   "cell_type": "code",
   "execution_count": 48,
   "metadata": {},
   "outputs": [],
   "source": [
    "central_stem <- c(468, 196, 82, 42, 18)"
   ]
  },
  {
   "cell_type": "code",
   "execution_count": 49,
   "metadata": {},
   "outputs": [],
   "source": [
    "left_branch <- c(186, 138, 57, 20, 11)\n",
    "right_branch <- c(161, 134, 57, 20, 13)"
   ]
  },
  {
   "cell_type": "code",
   "execution_count": 50,
   "metadata": {},
   "outputs": [
    {
     "data": {
      "text/html": [
       "<ol class=list-inline>\n",
       "\t<li>0.397435897435897</li>\n",
       "\t<li>0.704081632653061</li>\n",
       "\t<li>0.695121951219512</li>\n",
       "\t<li>0.476190476190476</li>\n",
       "\t<li>0.611111111111111</li>\n",
       "</ol>\n"
      ],
      "text/latex": [
       "\\begin{enumerate*}\n",
       "\\item 0.397435897435897\n",
       "\\item 0.704081632653061\n",
       "\\item 0.695121951219512\n",
       "\\item 0.476190476190476\n",
       "\\item 0.611111111111111\n",
       "\\end{enumerate*}\n"
      ],
      "text/markdown": [
       "1. 0.397435897435897\n",
       "2. 0.704081632653061\n",
       "3. 0.695121951219512\n",
       "4. 0.476190476190476\n",
       "5. 0.611111111111111\n",
       "\n",
       "\n"
      ],
      "text/plain": [
       "[1] 0.3974359 0.7040816 0.6951220 0.4761905 0.6111111"
      ]
     },
     "metadata": {},
     "output_type": "display_data"
    }
   ],
   "source": [
    "left_branch/central_stem"
   ]
  },
  {
   "cell_type": "code",
   "execution_count": 51,
   "metadata": {},
   "outputs": [
    {
     "data": {
      "text/html": [
       "<ol class=list-inline>\n",
       "\t<li>0.344017094017094</li>\n",
       "\t<li>0.683673469387755</li>\n",
       "\t<li>0.695121951219512</li>\n",
       "\t<li>0.476190476190476</li>\n",
       "\t<li>0.722222222222222</li>\n",
       "</ol>\n"
      ],
      "text/latex": [
       "\\begin{enumerate*}\n",
       "\\item 0.344017094017094\n",
       "\\item 0.683673469387755\n",
       "\\item 0.695121951219512\n",
       "\\item 0.476190476190476\n",
       "\\item 0.722222222222222\n",
       "\\end{enumerate*}\n"
      ],
      "text/markdown": [
       "1. 0.344017094017094\n",
       "2. 0.683673469387755\n",
       "3. 0.695121951219512\n",
       "4. 0.476190476190476\n",
       "5. 0.722222222222222\n",
       "\n",
       "\n"
      ],
      "text/plain": [
       "[1] 0.3440171 0.6836735 0.6951220 0.4761905 0.7222222"
      ]
     },
     "metadata": {},
     "output_type": "display_data"
    }
   ],
   "source": [
    "right_branch / central_stem"
   ]
  },
  {
   "cell_type": "markdown",
   "metadata": {},
   "source": [
    "Из отношений количества цветков условной правой и левой ветвей на каждом этапе деления видно, что закономерность\n",
    "такого соотношения имеется. При первом делении, где-то 40 % от числа цветков на центральной ветви уходит на правую и левую\n",
    "ветви. \n",
    "\n",
    "Оценим, сколько цветков на каждом шаге сохраняется для центральной ветви."
   ]
  },
  {
   "cell_type": "code",
   "execution_count": 52,
   "metadata": {},
   "outputs": [
    {
     "name": "stdout",
     "output_type": "stream",
     "text": [
      "[1] 0.5742331 0.4188034 0.4183673 0.5121951 0.4285714\n"
     ]
    }
   ],
   "source": [
    "stem_strength <- central_stem / (right_branch + left_branch + central_stem)\n",
    "print(stem_strength)"
   ]
  },
  {
   "cell_type": "code",
   "execution_count": 53,
   "metadata": {},
   "outputs": [
    {
     "data": {
      "text/plain": [
       "   Min. 1st Qu.  Median    Mean 3rd Qu.    Max. \n",
       " 0.4184  0.4188  0.4286  0.4704  0.5122  0.5742 "
      ]
     },
     "metadata": {},
     "output_type": "display_data"
    }
   ],
   "source": [
    "summary(stem_strength)"
   ]
  },
  {
   "cell_type": "markdown",
   "metadata": {},
   "source": [
    "Описательная статистика (хоть и для такой маленькой выборки), показывает, что в целом данные достаточно хорошо\n",
    "сконцентрированы около значения 0.45 (т.к. median = 0.42, mean=0.47). Если говорить строго, то это значение, точнее\n",
    "его теоретическое значение в модели, которую еще предстоит построить, необходимо будет оценивать исходя из\n",
    "какого-либо подхода, например, методом максимального правдоподобия или методом наименьших квадратов."
   ]
  },
  {
   "cell_type": "markdown",
   "metadata": {},
   "source": [
    "## Построение модели роста центрального стержня"
   ]
  },
  {
   "cell_type": "markdown",
   "metadata": {},
   "source": [
    "Учитывая, что относительное число цветков на центральной ветке сохраняется, можно предложить следующую модель \n",
    "\n",
    "$$s_n = \\alpha\\cdot s_{n-1} + \\nu$$,\n",
    "\n",
    "где $s_n$ -- количество цветков на центральной ветви на n-ом шаге, $\\nu$ -- случайная величина с исзвестным распределением, например, распределением Пуассона (параметр распределения в этом случае нужно будет находить из эмпирических данных."
   ]
  },
  {
   "cell_type": "markdown",
   "metadata": {},
   "source": [
    "Оценка при условии, что $\\nu$ будет иметь минимальную дисперсию будет иметь вид (эту формулу для данной модели можно вывести, но думаю, можно и найти где-нибудь в книге по теории случайных (марковских) процессов)\n",
    "$$\n",
    "\\alpha = \\frac{\\sum x_i \\cdot y_i}{x_i^2}\n",
    "$$"
   ]
  },
  {
   "cell_type": "code",
   "execution_count": 54,
   "metadata": {},
   "outputs": [],
   "source": [
    "x <- c(486, 196, 82, 42)\n",
    "y<- c(196, 82, 42, 18)"
   ]
  },
  {
   "cell_type": "code",
   "execution_count": 55,
   "metadata": {},
   "outputs": [
    {
     "name": "stdout",
     "output_type": "stream",
     "text": [
      "[1] 0.4080819\n"
     ]
    }
   ],
   "source": [
    "alpha <- sum(x * y) / sum(x * x)\n",
    "print(alpha)"
   ]
  },
  {
   "cell_type": "code",
   "execution_count": 56,
   "metadata": {},
   "outputs": [],
   "source": [
    "sigma2_nu <- var(y - alpha * x)"
   ]
  },
  {
   "cell_type": "code",
   "execution_count": 57,
   "metadata": {},
   "outputs": [],
   "source": [
    "mean_nu <- mean(y - alpha * x)"
   ]
  },
  {
   "cell_type": "code",
   "execution_count": 58,
   "metadata": {},
   "outputs": [
    {
     "name": "stdout",
     "output_type": "stream",
     "text": [
      "[1] 2.271487\n",
      "[1] 20.82329\n"
     ]
    }
   ],
   "source": [
    "print(mean_nu); print(sigma2_nu)"
   ]
  },
  {
   "cell_type": "markdown",
   "metadata": {},
   "source": [
    "**Из рассчетов следует:**\n",
    "\n",
    "1. В среднем на каждом последующем шаге на центральной ветви остается 41% цветков от предыдущего шага ($\\alpha=0.408$)\n",
    "2. Погрешность модели, характеризуемая параметром $\\nu$, достаточно мала: в среднем $\\nu=2.27$, что свидетельствует об относительной точности модели, т.к. $2.27/486 << 1$. Дисперсия параметра $\\nu$ (точнее ее оценка), также не очень велика в сравнении с абсолютными значениями количества цветков, т.е. $\\sqrt{20.82}/486<<1$. Эти факты свидетельствуют в пользу предложенной модели."
   ]
  },
  {
   "cell_type": "markdown",
   "metadata": {},
   "source": [
    "### Исследование деления ветвей"
   ]
  },
  {
   "cell_type": "markdown",
   "metadata": {},
   "source": [
    "#### Левая ветвь"
   ]
  },
  {
   "cell_type": "code",
   "execution_count": 59,
   "metadata": {},
   "outputs": [],
   "source": [
    "left_branch_center <- c(186, 55, 16)\n",
    "left_branch_shifted <- c(55, 16, 6)"
   ]
  },
  {
   "cell_type": "code",
   "execution_count": 60,
   "metadata": {},
   "outputs": [
    {
     "data": {
      "text/html": [
       "<ol class=list-inline>\n",
       "\t<li>0.295698924731183</li>\n",
       "\t<li>0.290909090909091</li>\n",
       "\t<li>0.375</li>\n",
       "</ol>\n"
      ],
      "text/latex": [
       "\\begin{enumerate*}\n",
       "\\item 0.295698924731183\n",
       "\\item 0.290909090909091\n",
       "\\item 0.375\n",
       "\\end{enumerate*}\n"
      ],
      "text/markdown": [
       "1. 0.295698924731183\n",
       "2. 0.290909090909091\n",
       "3. 0.375\n",
       "\n",
       "\n"
      ],
      "text/plain": [
       "[1] 0.2956989 0.2909091 0.3750000"
      ]
     },
     "metadata": {},
     "output_type": "display_data"
    }
   ],
   "source": [
    "left_branch_shifted/left_branch_center"
   ]
  },
  {
   "cell_type": "code",
   "execution_count": 36,
   "metadata": {},
   "outputs": [],
   "source": [
    "alpha_left_branch <- sum(left_branch_shifted * left_branch_center) / sum(left_branch_center * left_branch_center)"
   ]
  },
  {
   "cell_type": "code",
   "execution_count": 37,
   "metadata": {},
   "outputs": [
    {
     "name": "stdout",
     "output_type": "stream",
     "text": [
      "[1] 0.2958524\n"
     ]
    }
   ],
   "source": [
    "print(alpha_left_branch)"
   ]
  },
  {
   "cell_type": "markdown",
   "metadata": {},
   "source": [
    "Аналогично могут быть получены значение $\\nu$ для левой ветви, а также оценки дисперсии. "
   ]
  },
  {
   "cell_type": "markdown",
   "metadata": {},
   "source": [
    "#### Правая ветвь"
   ]
  },
  {
   "cell_type": "code",
   "execution_count": 42,
   "metadata": {},
   "outputs": [],
   "source": [
    "right_branch_center <- c(161, 47, 16)\n",
    "right_branch_shifted <- c(47, 16, 6)"
   ]
  },
  {
   "cell_type": "code",
   "execution_count": 43,
   "metadata": {},
   "outputs": [],
   "source": [
    "alpha_right_branch <- sum(right_branch_shifted * right_branch_center) / sum(right_branch_center * right_branch_center)"
   ]
  },
  {
   "cell_type": "code",
   "execution_count": 44,
   "metadata": {},
   "outputs": [
    {
     "name": "stdout",
     "output_type": "stream",
     "text": [
      "[1] 0.296449\n"
     ]
    }
   ],
   "source": [
    "print(alpha_right_branch)"
   ]
  },
  {
   "cell_type": "markdown",
   "metadata": {},
   "source": [
    "Значения $\\alpha$, полученные для левой и правой ветвей практически не отличаются друг от друга. Это свидетельствует в пользу выбранной модели."
   ]
  },
  {
   "cell_type": "markdown",
   "metadata": {},
   "source": [
    "Аналогично расчетам, выполненным для центральной ветви, могут быть получены значения дисперсии для $\\nu$ правой ветви. \n",
    "Однако, количество измерений всего 3. Это может сказаться на точности оценки дисперсии."
   ]
  },
  {
   "cell_type": "code",
   "execution_count": null,
   "metadata": {},
   "outputs": [],
   "source": []
  },
  {
   "cell_type": "markdown",
   "metadata": {},
   "source": [
    "#### Верхния ветвь (предварительный расчет)"
   ]
  },
  {
   "cell_type": "code",
   "execution_count": 46,
   "metadata": {},
   "outputs": [
    {
     "name": "stdout",
     "output_type": "stream",
     "text": [
      "[1] 0.2951056\n"
     ]
    }
   ],
   "source": [
    "x <- c(138,40,14)\n",
    "y <- c(40,14,5)\n",
    "alpha<-sum(x*y)/sum(x*x)\n",
    "print(alpha)"
   ]
  },
  {
   "cell_type": "markdown",
   "metadata": {},
   "source": [
    "#### Нижняя ветвь (предварительный расчет)"
   ]
  },
  {
   "cell_type": "code",
   "execution_count": 47,
   "metadata": {},
   "outputs": [
    {
     "name": "stdout",
     "output_type": "stream",
     "text": [
      "[1] 0.3113483\n"
     ]
    }
   ],
   "source": [
    "x <- c(134,41,15)\n",
    "y <- c(41,15,5)\n",
    "alpha<-sum(x*y)/sum(x*x)\n",
    "print(alpha)"
   ]
  },
  {
   "cell_type": "markdown",
   "metadata": {},
   "source": [
    "**Вывод:**\n",
    "\n",
    "* Для всех ветвей оценка в смысле минимума дисперсии (по $\\nu$) практически одинакова (т.е. параметр $\\alpha$ почти один и тот же). Это говорит об адекватности модели.\n",
    "* Построенную модель с найденными значениями параметров $\\alpha$  и $\\nu$ можно использовать для генерации виртуальных соцветий.\n",
    "* Если образцы получены в разные годы, или произрастали в различных услових, то вполняя аналогичные оценки для двух или более условий среды и сравнивая полученные коэффииенты $\\alpha_i$, $\\nu_i$, где $i$ -- индекс, характеризующий условия среды, можно делать выводы о влиянии среды на структуру соцветия. Более того, можно говорить о том, в чем именно проявляется это влияние, например, по значениям $\\alpha$ можно судить более развита центральная часть у соцветия или периферия.\n",
    "* Рассмотренная модель далеко не единственная. Может быть предложена модель, например, следующего вида\n",
    "$$\n",
    "\\frac{s_n}{s_{n-1}} = \\alpha + \\nu,\n",
    "$$ где $\\alpha=const$, а $\\nu$ -- случайная величина. В этом случае, оценка  минимальной дисперсии будет иметь другой вид. И возникнет необходимость сравнения моделей, какая из них лучше описывает данные. Здесь, вполе возможно, будет уместно применение каких-либо критериев, типа aic, или оценка приемлемости моделей исходя из квадратов невязок."
   ]
  },
  {
   "cell_type": "markdown",
   "metadata": {},
   "source": [
    "Надеюсь эти рассуждения будут служить отправной точкой для проведения более детального научного исследования.  В целом, здесь уже прослеживается закономерность, хотя бы в том, что полученные оценки $\\alpha$ мало отличаются друг от друга. "
   ]
  }
 ],
 "metadata": {
  "kernelspec": {
   "display_name": "R",
   "language": "R",
   "name": "ir"
  },
  "language_info": {
   "codemirror_mode": "r",
   "file_extension": ".r",
   "mimetype": "text/x-r-source",
   "name": "R",
   "pygments_lexer": "r",
   "version": "3.3.1"
  }
 },
 "nbformat": 4,
 "nbformat_minor": 2
}
