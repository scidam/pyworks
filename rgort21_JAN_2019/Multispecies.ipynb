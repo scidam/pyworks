{
 "cells": [
  {
   "cell_type": "code",
   "execution_count": 77,
   "metadata": {},
   "outputs": [],
   "source": [
    "import pandas as pd\n",
    "import numpy as np"
   ]
  },
  {
   "cell_type": "code",
   "execution_count": 78,
   "metadata": {},
   "outputs": [],
   "source": [
    "central_selectors = [(2, 2), (2, 7), (2, 13), (12, 5), (25,8)]\n",
    "left_branch_selectors= [(2, 1), (1,7), (2, 12), (11, 5), (25,7)]\n",
    "right_branch_selectors = [(2, 3), (3, 7), (2, 14), (13, 5), (25,9)]"
   ]
  },
  {
   "cell_type": "code",
   "execution_count": 79,
   "metadata": {},
   "outputs": [],
   "source": [
    "central, left, right = list(), list(), list()\n",
    "for j in range(1, 11):\n",
    "    central.append([pd.read_excel(\"new_data1.xlsx\", header=None, sheet_name='Лист%s'%j).loc[sel] for sel in central_selectors])\n",
    "    left.append([pd.read_excel(\"new_data1.xlsx\", header=None, sheet_name='Лист%s'%j).loc[sel] for sel in left_branch_selectors])\n",
    "    right.append([pd.read_excel(\"new_data1.xlsx\", header=None, sheet_name='Лист%s'%j).loc[sel] for sel in right_branch_selectors])\n",
    "\n",
    "central = np.array(central)\n",
    "left = np.array(left)\n",
    "right = np.array(right)"
   ]
  },
  {
   "cell_type": "code",
   "execution_count": 80,
   "metadata": {},
   "outputs": [
    {
     "name": "stdout",
     "output_type": "stream",
     "text": [
      "[[0.57423313 0.41880342 0.41836735 0.51219512 0.42857143]\n",
      " [0.6314741  0.43690852 0.44404332 0.54471545 0.44776119]\n",
      " [0.53453453 0.4241573  0.41447368 0.38095238 0.45833333]\n",
      " [0.55525606 0.33009709 0.43382353 0.52542373 0.25806452]\n",
      " [0.50948905 0.41547278 0.4        0.72413793 0.42857143]\n",
      " [0.65309735 0.49864499 0.42391304 0.41666667 0.44615385]\n",
      " [0.67102397 0.49512987 0.47540984 0.48275862 0.44285714]\n",
      " [0.52870608 0.44246353 0.42857143 0.41880342 0.46938776]\n",
      " [0.51485149 0.33173077 0.38405797 0.43396226 0.43478261]\n",
      " [0.51600985 0.33651551 0.38297872 0.42592593 0.43478261]]\n"
     ]
    }
   ],
   "source": [
    "rates = central / (right + left + central)\n",
    "print(rates)"
   ]
  },
  {
   "cell_type": "code",
   "execution_count": 81,
   "metadata": {},
   "outputs": [
    {
     "data": {
      "text/plain": [
       "array([0.05804603, 0.0591708 , 0.02649648, 0.09438185, 0.05696502])"
      ]
     },
     "execution_count": 81,
     "metadata": {},
     "output_type": "execute_result"
    }
   ],
   "source": [
    "np.std(rates, axis=0)"
   ]
  },
  {
   "cell_type": "code",
   "execution_count": 82,
   "metadata": {},
   "outputs": [
    {
     "data": {
      "text/plain": [
       "array([0.56886756, 0.41299238, 0.42056389, 0.48655415, 0.42492659])"
      ]
     },
     "execution_count": 82,
     "metadata": {},
     "output_type": "execute_result"
    }
   ],
   "source": [
    "np.mean(rates, axis=0)"
   ]
  },
  {
   "cell_type": "code",
   "execution_count": 83,
   "metadata": {},
   "outputs": [
    {
     "data": {
      "text/plain": [
       "array([0.10203785, 0.14327334, 0.06300226, 0.19398016, 0.13405849])"
      ]
     },
     "execution_count": 83,
     "metadata": {},
     "output_type": "execute_result"
    }
   ],
   "source": [
    "np.std(rates, axis=0)/np.mean(rates, axis=0)"
   ]
  },
  {
   "cell_type": "markdown",
   "metadata": {},
   "source": [
    "## Central stem modelling"
   ]
  },
  {
   "cell_type": "code",
   "execution_count": 84,
   "metadata": {},
   "outputs": [],
   "source": [
    "alpha = np.sum(central[:,:-1] * central[:,1:], axis=1) / np.sum(central[:,:-1] * central[:,:-1], axis=1)"
   ]
  },
  {
   "cell_type": "code",
   "execution_count": 91,
   "metadata": {},
   "outputs": [
    {
     "data": {
      "text/plain": [
       "0.052636967460666234"
      ]
     },
     "execution_count": 91,
     "metadata": {},
     "output_type": "execute_result"
    }
   ],
   "source": [
    "np.std(alpha)"
   ]
  },
  {
   "cell_type": "code",
   "execution_count": 85,
   "metadata": {},
   "outputs": [
    {
     "data": {
      "text/plain": [
       "array([0.42116663, 0.44137804, 0.42214535, 0.34322355, 0.42044825,\n",
       "       0.48123489, 0.49041344, 0.4397167 , 0.33857796, 0.34273231])"
      ]
     },
     "execution_count": 85,
     "metadata": {},
     "output_type": "execute_result"
    }
   ],
   "source": [
    "alpha"
   ]
  },
  {
   "cell_type": "code",
   "execution_count": 86,
   "metadata": {},
   "outputs": [
    {
     "data": {
      "text/plain": [
       "array([ 1.53017358,  2.7606953 , -0.43858465,  3.75584383,  3.31343526,\n",
       "       -5.14967529, -1.5274164 , -0.58520967,  2.67397077,  2.41988038])"
      ]
     },
     "execution_count": 86,
     "metadata": {},
     "output_type": "execute_result"
    }
   ],
   "source": [
    "np.mean(central[:,1:] - alpha[:,np.newaxis] * central[:,:-1], axis=1)\n"
   ]
  },
  {
   "cell_type": "code",
   "execution_count": 87,
   "metadata": {},
   "outputs": [
    {
     "data": {
      "text/plain": [
       "array([ 3.46307448,  5.9124609 ,  1.39518876,  7.86084502,  8.34057042,\n",
       "       12.35560954,  2.8444421 ,  2.17146798,  3.51273073,  3.17132174])"
      ]
     },
     "execution_count": 87,
     "metadata": {},
     "output_type": "execute_result"
    }
   ],
   "source": [
    "np.std(central[:,1:] - alpha[:,np.newaxis] * central[:,:-1], axis=1)"
   ]
  },
  {
   "cell_type": "code",
   "execution_count": 88,
   "metadata": {},
   "outputs": [
    {
     "data": {
      "text/plain": [
       "[<matplotlib.lines.Line2D at 0x7f1bc042a668>]"
      ]
     },
     "execution_count": 88,
     "metadata": {},
     "output_type": "execute_result"
    }
   ],
   "source": [
    "from pylab import *\n",
    "plot(z)"
   ]
  },
  {
   "cell_type": "code",
   "execution_count": 89,
   "metadata": {},
   "outputs": [
    {
     "data": {
      "image/png": "[encoded data removed]",
      "text/plain": [
       "<matplotlib.figure.Figure at 0x7f1bc0508b38>"
      ]
     },
     "metadata": {},
     "output_type": "display_data"
    }
   ],
   "source": [
    "show()"
   ]
  },
  {
   "cell_type": "code",
   "execution_count": null,
   "metadata": {},
   "outputs": [],
   "source": []
  }
 ],
 "metadata": {
  "kernelspec": {
   "display_name": "Python 3",
   "language": "python",
   "name": "python3"
  },
  "language_info": {
   "codemirror_mode": {
    "name": "ipython",
    "version": 3
   },
   "file_extension": ".py",
   "mimetype": "text/x-python",
   "name": "python",
   "nbconvert_exporter": "python",
   "pygments_lexer": "ipython3",
   "version": "3.5.4"
  }
 },
 "nbformat": 4,
 "nbformat_minor": 2
}
