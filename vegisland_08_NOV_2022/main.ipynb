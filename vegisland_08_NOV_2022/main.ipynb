{
 "cells": [
  {
   "cell_type": "code",
   "execution_count": 1,
   "metadata": {},
   "outputs": [],
   "source": [
    "import pandas as pd\n",
    "import numpy as np"
   ]
  },
  {
   "cell_type": "code",
   "execution_count": 2,
   "metadata": {},
   "outputs": [],
   "source": [
    "veg = pd.read_csv(\"islands.csv\", sep=\";\")"
   ]
  },
  {
   "cell_type": "code",
   "execution_count": 3,
   "metadata": {},
   "outputs": [
    {
     "data": {
      "text/html": [
       "<div>\n",
       "<style scoped>\n",
       "    .dataframe tbody tr th:only-of-type {\n",
       "        vertical-align: middle;\n",
       "    }\n",
       "\n",
       "    .dataframe tbody tr th {\n",
       "        vertical-align: top;\n",
       "    }\n",
       "\n",
       "    .dataframe thead th {\n",
       "        text-align: right;\n",
       "    }\n",
       "</style>\n",
       "<table border=\"1\" class=\"dataframe\">\n",
       "  <thead>\n",
       "    <tr style=\"text-align: right;\">\n",
       "      <th></th>\n",
       "      <th>Unnamed: 0</th>\n",
       "      <th>Atlasova</th>\n",
       "      <th>Shumshu</th>\n",
       "      <th>Paramushir</th>\n",
       "      <th>Antciferova</th>\n",
       "      <th>Makanrushi</th>\n",
       "      <th>Onekotan</th>\n",
       "      <th>Kharimkotan</th>\n",
       "      <th>Chirinkotan</th>\n",
       "      <th>Ekarma</th>\n",
       "      <th>...</th>\n",
       "      <th>Iturup</th>\n",
       "      <th>Kunashir</th>\n",
       "      <th>Shikotan</th>\n",
       "      <th>Polonskogo</th>\n",
       "      <th>Zeleny</th>\n",
       "      <th>Tanfileva</th>\n",
       "      <th>Yuriy</th>\n",
       "      <th>Demina</th>\n",
       "      <th>Storozhevoy</th>\n",
       "      <th>Anuchina</th>\n",
       "    </tr>\n",
       "  </thead>\n",
       "  <tbody>\n",
       "    <tr>\n",
       "      <th>0</th>\n",
       "      <td>Diphasiastrum.alpinum</td>\n",
       "      <td>1</td>\n",
       "      <td>1</td>\n",
       "      <td>1</td>\n",
       "      <td>0</td>\n",
       "      <td>0</td>\n",
       "      <td>1</td>\n",
       "      <td>1</td>\n",
       "      <td>0</td>\n",
       "      <td>0</td>\n",
       "      <td>...</td>\n",
       "      <td>1</td>\n",
       "      <td>0</td>\n",
       "      <td>0</td>\n",
       "      <td>0</td>\n",
       "      <td>0</td>\n",
       "      <td>0</td>\n",
       "      <td>0</td>\n",
       "      <td>0</td>\n",
       "      <td>0</td>\n",
       "      <td>0</td>\n",
       "    </tr>\n",
       "    <tr>\n",
       "      <th>1</th>\n",
       "      <td>Diphasiastrum.complanatum</td>\n",
       "      <td>0</td>\n",
       "      <td>1</td>\n",
       "      <td>1</td>\n",
       "      <td>0</td>\n",
       "      <td>0</td>\n",
       "      <td>1</td>\n",
       "      <td>1</td>\n",
       "      <td>0</td>\n",
       "      <td>0</td>\n",
       "      <td>...</td>\n",
       "      <td>1</td>\n",
       "      <td>1</td>\n",
       "      <td>1</td>\n",
       "      <td>0</td>\n",
       "      <td>0</td>\n",
       "      <td>0</td>\n",
       "      <td>0</td>\n",
       "      <td>0</td>\n",
       "      <td>0</td>\n",
       "      <td>0</td>\n",
       "    </tr>\n",
       "    <tr>\n",
       "      <th>2</th>\n",
       "      <td>Diphasiastrum.sitchense</td>\n",
       "      <td>1</td>\n",
       "      <td>1</td>\n",
       "      <td>1</td>\n",
       "      <td>0</td>\n",
       "      <td>0</td>\n",
       "      <td>1</td>\n",
       "      <td>0</td>\n",
       "      <td>0</td>\n",
       "      <td>0</td>\n",
       "      <td>...</td>\n",
       "      <td>1</td>\n",
       "      <td>1</td>\n",
       "      <td>0</td>\n",
       "      <td>0</td>\n",
       "      <td>0</td>\n",
       "      <td>0</td>\n",
       "      <td>0</td>\n",
       "      <td>0</td>\n",
       "      <td>0</td>\n",
       "      <td>0</td>\n",
       "    </tr>\n",
       "    <tr>\n",
       "      <th>3</th>\n",
       "      <td>Huperzia.miyoshiana</td>\n",
       "      <td>0</td>\n",
       "      <td>1</td>\n",
       "      <td>1</td>\n",
       "      <td>0</td>\n",
       "      <td>0</td>\n",
       "      <td>1</td>\n",
       "      <td>0</td>\n",
       "      <td>0</td>\n",
       "      <td>0</td>\n",
       "      <td>...</td>\n",
       "      <td>1</td>\n",
       "      <td>1</td>\n",
       "      <td>1</td>\n",
       "      <td>0</td>\n",
       "      <td>0</td>\n",
       "      <td>0</td>\n",
       "      <td>0</td>\n",
       "      <td>0</td>\n",
       "      <td>0</td>\n",
       "      <td>0</td>\n",
       "    </tr>\n",
       "    <tr>\n",
       "      <th>4</th>\n",
       "      <td>Huperzia.petrovii</td>\n",
       "      <td>0</td>\n",
       "      <td>1</td>\n",
       "      <td>1</td>\n",
       "      <td>0</td>\n",
       "      <td>0</td>\n",
       "      <td>1</td>\n",
       "      <td>0</td>\n",
       "      <td>0</td>\n",
       "      <td>0</td>\n",
       "      <td>...</td>\n",
       "      <td>1</td>\n",
       "      <td>0</td>\n",
       "      <td>0</td>\n",
       "      <td>0</td>\n",
       "      <td>0</td>\n",
       "      <td>0</td>\n",
       "      <td>0</td>\n",
       "      <td>0</td>\n",
       "      <td>0</td>\n",
       "      <td>0</td>\n",
       "    </tr>\n",
       "  </tbody>\n",
       "</table>\n",
       "<p>5 rows × 31 columns</p>\n",
       "</div>"
      ],
      "text/plain": [
       "                  Unnamed: 0  Atlasova  Shumshu  Paramushir  Antciferova  \\\n",
       "0      Diphasiastrum.alpinum         1        1           1            0   \n",
       "1  Diphasiastrum.complanatum         0        1           1            0   \n",
       "2    Diphasiastrum.sitchense         1        1           1            0   \n",
       "3        Huperzia.miyoshiana         0        1           1            0   \n",
       "4          Huperzia.petrovii         0        1           1            0   \n",
       "\n",
       "   Makanrushi  Onekotan  Kharimkotan  Chirinkotan  Ekarma  ...  Iturup  \\\n",
       "0           0         1            1            0       0  ...       1   \n",
       "1           0         1            1            0       0  ...       1   \n",
       "2           0         1            0            0       0  ...       1   \n",
       "3           0         1            0            0       0  ...       1   \n",
       "4           0         1            0            0       0  ...       1   \n",
       "\n",
       "   Kunashir  Shikotan  Polonskogo  Zeleny  Tanfileva  Yuriy  Demina  \\\n",
       "0         0         0           0       0          0      0       0   \n",
       "1         1         1           0       0          0      0       0   \n",
       "2         1         0           0       0          0      0       0   \n",
       "3         1         1           0       0          0      0       0   \n",
       "4         0         0           0       0          0      0       0   \n",
       "\n",
       "   Storozhevoy  Anuchina  \n",
       "0            0         0  \n",
       "1            0         0  \n",
       "2            0         0  \n",
       "3            0         0  \n",
       "4            0         0  \n",
       "\n",
       "[5 rows x 31 columns]"
      ]
     },
     "execution_count": 3,
     "metadata": {},
     "output_type": "execute_result"
    }
   ],
   "source": [
    "veg.head()"
   ]
  },
  {
   "cell_type": "code",
   "execution_count": 4,
   "metadata": {},
   "outputs": [
    {
     "name": "stdout",
     "output_type": "stream",
     "text": [
      "<class 'pandas.core.frame.DataFrame'>\n",
      "RangeIndex: 1244 entries, 0 to 1243\n",
      "Data columns (total 31 columns):\n",
      " #   Column         Non-Null Count  Dtype \n",
      "---  ------         --------------  ----- \n",
      " 0   Unnamed: 0     1244 non-null   object\n",
      " 1   Atlasova       1244 non-null   int64 \n",
      " 2   Shumshu        1244 non-null   int64 \n",
      " 3   Paramushir     1244 non-null   int64 \n",
      " 4   Antciferova    1244 non-null   int64 \n",
      " 5   Makanrushi     1244 non-null   int64 \n",
      " 6   Onekotan       1244 non-null   int64 \n",
      " 7   Kharimkotan    1244 non-null   int64 \n",
      " 8   Chirinkotan    1244 non-null   int64 \n",
      " 9   Ekarma         1244 non-null   int64 \n",
      " 10  Shiashkotan    1244 non-null   int64 \n",
      " 11  Raykoke        1244 non-null   int64 \n",
      " 12  Matua          1244 non-null   int64 \n",
      " 13  Rashua         1244 non-null   int64 \n",
      " 14  Ushishir       1244 non-null   int64 \n",
      " 15  Ketoy          1244 non-null   int64 \n",
      " 16  Simushir       1244 non-null   int64 \n",
      " 17  Broutona       1244 non-null   int64 \n",
      " 18  Chirpoy        1244 non-null   int64 \n",
      " 19  Brat.Chirpoev  1244 non-null   int64 \n",
      " 20  Urup           1244 non-null   int64 \n",
      " 21  Iturup         1244 non-null   int64 \n",
      " 22  Kunashir       1244 non-null   int64 \n",
      " 23  Shikotan       1244 non-null   int64 \n",
      " 24  Polonskogo     1244 non-null   int64 \n",
      " 25  Zeleny         1244 non-null   int64 \n",
      " 26  Tanfileva      1244 non-null   int64 \n",
      " 27  Yuriy          1244 non-null   int64 \n",
      " 28  Demina         1244 non-null   int64 \n",
      " 29  Storozhevoy    1244 non-null   int64 \n",
      " 30  Anuchina       1244 non-null   int64 \n",
      "dtypes: int64(30), object(1)\n",
      "memory usage: 301.4+ KB\n"
     ]
    }
   ],
   "source": [
    "veg.info()"
   ]
  },
  {
   "cell_type": "code",
   "execution_count": 5,
   "metadata": {},
   "outputs": [],
   "source": [
    "traits = pd.read_csv(\"traits.csv\", sep=\";\")"
   ]
  },
  {
   "cell_type": "code",
   "execution_count": 6,
   "metadata": {},
   "outputs": [
    {
     "data": {
      "text/html": [
       "<div>\n",
       "<style scoped>\n",
       "    .dataframe tbody tr th:only-of-type {\n",
       "        vertical-align: middle;\n",
       "    }\n",
       "\n",
       "    .dataframe tbody tr th {\n",
       "        vertical-align: top;\n",
       "    }\n",
       "\n",
       "    .dataframe thead th {\n",
       "        text-align: right;\n",
       "    }\n",
       "</style>\n",
       "<table border=\"1\" class=\"dataframe\">\n",
       "  <thead>\n",
       "    <tr style=\"text-align: right;\">\n",
       "      <th></th>\n",
       "      <th>Unnamed: 0</th>\n",
       "      <th>Lycopodiophyta</th>\n",
       "      <th>Pteridophyta</th>\n",
       "      <th>Gymnospermae</th>\n",
       "      <th>Angiospermae</th>\n",
       "      <th>Magnoliopsida</th>\n",
       "      <th>Liliopsida</th>\n",
       "      <th>Woody</th>\n",
       "      <th>Herbal</th>\n",
       "      <th>Tree</th>\n",
       "      <th>Shrub</th>\n",
       "      <th>Small_shrub</th>\n",
       "      <th>Semi-shrub</th>\n",
       "      <th>Liana</th>\n",
       "      <th>Prostrate</th>\n",
       "      <th>Perennial</th>\n",
       "      <th>Annual-biennal</th>\n",
       "    </tr>\n",
       "  </thead>\n",
       "  <tbody>\n",
       "    <tr>\n",
       "      <th>0</th>\n",
       "      <td>Diphasiastrum.alpinum</td>\n",
       "      <td>1</td>\n",
       "      <td>0</td>\n",
       "      <td>0</td>\n",
       "      <td>0</td>\n",
       "      <td>0</td>\n",
       "      <td>0</td>\n",
       "      <td>0</td>\n",
       "      <td>1</td>\n",
       "      <td>0</td>\n",
       "      <td>0</td>\n",
       "      <td>0</td>\n",
       "      <td>0</td>\n",
       "      <td>0</td>\n",
       "      <td>0</td>\n",
       "      <td>1</td>\n",
       "      <td>0</td>\n",
       "    </tr>\n",
       "    <tr>\n",
       "      <th>1</th>\n",
       "      <td>Diphasiastrum.complanatum</td>\n",
       "      <td>1</td>\n",
       "      <td>0</td>\n",
       "      <td>0</td>\n",
       "      <td>0</td>\n",
       "      <td>0</td>\n",
       "      <td>0</td>\n",
       "      <td>0</td>\n",
       "      <td>1</td>\n",
       "      <td>0</td>\n",
       "      <td>0</td>\n",
       "      <td>0</td>\n",
       "      <td>0</td>\n",
       "      <td>0</td>\n",
       "      <td>0</td>\n",
       "      <td>1</td>\n",
       "      <td>0</td>\n",
       "    </tr>\n",
       "    <tr>\n",
       "      <th>2</th>\n",
       "      <td>Diphasiastrum.sitchense</td>\n",
       "      <td>1</td>\n",
       "      <td>0</td>\n",
       "      <td>0</td>\n",
       "      <td>0</td>\n",
       "      <td>0</td>\n",
       "      <td>0</td>\n",
       "      <td>0</td>\n",
       "      <td>1</td>\n",
       "      <td>0</td>\n",
       "      <td>0</td>\n",
       "      <td>0</td>\n",
       "      <td>0</td>\n",
       "      <td>0</td>\n",
       "      <td>0</td>\n",
       "      <td>1</td>\n",
       "      <td>0</td>\n",
       "    </tr>\n",
       "    <tr>\n",
       "      <th>3</th>\n",
       "      <td>Huperzia.miyoshiana</td>\n",
       "      <td>1</td>\n",
       "      <td>0</td>\n",
       "      <td>0</td>\n",
       "      <td>0</td>\n",
       "      <td>0</td>\n",
       "      <td>0</td>\n",
       "      <td>0</td>\n",
       "      <td>1</td>\n",
       "      <td>0</td>\n",
       "      <td>0</td>\n",
       "      <td>0</td>\n",
       "      <td>0</td>\n",
       "      <td>0</td>\n",
       "      <td>0</td>\n",
       "      <td>1</td>\n",
       "      <td>0</td>\n",
       "    </tr>\n",
       "    <tr>\n",
       "      <th>4</th>\n",
       "      <td>Huperzia.petrovii</td>\n",
       "      <td>1</td>\n",
       "      <td>0</td>\n",
       "      <td>0</td>\n",
       "      <td>0</td>\n",
       "      <td>0</td>\n",
       "      <td>0</td>\n",
       "      <td>0</td>\n",
       "      <td>1</td>\n",
       "      <td>0</td>\n",
       "      <td>0</td>\n",
       "      <td>0</td>\n",
       "      <td>0</td>\n",
       "      <td>0</td>\n",
       "      <td>0</td>\n",
       "      <td>1</td>\n",
       "      <td>0</td>\n",
       "    </tr>\n",
       "  </tbody>\n",
       "</table>\n",
       "</div>"
      ],
      "text/plain": [
       "                  Unnamed: 0  Lycopodiophyta  Pteridophyta  Gymnospermae  \\\n",
       "0      Diphasiastrum.alpinum               1             0             0   \n",
       "1  Diphasiastrum.complanatum               1             0             0   \n",
       "2    Diphasiastrum.sitchense               1             0             0   \n",
       "3        Huperzia.miyoshiana               1             0             0   \n",
       "4          Huperzia.petrovii               1             0             0   \n",
       "\n",
       "   Angiospermae  Magnoliopsida  Liliopsida  Woody  Herbal  Tree  Shrub  \\\n",
       "0             0              0           0      0       1     0      0   \n",
       "1             0              0           0      0       1     0      0   \n",
       "2             0              0           0      0       1     0      0   \n",
       "3             0              0           0      0       1     0      0   \n",
       "4             0              0           0      0       1     0      0   \n",
       "\n",
       "   Small_shrub  Semi-shrub  Liana  Prostrate  Perennial  Annual-biennal  \n",
       "0            0           0      0          0          1               0  \n",
       "1            0           0      0          0          1               0  \n",
       "2            0           0      0          0          1               0  \n",
       "3            0           0      0          0          1               0  \n",
       "4            0           0      0          0          1               0  "
      ]
     },
     "execution_count": 6,
     "metadata": {},
     "output_type": "execute_result"
    }
   ],
   "source": [
    "traits.head()"
   ]
  },
  {
   "cell_type": "code",
   "execution_count": 7,
   "metadata": {},
   "outputs": [
    {
     "name": "stdout",
     "output_type": "stream",
     "text": [
      "<class 'pandas.core.frame.DataFrame'>\n",
      "RangeIndex: 1244 entries, 0 to 1243\n",
      "Data columns (total 17 columns):\n",
      " #   Column          Non-Null Count  Dtype \n",
      "---  ------          --------------  ----- \n",
      " 0   Unnamed: 0      1244 non-null   object\n",
      " 1   Lycopodiophyta  1244 non-null   int64 \n",
      " 2   Pteridophyta    1244 non-null   int64 \n",
      " 3   Gymnospermae    1244 non-null   int64 \n",
      " 4   Angiospermae    1244 non-null   int64 \n",
      " 5   Magnoliopsida   1244 non-null   int64 \n",
      " 6   Liliopsida      1244 non-null   int64 \n",
      " 7   Woody           1244 non-null   int64 \n",
      " 8   Herbal          1244 non-null   int64 \n",
      " 9   Tree            1244 non-null   int64 \n",
      " 10  Shrub           1244 non-null   int64 \n",
      " 11  Small_shrub     1244 non-null   int64 \n",
      " 12  Semi-shrub      1244 non-null   int64 \n",
      " 13  Liana           1244 non-null   int64 \n",
      " 14  Prostrate       1244 non-null   int64 \n",
      " 15  Perennial       1244 non-null   int64 \n",
      " 16  Annual-biennal  1244 non-null   int64 \n",
      "dtypes: int64(16), object(1)\n",
      "memory usage: 165.3+ KB\n"
     ]
    }
   ],
   "source": [
    "traits.info()"
   ]
  },
  {
   "cell_type": "markdown",
   "metadata": {},
   "source": [
    "## Check if both datasets have the same species"
   ]
  },
  {
   "cell_type": "code",
   "execution_count": 8,
   "metadata": {},
   "outputs": [],
   "source": [
    "species1 = veg.iloc[:,0].values"
   ]
  },
  {
   "cell_type": "code",
   "execution_count": 9,
   "metadata": {},
   "outputs": [],
   "source": [
    "species2 = traits.iloc[:,0].values"
   ]
  },
  {
   "cell_type": "code",
   "execution_count": 10,
   "metadata": {},
   "outputs": [
    {
     "data": {
      "text/plain": [
       "True"
      ]
     },
     "execution_count": 10,
     "metadata": {},
     "output_type": "execute_result"
    }
   ],
   "source": [
    "set(species1) == set(species2)"
   ]
  },
  {
   "cell_type": "markdown",
   "metadata": {},
   "source": [
    "## Compute sample frequencies for a given island and all traits"
   ]
  },
  {
   "cell_type": "code",
   "execution_count": 37,
   "metadata": {},
   "outputs": [],
   "source": [
    "all_species_on_islands = veg.iloc[(veg.iloc[:, 1:].sum(axis=1) >= 1).values, 0]\n"
   ]
  },
  {
   "cell_type": "code",
   "execution_count": 42,
   "metadata": {},
   "outputs": [],
   "source": [
    "nums = traits.iloc[np.in1d(traits.iloc[:,0].values, all_species_on_islands.values),1:].sum(axis=0)"
   ]
  },
  {
   "cell_type": "code",
   "execution_count": 63,
   "metadata": {},
   "outputs": [],
   "source": [
    "def get_traits_probs(trait_name='', island_name=''):\n",
    "    if trait_name not in traits.columns:\n",
    "        raise Exception(f\"Such data trait doesn't exist: {trait_name}\")\n",
    " \n",
    "    if island_name not in veg.columns:\n",
    "        raise Exception(f\"Such island doesn't exist: {island_name}\")\n",
    "    \n",
    "    \n",
    "    trait_occ = traits.loc[:, trait_name].values == 1\n",
    "    island_occ = veg.loc[:, island_name].values == 1\n",
    "    \n",
    "    species_tr = traits.iloc[trait_occ, 0]\n",
    "    species_is = traits.iloc[island_occ, 0]\n",
    "    \n",
    "    common_species_num = len(set(species_tr.values).intersection(set(species_is.values)))\n",
    "    expected_num = nums.get(trait_name) * (island_occ.sum() / len(veg))\n",
    "    return common_species_num, expected_num, island_occ.sum()    "
   ]
  },
  {
   "cell_type": "code",
   "execution_count": 64,
   "metadata": {},
   "outputs": [],
   "source": [
    "def estimate_bin(m, n, iterations=100, alpha=0.05):\n",
    "    prob_ests = np.random.binomial(n, m / n, iterations) / n\n",
    "    low = np.quantile(prob_ests, alpha/2)\n",
    "    up = np.quantile(prob_ests, 1-alpha/2)\n",
    "    return np.round(low,3), np.round(up,3)"
   ]
  },
  {
   "cell_type": "code",
   "execution_count": 65,
   "metadata": {},
   "outputs": [],
   "source": [
    "\n",
    "expectation = pd.DataFrame(index=traits.columns[1:], columns=veg.columns[1:])"
   ]
  },
  {
   "cell_type": "code",
   "execution_count": 69,
   "metadata": {},
   "outputs": [],
   "source": [
    "from scipy.stats import norm"
   ]
  },
  {
   "cell_type": "code",
   "execution_count": 94,
   "metadata": {},
   "outputs": [],
   "source": [
    "for alpha in [0.05,]:\n",
    "    ind = 0\n",
    "    # res = pd.DataFrame(index=traits.columns[1:], columns=veg.columns[1:])\n",
    "    res = pd.DataFrame()\n",
    "    for trait_name in traits.columns[1:]:\n",
    "        for is_name in veg.columns[1:]:\n",
    "            obs, expected, total = get_traits_probs(trait_name, is_name)\n",
    "            sd = np.sqrt(len(veg) * (expected / len(veg)) * (1 - (expected / len(veg))))\n",
    "            z_score =  abs(expected - obs) / sd\n",
    "            rvs = norm(loc=expected, scale=sd)\n",
    "            res.loc[ind, \"trait_name\"] = trait_name\n",
    "            res.loc[ind, \"island\"] = is_name\n",
    "            res.loc[ind, \"tot_sp\"] = total\n",
    "            res.loc[ind, \"expected\"] = np.round(expected, 2)\n",
    "            res.loc[ind, \"observed\"] = obs\n",
    "            res.loc[ind, \"zscore\"] = np.round(z_score, 2)\n",
    "            res.loc[ind, \"sd\"] = np.round(sd, 3)\n",
    "            res.loc[ind, \"p-value\"] = np.round(1 - rvs.cdf(obs) if obs > expected else rvs.cdf(obs), 4)\n",
    "            ind += 1\n",
    "    res.to_csv(f\"probs_{alpha}.csv\")\n",
    "expectation.to_csv(\"expectations.csv\")"
   ]
  },
  {
   "cell_type": "code",
   "execution_count": 86,
   "metadata": {},
   "outputs": [],
   "source": [
    "rvs = norm(loc=33.6, scale=5.722)"
   ]
  },
  {
   "cell_type": "code",
   "execution_count": 92,
   "metadata": {},
   "outputs": [
    {
     "data": {
      "text/plain": [
       "0.046699416142358195"
      ]
     },
     "execution_count": 92,
     "metadata": {},
     "output_type": "execute_result"
    }
   ],
   "source": [
    "rvs.cdf(24.0)"
   ]
  },
  {
   "cell_type": "code",
   "execution_count": null,
   "metadata": {},
   "outputs": [],
   "source": []
  }
 ],
 "metadata": {
  "kernelspec": {
   "display_name": "Python 3",
   "language": "python",
   "name": "python3"
  },
  "language_info": {
   "codemirror_mode": {
    "name": "ipython",
    "version": 3
   },
   "file_extension": ".py",
   "mimetype": "text/x-python",
   "name": "python",
   "nbconvert_exporter": "python",
   "pygments_lexer": "ipython3",
   "version": "3.8.3"
  }
 },
 "nbformat": 4,
 "nbformat_minor": 4
}
