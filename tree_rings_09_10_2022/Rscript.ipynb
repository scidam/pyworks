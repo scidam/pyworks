library('dplR')
library('treeclim')
Clim=read.csv('clim13.csv')
all_files <- c('Ps45_19.rwl', 'Ps45_29.rwl', 'Ps45_40.rwl', 'Ps45_45.rwl')


data_list = list()
for (name in all_files) {
  df <- read.rwl(paste("./data/", name, sep=""))
  data_list <- append(data_list, list(df))
}


ddl = detrend(rwl = data_list[[1]], method = "Spline")

dc2= dcc(Lc.crn, Clim, selection =.sum("PDSI", 1:5)+.mean("Tmax", 4:6), method = 'correlation')
