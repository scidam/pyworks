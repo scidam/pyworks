{
 "cells": [
  {
   "cell_type": "code",
   "execution_count": 29,
   "metadata": {
    "collapsed": true
   },
   "outputs": [],
   "source": [
    "%matplotlib inline"
   ]
  },
  {
   "cell_type": "code",
   "execution_count": 30,
   "metadata": {
    "collapsed": true
   },
   "outputs": [],
   "source": [
    "import matplotlib.pyplot as plt\n",
    "import numpy as np\n",
    "import pandas as pd\n",
    "import scipy.stats as st\n",
    "data = pd.read_excel('data.xlsx', header=1)"
   ]
  },
  {
   "cell_type": "markdown",
   "metadata": {},
   "source": [
    "## Внутривидовая изменчивость по количественным признакам"
   ]
  },
  {
   "cell_type": "code",
   "execution_count": 31,
   "metadata": {},
   "outputs": [],
   "source": [
    "data_num = data[['L1p1l','L1p2l','W1p1l','W1p2l','L2p3l','L2p4l','W2p3l','W2p4l', 'S2p3l','S2p4l','Lkd','Wkd','OtnWLkd','Dvsh','Dosh','Lp','Dpl','Lns','Wns','Lvs','Wvs'\n",
    "]]\n",
    "data_nonnum =  data[['Dp','Dvl','Dnl','Dc','Dvns','Dnns','Dvvs','Dnvs']]\n",
    "num_null = data_num.isnull().sum(axis=1)\n",
    "nonnum_null = data_nonnum.isnull().sum(axis=1)\n",
    "sp_var = data['Sp']\n",
    "pop_var = data['idCP']\n",
    "num_features = ['L1p1l','L1p2l','W1p1l','W1p2l','L2p3l','L2p4l','W2p3l','W2p4l', 'S2p3l','S2p4l','Lkd','Wkd','OtnWLkd','Dvsh','Dosh','Lp','Dpl','Lns','Wns','Lvs','Wvs'\n",
    "]\n",
    "nonnum_features = ['Dp','Dvl','Dnl','Dc','Dvns','Dnns','Dvvs','Dnvs']"
   ]
  },
  {
   "cell_type": "code",
   "execution_count": 32,
   "metadata": {},
   "outputs": [],
   "source": [
    "data_num = data_num[num_null==0]\n",
    "sp_var = sp_var[num_null==0]"
   ]
  },
  {
   "cell_type": "markdown",
   "metadata": {},
   "source": [
    "### Анализ изменчивости для каждого вида в отдельности"
   ]
  },
  {
   "cell_type": "code",
   "execution_count": 33,
   "metadata": {},
   "outputs": [
    {
     "name": "stdout",
     "output_type": "stream",
     "text": [
      "Coefficient of variations for Df Sample size:  383\n",
      "OtnWLkd     0.563678\n",
      "S2p4l       4.169237\n",
      "Wvs         5.141845\n",
      "S2p3l       5.422698\n",
      "Wns         9.047363\n",
      "Lvs         9.795145\n",
      "W2p4l      10.508721\n",
      "Wkd        10.540564\n",
      "W2p3l      10.636286\n",
      "W1p2l      11.314903\n",
      "W1p1l      11.349886\n",
      "Lns        11.454953\n",
      "Dpl        11.867544\n",
      "Dvsh       20.226930\n",
      "Dosh       26.068964\n",
      "L1p2l      28.918738\n",
      "L1p1l      29.346109\n",
      "L2p4l      30.178134\n",
      "L2p3l      30.511250\n",
      "Lkd        30.891143\n",
      "Lp         61.841022\n",
      "dtype: float64\n",
      "Top 10 Most constant features:\n",
      "['OtnWLkd', 'S2p4l', 'Wvs', 'S2p3l', 'Wns', 'Lvs', 'W2p4l', 'Wkd', 'W2p3l', 'W1p2l'] \n",
      "\n",
      "\n",
      "Coefficient of variations for Dp Sample size:  20\n",
      "OtnWLkd    0.190843\n",
      "Wvs        0.380625\n",
      "Lvs        1.499871\n",
      "S2p4l      1.594441\n",
      "S2p3l      1.642105\n",
      "Wns        2.485036\n",
      "Wkd        2.951147\n",
      "Dpl        3.187465\n",
      "W1p1l      3.458033\n",
      "W1p2l      3.616379\n",
      "Dvsh       4.360428\n",
      "Lns        4.371019\n",
      "Lkd        4.989844\n",
      "W2p3l      5.235260\n",
      "Dosh       5.883148\n",
      "L1p1l      6.316665\n",
      "W2p4l      6.472765\n",
      "L1p2l      6.701347\n",
      "L2p3l      7.892396\n",
      "L2p4l      9.304703\n",
      "Lp         9.375599\n",
      "dtype: float64\n",
      "Top 10 Most constant features:\n",
      "['OtnWLkd', 'Wvs', 'Lvs', 'S2p4l', 'S2p3l', 'Wns', 'Wkd', 'Dpl', 'W1p1l', 'W1p2l'] \n",
      "\n",
      "\n",
      "Coefficient of variations for Dd Sample size:  81\n",
      "OtnWLkd     0.560498\n",
      "S2p4l       3.010478\n",
      "S2p3l       3.100959\n",
      "Wns         3.355262\n",
      "Dpl         3.633680\n",
      "Wvs         4.006430\n",
      "W2p3l       6.300155\n",
      "Lvs         6.489093\n",
      "Wkd         6.886231\n",
      "W2p4l       7.053384\n",
      "Dvsh        7.644436\n",
      "W1p1l       7.718926\n",
      "W1p2l       8.533259\n",
      "Lns         8.950653\n",
      "Dosh       14.836992\n",
      "L2p3l      15.173883\n",
      "Lkd        16.227979\n",
      "L1p1l      16.745082\n",
      "L1p2l      17.397859\n",
      "L2p4l      17.478908\n",
      "Lp         23.950186\n",
      "dtype: float64\n",
      "Top 10 Most constant features:\n",
      "['OtnWLkd', 'S2p4l', 'S2p3l', 'Wns', 'Dpl', 'Wvs', 'W2p3l', 'Lvs', 'Wkd', 'W2p4l'] \n",
      "\n",
      "\n",
      "Coefficient of variations for Ddvfl Sample size:  21\n",
      "OtnWLkd     0.402423\n",
      "Wvs         2.310207\n",
      "S2p4l       2.328586\n",
      "Wns         2.334220\n",
      "Lvs         2.712932\n",
      "S2p3l       3.061497\n",
      "Lns         4.277386\n",
      "Dvsh        4.546907\n",
      "Wkd         5.357791\n",
      "Dpl         6.526764\n",
      "L1p1l       6.543022\n",
      "L1p2l       6.912272\n",
      "W2p4l       6.995875\n",
      "Dosh        7.749932\n",
      "W2p3l       7.991088\n",
      "L2p3l       8.421626\n",
      "Lkd        10.858539\n",
      "W1p1l      11.562102\n",
      "W1p2l      12.247848\n",
      "L2p4l      13.988722\n",
      "Lp         27.569630\n",
      "dtype: float64\n",
      "Top 10 Most constant features:\n",
      "['OtnWLkd', 'Wvs', 'S2p4l', 'Wns', 'Lvs', 'S2p3l', 'Lns', 'Dvsh', 'Wkd', 'Dpl'] \n",
      "\n",
      "\n",
      "Coefficient of variations for Dm Sample size:  64\n",
      "OtnWLkd     0.277763\n",
      "S2p3l       3.530978\n",
      "Wvs         3.687701\n",
      "S2p4l       4.579951\n",
      "Wns         6.249408\n",
      "W2p4l       7.628440\n",
      "W2p3l       7.870839\n",
      "Dvsh        8.611198\n",
      "Lns         8.889857\n",
      "Dpl         9.538796\n",
      "Lvs         9.563296\n",
      "Wkd        11.016835\n",
      "W1p1l      11.692786\n",
      "W1p2l      12.214887\n",
      "Dosh       16.825042\n",
      "L1p2l      17.255735\n",
      "L1p1l      18.712794\n",
      "Lkd        21.760330\n",
      "L2p3l      23.713010\n",
      "L2p4l      23.955154\n",
      "Lp         39.136126\n",
      "dtype: float64\n",
      "Top 10 Most constant features:\n",
      "['OtnWLkd', 'S2p3l', 'Wvs', 'S2p4l', 'Wns', 'W2p4l', 'W2p3l', 'Dvsh', 'Lns', 'Dpl'] \n",
      "\n",
      "\n",
      "Coefficient of variations for Dg Sample size:  21\n",
      "OtnWLkd     0.487264\n",
      "S2p3l       2.010000\n",
      "S2p4l       2.219231\n",
      "Wvs         2.787150\n",
      "Dvsh        3.838042\n",
      "Wns         4.064462\n",
      "Dpl         4.471258\n",
      "W2p4l       4.558659\n",
      "W2p3l       5.747943\n",
      "Wkd         6.017334\n",
      "W1p2l       7.265968\n",
      "Lns         7.297166\n",
      "W1p1l       7.636294\n",
      "L2p4l       9.295709\n",
      "L1p2l      10.612926\n",
      "L2p3l      10.712561\n",
      "Lvs        10.842252\n",
      "Dosh       11.089540\n",
      "L1p1l      11.158857\n",
      "Lkd        13.242396\n",
      "Lp         37.185045\n",
      "dtype: float64\n",
      "Top 10 Most constant features:\n",
      "['OtnWLkd', 'S2p3l', 'S2p4l', 'Wvs', 'Dvsh', 'Wns', 'Dpl', 'W2p4l', 'W2p3l', 'Wkd'] \n",
      "\n",
      "\n",
      "Most constant features as matrix:\n",
      " [['OtnWLkd' 'S2p4l' 'Wvs' 'S2p3l' 'Wns' 'Lvs' 'W2p4l' 'Wkd' 'W2p3l' 'W1p2l']\n",
      " ['OtnWLkd' 'Wvs' 'Lvs' 'S2p4l' 'S2p3l' 'Wns' 'Wkd' 'Dpl' 'W1p1l' 'W1p2l']\n",
      " ['OtnWLkd' 'S2p4l' 'S2p3l' 'Wns' 'Dpl' 'Wvs' 'W2p3l' 'Lvs' 'Wkd' 'W2p4l']\n",
      " ['OtnWLkd' 'Wvs' 'S2p4l' 'Wns' 'Lvs' 'S2p3l' 'Lns' 'Dvsh' 'Wkd' 'Dpl']\n",
      " ['OtnWLkd' 'S2p3l' 'Wvs' 'S2p4l' 'Wns' 'W2p4l' 'W2p3l' 'Dvsh' 'Lns' 'Dpl']\n",
      " ['OtnWLkd' 'S2p3l' 'S2p4l' 'Wvs' 'Dvsh' 'Wns' 'Dpl' 'W2p4l' 'W2p3l' 'Wkd']] \n",
      "\n",
      "\n",
      "Most variable features as matrix:\n",
      " [['Lns' 'Dpl' 'Dvsh' 'Dosh' 'L1p2l' 'L1p1l' 'L2p4l' 'L2p3l' 'Lkd' 'Lp']\n",
      " ['Lns' 'Lkd' 'W2p3l' 'Dosh' 'L1p1l' 'W2p4l' 'L1p2l' 'L2p3l' 'L2p4l' 'Lp']\n",
      " ['W1p1l' 'W1p2l' 'Lns' 'Dosh' 'L2p3l' 'Lkd' 'L1p1l' 'L1p2l' 'L2p4l' 'Lp']\n",
      " ['L1p2l' 'W2p4l' 'Dosh' 'W2p3l' 'L2p3l' 'Lkd' 'W1p1l' 'W1p2l' 'L2p4l' 'Lp']\n",
      " ['Wkd' 'W1p1l' 'W1p2l' 'Dosh' 'L1p2l' 'L1p1l' 'Lkd' 'L2p3l' 'L2p4l' 'Lp']\n",
      " ['Lns' 'W1p1l' 'L2p4l' 'L1p2l' 'L2p3l' 'Lvs' 'Dosh' 'L1p1l' 'Lkd' 'Lp']] \n",
      "\n",
      "\n",
      "\n",
      "\n",
      "Common constant features: {'Wvs', 'S2p4l', 'Wns', 'S2p3l', 'OtnWLkd'}\n",
      "\n",
      "\n",
      "Common variable features: {'L1p2l', 'Lp', 'Dosh', 'L2p4l', 'Lkd', 'L2p3l'}\n"
     ]
    }
   ],
   "source": [
    "most_constant = []\n",
    "most_variable = []\n",
    "for sp in sp_var.unique():\n",
    "    sel = data_num[sp_var==sp]\n",
    "    cvars = sel.var(axis=0) / sel.mean(axis=0) * 100.0\n",
    "    cvars.sort_values(inplace=True)\n",
    "    print('Coefficient of variations for %s' % sp, 'Sample size: ', np.sum(sp_var==sp))\n",
    "    print(cvars)\n",
    "    print('Top 10 Most constant features:')\n",
    "    print(cvars.index[:10].tolist(),'\\n'*2)\n",
    "    most_constant.append(cvars.index[:10].tolist())\n",
    "    most_variable.append(cvars.index[-10:].tolist())\n",
    "print('Most constant features as matrix:\\n', np.matrix(most_constant),'\\n' * 2)\n",
    "print('Most variable features as matrix:\\n', np.matrix(most_variable),'\\n' * 2)\n",
    "print('\\n\\nCommon constant features:', set.intersection(*map(lambda x: set(x), most_constant)))\n",
    "print('\\n\\nCommon variable features:', set.intersection(*map(lambda x: set(x), most_variable)))"
   ]
  },
  {
   "cell_type": "markdown",
   "metadata": {},
   "source": [
    "Таким образом, виды имеют приблизительно одинаковые наборы как изменчивых, так и констанстантных признаков, среди всех количественных признаков. При этом общими констанстными признаками являются {'Wns', 'S2p4l', 'Wvs', 'S2p3l', 'OtnWLkd'}, а общими, наиболее вариабельными - {'Dosh', 'L1p2l', 'L2p3l', 'Lkd', 'Lp', 'L2p4l'}."
   ]
  },
  {
   "cell_type": "markdown",
   "metadata": {},
   "source": [
    "## Внутривидовая изменчивость по качественным признакам"
   ]
  },
  {
   "cell_type": "code",
   "execution_count": 83,
   "metadata": {},
   "outputs": [
    {
     "data": {
      "text/html": [
       "<strong> Current species: Df, total=383</strong><br>"
      ],
      "text/plain": [
       "<IPython.core.display.HTML object>"
      ]
     },
     "metadata": {},
     "output_type": "display_data"
    },
    {
     "data": {
      "text/plain": [
       "Dvns_O      0.002611\n",
       "Dc_OG       0.007833\n",
       "Dnvs_G      0.007833\n",
       "Dnl_G       0.010444\n",
       "Dvl_G       0.010444\n",
       "Dvns_OG     0.013055\n",
       "Dvns_G      0.015666\n",
       "Dp_OG       0.015666\n",
       "Dvl_OG      0.031332\n",
       "Dnvs_OG     0.033943\n",
       "Dnns_OG     0.054830\n",
       "Dnns_O      0.054830\n",
       "Dnl_OG      0.065274\n",
       "Dp_G        0.070496\n",
       "Dnl_O       0.104439\n",
       "Dvvs_O      0.156658\n",
       "Dvvs_Re     0.164491\n",
       "Dc_Re       0.172324\n",
       "Dvns_ORe    0.221932\n",
       "Dp_ORe      0.229765\n",
       "Dvl_ORe     0.263708\n",
       "Dnns_ORe    0.276762\n",
       "Dnl_Re      0.289817\n",
       "Dnvs_ORe    0.357702\n",
       "Dnl_ORe     0.530026\n",
       "Dnvs_Re     0.600522\n",
       "Dnns_Re     0.613577\n",
       "Dvvs_ORe    0.678851\n",
       "Dp_Re       0.684073\n",
       "Dvl_Re      0.694517\n",
       "Dvns_Re     0.746736\n",
       "Dc_G        0.817232\n",
       "dtype: float64"
      ]
     },
     "metadata": {},
     "output_type": "display_data"
    },
    {
     "data": {
      "text/html": [
       "<strong> Current species: Dp, total=20</strong><br>"
      ],
      "text/plain": [
       "<IPython.core.display.HTML object>"
      ]
     },
     "metadata": {},
     "output_type": "display_data"
    },
    {
     "data": {
      "text/plain": [
       "Dvl_G       0.10\n",
       "Dnl_G       0.10\n",
       "Dp_Re       0.15\n",
       "Dnl_ORe     0.20\n",
       "Dnvs_G      0.20\n",
       "Dnns_ORe    0.20\n",
       "Dvl_ORe     0.30\n",
       "Dc_OG       0.30\n",
       "Dvns_ORe    0.30\n",
       "Dvl_Re      0.60\n",
       "Dc_G        0.70\n",
       "Dnl_Re      0.70\n",
       "Dvns_Re     0.70\n",
       "Dnvs_Re     0.80\n",
       "Dnns_Re     0.80\n",
       "Dp_G        0.85\n",
       "Dvvs_ORe    1.00\n",
       "dtype: float64"
      ]
     },
     "metadata": {},
     "output_type": "display_data"
    },
    {
     "data": {
      "text/html": [
       "<strong> Current species: Dd, total=81</strong><br>"
      ],
      "text/plain": [
       "<IPython.core.display.HTML object>"
      ]
     },
     "metadata": {},
     "output_type": "display_data"
    },
    {
     "data": {
      "text/plain": [
       "Dvns_Re     0.012346\n",
       "Dnns_Re     0.012346\n",
       "Dvvs_Re     0.012346\n",
       "Dc_G        0.246914\n",
       "Dvns_O      0.246914\n",
       "Dc_Re       0.259259\n",
       "Dc_ORe      0.493827\n",
       "Dnns_O      0.493827\n",
       "Dnns_ORe    0.493827\n",
       "Dvns_ORe    0.740741\n",
       "Dvvs_ORe    0.987654\n",
       "Dp_O        1.000000\n",
       "Dvl_O       1.000000\n",
       "Dnl_O       1.000000\n",
       "Dnvs_ORe    1.000000\n",
       "dtype: float64"
      ]
     },
     "metadata": {},
     "output_type": "display_data"
    },
    {
     "data": {
      "text/html": [
       "<strong> Current species: Ddvfl, total=21</strong><br>"
      ],
      "text/plain": [
       "<IPython.core.display.HTML object>"
      ]
     },
     "metadata": {},
     "output_type": "display_data"
    },
    {
     "data": {
      "text/plain": [
       "Dc_O        0.047619\n",
       "Dvns_Re     0.047619\n",
       "Dvvs_O      0.047619\n",
       "Dc_ORe      0.952381\n",
       "Dvns_ORe    0.952381\n",
       "Dvvs_ORe    0.952381\n",
       "Dp_O        1.000000\n",
       "Dvl_O       1.000000\n",
       "Dnl_O       1.000000\n",
       "Dnns_ORe    1.000000\n",
       "Dnvs_ORe    1.000000\n",
       "dtype: float64"
      ]
     },
     "metadata": {},
     "output_type": "display_data"
    },
    {
     "data": {
      "text/html": [
       "<strong> Current species: Dm, total=65</strong><br>"
      ],
      "text/plain": [
       "<IPython.core.display.HTML object>"
      ]
     },
     "metadata": {},
     "output_type": "display_data"
    },
    {
     "data": {
      "text/plain": [
       "Dc_Re      0.015385\n",
       "Dnl_ORe    0.015385\n",
       "Dvl_Re     0.015385\n",
       "Dnvs_Re    0.015385\n",
       "Dp_Re      0.015385\n",
       "Dvns_Re    0.046154\n",
       "Dnns_Re    0.046154\n",
       "Dvvs_Re    0.061538\n",
       "Dvns_G     0.307692\n",
       "Dvvs_OG    0.323077\n",
       "Dvl_G      0.323077\n",
       "Dp_OG      0.338462\n",
       "Dnns_OG    0.338462\n",
       "Dnl_OG     0.353846\n",
       "Dc_G       0.353846\n",
       "Dnvs_OG    0.369231\n",
       "Dvvs_G     0.615385\n",
       "Dnvs_G     0.615385\n",
       "Dnns_G     0.615385\n",
       "Dc_OG      0.630769\n",
       "Dnl_G      0.630769\n",
       "Dvns_OG    0.646154\n",
       "Dp_G       0.646154\n",
       "Dvl_OG     0.661538\n",
       "dtype: float64"
      ]
     },
     "metadata": {},
     "output_type": "display_data"
    },
    {
     "data": {
      "text/html": [
       "<strong> Current species: Dg, total=21</strong><br>"
      ],
      "text/plain": [
       "<IPython.core.display.HTML object>"
      ]
     },
     "metadata": {},
     "output_type": "display_data"
    },
    {
     "data": {
      "text/plain": [
       "Dvl_Re      0.047619\n",
       "Dc_G        0.047619\n",
       "Dvns_Re     0.047619\n",
       "Dnns_Re     0.047619\n",
       "Dvvs_Re     0.047619\n",
       "Dvl_ORe     0.952381\n",
       "Dc_Re       0.952381\n",
       "Dvns_ORe    0.952381\n",
       "Dnns_ORe    0.952381\n",
       "Dvvs_ORe    0.952381\n",
       "Dp_ORe      1.000000\n",
       "Dnl_ORe     1.000000\n",
       "Dnvs_ORe    1.000000\n",
       "dtype: float64"
      ]
     },
     "metadata": {},
     "output_type": "display_data"
    },
    {
     "data": {
      "text/html": [
       "<H2>Unique features, counts: </H2>"
      ],
      "text/plain": [
       "<IPython.core.display.HTML object>"
      ]
     },
     "metadata": {},
     "output_type": "display_data"
    },
    {
     "name": "stdout",
     "output_type": "stream",
     "text": [
      "Unique:  Dnns_ORe 5\n",
      "Unique:  Dvl_O 2\n",
      "Unique:  Dnvs_ORe 4\n",
      "Unique:  Dnl_O 3\n",
      "Unique:  Dp_ORe 2\n",
      "Unique:  Dvvs_ORe 5\n",
      "Unique:  Dnl_ORe 4\n",
      "Unique:  Dp_O 2\n"
     ]
    }
   ],
   "source": [
    "from IPython.core.display import display, HTML\n",
    "uniqus = []\n",
    "allfeatures = []\n",
    "for sp in data['Sp'].unique():\n",
    "    sel = data.loc[data.Sp==sp, nonnum_features]\n",
    "    res = pd.get_dummies(sel)\n",
    "    freq = res.sum(axis=0) / sum(data.Sp==sp)\n",
    "    freq.sort_values(inplace=True)\n",
    "    display(HTML('<strong> Current species: %s, total=%s</strong><br>' % (sp, sum(data.Sp == sp))), freq)\n",
    "    uniqus += freq.index[freq == 1.0].tolist()\n",
    "    allfeatures += freq.index.tolist()\n",
    "display(HTML('<H2>Unique features, counts: </H2>'))\n",
    "for f in set(uniqus):\n",
    "    print('Unique: ', f, allfeatures.count(f))"
   ]
  }
 ],
 "metadata": {
  "kernelspec": {
   "display_name": "Python 3",
   "language": "python",
   "name": "python3"
  },
  "language_info": {
   "codemirror_mode": {
    "name": "ipython",
    "version": 3
   },
   "file_extension": ".py",
   "mimetype": "text/x-python",
   "name": "python",
   "nbconvert_exporter": "python",
   "pygments_lexer": "ipython3",
   "version": "3.5.4"
  }
 },
 "nbformat": 4,
 "nbformat_minor": 2
}
